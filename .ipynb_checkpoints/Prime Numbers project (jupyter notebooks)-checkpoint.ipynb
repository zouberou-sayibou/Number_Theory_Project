{
 "cells": [
  {
   "cell_type": "code",
   "execution_count": 2,
   "metadata": {},
   "outputs": [],
   "source": [
    "import math\n",
    "import numpy as np\n",
    "import sys,os"
   ]
  },
  {
   "cell_type": "code",
   "execution_count": 3,
   "metadata": {},
   "outputs": [],
   "source": [
    "poly_dir = \"Polynomials_Saved_Datasets\"\n",
    "if not os.path.exists(poly_dir):\n",
    "    os.makedirs(poly_dir)"
   ]
  },
  {
   "cell_type": "code",
   "execution_count": 4,
   "metadata": {},
   "outputs": [],
   "source": [
    "def isprime(n) :\n",
    "    if (n <= 1):\n",
    "        return False\n",
    "    if (n <= 3):\n",
    "        return True\n",
    " \n",
    "    # This is checked so that we can skip\n",
    "    # middle five numbers in below loop\n",
    "    if (n % 2 == 0 or n % 3 == 0):\n",
    "        return False\n",
    " \n",
    "    i = 5\n",
    "    while(i * i <= n):\n",
    "        if (n % i) == 0 or n % (i + 2) == 0:\n",
    "            return False\n",
    "        i = i + 6\n",
    " \n",
    "    return True"
   ]
  },
  {
   "cell_type": "markdown",
   "metadata": {},
   "source": [
    "# Inverse of a Distribution for Primes of the Form a^n + D*b^n, D>0"
   ]
  },
  {
   "cell_type": "code",
   "execution_count": 5,
   "metadata": {},
   "outputs": [],
   "source": [
    "def inverse_distribution_primes_a_b_nth(D, n):\n",
    "    delta_x=0.0001\n",
    "    integral = 0\n",
    "    i_lst = []\n",
    "    counter = 0\n",
    "    limit = 0.1\n",
    "    i_ = 0\n",
    "    while counter <10:\n",
    "        for j in range(i_+1,10000):\n",
    "            integral += delta_x*(1/ (1+D * (j*delta_x)**n)**(2/n)) #(nrt(1 + D * (j*delta_x) **n,n/2)))\n",
    "            #print (integral, \"\\t\", limit , i_lst)\n",
    "            if integral>limit:\n",
    "                i_ = j\n",
    "                i_lst.append(j)\n",
    "                break\n",
    "        limit = limit + 0.1\n",
    "        counter+=1\n",
    "    return i_lst"
   ]
  },
  {
   "cell_type": "code",
   "execution_count": 6,
   "metadata": {},
   "outputs": [],
   "source": [
    "t = inverse_distribution_primes_a_b_nth(11,4)"
   ]
  },
  {
   "cell_type": "code",
   "execution_count": 7,
   "metadata": {},
   "outputs": [
    {
     "data": {
      "text/plain": [
       "[1001, 2004, 3027, 4116, 5365, 6972, 9374]"
      ]
     },
     "execution_count": 7,
     "metadata": {},
     "output_type": "execute_result"
    }
   ],
   "source": [
    "t"
   ]
  },
  {
   "cell_type": "markdown",
   "metadata": {},
   "source": [
    "# Distribution of prime numbers of the form a^n + D*b^n,D>0"
   ]
  },
  {
   "cell_type": "code",
   "execution_count": 9,
   "metadata": {
    "scrolled": true
   },
   "outputs": [
    {
     "data": {
      "text/plain": [
       "array([[0, 0, 0]])"
      ]
     },
     "execution_count": 9,
     "metadata": {},
     "output_type": "execute_result"
    }
   ],
   "source": [
    "x  =  np.zeros((1,3), dtype=np.int32)\n",
    "x"
   ]
  },
  {
   "cell_type": "code",
   "execution_count": 8,
   "metadata": {},
   "outputs": [],
   "source": [
    "def list_creator(n):\n",
    "    List = []\n",
    "    for i in range(n):\n",
    "        List.append(0)\n",
    "    return List"
   ]
  },
  {
   "cell_type": "code",
   "execution_count": 9,
   "metadata": {},
   "outputs": [],
   "source": [
    "def distribution_primes_a_b(N, D, n, LIST):\n",
    "    ln_list = len(LIST)\n",
    "    counter_list = np.zeros((1,ln_list), dtype=np.int32)\n",
    "    for a in range(1,N):\n",
    "        for b in range(1,a):\n",
    "            q = a**n + D*b**n\n",
    "            M = (N**n)/(D+1)\n",
    "            if q<M and isprime(q):\n",
    "                for i in range(len(LIST)):\n",
    "                    if i==0 and b/a <= LIST[0]/10000:\n",
    "                        counter_list[0][0]+=1 \n",
    "                    elif i!=0 and b/a <= LIST[i]/10000 and b/a > LIST[i-1]/10000:\n",
    "                        counter_list[0][i]+=1 \n",
    "    return counter_list\n",
    "    "
   ]
  },
  {
   "cell_type": "code",
   "execution_count": null,
   "metadata": {},
   "outputs": [],
   "source": [
    "%%timeit -n1 -r1\n",
    "zou = distribution_primes_a_b(1000, 11, 4, t)\n",
    "zou"
   ]
  },
  {
   "cell_type": "markdown",
   "metadata": {},
   "source": [
    "# Distribution of prime numbers of the form a^n + D*b^n, D>0 in Modulo 2"
   ]
  },
  {
   "cell_type": "code",
   "execution_count": 11,
   "metadata": {},
   "outputs": [],
   "source": [
    "def distribution_primes_a_b_mod2(N, D, n, LIST):\n",
    "    len_List = len(LIST)\n",
    "    odd_odd = np.zeros((1,len_List), dtype=np.int32)#an empty when a is odd and b is odd4\n",
    "    odd_even = np.zeros((1,len_List), dtype=np.int32)#an empty when a is odd and b is even\n",
    "    even_odd = np.zeros((1,len_LIST), dtype=np.int32)#an empty when a is even and b is odd\n",
    "    for a in range(1,N):\n",
    "        for b in range(1,a):\n",
    "            if a%2 == 1 and b%2 == 1:\n",
    "                q = a**n + D*b**n\n",
    "                M = (N**n)/(D+1)\n",
    "                if q<M and isprime(q):\n",
    "                    for i in range(len(LIST)):\n",
    "                        if i==0 and b/a <= LIST[0]/10000:\n",
    "                            odd_odd[0][0]+=1 \n",
    "                        elif i!=0 and b/a <= LIST[i]/10000 and b/a > LIST[i-1]/10000:\n",
    "                            odd_odd[0][i]+=1 \n",
    "            elif a%2 == 1 and b%2 == 0:\n",
    "                q = a**n + D*b**n\n",
    "                M = (N**n)/(D+1)\n",
    "                if q<M and isprime(q):\n",
    "                    for i in range(len(LIST)):\n",
    "                        if i==0 and b/a <= LIST[0]/10000:\n",
    "                            odd_even[0][0]+=1 \n",
    "                        elif i!=0 and b/a <= LIST[i]/10000 and b/a > LIST[i-1]/10000:\n",
    "                            odd_even[0][i]+=1\n",
    "            elif D%2 == 1 and a%2 == 0 and b%2 == 1:\n",
    "                q = a**n + D*b**n\n",
    "                M = (N**n)/(D+1)\n",
    "                if q<M and isprime(q):\n",
    "                    for i in range(len(LIST)):\n",
    "                        if i==0 and b/a <= LIST[0]/10000:\n",
    "                            even_odd[0][0]+=1 \n",
    "                        elif i!=0 and b/a <= LIST[i]/10000 and b/a > LIST[i-1]/10000:\n",
    "                            even_odd[0][i]+=1 \n",
    "    if D%2 == 1:\n",
    "        return np.add(even_odd,odd_even)\n",
    "    else:\n",
    "        return np.add(odd_odd,odd_even)"
   ]
  },
  {
   "cell_type": "code",
   "execution_count": 12,
   "metadata": {},
   "outputs": [],
   "source": [
    "def deviation(dist_list):\n",
    "    return max(dist_list)/min(dist_list)"
   ]
  },
  {
   "cell_type": "code",
   "execution_count": 13,
   "metadata": {},
   "outputs": [],
   "source": [
    "def testing_d_pos(rangeN, incre, D, n):\n",
    "    print(f\"Primes of the form a^{n} + {D}b^{n}\")\n",
    "    print()\n",
    "    print(\"Calculating the inverse distribution..\")\n",
    "    inverse_list = inverse_distribution_primes_a_b_nth(D, n)\n",
    "    \n",
    "    print (\"Calculating the distribution of primes....\")\n",
    "    test_arr = np.zeros((rangeN//incre, len(inverse_list)),  dtype=np.int32)\n",
    "    test_arrMod2 = np.zeros((rangeN//incre, len(inverse_list)),  dtype=np.int32)\n",
    "    i = 0\n",
    "    for N in range(incre,rangeN+incre, incre):\n",
    "        print(\"N = \", N)\n",
    "        test_arr[i] = distribution_primes_a_b(N, D, n, inverse_list)\n",
    "        #print (f\"N = {N}  \", str(distribution_primes_a_b(N, D, n, inverse_list)), deviation(distribution_primes_a_b(N, D, n, inverse_list)))\n",
    "        i+=1\n",
    "\n",
    "    \n",
    "    print (\"Calculating the distribution of primes in mod2....\")\n",
    "    columns = len(distribution_primes_a_b_mod2(100, D, n, inverse_list))\n",
    "    test_arrMod2 = np.zeros((rangeN//incre, columns),  dtype=np.int32)\n",
    "    j = 0\n",
    "    for Nn in range(incre,rangeN+incre, incre):\n",
    "        print(\"N for mod2 = \", Nn)\n",
    "        test_arrMod2[j] = distribution_primes_a_b_mod2(Nn, D, n, inverse_list)\n",
    "        #print (f\"N = {N}  \", str(distribution_primes_a_b(N, D, n, inverse_list)), deviation(distribution_primes_a_b(N, D, n, inverse_list)))\n",
    "        j+=1\n",
    "        \n",
    "    print(\"Saving my arrays in npz file.....\")\n",
    "    np.savez(\"Polynomials_Saved_Datasets/\"+str(D)+ \"_power_\"+ str(n) +\"_\"+ str(incre)+\"_to_\"+str(rangeN), inverse = np.array(inverse_list) ,distri = test_arr, distriMod2 = test_arrMod2)\n",
    "    print(\"Done\")"
   ]
  },
  {
   "cell_type": "markdown",
   "metadata": {},
   "source": [
    "# Inverse of a Distribution for Primes of the Form a^n + D*b^n, D<0"
   ]
  },
  {
   "cell_type": "code",
   "execution_count": 24,
   "metadata": {},
   "outputs": [],
   "source": [
    "def neg_inverse_distribution_primes_a_b_nth(D, n):\n",
    "    delta_x=0.0001\n",
    "    integral = 0\n",
    "    i_lst = []\n",
    "    counter = 0\n",
    "    limit = 0.1\n",
    "    i_ = 0\n",
    "    while counter <6:\n",
    "        for j in range(i_+1,10000):\n",
    "            integral += 4*delta_x*(1/ (1+D * (j*delta_x)**n)**(2/n)) #(nrt(1 + D * (j*delta_x) **n,n/2)))\n",
    "            #print (integral, \"\\t\", limit , i_lst)\n",
    "            if integral>limit:\n",
    "                i_ = j\n",
    "                i_lst.append(j)\n",
    "                break\n",
    "        limit = limit + 0.1\n",
    "        counter+=1\n",
    "    return i_lst"
   ]
  },
  {
   "cell_type": "markdown",
   "metadata": {},
   "source": [
    "# Distribution of prime numbers of the form a^n + D*b^n, D<0"
   ]
  },
  {
   "cell_type": "code",
   "execution_count": 25,
   "metadata": {},
   "outputs": [],
   "source": [
    "def neg_distribution_primes_a_b(N, D, n, LIST):\n",
    "    len_List = len(LIST)\n",
    "    counter_list = list_creator(len_List)\n",
    "    for a in range(1,N):\n",
    "        l = math.floor(a/((-D)**(1/n)))\n",
    "        for b in range(1,l):\n",
    "            q = a**n + D*b**n\n",
    "            M = (N**n) - ((N**n)/(2**n*(-D)))\n",
    "            if q<M and isprime(q):\n",
    "                for i in range(len(LIST)):\n",
    "                    if i==0 and b/a <= LIST[0]/10000:\n",
    "                        counter_list[0]+=1 \n",
    "                    elif i!=0 and b/a <= LIST[i]/10000 and b/a > LIST[i-1]/10000:\n",
    "                        counter_list[i]+=1 \n",
    "    return counter_list"
   ]
  },
  {
   "cell_type": "markdown",
   "metadata": {},
   "source": [
    "# Distribution of prime numbers of the form a^n + D*b^n, D<0 Modulo 2"
   ]
  },
  {
   "cell_type": "code",
   "execution_count": 26,
   "metadata": {},
   "outputs": [],
   "source": [
    "def neg_distribution_primes_a_b_mod2(N, D, n, LIST):\n",
    "    len_List = len(LIST)\n",
    "    odd_odd = list_creator(len_List)#an empty when a is odd and b is odd4\n",
    "    odd_even = list_creator(len_List)#an empty when a is odd and b is even\n",
    "    even_odd = list_creator(len_List)#an empty when a is even and b is odd\n",
    "    for a in range(1,N):\n",
    "        l = math.floor(a/((-D)**(1/n)))\n",
    "        for b in range(1,l):\n",
    "            if a%2 == 1 and b%2 == 1:\n",
    "                q = a**n + D*b**n\n",
    "                M = (N**n) - ((N**n)/(2**n*(-D)))\n",
    "                if q<M and isprime(q):\n",
    "                    for i in range(len(LIST)):\n",
    "                        if i==0 and b/a <= LIST[0]/10000:\n",
    "                            odd_odd[0]+=1 \n",
    "                        elif i!=0 and b/a <= LIST[i]/10000 and b/a > LIST[i-1]/10000:\n",
    "                            odd_odd[i]+=1 \n",
    "            elif a%2 == 1 and b%2 == 0:\n",
    "                q = a**n + D*b**n\n",
    "                M = (N**n) - ((N**n)/(2**n*(-D)))\n",
    "                if q<M and isprime(q):\n",
    "                    for i in range(len(LIST)):\n",
    "                        if i==0 and b/a <= LIST[0]/10000:\n",
    "                            odd_even[0]+=1 \n",
    "                        elif i!=0 and b/a <= LIST[i]/10000 and b/a > LIST[i-1]/10000:\n",
    "                            odd_even[i]+=1\n",
    "            elif D%2 == 1 and a%2 == 0 and b%2 == 1:\n",
    "                q = a**n + D*b**n\n",
    "                M = (N**n) - ((N**n)/(2**n*(-D)))\n",
    "                if q<M and isprime(q):\n",
    "                    for i in range(len(LIST)):\n",
    "                        if i==0 and b/a <= LIST[0]/10000:\n",
    "                            even_odd[0]+=1 \n",
    "                        elif i!=0 and b/a <= LIST[i]/10000 and b/a > LIST[i-1]/10000:\n",
    "                            even_odd[i]+=1 \n",
    "    if D%2 == 1:\n",
    "        return even_odd + odd_even\n",
    "    else:\n",
    "        return odd_odd + odd_even"
   ]
  },
  {
   "cell_type": "code",
   "execution_count": 27,
   "metadata": {},
   "outputs": [],
   "source": [
    "def testing_d_neg(rangeN, incre, D, n):\n",
    "    print(f\"Primes of the form a^{n} + {D}b^{n}\")\n",
    "    print()\n",
    "    print(\"Calculating the negative inverse distribution..\")\n",
    "    neg_inverse_list = neg_inverse_distribution_primes_a_b_nth(D, n)\n",
    "    \n",
    "    print (\"Calculating the distribution of primes D<0....\")\n",
    "    test_arr = np.zeros((rangeN//incre, len(neg_inverse_list)),  dtype=np.int32)\n",
    "    i = 0\n",
    "    for N in range(incre,rangeN+incre, incre):\n",
    "        test_arr[i] = neg_distribution_primes_a_b(N, D, n, neg_inverse_list)\n",
    "        #print (f\"N = {N}  \", str(distribution_primes_a_b(N, D, n, inverse_list)), deviation(distribution_primes_a_b(N, D, n, inverse_list)))\n",
    "        i+=1\n",
    "    \n",
    "    print (\"Calculating the distribution of primes in mod2 D<0....\")\n",
    "    columns = len(distribution_primes_a_b_mod2(100, D, n, neg_inverse_list))\n",
    "    test_arrMod2 = np.zeros((rangeN//incre, columns),  dtype=np.int32)\n",
    "    j = 0\n",
    "    for Nn in range(incre,rangeN+incre, incre):\n",
    "        test_arrMod2[j] = neg_distribution_primes_a_b_mod2(Nn, D, n, neg_inverse_list)\n",
    "        #print (f\"N = {N}  \", str(distribution_primes_a_b(N, D, n, inverse_list)), deviation(distribution_primes_a_b(N, D, n, inverse_list)))\n",
    "        j+=1\n",
    "    print(\"Saving my arrays in npz file.....\")\n",
    "    np.savez(\"Polynomials_Saved_Datasets/\"+\"neg_\"+str(abs(D))+ \"_power_\"+ str(n) +\"_\"+ str(incre)+\"_to_\"+str(rangeN), inverse = np.array(neg_inverse_list) ,distri = test_arr, distriMod2 = test_arrMod2)\n",
    "    print(\"Done\")"
   ]
  },
  {
   "cell_type": "markdown",
   "metadata": {},
   "source": [
    "# Testing: Inverse Distruntion for primes a^2 + b^2"
   ]
  },
  {
   "cell_type": "code",
   "execution_count": 12,
   "metadata": {
    "scrolled": true
   },
   "outputs": [
    {
     "name": "stdout",
     "output_type": "stream",
     "text": [
      "Primes of the form a^2 + 1b^2\n",
      "\n",
      "Calculating the inverse distribution..\n",
      "Calculating the distribution of primes....\n",
      "Calculating the distribution of primes in mod2....\n",
      "Saving my arrays in npz file.....\n",
      "Done\n"
     ]
    }
   ],
   "source": [
    "testing_d_pos(4000, 500, 1, 2)\n"
   ]
  },
  {
   "cell_type": "markdown",
   "metadata": {},
   "source": [
    "## Testing: Inverse Distruntion for primes a^2 + 2b^2"
   ]
  },
  {
   "cell_type": "code",
   "execution_count": 16,
   "metadata": {},
   "outputs": [
    {
     "name": "stdout",
     "output_type": "stream",
     "text": [
      "Primes of the form a^2 + 2b^2\n",
      "\n",
      "Calculating the inverse distribution..\n",
      "Calculating the distribution of primes....\n",
      "Calculating the distribution of primes in mod2....\n",
      "Saving my arrays in npz file.....\n",
      "Done\n"
     ]
    }
   ],
   "source": [
    "testing_d_pos(4000, 500, 2, 2)"
   ]
  },
  {
   "cell_type": "markdown",
   "metadata": {},
   "source": [
    "# Testing: Inverse Distruntion for primes a^2 + 3b^2"
   ]
  },
  {
   "cell_type": "code",
   "execution_count": 17,
   "metadata": {},
   "outputs": [
    {
     "name": "stdout",
     "output_type": "stream",
     "text": [
      "Primes of the form a^2 + 3b^2\n",
      "\n",
      "Calculating the inverse distribution..\n",
      "Calculating the distribution of primes....\n",
      "Calculating the distribution of primes in mod2....\n",
      "Saving my arrays in npz file.....\n",
      "Done\n"
     ]
    }
   ],
   "source": [
    "testing_d_pos(4000, 500, 3, 2)"
   ]
  },
  {
   "cell_type": "markdown",
   "metadata": {},
   "source": [
    "# Testing: Inverse Distruntion for primes a^2 + 5b^2"
   ]
  },
  {
   "cell_type": "code",
   "execution_count": 18,
   "metadata": {},
   "outputs": [
    {
     "name": "stdout",
     "output_type": "stream",
     "text": [
      "Primes of the form a^2 + 5b^2\n",
      "\n",
      "Calculating the inverse distribution..\n",
      "Calculating the distribution of primes....\n",
      "Calculating the distribution of primes in mod2....\n",
      "Saving my arrays in npz file.....\n",
      "Done\n"
     ]
    }
   ],
   "source": [
    "testing_d_pos(4000, 500, 5, 2)"
   ]
  },
  {
   "cell_type": "markdown",
   "metadata": {},
   "source": [
    "# Testing: Inverse Distruntion for primes a^2 + 6b^2"
   ]
  },
  {
   "cell_type": "code",
   "execution_count": 19,
   "metadata": {},
   "outputs": [
    {
     "name": "stdout",
     "output_type": "stream",
     "text": [
      "Primes of the form a^2 + 6b^2\n",
      "\n",
      "Calculating the inverse distribution..\n",
      "Calculating the distribution of primes....\n",
      "Calculating the distribution of primes in mod2....\n",
      "Saving my arrays in npz file.....\n",
      "Done\n"
     ]
    }
   ],
   "source": [
    "testing_d_pos(4000, 500, 6, 2)"
   ]
  },
  {
   "cell_type": "code",
   "execution_count": null,
   "metadata": {},
   "outputs": [],
   "source": []
  },
  {
   "cell_type": "markdown",
   "metadata": {},
   "source": [
    "# Testing: Inverse Distribution for primes a^2 - 3b^2"
   ]
  },
  {
   "cell_type": "code",
   "execution_count": 28,
   "metadata": {},
   "outputs": [
    {
     "name": "stdout",
     "output_type": "stream",
     "text": [
      "Primes of the form a^2 + -3b^2\n",
      "\n",
      "Calculating the negative inverse distribution..\n",
      "Calculating the distribution of primes D<0....\n",
      "Calculating the distribution of primes in mod2 D<0....\n",
      "Saving my arrays in npz file.....\n",
      "Done\n"
     ]
    }
   ],
   "source": [
    "testing_d_neg(4000, 500, -3, 2)"
   ]
  },
  {
   "cell_type": "markdown",
   "metadata": {},
   "source": [
    "# Testing: Inverse Distruntion for primes a^2-2b^2"
   ]
  },
  {
   "cell_type": "code",
   "execution_count": 37,
   "metadata": {},
   "outputs": [
    {
     "name": "stdout",
     "output_type": "stream",
     "text": [
      "Primes of the form a^2 + -2b^2\n",
      "\n",
      "Calculating the negative inverse distribution..\n",
      "Calculating the distribution of primes D<0....\n",
      "Calculating the distribution of primes in mod2 D<0....\n",
      "Saving my arrays in npz file.....\n",
      "Done\n"
     ]
    }
   ],
   "source": [
    "testing_d_neg(4000, 500, -2, 2)"
   ]
  },
  {
   "cell_type": "markdown",
   "metadata": {},
   "source": [
    "# Testing: Inverse Distruntion for primes a^2-5b^2"
   ]
  },
  {
   "cell_type": "code",
   "execution_count": 38,
   "metadata": {},
   "outputs": [
    {
     "name": "stdout",
     "output_type": "stream",
     "text": [
      "Primes of the form a^2 + -5b^2\n",
      "\n",
      "Calculating the negative inverse distribution..\n",
      "Calculating the distribution of primes D<0....\n",
      "Calculating the distribution of primes in mod2 D<0....\n",
      "Saving my arrays in npz file.....\n",
      "Done\n"
     ]
    }
   ],
   "source": [
    "testing_d_neg(4000, 500, -5, 2)"
   ]
  },
  {
   "cell_type": "markdown",
   "metadata": {},
   "source": [
    "# Testing: Inverse Distruntion for primes a^3-2b^3"
   ]
  },
  {
   "cell_type": "code",
   "execution_count": 41,
   "metadata": {},
   "outputs": [
    {
     "name": "stdout",
     "output_type": "stream",
     "text": [
      "Primes of the form a^3 + -2b^3\n",
      "\n",
      "Calculating the negative inverse distribution..\n",
      "Calculating the distribution of primes D<0....\n",
      "Calculating the distribution of primes in mod2 D<0....\n",
      "Saving my arrays in npz file.....\n",
      "Done\n"
     ]
    }
   ],
   "source": [
    "testing_d_neg(3000, 500, -2, 3)"
   ]
  },
  {
   "cell_type": "markdown",
   "metadata": {},
   "source": [
    "# Testing: Inverse Distruntion for primes a^3-5b^3"
   ]
  },
  {
   "cell_type": "code",
   "execution_count": 42,
   "metadata": {},
   "outputs": [
    {
     "name": "stdout",
     "output_type": "stream",
     "text": [
      "Primes of the form a^3 + -5b^3\n",
      "\n",
      "Calculating the negative inverse distribution..\n",
      "Calculating the distribution of primes D<0....\n",
      "Calculating the distribution of primes in mod2 D<0....\n",
      "Saving my arrays in npz file.....\n",
      "Done\n"
     ]
    }
   ],
   "source": [
    "testing_d_neg(3000, 500, -5, 3)"
   ]
  },
  {
   "cell_type": "markdown",
   "metadata": {},
   "source": [
    "# Testing: Inverse Distruntion for primes a^3-6b^3"
   ]
  },
  {
   "cell_type": "code",
   "execution_count": 43,
   "metadata": {},
   "outputs": [
    {
     "name": "stdout",
     "output_type": "stream",
     "text": [
      "Primes of the form a^3 + -6b^3\n",
      "\n",
      "Calculating the negative inverse distribution..\n",
      "Calculating the distribution of primes D<0....\n",
      "Calculating the distribution of primes in mod2 D<0....\n",
      "Saving my arrays in npz file.....\n",
      "Done\n"
     ]
    }
   ],
   "source": [
    "testing_d_neg(3000, 500, -6, 3)"
   ]
  },
  {
   "cell_type": "markdown",
   "metadata": {},
   "source": [
    "# Testing: Inverse Distruntion for primes a^4-2b^4"
   ]
  },
  {
   "cell_type": "code",
   "execution_count": null,
   "metadata": {},
   "outputs": [],
   "source": []
  },
  {
   "cell_type": "code",
   "execution_count": 15,
   "metadata": {},
   "outputs": [
    {
     "ename": "NameError",
     "evalue": "name 'testing_d_neg' is not defined",
     "output_type": "error",
     "traceback": [
      "\u001b[1;31m---------------------------------------------------------------------------\u001b[0m",
      "\u001b[1;31mNameError\u001b[0m                                 Traceback (most recent call last)",
      "\u001b[1;32m<ipython-input-15-013b88232d36>\u001b[0m in \u001b[0;36m<module>\u001b[1;34m\u001b[0m\n\u001b[1;32m----> 1\u001b[1;33m \u001b[0mtesting_d_neg\u001b[0m\u001b[1;33m(\u001b[0m\u001b[1;36m2000\u001b[0m\u001b[1;33m,\u001b[0m \u001b[1;36m500\u001b[0m\u001b[1;33m,\u001b[0m \u001b[1;33m-\u001b[0m\u001b[1;36m2\u001b[0m\u001b[1;33m,\u001b[0m \u001b[1;36m4\u001b[0m\u001b[1;33m)\u001b[0m\u001b[1;33m\u001b[0m\u001b[1;33m\u001b[0m\u001b[0m\n\u001b[0m",
      "\u001b[1;31mNameError\u001b[0m: name 'testing_d_neg' is not defined"
     ]
    }
   ],
   "source": []
  },
  {
   "cell_type": "markdown",
   "metadata": {},
   "source": [
    "# Testing: Inverse Distruntion for primes a^4-3b^4"
   ]
  },
  {
   "cell_type": "code",
   "execution_count": null,
   "metadata": {},
   "outputs": [],
   "source": [
    "testing_d_neg(2000, 500, -3, 4)"
   ]
  },
  {
   "cell_type": "markdown",
   "metadata": {},
   "source": [
    "# Testing: Inverse Distruntion for primes a^4-5b^4"
   ]
  },
  {
   "cell_type": "code",
   "execution_count": null,
   "metadata": {},
   "outputs": [],
   "source": [
    "testing_d_neg(2000, 500, -5, 4)"
   ]
  },
  {
   "cell_type": "markdown",
   "metadata": {},
   "source": [
    "# Testing: Inverse Distruntion for primes a^4-6b^4"
   ]
  },
  {
   "cell_type": "code",
   "execution_count": null,
   "metadata": {},
   "outputs": [],
   "source": [
    "testing_d_neg(2000, 500, -6, 4)"
   ]
  },
  {
   "cell_type": "markdown",
   "metadata": {},
   "source": [
    "# Testing: Inverse Distruntion for primes a^4-11b^4"
   ]
  },
  {
   "cell_type": "code",
   "execution_count": null,
   "metadata": {},
   "outputs": [
    {
     "name": "stdout",
     "output_type": "stream",
     "text": [
      "Primes of the form a^4 + -11b^4\n",
      "\n",
      "Calculating the negative inverse distribution..\n",
      "Calculating the distribution of primes D<0....\n",
      "Calculating the distribution of primes in mod2 D<0....\n"
     ]
    }
   ],
   "source": [
    "testing_d_neg(2000, 500, -11, 4)"
   ]
  },
  {
   "cell_type": "markdown",
   "metadata": {},
   "source": [
    "## Function Needed"
   ]
  },
  {
   "cell_type": "code",
   "execution_count": 29,
   "metadata": {},
   "outputs": [],
   "source": [
    "def testing_d_pos(rangeN, incre, D, n):\n",
    "    print(f\"Primes of the form a^{n} + {D}b^{n}\")\n",
    "    print()\n",
    "    print(\"Calculating the inverse distribution..\")\n",
    "    inverse_list = inverse_distribution_primes_a_b_nth(D, n)\n",
    "    \n",
    "    print (f\"Calculating the distribution of primes....{incre} to {rangeN}\")\n",
    "    for N in range(incre,rangeN+incre, incre):\n",
    "        print(distribution_primes_a_b(N, D, n, inverse_list)[0])\n",
    "        #print (f\"N = {N}  \", str(distribution_primes_a_b(N, D, n, inverse_list)), deviation(distribution_primes_a_b(N, D, n, inverse_list)))\n",
    "        \n"
   ]
  },
  {
   "cell_type": "code",
   "execution_count": 30,
   "metadata": {},
   "outputs": [],
   "source": [
    "def testing_d_pos_mod2(rangeN, incre, D, n):\n",
    "    print(f\"Primes of the form a^{n} + {D}b^{n}\")\n",
    "    print()\n",
    "    print(\"Calculating the inverse distribution..\")\n",
    "    inverse_list = inverse_distribution_primes_a_b_nth(D, n)\n",
    "    \n",
    "    print (f\"Calculating the distribution of primes....{incre} to {rangeN}\")\n",
    "    for N in range(incre,rangeN+incre, incre):\n",
    "        print(distribution_primes_a_b_mod2(N, D, n, inverse_list)[0])\n",
    "        #print (f\"N = {N}  \", str(distribution_primes_a_b(N, D, n, inverse_list)), deviation(distribution_primes_a_b(N, D, n, inverse_list)))\n",
    "        \n"
   ]
  },
  {
   "cell_type": "markdown",
   "metadata": {},
   "source": [
    "# Testing: Inverse Distruntion for primes a^4 + 11b^4"
   ]
  },
  {
   "cell_type": "code",
   "execution_count": 31,
   "metadata": {},
   "outputs": [
    {
     "name": "stdout",
     "output_type": "stream",
     "text": [
      "Primes of the form a^4 + 11b^4\n",
      "\n",
      "Calculating the inverse distribution..\n",
      "Calculating the distribution of primes....500 to 4000\n",
      "[171 166 158 181 176 198 174]\n",
      "[593 616 623 611 618 641 646]\n",
      "[1261 1320 1291 1331 1309 1333 1293]\n",
      "[2239 2249 2192 2277 2187 2265 2214]\n",
      "[3351 3413 3347 3390 3300 3451 3369]\n",
      "[4711 4788 4724 4723 4654 4849 4723]\n",
      "[6222 6383 6253 6291 6202 6402 6191]\n",
      "[7960 8142 8007 8131 7911 8145 8003]\n"
     ]
    }
   ],
   "source": [
    "testing_d_pos(4000,500,11,4)"
   ]
  },
  {
   "cell_type": "code",
   "execution_count": 32,
   "metadata": {},
   "outputs": [
    {
     "name": "stdout",
     "output_type": "stream",
     "text": [
      "Primes of the form a^4 + 11b^4\n",
      "\n",
      "Calculating the inverse distribution..\n",
      "Calculating the distribution of primes....500 to 4000\n"
     ]
    },
    {
     "ename": "NameError",
     "evalue": "name 'len_LIST' is not defined",
     "output_type": "error",
     "traceback": [
      "\u001b[1;31m---------------------------------------------------------------------------\u001b[0m",
      "\u001b[1;31mNameError\u001b[0m                                 Traceback (most recent call last)",
      "\u001b[1;32m<ipython-input-32-aca4b9498483>\u001b[0m in \u001b[0;36m<module>\u001b[1;34m\u001b[0m\n\u001b[1;32m----> 1\u001b[1;33m \u001b[0mtesting_d_pos_mod2\u001b[0m\u001b[1;33m(\u001b[0m\u001b[1;36m4000\u001b[0m\u001b[1;33m,\u001b[0m\u001b[1;36m500\u001b[0m\u001b[1;33m,\u001b[0m\u001b[1;36m11\u001b[0m\u001b[1;33m,\u001b[0m\u001b[1;36m4\u001b[0m\u001b[1;33m)\u001b[0m\u001b[1;33m\u001b[0m\u001b[1;33m\u001b[0m\u001b[0m\n\u001b[0m",
      "\u001b[1;32m<ipython-input-30-6e045efd1ff1>\u001b[0m in \u001b[0;36mtesting_d_pos_mod2\u001b[1;34m(rangeN, incre, D, n)\u001b[0m\n\u001b[0;32m      7\u001b[0m     \u001b[0mprint\u001b[0m \u001b[1;33m(\u001b[0m\u001b[1;34mf\"Calculating the distribution of primes....{incre} to {rangeN}\"\u001b[0m\u001b[1;33m)\u001b[0m\u001b[1;33m\u001b[0m\u001b[1;33m\u001b[0m\u001b[0m\n\u001b[0;32m      8\u001b[0m     \u001b[1;32mfor\u001b[0m \u001b[0mN\u001b[0m \u001b[1;32min\u001b[0m \u001b[0mrange\u001b[0m\u001b[1;33m(\u001b[0m\u001b[0mincre\u001b[0m\u001b[1;33m,\u001b[0m\u001b[0mrangeN\u001b[0m\u001b[1;33m+\u001b[0m\u001b[0mincre\u001b[0m\u001b[1;33m,\u001b[0m \u001b[0mincre\u001b[0m\u001b[1;33m)\u001b[0m\u001b[1;33m:\u001b[0m\u001b[1;33m\u001b[0m\u001b[1;33m\u001b[0m\u001b[0m\n\u001b[1;32m----> 9\u001b[1;33m         \u001b[0mprint\u001b[0m\u001b[1;33m(\u001b[0m\u001b[0mdistribution_primes_a_b_mod2\u001b[0m\u001b[1;33m(\u001b[0m\u001b[0mN\u001b[0m\u001b[1;33m,\u001b[0m \u001b[0mD\u001b[0m\u001b[1;33m,\u001b[0m \u001b[0mn\u001b[0m\u001b[1;33m,\u001b[0m \u001b[0minverse_list\u001b[0m\u001b[1;33m)\u001b[0m\u001b[1;33m[\u001b[0m\u001b[1;36m0\u001b[0m\u001b[1;33m]\u001b[0m\u001b[1;33m)\u001b[0m\u001b[1;33m\u001b[0m\u001b[1;33m\u001b[0m\u001b[0m\n\u001b[0m\u001b[0;32m     10\u001b[0m         \u001b[1;31m#print (f\"N = {N}  \", str(distribution_primes_a_b(N, D, n, inverse_list)), deviation(distribution_primes_a_b(N, D, n, inverse_list)))\u001b[0m\u001b[1;33m\u001b[0m\u001b[1;33m\u001b[0m\u001b[1;33m\u001b[0m\u001b[0m\n\u001b[0;32m     11\u001b[0m \u001b[1;33m\u001b[0m\u001b[0m\n",
      "\u001b[1;32m<ipython-input-11-18ba16a92719>\u001b[0m in \u001b[0;36mdistribution_primes_a_b_mod2\u001b[1;34m(N, D, n, LIST)\u001b[0m\n\u001b[0;32m      3\u001b[0m     \u001b[0modd_odd\u001b[0m \u001b[1;33m=\u001b[0m \u001b[0mnp\u001b[0m\u001b[1;33m.\u001b[0m\u001b[0mzeros\u001b[0m\u001b[1;33m(\u001b[0m\u001b[1;33m(\u001b[0m\u001b[1;36m1\u001b[0m\u001b[1;33m,\u001b[0m\u001b[0mlen_List\u001b[0m\u001b[1;33m)\u001b[0m\u001b[1;33m,\u001b[0m \u001b[0mdtype\u001b[0m\u001b[1;33m=\u001b[0m\u001b[0mnp\u001b[0m\u001b[1;33m.\u001b[0m\u001b[0mint32\u001b[0m\u001b[1;33m)\u001b[0m\u001b[1;31m#an empty when a is odd and b is odd4\u001b[0m\u001b[1;33m\u001b[0m\u001b[1;33m\u001b[0m\u001b[0m\n\u001b[0;32m      4\u001b[0m     \u001b[0modd_even\u001b[0m \u001b[1;33m=\u001b[0m \u001b[0mnp\u001b[0m\u001b[1;33m.\u001b[0m\u001b[0mzeros\u001b[0m\u001b[1;33m(\u001b[0m\u001b[1;33m(\u001b[0m\u001b[1;36m1\u001b[0m\u001b[1;33m,\u001b[0m\u001b[0mlen_List\u001b[0m\u001b[1;33m)\u001b[0m\u001b[1;33m,\u001b[0m \u001b[0mdtype\u001b[0m\u001b[1;33m=\u001b[0m\u001b[0mnp\u001b[0m\u001b[1;33m.\u001b[0m\u001b[0mint32\u001b[0m\u001b[1;33m)\u001b[0m\u001b[1;31m#an empty when a is odd and b is even\u001b[0m\u001b[1;33m\u001b[0m\u001b[1;33m\u001b[0m\u001b[0m\n\u001b[1;32m----> 5\u001b[1;33m     \u001b[0meven_odd\u001b[0m \u001b[1;33m=\u001b[0m \u001b[0mnp\u001b[0m\u001b[1;33m.\u001b[0m\u001b[0mzeros\u001b[0m\u001b[1;33m(\u001b[0m\u001b[1;33m(\u001b[0m\u001b[1;36m1\u001b[0m\u001b[1;33m,\u001b[0m\u001b[0mlen_LIST\u001b[0m\u001b[1;33m)\u001b[0m\u001b[1;33m,\u001b[0m \u001b[0mdtype\u001b[0m\u001b[1;33m=\u001b[0m\u001b[0mnp\u001b[0m\u001b[1;33m.\u001b[0m\u001b[0mint32\u001b[0m\u001b[1;33m)\u001b[0m\u001b[1;31m#an empty when a is even and b is odd\u001b[0m\u001b[1;33m\u001b[0m\u001b[1;33m\u001b[0m\u001b[0m\n\u001b[0m\u001b[0;32m      6\u001b[0m     \u001b[1;32mfor\u001b[0m \u001b[0ma\u001b[0m \u001b[1;32min\u001b[0m \u001b[0mrange\u001b[0m\u001b[1;33m(\u001b[0m\u001b[1;36m1\u001b[0m\u001b[1;33m,\u001b[0m\u001b[0mN\u001b[0m\u001b[1;33m)\u001b[0m\u001b[1;33m:\u001b[0m\u001b[1;33m\u001b[0m\u001b[1;33m\u001b[0m\u001b[0m\n\u001b[0;32m      7\u001b[0m         \u001b[1;32mfor\u001b[0m \u001b[0mb\u001b[0m \u001b[1;32min\u001b[0m \u001b[0mrange\u001b[0m\u001b[1;33m(\u001b[0m\u001b[1;36m1\u001b[0m\u001b[1;33m,\u001b[0m\u001b[0ma\u001b[0m\u001b[1;33m)\u001b[0m\u001b[1;33m:\u001b[0m\u001b[1;33m\u001b[0m\u001b[1;33m\u001b[0m\u001b[0m\n",
      "\u001b[1;31mNameError\u001b[0m: name 'len_LIST' is not defined"
     ]
    }
   ],
   "source": [
    "testing_d_pos_mod2(4000,500,11,4)"
   ]
  },
  {
   "cell_type": "markdown",
   "metadata": {},
   "source": [
    "# Testing: Inverse Distruntion for primes a^4 + b^4"
   ]
  },
  {
   "cell_type": "code",
   "execution_count": null,
   "metadata": {},
   "outputs": [
    {
     "name": "stdout",
     "output_type": "stream",
     "text": [
      "Primes of the form a^4 + 1b^4\n",
      "\n",
      "Calculating the inverse distribution..\n",
      "Calculating the distribution of primes....\n",
      "N =  500\n",
      "N =  1000\n",
      "N =  1500\n",
      "N =  2000\n",
      "N =  2500\n"
     ]
    }
   ],
   "source": [
    "%%timeit -n1 -r1\n",
    " \n",
    "testing_d_pos(4000, 500, 1, 4)"
   ]
  },
  {
   "cell_type": "markdown",
   "metadata": {},
   "source": [
    "# Testing: Inverse Distruntion for primes a^4 + 2b^4"
   ]
  },
  {
   "cell_type": "markdown",
   "metadata": {},
   "source": [
    "# Testing: Inverse Distruntion for primes a^4 + 3b^4"
   ]
  },
  {
   "cell_type": "markdown",
   "metadata": {},
   "source": [
    "# Testing: Inverse Distruntion for primes a^4 + 5b^4"
   ]
  },
  {
   "cell_type": "markdown",
   "metadata": {},
   "source": [
    "# Testing: Inverse Distruntion for primes a^4 + 6b^4"
   ]
  },
  {
   "cell_type": "code",
   "execution_count": 14,
   "metadata": {},
   "outputs": [
    {
     "name": "stdout",
     "output_type": "stream",
     "text": [
      "Primes of the form a^4 + 6b^4\n",
      "\n",
      "Calculating the inverse distribution..\n",
      "Calculating the distribution of primes....\n",
      "N =  500\n",
      "N =  1000\n",
      "N =  1500\n",
      "N =  2000\n",
      "N =  2500\n",
      "N =  3000\n",
      "N =  3500\n",
      "N =  4000\n"
     ]
    },
    {
     "ename": "KeyboardInterrupt",
     "evalue": "",
     "output_type": "error",
     "traceback": [
      "\u001b[1;31m---------------------------------------------------------------------------\u001b[0m",
      "\u001b[1;31mKeyboardInterrupt\u001b[0m                         Traceback (most recent call last)",
      "\u001b[1;32m<ipython-input-14-8ce3f8ed2ca6>\u001b[0m in \u001b[0;36m<module>\u001b[1;34m\u001b[0m\n\u001b[1;32m----> 1\u001b[1;33m \u001b[0mget_ipython\u001b[0m\u001b[1;33m(\u001b[0m\u001b[1;33m)\u001b[0m\u001b[1;33m.\u001b[0m\u001b[0mrun_cell_magic\u001b[0m\u001b[1;33m(\u001b[0m\u001b[1;34m'timeit'\u001b[0m\u001b[1;33m,\u001b[0m \u001b[1;34m'-n1 -r1'\u001b[0m\u001b[1;33m,\u001b[0m \u001b[1;34m'\\ntesting_d_pos(4000, 500, 6, 4)\\n'\u001b[0m\u001b[1;33m)\u001b[0m\u001b[1;33m\u001b[0m\u001b[1;33m\u001b[0m\u001b[0m\n\u001b[0m",
      "\u001b[1;32m~\\anaconda3\\lib\\site-packages\\IPython\\core\\interactiveshell.py\u001b[0m in \u001b[0;36mrun_cell_magic\u001b[1;34m(self, magic_name, line, cell)\u001b[0m\n\u001b[0;32m   2397\u001b[0m             \u001b[1;32mwith\u001b[0m \u001b[0mself\u001b[0m\u001b[1;33m.\u001b[0m\u001b[0mbuiltin_trap\u001b[0m\u001b[1;33m:\u001b[0m\u001b[1;33m\u001b[0m\u001b[1;33m\u001b[0m\u001b[0m\n\u001b[0;32m   2398\u001b[0m                 \u001b[0margs\u001b[0m \u001b[1;33m=\u001b[0m \u001b[1;33m(\u001b[0m\u001b[0mmagic_arg_s\u001b[0m\u001b[1;33m,\u001b[0m \u001b[0mcell\u001b[0m\u001b[1;33m)\u001b[0m\u001b[1;33m\u001b[0m\u001b[1;33m\u001b[0m\u001b[0m\n\u001b[1;32m-> 2399\u001b[1;33m                 \u001b[0mresult\u001b[0m \u001b[1;33m=\u001b[0m \u001b[0mfn\u001b[0m\u001b[1;33m(\u001b[0m\u001b[1;33m*\u001b[0m\u001b[0margs\u001b[0m\u001b[1;33m,\u001b[0m \u001b[1;33m**\u001b[0m\u001b[0mkwargs\u001b[0m\u001b[1;33m)\u001b[0m\u001b[1;33m\u001b[0m\u001b[1;33m\u001b[0m\u001b[0m\n\u001b[0m\u001b[0;32m   2400\u001b[0m             \u001b[1;32mreturn\u001b[0m \u001b[0mresult\u001b[0m\u001b[1;33m\u001b[0m\u001b[1;33m\u001b[0m\u001b[0m\n\u001b[0;32m   2401\u001b[0m \u001b[1;33m\u001b[0m\u001b[0m\n",
      "\u001b[1;32m~\\anaconda3\\lib\\site-packages\\decorator.py\u001b[0m in \u001b[0;36mfun\u001b[1;34m(*args, **kw)\u001b[0m\n\u001b[0;32m    230\u001b[0m             \u001b[1;32mif\u001b[0m \u001b[1;32mnot\u001b[0m \u001b[0mkwsyntax\u001b[0m\u001b[1;33m:\u001b[0m\u001b[1;33m\u001b[0m\u001b[1;33m\u001b[0m\u001b[0m\n\u001b[0;32m    231\u001b[0m                 \u001b[0margs\u001b[0m\u001b[1;33m,\u001b[0m \u001b[0mkw\u001b[0m \u001b[1;33m=\u001b[0m \u001b[0mfix\u001b[0m\u001b[1;33m(\u001b[0m\u001b[0margs\u001b[0m\u001b[1;33m,\u001b[0m \u001b[0mkw\u001b[0m\u001b[1;33m,\u001b[0m \u001b[0msig\u001b[0m\u001b[1;33m)\u001b[0m\u001b[1;33m\u001b[0m\u001b[1;33m\u001b[0m\u001b[0m\n\u001b[1;32m--> 232\u001b[1;33m             \u001b[1;32mreturn\u001b[0m \u001b[0mcaller\u001b[0m\u001b[1;33m(\u001b[0m\u001b[0mfunc\u001b[0m\u001b[1;33m,\u001b[0m \u001b[1;33m*\u001b[0m\u001b[1;33m(\u001b[0m\u001b[0mextras\u001b[0m \u001b[1;33m+\u001b[0m \u001b[0margs\u001b[0m\u001b[1;33m)\u001b[0m\u001b[1;33m,\u001b[0m \u001b[1;33m**\u001b[0m\u001b[0mkw\u001b[0m\u001b[1;33m)\u001b[0m\u001b[1;33m\u001b[0m\u001b[1;33m\u001b[0m\u001b[0m\n\u001b[0m\u001b[0;32m    233\u001b[0m     \u001b[0mfun\u001b[0m\u001b[1;33m.\u001b[0m\u001b[0m__name__\u001b[0m \u001b[1;33m=\u001b[0m \u001b[0mfunc\u001b[0m\u001b[1;33m.\u001b[0m\u001b[0m__name__\u001b[0m\u001b[1;33m\u001b[0m\u001b[1;33m\u001b[0m\u001b[0m\n\u001b[0;32m    234\u001b[0m     \u001b[0mfun\u001b[0m\u001b[1;33m.\u001b[0m\u001b[0m__doc__\u001b[0m \u001b[1;33m=\u001b[0m \u001b[0mfunc\u001b[0m\u001b[1;33m.\u001b[0m\u001b[0m__doc__\u001b[0m\u001b[1;33m\u001b[0m\u001b[1;33m\u001b[0m\u001b[0m\n",
      "\u001b[1;32m~\\anaconda3\\lib\\site-packages\\IPython\\core\\magic.py\u001b[0m in \u001b[0;36m<lambda>\u001b[1;34m(f, *a, **k)\u001b[0m\n\u001b[0;32m    185\u001b[0m     \u001b[1;31m# but it's overkill for just that one bit of state.\u001b[0m\u001b[1;33m\u001b[0m\u001b[1;33m\u001b[0m\u001b[1;33m\u001b[0m\u001b[0m\n\u001b[0;32m    186\u001b[0m     \u001b[1;32mdef\u001b[0m \u001b[0mmagic_deco\u001b[0m\u001b[1;33m(\u001b[0m\u001b[0marg\u001b[0m\u001b[1;33m)\u001b[0m\u001b[1;33m:\u001b[0m\u001b[1;33m\u001b[0m\u001b[1;33m\u001b[0m\u001b[0m\n\u001b[1;32m--> 187\u001b[1;33m         \u001b[0mcall\u001b[0m \u001b[1;33m=\u001b[0m \u001b[1;32mlambda\u001b[0m \u001b[0mf\u001b[0m\u001b[1;33m,\u001b[0m \u001b[1;33m*\u001b[0m\u001b[0ma\u001b[0m\u001b[1;33m,\u001b[0m \u001b[1;33m**\u001b[0m\u001b[0mk\u001b[0m\u001b[1;33m:\u001b[0m \u001b[0mf\u001b[0m\u001b[1;33m(\u001b[0m\u001b[1;33m*\u001b[0m\u001b[0ma\u001b[0m\u001b[1;33m,\u001b[0m \u001b[1;33m**\u001b[0m\u001b[0mk\u001b[0m\u001b[1;33m)\u001b[0m\u001b[1;33m\u001b[0m\u001b[1;33m\u001b[0m\u001b[0m\n\u001b[0m\u001b[0;32m    188\u001b[0m \u001b[1;33m\u001b[0m\u001b[0m\n\u001b[0;32m    189\u001b[0m         \u001b[1;32mif\u001b[0m \u001b[0mcallable\u001b[0m\u001b[1;33m(\u001b[0m\u001b[0marg\u001b[0m\u001b[1;33m)\u001b[0m\u001b[1;33m:\u001b[0m\u001b[1;33m\u001b[0m\u001b[1;33m\u001b[0m\u001b[0m\n",
      "\u001b[1;32m~\\anaconda3\\lib\\site-packages\\IPython\\core\\magics\\execution.py\u001b[0m in \u001b[0;36mtimeit\u001b[1;34m(self, line, cell, local_ns)\u001b[0m\n\u001b[0;32m   1171\u001b[0m                     \u001b[1;32mbreak\u001b[0m\u001b[1;33m\u001b[0m\u001b[1;33m\u001b[0m\u001b[0m\n\u001b[0;32m   1172\u001b[0m \u001b[1;33m\u001b[0m\u001b[0m\n\u001b[1;32m-> 1173\u001b[1;33m         \u001b[0mall_runs\u001b[0m \u001b[1;33m=\u001b[0m \u001b[0mtimer\u001b[0m\u001b[1;33m.\u001b[0m\u001b[0mrepeat\u001b[0m\u001b[1;33m(\u001b[0m\u001b[0mrepeat\u001b[0m\u001b[1;33m,\u001b[0m \u001b[0mnumber\u001b[0m\u001b[1;33m)\u001b[0m\u001b[1;33m\u001b[0m\u001b[1;33m\u001b[0m\u001b[0m\n\u001b[0m\u001b[0;32m   1174\u001b[0m         \u001b[0mbest\u001b[0m \u001b[1;33m=\u001b[0m \u001b[0mmin\u001b[0m\u001b[1;33m(\u001b[0m\u001b[0mall_runs\u001b[0m\u001b[1;33m)\u001b[0m \u001b[1;33m/\u001b[0m \u001b[0mnumber\u001b[0m\u001b[1;33m\u001b[0m\u001b[1;33m\u001b[0m\u001b[0m\n\u001b[0;32m   1175\u001b[0m         \u001b[0mworst\u001b[0m \u001b[1;33m=\u001b[0m \u001b[0mmax\u001b[0m\u001b[1;33m(\u001b[0m\u001b[0mall_runs\u001b[0m\u001b[1;33m)\u001b[0m \u001b[1;33m/\u001b[0m \u001b[0mnumber\u001b[0m\u001b[1;33m\u001b[0m\u001b[1;33m\u001b[0m\u001b[0m\n",
      "\u001b[1;32m~\\anaconda3\\lib\\timeit.py\u001b[0m in \u001b[0;36mrepeat\u001b[1;34m(self, repeat, number)\u001b[0m\n\u001b[0;32m    203\u001b[0m         \u001b[0mr\u001b[0m \u001b[1;33m=\u001b[0m \u001b[1;33m[\u001b[0m\u001b[1;33m]\u001b[0m\u001b[1;33m\u001b[0m\u001b[1;33m\u001b[0m\u001b[0m\n\u001b[0;32m    204\u001b[0m         \u001b[1;32mfor\u001b[0m \u001b[0mi\u001b[0m \u001b[1;32min\u001b[0m \u001b[0mrange\u001b[0m\u001b[1;33m(\u001b[0m\u001b[0mrepeat\u001b[0m\u001b[1;33m)\u001b[0m\u001b[1;33m:\u001b[0m\u001b[1;33m\u001b[0m\u001b[1;33m\u001b[0m\u001b[0m\n\u001b[1;32m--> 205\u001b[1;33m             \u001b[0mt\u001b[0m \u001b[1;33m=\u001b[0m \u001b[0mself\u001b[0m\u001b[1;33m.\u001b[0m\u001b[0mtimeit\u001b[0m\u001b[1;33m(\u001b[0m\u001b[0mnumber\u001b[0m\u001b[1;33m)\u001b[0m\u001b[1;33m\u001b[0m\u001b[1;33m\u001b[0m\u001b[0m\n\u001b[0m\u001b[0;32m    206\u001b[0m             \u001b[0mr\u001b[0m\u001b[1;33m.\u001b[0m\u001b[0mappend\u001b[0m\u001b[1;33m(\u001b[0m\u001b[0mt\u001b[0m\u001b[1;33m)\u001b[0m\u001b[1;33m\u001b[0m\u001b[1;33m\u001b[0m\u001b[0m\n\u001b[0;32m    207\u001b[0m         \u001b[1;32mreturn\u001b[0m \u001b[0mr\u001b[0m\u001b[1;33m\u001b[0m\u001b[1;33m\u001b[0m\u001b[0m\n",
      "\u001b[1;32m~\\anaconda3\\lib\\site-packages\\IPython\\core\\magics\\execution.py\u001b[0m in \u001b[0;36mtimeit\u001b[1;34m(self, number)\u001b[0m\n\u001b[0;32m    167\u001b[0m         \u001b[0mgc\u001b[0m\u001b[1;33m.\u001b[0m\u001b[0mdisable\u001b[0m\u001b[1;33m(\u001b[0m\u001b[1;33m)\u001b[0m\u001b[1;33m\u001b[0m\u001b[1;33m\u001b[0m\u001b[0m\n\u001b[0;32m    168\u001b[0m         \u001b[1;32mtry\u001b[0m\u001b[1;33m:\u001b[0m\u001b[1;33m\u001b[0m\u001b[1;33m\u001b[0m\u001b[0m\n\u001b[1;32m--> 169\u001b[1;33m             \u001b[0mtiming\u001b[0m \u001b[1;33m=\u001b[0m \u001b[0mself\u001b[0m\u001b[1;33m.\u001b[0m\u001b[0minner\u001b[0m\u001b[1;33m(\u001b[0m\u001b[0mit\u001b[0m\u001b[1;33m,\u001b[0m \u001b[0mself\u001b[0m\u001b[1;33m.\u001b[0m\u001b[0mtimer\u001b[0m\u001b[1;33m)\u001b[0m\u001b[1;33m\u001b[0m\u001b[1;33m\u001b[0m\u001b[0m\n\u001b[0m\u001b[0;32m    170\u001b[0m         \u001b[1;32mfinally\u001b[0m\u001b[1;33m:\u001b[0m\u001b[1;33m\u001b[0m\u001b[1;33m\u001b[0m\u001b[0m\n\u001b[0;32m    171\u001b[0m             \u001b[1;32mif\u001b[0m \u001b[0mgcold\u001b[0m\u001b[1;33m:\u001b[0m\u001b[1;33m\u001b[0m\u001b[1;33m\u001b[0m\u001b[0m\n",
      "\u001b[1;32m<magic-timeit>\u001b[0m in \u001b[0;36minner\u001b[1;34m(_it, _timer)\u001b[0m\n",
      "\u001b[1;32m<ipython-input-13-111c1caa0c7d>\u001b[0m in \u001b[0;36mtesting_d_pos\u001b[1;34m(rangeN, incre, D, n)\u001b[0m\n\u001b[0;32m     11\u001b[0m     \u001b[1;32mfor\u001b[0m \u001b[0mN\u001b[0m \u001b[1;32min\u001b[0m \u001b[0mrange\u001b[0m\u001b[1;33m(\u001b[0m\u001b[0mincre\u001b[0m\u001b[1;33m,\u001b[0m\u001b[0mrangeN\u001b[0m\u001b[1;33m+\u001b[0m\u001b[0mincre\u001b[0m\u001b[1;33m,\u001b[0m \u001b[0mincre\u001b[0m\u001b[1;33m)\u001b[0m\u001b[1;33m:\u001b[0m\u001b[1;33m\u001b[0m\u001b[1;33m\u001b[0m\u001b[0m\n\u001b[0;32m     12\u001b[0m         \u001b[0mprint\u001b[0m\u001b[1;33m(\u001b[0m\u001b[1;34m\"N = \"\u001b[0m\u001b[1;33m,\u001b[0m \u001b[0mN\u001b[0m\u001b[1;33m)\u001b[0m\u001b[1;33m\u001b[0m\u001b[1;33m\u001b[0m\u001b[0m\n\u001b[1;32m---> 13\u001b[1;33m         \u001b[0mtest_arr\u001b[0m\u001b[1;33m[\u001b[0m\u001b[0mi\u001b[0m\u001b[1;33m]\u001b[0m \u001b[1;33m=\u001b[0m \u001b[0mdistribution_primes_a_b\u001b[0m\u001b[1;33m(\u001b[0m\u001b[0mN\u001b[0m\u001b[1;33m,\u001b[0m \u001b[0mD\u001b[0m\u001b[1;33m,\u001b[0m \u001b[0mn\u001b[0m\u001b[1;33m,\u001b[0m \u001b[0minverse_list\u001b[0m\u001b[1;33m)\u001b[0m\u001b[1;33m\u001b[0m\u001b[1;33m\u001b[0m\u001b[0m\n\u001b[0m\u001b[0;32m     14\u001b[0m         \u001b[1;31m#print (f\"N = {N}  \", str(distribution_primes_a_b(N, D, n, inverse_list)), deviation(distribution_primes_a_b(N, D, n, inverse_list)))\u001b[0m\u001b[1;33m\u001b[0m\u001b[1;33m\u001b[0m\u001b[1;33m\u001b[0m\u001b[0m\n\u001b[0;32m     15\u001b[0m         \u001b[0mi\u001b[0m\u001b[1;33m+=\u001b[0m\u001b[1;36m1\u001b[0m\u001b[1;33m\u001b[0m\u001b[1;33m\u001b[0m\u001b[0m\n",
      "\u001b[1;32m<ipython-input-9-d1fd11e64b9d>\u001b[0m in \u001b[0;36mdistribution_primes_a_b\u001b[1;34m(N, D, n, LIST)\u001b[0m\n\u001b[0;32m      6\u001b[0m             \u001b[0mq\u001b[0m \u001b[1;33m=\u001b[0m \u001b[0ma\u001b[0m\u001b[1;33m**\u001b[0m\u001b[0mn\u001b[0m \u001b[1;33m+\u001b[0m \u001b[0mD\u001b[0m\u001b[1;33m*\u001b[0m\u001b[0mb\u001b[0m\u001b[1;33m**\u001b[0m\u001b[0mn\u001b[0m\u001b[1;33m\u001b[0m\u001b[1;33m\u001b[0m\u001b[0m\n\u001b[0;32m      7\u001b[0m             \u001b[0mM\u001b[0m \u001b[1;33m=\u001b[0m \u001b[1;33m(\u001b[0m\u001b[0mN\u001b[0m\u001b[1;33m**\u001b[0m\u001b[0mn\u001b[0m\u001b[1;33m)\u001b[0m\u001b[1;33m/\u001b[0m\u001b[1;33m(\u001b[0m\u001b[0mD\u001b[0m\u001b[1;33m+\u001b[0m\u001b[1;36m1\u001b[0m\u001b[1;33m)\u001b[0m\u001b[1;33m\u001b[0m\u001b[1;33m\u001b[0m\u001b[0m\n\u001b[1;32m----> 8\u001b[1;33m             \u001b[1;32mif\u001b[0m \u001b[0mq\u001b[0m\u001b[1;33m<\u001b[0m\u001b[0mM\u001b[0m \u001b[1;32mand\u001b[0m \u001b[0misprime\u001b[0m\u001b[1;33m(\u001b[0m\u001b[0mq\u001b[0m\u001b[1;33m)\u001b[0m\u001b[1;33m:\u001b[0m\u001b[1;33m\u001b[0m\u001b[1;33m\u001b[0m\u001b[0m\n\u001b[0m\u001b[0;32m      9\u001b[0m                 \u001b[1;32mfor\u001b[0m \u001b[0mi\u001b[0m \u001b[1;32min\u001b[0m \u001b[0mrange\u001b[0m\u001b[1;33m(\u001b[0m\u001b[0mlen\u001b[0m\u001b[1;33m(\u001b[0m\u001b[0mLIST\u001b[0m\u001b[1;33m)\u001b[0m\u001b[1;33m)\u001b[0m\u001b[1;33m:\u001b[0m\u001b[1;33m\u001b[0m\u001b[1;33m\u001b[0m\u001b[0m\n\u001b[0;32m     10\u001b[0m                     \u001b[1;32mif\u001b[0m \u001b[0mi\u001b[0m\u001b[1;33m==\u001b[0m\u001b[1;36m0\u001b[0m \u001b[1;32mand\u001b[0m \u001b[0mb\u001b[0m\u001b[1;33m/\u001b[0m\u001b[0ma\u001b[0m \u001b[1;33m<=\u001b[0m \u001b[0mLIST\u001b[0m\u001b[1;33m[\u001b[0m\u001b[1;36m0\u001b[0m\u001b[1;33m]\u001b[0m\u001b[1;33m/\u001b[0m\u001b[1;36m10000\u001b[0m\u001b[1;33m:\u001b[0m\u001b[1;33m\u001b[0m\u001b[1;33m\u001b[0m\u001b[0m\n",
      "\u001b[1;32m<ipython-input-4-bcb8faa9e83e>\u001b[0m in \u001b[0;36misprime\u001b[1;34m(n)\u001b[0m\n\u001b[0;32m     11\u001b[0m \u001b[1;33m\u001b[0m\u001b[0m\n\u001b[0;32m     12\u001b[0m     \u001b[0mi\u001b[0m \u001b[1;33m=\u001b[0m \u001b[1;36m5\u001b[0m\u001b[1;33m\u001b[0m\u001b[1;33m\u001b[0m\u001b[0m\n\u001b[1;32m---> 13\u001b[1;33m     \u001b[1;32mwhile\u001b[0m\u001b[1;33m(\u001b[0m\u001b[0mi\u001b[0m \u001b[1;33m*\u001b[0m \u001b[0mi\u001b[0m \u001b[1;33m<=\u001b[0m \u001b[0mn\u001b[0m\u001b[1;33m)\u001b[0m\u001b[1;33m:\u001b[0m\u001b[1;33m\u001b[0m\u001b[1;33m\u001b[0m\u001b[0m\n\u001b[0m\u001b[0;32m     14\u001b[0m         \u001b[1;32mif\u001b[0m \u001b[1;33m(\u001b[0m\u001b[0mn\u001b[0m \u001b[1;33m%\u001b[0m \u001b[0mi\u001b[0m\u001b[1;33m)\u001b[0m \u001b[1;33m==\u001b[0m \u001b[1;36m0\u001b[0m \u001b[1;32mor\u001b[0m \u001b[0mn\u001b[0m \u001b[1;33m%\u001b[0m \u001b[1;33m(\u001b[0m\u001b[0mi\u001b[0m \u001b[1;33m+\u001b[0m \u001b[1;36m2\u001b[0m\u001b[1;33m)\u001b[0m \u001b[1;33m==\u001b[0m \u001b[1;36m0\u001b[0m\u001b[1;33m:\u001b[0m\u001b[1;33m\u001b[0m\u001b[1;33m\u001b[0m\u001b[0m\n\u001b[0;32m     15\u001b[0m             \u001b[1;32mreturn\u001b[0m \u001b[1;32mFalse\u001b[0m\u001b[1;33m\u001b[0m\u001b[1;33m\u001b[0m\u001b[0m\n",
      "\u001b[1;31mKeyboardInterrupt\u001b[0m: "
     ]
    }
   ],
   "source": [
    "%%timeit -n1 -r1\n",
    "\n",
    "testing_d_pos(4000, 500, 6, 4)"
   ]
  },
  {
   "cell_type": "markdown",
   "metadata": {},
   "source": [
    "# Testing: Inverse Distruntion for primes a^3 + 2b^3"
   ]
  },
  {
   "cell_type": "markdown",
   "metadata": {},
   "source": [
    "# Testing: Inverse Distruntion for primes a^3 + 3b^3"
   ]
  },
  {
   "cell_type": "markdown",
   "metadata": {},
   "source": [
    "# Testing: Inverse Distruntion for primes a^3 + 5b^3"
   ]
  },
  {
   "cell_type": "markdown",
   "metadata": {},
   "source": [
    "# Testing: Inverse Distruntion for primes a^3 + 6b^3"
   ]
  },
  {
   "cell_type": "code",
   "execution_count": null,
   "metadata": {},
   "outputs": [],
   "source": []
  }
 ],
 "metadata": {
  "kernelspec": {
   "display_name": "Python 3",
   "language": "python",
   "name": "python3"
  },
  "language_info": {
   "codemirror_mode": {
    "name": "ipython",
    "version": 3
   },
   "file_extension": ".py",
   "mimetype": "text/x-python",
   "name": "python",
   "nbconvert_exporter": "python",
   "pygments_lexer": "ipython3",
   "version": "3.8.5"
  }
 },
 "nbformat": 4,
 "nbformat_minor": 4
}
