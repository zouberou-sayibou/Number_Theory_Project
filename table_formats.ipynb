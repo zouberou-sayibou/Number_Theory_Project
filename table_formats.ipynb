{
 "cells": [
  {
   "cell_type": "code",
   "execution_count": 55,
   "metadata": {},
   "outputs": [],
   "source": [
    "import numpy as np\n",
    "import pandas as pd\n",
    "import math\n",
    "import sys,os"
   ]
  },
  {
   "cell_type": "code",
   "execution_count": 56,
   "metadata": {},
   "outputs": [],
   "source": [
    "csv_dir = \"distribution_csv\"\n",
    "if not os.path.exists(csv_dir):\n",
    "    os.makedirs(csv_dir)"
   ]
  },
  {
   "cell_type": "code",
   "execution_count": 57,
   "metadata": {},
   "outputs": [
    {
     "name": "stdout",
     "output_type": "stream",
     "text": [
      "inverse\n",
      "distri\n",
      "distriMod2\n"
     ]
    }
   ],
   "source": [
    "one_power_2 = np.load(\"Polynomials_Saved_Datasets/1_power_2_500_to_4000.npz\")\n",
    "for i in one_power_2:\n",
    "    print(i)"
   ]
  },
  {
   "cell_type": "code",
   "execution_count": 58,
   "metadata": {},
   "outputs": [
    {
     "data": {
      "text/plain": [
       "array([[  370,   378,   369,   379,   363,   376,   375,   365,   367,\n",
       "          381,   360,   371,   372,   375],\n",
       "       [ 1320,  1324,  1329,  1332,  1305,  1311,  1334,  1311,  1307,\n",
       "         1325,  1308,  1316,  1347,  1321],\n",
       "       [ 2773,  2808,  2795,  2798,  2782,  2785,  2785,  2756,  2750,\n",
       "         2796,  2782,  2796,  2790,  2773],\n",
       "       [ 4708,  4749,  4754,  4740,  4720,  4766,  4724,  4700,  4738,\n",
       "         4754,  4734,  4765,  4717,  4743],\n",
       "       [ 7151,  7201,  7154,  7124,  7154,  7220,  7150,  7094,  7206,\n",
       "         7184,  7169,  7154,  7129,  7187],\n",
       "       [10031, 10092, 10053, 10036, 10085, 10115, 10036,  9935, 10081,\n",
       "        10037, 10075, 10074,  9990, 10085],\n",
       "       [13403, 13453, 13375, 13392, 13399, 13407, 13379, 13235, 13457,\n",
       "        13391, 13429, 13378, 13360, 13420],\n",
       "       [17199, 17162, 17134, 17199, 17184, 17180, 17167, 17047, 17224,\n",
       "        17166, 17216, 17174, 17144, 17189]])"
      ]
     },
     "execution_count": 58,
     "metadata": {},
     "output_type": "execute_result"
    }
   ],
   "source": [
    "inverse = one_power_2[\"inverse\"]\n",
    "inverse\n",
    "\n",
    "distri = one_power_2[\"distri\"]\n",
    "distri\n",
    "\n",
    "distriMod2 = one_power_2[\"distriMod2\"]\n",
    "distriMod2"
   ]
  },
  {
   "cell_type": "code",
   "execution_count": 37,
   "metadata": {},
   "outputs": [],
   "source": [
    "x= list(distri[0])"
   ]
  },
  {
   "cell_type": "code",
   "execution_count": 77,
   "metadata": {},
   "outputs": [],
   "source": [
    "x_l = distri.tolist()"
   ]
  },
  {
   "cell_type": "code",
   "execution_count": 62,
   "metadata": {},
   "outputs": [],
   "source": [
    "for i in range(len(x_l)):\n",
    "    x_l[i]= str(x_l[i])"
   ]
  },
  {
   "cell_type": "code",
   "execution_count": 72,
   "metadata": {},
   "outputs": [
    {
     "data": {
      "text/plain": [
       "['[735, 745, 750, 739, 734, 748, 750]',\n",
       " '[2631, 2631, 2654, 2640, 2621, 2658, 2655]',\n",
       " '[5529, 5558, 5591, 5580, 5578, 5575, 5558]',\n",
       " '[9408, 9487, 9508, 9474, 9485, 9483, 9467]',\n",
       " '[14245, 14407, 14338, 14293, 14308, 14349, 14337]',\n",
       " '[19966, 20173, 20090, 20111, 20159, 20105, 20121]',\n",
       " '[26638, 26910, 26766, 26821, 26777, 26767, 26799]',\n",
       " '[34246, 34386, 34300, 34415, 34358, 34324, 34356]']"
      ]
     },
     "execution_count": 72,
     "metadata": {},
     "output_type": "execute_result"
    }
   ],
   "source": [
    "x_l"
   ]
  },
  {
   "cell_type": "code",
   "execution_count": 84,
   "metadata": {},
   "outputs": [
    {
     "data": {
      "text/plain": [
       "list"
      ]
     },
     "execution_count": 84,
     "metadata": {},
     "output_type": "execute_result"
    }
   ],
   "source": [
    "type(x_l[0])"
   ]
  },
  {
   "cell_type": "code",
   "execution_count": 92,
   "metadata": {},
   "outputs": [
    {
     "data": {
      "text/plain": [
       "[1.021798365122616,\n",
       " 1.014116749332316,\n",
       " 1.0112136010128414,\n",
       " 1.0106292517006803,\n",
       " 1.0113724113724114,\n",
       " 1.010367624962436,\n",
       " 1.01021097680006,\n",
       " 1.0049348829060327]"
      ]
     },
     "execution_count": 92,
     "metadata": {},
     "output_type": "execute_result"
    }
   ],
   "source": [
    "max_min"
   ]
  },
  {
   "cell_type": "code",
   "execution_count": 67,
   "metadata": {},
   "outputs": [
    {
     "data": {
      "text/plain": [
       "array([1004, 2028, 3094, 4229, 5464, 6842, 8424])"
      ]
     },
     "execution_count": 67,
     "metadata": {},
     "output_type": "execute_result"
    }
   ],
   "source": [
    "inverse"
   ]
  },
  {
   "cell_type": "code",
   "execution_count": 70,
   "metadata": {},
   "outputs": [
    {
     "data": {
      "text/html": [
       "<div>\n",
       "<style scoped>\n",
       "    .dataframe tbody tr th:only-of-type {\n",
       "        vertical-align: middle;\n",
       "    }\n",
       "\n",
       "    .dataframe tbody tr th {\n",
       "        vertical-align: top;\n",
       "    }\n",
       "\n",
       "    .dataframe thead th {\n",
       "        text-align: right;\n",
       "    }\n",
       "</style>\n",
       "<table border=\"1\" class=\"dataframe\">\n",
       "  <thead>\n",
       "    <tr style=\"text-align: right;\">\n",
       "      <th></th>\n",
       "      <th>N</th>\n",
       "      <th>Distribution</th>\n",
       "    </tr>\n",
       "  </thead>\n",
       "  <tbody>\n",
       "    <tr>\n",
       "      <th>0</th>\n",
       "      <td>500</td>\n",
       "      <td>[1004 2028 3094 4229 5464 6842 8424]</td>\n",
       "    </tr>\n",
       "    <tr>\n",
       "      <th>1</th>\n",
       "      <td>1000</td>\n",
       "      <td>[1004 2028 3094 4229 5464 6842 8424]</td>\n",
       "    </tr>\n",
       "    <tr>\n",
       "      <th>2</th>\n",
       "      <td>1500</td>\n",
       "      <td>[1004 2028 3094 4229 5464 6842 8424]</td>\n",
       "    </tr>\n",
       "    <tr>\n",
       "      <th>3</th>\n",
       "      <td>2000</td>\n",
       "      <td>[1004 2028 3094 4229 5464 6842 8424]</td>\n",
       "    </tr>\n",
       "    <tr>\n",
       "      <th>4</th>\n",
       "      <td>2500</td>\n",
       "      <td>[1004 2028 3094 4229 5464 6842 8424]</td>\n",
       "    </tr>\n",
       "    <tr>\n",
       "      <th>5</th>\n",
       "      <td>3000</td>\n",
       "      <td>[1004 2028 3094 4229 5464 6842 8424]</td>\n",
       "    </tr>\n",
       "    <tr>\n",
       "      <th>6</th>\n",
       "      <td>3500</td>\n",
       "      <td>[1004 2028 3094 4229 5464 6842 8424]</td>\n",
       "    </tr>\n",
       "    <tr>\n",
       "      <th>7</th>\n",
       "      <td>4000</td>\n",
       "      <td>[1004 2028 3094 4229 5464 6842 8424]</td>\n",
       "    </tr>\n",
       "  </tbody>\n",
       "</table>\n",
       "</div>"
      ],
      "text/plain": [
       "      N                          Distribution\n",
       "0   500  [1004 2028 3094 4229 5464 6842 8424]\n",
       "1  1000  [1004 2028 3094 4229 5464 6842 8424]\n",
       "2  1500  [1004 2028 3094 4229 5464 6842 8424]\n",
       "3  2000  [1004 2028 3094 4229 5464 6842 8424]\n",
       "4  2500  [1004 2028 3094 4229 5464 6842 8424]\n",
       "5  3000  [1004 2028 3094 4229 5464 6842 8424]\n",
       "6  3500  [1004 2028 3094 4229 5464 6842 8424]\n",
       "7  4000  [1004 2028 3094 4229 5464 6842 8424]"
      ]
     },
     "execution_count": 70,
     "metadata": {},
     "output_type": "execute_result"
    }
   ],
   "source": [
    "df = pd.DataFrame(\n",
    "{\"N\": range(500,4500, 500),\n",
    " \"Distribution\": str(inverse)\n",
    "})\n",
    "df"
   ]
  },
  {
   "cell_type": "code",
   "execution_count": 3,
   "metadata": {},
   "outputs": [],
   "source": [
    "def deviation(dist_list):\n",
    "    return max(dist_list)/min(dist_list)"
   ]
  },
  {
   "cell_type": "code",
   "execution_count": 11,
   "metadata": {},
   "outputs": [],
   "source": [
    "def max_min(arr):\n",
    "    mx_mi = list()\n",
    "    for i in range(0,len(arr)):\n",
    "        mx_mi.append(deviation(arr[i]))\n",
    "    return mx_mi"
   ]
  },
  {
   "cell_type": "code",
   "execution_count": 74,
   "metadata": {},
   "outputs": [],
   "source": [
    "def make_df(arrays):\n",
    "    inverse = arrays[\"inverse\"].tolist()\n",
    "    distri = arrays[\"distri\"].tolist()\n",
    "    distriMod2 = arrays[\"distriMod2\"].tolist()\n",
    "    max_min_sta = max_min(distri)\n",
    "    max_min_sta_mod2 = max_min(distriMod2)\n",
    "    return  pd.DataFrame(\n",
    "        { \"Polynomials\": str(arr[:-15]),\n",
    "        \"Inverse Distribution\": str(inverse),\n",
    "         \"N\": range(500,(len(distri)*500)+500, 500),\n",
    "         \"Distribution\": distri,\n",
    "         \"Max/Min\": max_min_sta,\n",
    "         \"Distribution Modulo 2\": distriMod2,\n",
    "         \"Max/Min Mod2\": max_min_sta_mod2\n",
    "        })"
   ]
  },
  {
   "cell_type": "code",
   "execution_count": 75,
   "metadata": {},
   "outputs": [
    {
     "data": {
      "text/html": [
       "<div>\n",
       "<style scoped>\n",
       "    .dataframe tbody tr th:only-of-type {\n",
       "        vertical-align: middle;\n",
       "    }\n",
       "\n",
       "    .dataframe tbody tr th {\n",
       "        vertical-align: top;\n",
       "    }\n",
       "\n",
       "    .dataframe thead th {\n",
       "        text-align: right;\n",
       "    }\n",
       "</style>\n",
       "<table border=\"1\" class=\"dataframe\">\n",
       "  <thead>\n",
       "    <tr style=\"text-align: right;\">\n",
       "      <th></th>\n",
       "      <th>Polynomials</th>\n",
       "      <th>Inverse Distribution</th>\n",
       "      <th>N</th>\n",
       "      <th>Distribution</th>\n",
       "      <th>Max/Min</th>\n",
       "      <th>Distribution Modulo 2</th>\n",
       "      <th>Max/Min Mod2</th>\n",
       "    </tr>\n",
       "  </thead>\n",
       "  <tbody>\n",
       "    <tr>\n",
       "      <th>0</th>\n",
       "      <td>1_power_2_</td>\n",
       "      <td>[1004, 2028, 3094, 4229, 5464, 6842, 8424]</td>\n",
       "      <td>500</td>\n",
       "      <td>[735, 745, 750, 739, 734, 748, 750]</td>\n",
       "      <td>1.021798</td>\n",
       "      <td>[370, 378, 369, 379, 363, 376, 375, 365, 367, ...</td>\n",
       "      <td>1.058333</td>\n",
       "    </tr>\n",
       "    <tr>\n",
       "      <th>1</th>\n",
       "      <td>1_power_2_</td>\n",
       "      <td>[1004, 2028, 3094, 4229, 5464, 6842, 8424]</td>\n",
       "      <td>1000</td>\n",
       "      <td>[2631, 2631, 2654, 2640, 2621, 2658, 2655]</td>\n",
       "      <td>1.014117</td>\n",
       "      <td>[1320, 1324, 1329, 1332, 1305, 1311, 1334, 131...</td>\n",
       "      <td>1.032184</td>\n",
       "    </tr>\n",
       "    <tr>\n",
       "      <th>2</th>\n",
       "      <td>1_power_2_</td>\n",
       "      <td>[1004, 2028, 3094, 4229, 5464, 6842, 8424]</td>\n",
       "      <td>1500</td>\n",
       "      <td>[5529, 5558, 5591, 5580, 5578, 5575, 5558]</td>\n",
       "      <td>1.011214</td>\n",
       "      <td>[2773, 2808, 2795, 2798, 2782, 2785, 2785, 275...</td>\n",
       "      <td>1.021091</td>\n",
       "    </tr>\n",
       "    <tr>\n",
       "      <th>3</th>\n",
       "      <td>1_power_2_</td>\n",
       "      <td>[1004, 2028, 3094, 4229, 5464, 6842, 8424]</td>\n",
       "      <td>2000</td>\n",
       "      <td>[9408, 9487, 9508, 9474, 9485, 9483, 9467]</td>\n",
       "      <td>1.010629</td>\n",
       "      <td>[4708, 4749, 4754, 4740, 4720, 4766, 4724, 470...</td>\n",
       "      <td>1.014043</td>\n",
       "    </tr>\n",
       "    <tr>\n",
       "      <th>4</th>\n",
       "      <td>1_power_2_</td>\n",
       "      <td>[1004, 2028, 3094, 4229, 5464, 6842, 8424]</td>\n",
       "      <td>2500</td>\n",
       "      <td>[14245, 14407, 14338, 14293, 14308, 14349, 14337]</td>\n",
       "      <td>1.011372</td>\n",
       "      <td>[7151, 7201, 7154, 7124, 7154, 7220, 7150, 709...</td>\n",
       "      <td>1.017761</td>\n",
       "    </tr>\n",
       "    <tr>\n",
       "      <th>5</th>\n",
       "      <td>1_power_2_</td>\n",
       "      <td>[1004, 2028, 3094, 4229, 5464, 6842, 8424]</td>\n",
       "      <td>3000</td>\n",
       "      <td>[19966, 20173, 20090, 20111, 20159, 20105, 20121]</td>\n",
       "      <td>1.010368</td>\n",
       "      <td>[10031, 10092, 10053, 10036, 10085, 10115, 100...</td>\n",
       "      <td>1.018118</td>\n",
       "    </tr>\n",
       "    <tr>\n",
       "      <th>6</th>\n",
       "      <td>1_power_2_</td>\n",
       "      <td>[1004, 2028, 3094, 4229, 5464, 6842, 8424]</td>\n",
       "      <td>3500</td>\n",
       "      <td>[26638, 26910, 26766, 26821, 26777, 26767, 26799]</td>\n",
       "      <td>1.010211</td>\n",
       "      <td>[13403, 13453, 13375, 13392, 13399, 13407, 133...</td>\n",
       "      <td>1.016774</td>\n",
       "    </tr>\n",
       "    <tr>\n",
       "      <th>7</th>\n",
       "      <td>1_power_2_</td>\n",
       "      <td>[1004, 2028, 3094, 4229, 5464, 6842, 8424]</td>\n",
       "      <td>4000</td>\n",
       "      <td>[34246, 34386, 34300, 34415, 34358, 34324, 34356]</td>\n",
       "      <td>1.004935</td>\n",
       "      <td>[17199, 17162, 17134, 17199, 17184, 17180, 171...</td>\n",
       "      <td>1.010383</td>\n",
       "    </tr>\n",
       "  </tbody>\n",
       "</table>\n",
       "</div>"
      ],
      "text/plain": [
       "  Polynomials                        Inverse Distribution     N  \\\n",
       "0  1_power_2_  [1004, 2028, 3094, 4229, 5464, 6842, 8424]   500   \n",
       "1  1_power_2_  [1004, 2028, 3094, 4229, 5464, 6842, 8424]  1000   \n",
       "2  1_power_2_  [1004, 2028, 3094, 4229, 5464, 6842, 8424]  1500   \n",
       "3  1_power_2_  [1004, 2028, 3094, 4229, 5464, 6842, 8424]  2000   \n",
       "4  1_power_2_  [1004, 2028, 3094, 4229, 5464, 6842, 8424]  2500   \n",
       "5  1_power_2_  [1004, 2028, 3094, 4229, 5464, 6842, 8424]  3000   \n",
       "6  1_power_2_  [1004, 2028, 3094, 4229, 5464, 6842, 8424]  3500   \n",
       "7  1_power_2_  [1004, 2028, 3094, 4229, 5464, 6842, 8424]  4000   \n",
       "\n",
       "                                        Distribution   Max/Min  \\\n",
       "0                [735, 745, 750, 739, 734, 748, 750]  1.021798   \n",
       "1         [2631, 2631, 2654, 2640, 2621, 2658, 2655]  1.014117   \n",
       "2         [5529, 5558, 5591, 5580, 5578, 5575, 5558]  1.011214   \n",
       "3         [9408, 9487, 9508, 9474, 9485, 9483, 9467]  1.010629   \n",
       "4  [14245, 14407, 14338, 14293, 14308, 14349, 14337]  1.011372   \n",
       "5  [19966, 20173, 20090, 20111, 20159, 20105, 20121]  1.010368   \n",
       "6  [26638, 26910, 26766, 26821, 26777, 26767, 26799]  1.010211   \n",
       "7  [34246, 34386, 34300, 34415, 34358, 34324, 34356]  1.004935   \n",
       "\n",
       "                               Distribution Modulo 2  Max/Min Mod2  \n",
       "0  [370, 378, 369, 379, 363, 376, 375, 365, 367, ...      1.058333  \n",
       "1  [1320, 1324, 1329, 1332, 1305, 1311, 1334, 131...      1.032184  \n",
       "2  [2773, 2808, 2795, 2798, 2782, 2785, 2785, 275...      1.021091  \n",
       "3  [4708, 4749, 4754, 4740, 4720, 4766, 4724, 470...      1.014043  \n",
       "4  [7151, 7201, 7154, 7124, 7154, 7220, 7150, 709...      1.017761  \n",
       "5  [10031, 10092, 10053, 10036, 10085, 10115, 100...      1.018118  \n",
       "6  [13403, 13453, 13375, 13392, 13399, 13407, 133...      1.016774  \n",
       "7  [17199, 17162, 17134, 17199, 17184, 17180, 171...      1.010383  "
      ]
     },
     "execution_count": 75,
     "metadata": {},
     "output_type": "execute_result"
    }
   ],
   "source": [
    "make_df(np.load(\"Polynomials_Saved_Datasets/1_power_2_500_to_4000.npz\"))"
   ]
  },
  {
   "cell_type": "code",
   "execution_count": 77,
   "metadata": {},
   "outputs": [],
   "source": [
    "df_list= []\n",
    "dir = \"Polynomials_Saved_Datasets/\"\n",
    "for arr in os.listdir(dir):\n",
    "    if arr.endswith('.npz'):\n",
    "        file_path = os.path.join(dir, arr)\n",
    "        #print (str(file_path))\n",
    "        make_df(np.load(str(file_path))).to_csv(\"distribution_csv/\"+ arr[:-3]+\".csv\",index = False)\n",
    "        "
   ]
  },
  {
   "cell_type": "code",
   "execution_count": 42,
   "metadata": {},
   "outputs": [],
   "source": [
    "df_list[0].to_csv(\"test.csv\", index=False)"
   ]
  },
  {
   "cell_type": "code",
   "execution_count": 37,
   "metadata": {},
   "outputs": [
    {
     "data": {
      "text/html": [
       "<div>\n",
       "<style scoped>\n",
       "    .dataframe tbody tr th:only-of-type {\n",
       "        vertical-align: middle;\n",
       "    }\n",
       "\n",
       "    .dataframe tbody tr th {\n",
       "        vertical-align: top;\n",
       "    }\n",
       "\n",
       "    .dataframe thead th {\n",
       "        text-align: right;\n",
       "    }\n",
       "</style>\n",
       "<table border=\"1\" class=\"dataframe\">\n",
       "  <thead>\n",
       "    <tr style=\"text-align: right;\">\n",
       "      <th></th>\n",
       "      <th>N</th>\n",
       "      <th>Distribution</th>\n",
       "      <th>Max/Min</th>\n",
       "      <th>Distribution Modulo 2</th>\n",
       "      <th>Max/Min Mod2</th>\n",
       "    </tr>\n",
       "  </thead>\n",
       "  <tbody>\n",
       "    <tr>\n",
       "      <th>0</th>\n",
       "      <td>500</td>\n",
       "      <td>[735, 745, 750, 739, 734, 748, 750]</td>\n",
       "      <td>1.021798</td>\n",
       "      <td>[370, 378, 369, 379, 363, 376, 375, 365, 367, ...</td>\n",
       "      <td>1.058333</td>\n",
       "    </tr>\n",
       "    <tr>\n",
       "      <th>1</th>\n",
       "      <td>1000</td>\n",
       "      <td>[2631, 2631, 2654, 2640, 2621, 2658, 2655]</td>\n",
       "      <td>1.014117</td>\n",
       "      <td>[1320, 1324, 1329, 1332, 1305, 1311, 1334, 131...</td>\n",
       "      <td>1.032184</td>\n",
       "    </tr>\n",
       "    <tr>\n",
       "      <th>2</th>\n",
       "      <td>1500</td>\n",
       "      <td>[5529, 5558, 5591, 5580, 5578, 5575, 5558]</td>\n",
       "      <td>1.011214</td>\n",
       "      <td>[2773, 2808, 2795, 2798, 2782, 2785, 2785, 275...</td>\n",
       "      <td>1.021091</td>\n",
       "    </tr>\n",
       "    <tr>\n",
       "      <th>3</th>\n",
       "      <td>2000</td>\n",
       "      <td>[9408, 9487, 9508, 9474, 9485, 9483, 9467]</td>\n",
       "      <td>1.010629</td>\n",
       "      <td>[4708, 4749, 4754, 4740, 4720, 4766, 4724, 470...</td>\n",
       "      <td>1.014043</td>\n",
       "    </tr>\n",
       "    <tr>\n",
       "      <th>4</th>\n",
       "      <td>2500</td>\n",
       "      <td>[14245, 14407, 14338, 14293, 14308, 14349, 14337]</td>\n",
       "      <td>1.011372</td>\n",
       "      <td>[7151, 7201, 7154, 7124, 7154, 7220, 7150, 709...</td>\n",
       "      <td>1.017761</td>\n",
       "    </tr>\n",
       "    <tr>\n",
       "      <th>5</th>\n",
       "      <td>3000</td>\n",
       "      <td>[19966, 20173, 20090, 20111, 20159, 20105, 20121]</td>\n",
       "      <td>1.010368</td>\n",
       "      <td>[10031, 10092, 10053, 10036, 10085, 10115, 100...</td>\n",
       "      <td>1.018118</td>\n",
       "    </tr>\n",
       "    <tr>\n",
       "      <th>6</th>\n",
       "      <td>3500</td>\n",
       "      <td>[26638, 26910, 26766, 26821, 26777, 26767, 26799]</td>\n",
       "      <td>1.010211</td>\n",
       "      <td>[13403, 13453, 13375, 13392, 13399, 13407, 133...</td>\n",
       "      <td>1.016774</td>\n",
       "    </tr>\n",
       "    <tr>\n",
       "      <th>7</th>\n",
       "      <td>4000</td>\n",
       "      <td>[34246, 34386, 34300, 34415, 34358, 34324, 34356]</td>\n",
       "      <td>1.004935</td>\n",
       "      <td>[17199, 17162, 17134, 17199, 17184, 17180, 171...</td>\n",
       "      <td>1.010383</td>\n",
       "    </tr>\n",
       "  </tbody>\n",
       "</table>\n",
       "</div>"
      ],
      "text/plain": [
       "      N                                       Distribution   Max/Min  \\\n",
       "0   500                [735, 745, 750, 739, 734, 748, 750]  1.021798   \n",
       "1  1000         [2631, 2631, 2654, 2640, 2621, 2658, 2655]  1.014117   \n",
       "2  1500         [5529, 5558, 5591, 5580, 5578, 5575, 5558]  1.011214   \n",
       "3  2000         [9408, 9487, 9508, 9474, 9485, 9483, 9467]  1.010629   \n",
       "4  2500  [14245, 14407, 14338, 14293, 14308, 14349, 14337]  1.011372   \n",
       "5  3000  [19966, 20173, 20090, 20111, 20159, 20105, 20121]  1.010368   \n",
       "6  3500  [26638, 26910, 26766, 26821, 26777, 26767, 26799]  1.010211   \n",
       "7  4000  [34246, 34386, 34300, 34415, 34358, 34324, 34356]  1.004935   \n",
       "\n",
       "                               Distribution Modulo 2  Max/Min Mod2  \n",
       "0  [370, 378, 369, 379, 363, 376, 375, 365, 367, ...      1.058333  \n",
       "1  [1320, 1324, 1329, 1332, 1305, 1311, 1334, 131...      1.032184  \n",
       "2  [2773, 2808, 2795, 2798, 2782, 2785, 2785, 275...      1.021091  \n",
       "3  [4708, 4749, 4754, 4740, 4720, 4766, 4724, 470...      1.014043  \n",
       "4  [7151, 7201, 7154, 7124, 7154, 7220, 7150, 709...      1.017761  \n",
       "5  [10031, 10092, 10053, 10036, 10085, 10115, 100...      1.018118  \n",
       "6  [13403, 13453, 13375, 13392, 13399, 13407, 133...      1.016774  \n",
       "7  [17199, 17162, 17134, 17199, 17184, 17180, 171...      1.010383  "
      ]
     },
     "execution_count": 37,
     "metadata": {},
     "output_type": "execute_result"
    }
   ],
   "source": [
    "df_list[0]"
   ]
  },
  {
   "cell_type": "code",
   "execution_count": null,
   "metadata": {},
   "outputs": [],
   "source": []
  },
  {
   "cell_type": "code",
   "execution_count": 111,
   "metadata": {},
   "outputs": [],
   "source": [
    "df = make_df(np.load(\"Polynomials_Saved_Datasets/1_power_2_500_to_4000.npz\"))"
   ]
  },
  {
   "cell_type": "code",
   "execution_count": 112,
   "metadata": {},
   "outputs": [],
   "source": [
    "dflist = []\n",
    "dflist.append(df)"
   ]
  },
  {
   "cell_type": "code",
   "execution_count": 116,
   "metadata": {},
   "outputs": [
    {
     "data": {
      "text/html": [
       "<div>\n",
       "<style scoped>\n",
       "    .dataframe tbody tr th:only-of-type {\n",
       "        vertical-align: middle;\n",
       "    }\n",
       "\n",
       "    .dataframe tbody tr th {\n",
       "        vertical-align: top;\n",
       "    }\n",
       "\n",
       "    .dataframe thead th {\n",
       "        text-align: right;\n",
       "    }\n",
       "</style>\n",
       "<table border=\"1\" class=\"dataframe\">\n",
       "  <thead>\n",
       "    <tr style=\"text-align: right;\">\n",
       "      <th></th>\n",
       "      <th>N</th>\n",
       "      <th>Distribution</th>\n",
       "      <th>Max/Min</th>\n",
       "      <th>Distribution Modulo 2</th>\n",
       "      <th>Max/Min Mod2</th>\n",
       "    </tr>\n",
       "  </thead>\n",
       "  <tbody>\n",
       "    <tr>\n",
       "      <th>0</th>\n",
       "      <td>500</td>\n",
       "      <td>[735, 745, 750, 739, 734, 748, 750]</td>\n",
       "      <td>1.021798</td>\n",
       "      <td>[370, 378, 369, 379, 363, 376, 375, 365, 367, ...</td>\n",
       "      <td>1.058333</td>\n",
       "    </tr>\n",
       "    <tr>\n",
       "      <th>1</th>\n",
       "      <td>1000</td>\n",
       "      <td>[2631, 2631, 2654, 2640, 2621, 2658, 2655]</td>\n",
       "      <td>1.014117</td>\n",
       "      <td>[1320, 1324, 1329, 1332, 1305, 1311, 1334, 131...</td>\n",
       "      <td>1.032184</td>\n",
       "    </tr>\n",
       "    <tr>\n",
       "      <th>2</th>\n",
       "      <td>1500</td>\n",
       "      <td>[5529, 5558, 5591, 5580, 5578, 5575, 5558]</td>\n",
       "      <td>1.011214</td>\n",
       "      <td>[2773, 2808, 2795, 2798, 2782, 2785, 2785, 275...</td>\n",
       "      <td>1.021091</td>\n",
       "    </tr>\n",
       "    <tr>\n",
       "      <th>3</th>\n",
       "      <td>2000</td>\n",
       "      <td>[9408, 9487, 9508, 9474, 9485, 9483, 9467]</td>\n",
       "      <td>1.010629</td>\n",
       "      <td>[4708, 4749, 4754, 4740, 4720, 4766, 4724, 470...</td>\n",
       "      <td>1.014043</td>\n",
       "    </tr>\n",
       "    <tr>\n",
       "      <th>4</th>\n",
       "      <td>2500</td>\n",
       "      <td>[14245, 14407, 14338, 14293, 14308, 14349, 14337]</td>\n",
       "      <td>1.011372</td>\n",
       "      <td>[7151, 7201, 7154, 7124, 7154, 7220, 7150, 709...</td>\n",
       "      <td>1.017761</td>\n",
       "    </tr>\n",
       "    <tr>\n",
       "      <th>5</th>\n",
       "      <td>3000</td>\n",
       "      <td>[19966, 20173, 20090, 20111, 20159, 20105, 20121]</td>\n",
       "      <td>1.010368</td>\n",
       "      <td>[10031, 10092, 10053, 10036, 10085, 10115, 100...</td>\n",
       "      <td>1.018118</td>\n",
       "    </tr>\n",
       "    <tr>\n",
       "      <th>6</th>\n",
       "      <td>3500</td>\n",
       "      <td>[26638, 26910, 26766, 26821, 26777, 26767, 26799]</td>\n",
       "      <td>1.010211</td>\n",
       "      <td>[13403, 13453, 13375, 13392, 13399, 13407, 133...</td>\n",
       "      <td>1.016774</td>\n",
       "    </tr>\n",
       "    <tr>\n",
       "      <th>7</th>\n",
       "      <td>4000</td>\n",
       "      <td>[34246, 34386, 34300, 34415, 34358, 34324, 34356]</td>\n",
       "      <td>1.004935</td>\n",
       "      <td>[17199, 17162, 17134, 17199, 17184, 17180, 171...</td>\n",
       "      <td>1.010383</td>\n",
       "    </tr>\n",
       "  </tbody>\n",
       "</table>\n",
       "</div>"
      ],
      "text/plain": [
       "      N                                       Distribution   Max/Min  \\\n",
       "0   500                [735, 745, 750, 739, 734, 748, 750]  1.021798   \n",
       "1  1000         [2631, 2631, 2654, 2640, 2621, 2658, 2655]  1.014117   \n",
       "2  1500         [5529, 5558, 5591, 5580, 5578, 5575, 5558]  1.011214   \n",
       "3  2000         [9408, 9487, 9508, 9474, 9485, 9483, 9467]  1.010629   \n",
       "4  2500  [14245, 14407, 14338, 14293, 14308, 14349, 14337]  1.011372   \n",
       "5  3000  [19966, 20173, 20090, 20111, 20159, 20105, 20121]  1.010368   \n",
       "6  3500  [26638, 26910, 26766, 26821, 26777, 26767, 26799]  1.010211   \n",
       "7  4000  [34246, 34386, 34300, 34415, 34358, 34324, 34356]  1.004935   \n",
       "\n",
       "                               Distribution Modulo 2  Max/Min Mod2  \n",
       "0  [370, 378, 369, 379, 363, 376, 375, 365, 367, ...      1.058333  \n",
       "1  [1320, 1324, 1329, 1332, 1305, 1311, 1334, 131...      1.032184  \n",
       "2  [2773, 2808, 2795, 2798, 2782, 2785, 2785, 275...      1.021091  \n",
       "3  [4708, 4749, 4754, 4740, 4720, 4766, 4724, 470...      1.014043  \n",
       "4  [7151, 7201, 7154, 7124, 7154, 7220, 7150, 709...      1.017761  \n",
       "5  [10031, 10092, 10053, 10036, 10085, 10115, 100...      1.018118  \n",
       "6  [13403, 13453, 13375, 13392, 13399, 13407, 133...      1.016774  \n",
       "7  [17199, 17162, 17134, 17199, 17184, 17180, 171...      1.010383  "
      ]
     },
     "execution_count": 116,
     "metadata": {},
     "output_type": "execute_result"
    }
   ],
   "source": [
    "dflist[0]"
   ]
  },
  {
   "cell_type": "code",
   "execution_count": 94,
   "metadata": {},
   "outputs": [
    {
     "data": {
      "text/html": [
       "<div>\n",
       "<style scoped>\n",
       "    .dataframe tbody tr th:only-of-type {\n",
       "        vertical-align: middle;\n",
       "    }\n",
       "\n",
       "    .dataframe tbody tr th {\n",
       "        vertical-align: top;\n",
       "    }\n",
       "\n",
       "    .dataframe thead th {\n",
       "        text-align: right;\n",
       "    }\n",
       "</style>\n",
       "<table border=\"1\" class=\"dataframe\">\n",
       "  <thead>\n",
       "    <tr style=\"text-align: right;\">\n",
       "      <th></th>\n",
       "      <th>N</th>\n",
       "      <th>Distribution</th>\n",
       "      <th>Max/Min</th>\n",
       "    </tr>\n",
       "  </thead>\n",
       "  <tbody>\n",
       "    <tr>\n",
       "      <th>0</th>\n",
       "      <td>500</td>\n",
       "      <td>[735, 745, 750, 739, 734, 748, 750]</td>\n",
       "      <td>1.021798</td>\n",
       "    </tr>\n",
       "    <tr>\n",
       "      <th>1</th>\n",
       "      <td>1000</td>\n",
       "      <td>[2631, 2631, 2654, 2640, 2621, 2658, 2655]</td>\n",
       "      <td>1.014117</td>\n",
       "    </tr>\n",
       "    <tr>\n",
       "      <th>2</th>\n",
       "      <td>1500</td>\n",
       "      <td>[5529, 5558, 5591, 5580, 5578, 5575, 5558]</td>\n",
       "      <td>1.011214</td>\n",
       "    </tr>\n",
       "    <tr>\n",
       "      <th>3</th>\n",
       "      <td>2000</td>\n",
       "      <td>[9408, 9487, 9508, 9474, 9485, 9483, 9467]</td>\n",
       "      <td>1.010629</td>\n",
       "    </tr>\n",
       "    <tr>\n",
       "      <th>4</th>\n",
       "      <td>2500</td>\n",
       "      <td>[14245, 14407, 14338, 14293, 14308, 14349, 14337]</td>\n",
       "      <td>1.011372</td>\n",
       "    </tr>\n",
       "    <tr>\n",
       "      <th>5</th>\n",
       "      <td>3000</td>\n",
       "      <td>[19966, 20173, 20090, 20111, 20159, 20105, 20121]</td>\n",
       "      <td>1.010368</td>\n",
       "    </tr>\n",
       "    <tr>\n",
       "      <th>6</th>\n",
       "      <td>3500</td>\n",
       "      <td>[26638, 26910, 26766, 26821, 26777, 26767, 26799]</td>\n",
       "      <td>1.010211</td>\n",
       "    </tr>\n",
       "    <tr>\n",
       "      <th>7</th>\n",
       "      <td>4000</td>\n",
       "      <td>[34246, 34386, 34300, 34415, 34358, 34324, 34356]</td>\n",
       "      <td>1.004935</td>\n",
       "    </tr>\n",
       "  </tbody>\n",
       "</table>\n",
       "</div>"
      ],
      "text/plain": [
       "      N                                       Distribution   Max/Min\n",
       "0   500                [735, 745, 750, 739, 734, 748, 750]  1.021798\n",
       "1  1000         [2631, 2631, 2654, 2640, 2621, 2658, 2655]  1.014117\n",
       "2  1500         [5529, 5558, 5591, 5580, 5578, 5575, 5558]  1.011214\n",
       "3  2000         [9408, 9487, 9508, 9474, 9485, 9483, 9467]  1.010629\n",
       "4  2500  [14245, 14407, 14338, 14293, 14308, 14349, 14337]  1.011372\n",
       "5  3000  [19966, 20173, 20090, 20111, 20159, 20105, 20121]  1.010368\n",
       "6  3500  [26638, 26910, 26766, 26821, 26777, 26767, 26799]  1.010211\n",
       "7  4000  [34246, 34386, 34300, 34415, 34358, 34324, 34356]  1.004935"
      ]
     },
     "execution_count": 94,
     "metadata": {},
     "output_type": "execute_result"
    }
   ],
   "source": [
    "df"
   ]
  },
  {
   "cell_type": "code",
   "execution_count": 48,
   "metadata": {},
   "outputs": [
    {
     "ename": "AttributeError",
     "evalue": "module 'pandas' has no attribute 'guide'",
     "output_type": "error",
     "traceback": [
      "\u001b[1;31m---------------------------------------------------------------------------\u001b[0m",
      "\u001b[1;31mAttributeError\u001b[0m                            Traceback (most recent call last)",
      "\u001b[1;32m<ipython-input-48-363b746d2a34>\u001b[0m in \u001b[0;36m<module>\u001b[1;34m\u001b[0m\n\u001b[1;32m----> 1\u001b[1;33m \u001b[0mpd\u001b[0m\u001b[1;33m.\u001b[0m\u001b[0mguide\u001b[0m\u001b[1;33m\u001b[0m\u001b[1;33m\u001b[0m\u001b[0m\n\u001b[0m",
      "\u001b[1;32m~\\anaconda3\\lib\\site-packages\\pandas\\__init__.py\u001b[0m in \u001b[0;36m__getattr__\u001b[1;34m(name)\u001b[0m\n\u001b[0;32m    256\u001b[0m             \u001b[1;32mreturn\u001b[0m \u001b[0m_SparseArray\u001b[0m\u001b[1;33m\u001b[0m\u001b[1;33m\u001b[0m\u001b[0m\n\u001b[0;32m    257\u001b[0m \u001b[1;33m\u001b[0m\u001b[0m\n\u001b[1;32m--> 258\u001b[1;33m         \u001b[1;32mraise\u001b[0m \u001b[0mAttributeError\u001b[0m\u001b[1;33m(\u001b[0m\u001b[1;34mf\"module 'pandas' has no attribute '{name}'\"\u001b[0m\u001b[1;33m)\u001b[0m\u001b[1;33m\u001b[0m\u001b[1;33m\u001b[0m\u001b[0m\n\u001b[0m\u001b[0;32m    259\u001b[0m \u001b[1;33m\u001b[0m\u001b[0m\n\u001b[0;32m    260\u001b[0m \u001b[1;33m\u001b[0m\u001b[0m\n",
      "\u001b[1;31mAttributeError\u001b[0m: module 'pandas' has no attribute 'guide'"
     ]
    }
   ],
   "source": []
  },
  {
   "cell_type": "code",
   "execution_count": null,
   "metadata": {},
   "outputs": [],
   "source": []
  }
 ],
 "metadata": {
  "kernelspec": {
   "display_name": "Python 3",
   "language": "python",
   "name": "python3"
  },
  "language_info": {
   "codemirror_mode": {
    "name": "ipython",
    "version": 3
   },
   "file_extension": ".py",
   "mimetype": "text/x-python",
   "name": "python",
   "nbconvert_exporter": "python",
   "pygments_lexer": "ipython3",
   "version": "3.8.5"
  }
 },
 "nbformat": 4,
 "nbformat_minor": 4
}
