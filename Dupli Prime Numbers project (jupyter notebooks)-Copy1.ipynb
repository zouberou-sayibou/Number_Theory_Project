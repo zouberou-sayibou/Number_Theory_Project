{
 "cells": [
  {
   "cell_type": "code",
   "execution_count": 1,
   "metadata": {},
   "outputs": [],
   "source": [
    "import math\n",
    "import numpy as np\n",
    "import sys,os"
   ]
  },
  {
   "cell_type": "code",
   "execution_count": 2,
   "metadata": {},
   "outputs": [],
   "source": [
    "poly_dir = \"Polynomials_Saved_Datasets\"\n",
    "if not os.path.exists(poly_dir):\n",
    "    os.makedirs(poly_dir)"
   ]
  },
  {
   "cell_type": "code",
   "execution_count": 3,
   "metadata": {},
   "outputs": [],
   "source": [
    "def isprime(n) :\n",
    "    if (n <= 1):\n",
    "        return False\n",
    "    if (n <= 3):\n",
    "        return True\n",
    " \n",
    "    # This is checked so that we can skip\n",
    "    # middle five numbers in below loop\n",
    "    if (n % 2 == 0 or n % 3 == 0):\n",
    "        return False\n",
    " \n",
    "    i = 5\n",
    "    while(i * i <= n):\n",
    "        if (n % i) == 0 or n % (i + 2) == 0:\n",
    "            return False\n",
    "        i = i + 6\n",
    " \n",
    "    return True"
   ]
  },
  {
   "cell_type": "markdown",
   "metadata": {},
   "source": [
    "# Inverse of a Distribution for Primes of the Form a^n + D*b^n, D>0"
   ]
  },
  {
   "cell_type": "code",
   "execution_count": 4,
   "metadata": {},
   "outputs": [],
   "source": [
    "def inverse_distribution_primes_a_b_nth(D, n):\n",
    "    delta_x=0.0001\n",
    "    integral = 0\n",
    "    i_lst = []\n",
    "    counter = 0\n",
    "    limit = 0.1\n",
    "    i_ = 0\n",
    "    while counter <10:\n",
    "        for j in range(i_+1,10000):\n",
    "            integral += delta_x*(1/ (1+D * (j*delta_x)**n)**(2/n)) #(nrt(1 + D * (j*delta_x) **n,n/2)))\n",
    "            #print (integral, \"\\t\", limit , i_lst)\n",
    "            if integral>limit:\n",
    "                i_ = j\n",
    "                i_lst.append(j)\n",
    "                break\n",
    "        limit = limit + 0.1\n",
    "        counter+=1\n",
    "    return i_lst"
   ]
  },
  {
   "cell_type": "code",
   "execution_count": 5,
   "metadata": {},
   "outputs": [],
   "source": [
    "t = inverse_distribution_primes_a_b_nth(11,4)"
   ]
  },
  {
   "cell_type": "code",
   "execution_count": 6,
   "metadata": {},
   "outputs": [
    {
     "data": {
      "text/plain": [
       "[1001, 2004, 3027, 4116, 5365, 6972, 9374]"
      ]
     },
     "execution_count": 6,
     "metadata": {},
     "output_type": "execute_result"
    }
   ],
   "source": [
    "t"
   ]
  },
  {
   "cell_type": "markdown",
   "metadata": {},
   "source": [
    "# Distribution of prime numbers of the form a^n + D*b^n,D>0"
   ]
  },
  {
   "cell_type": "code",
   "execution_count": 7,
   "metadata": {
    "scrolled": true
   },
   "outputs": [
    {
     "data": {
      "text/plain": [
       "array([[0, 0, 0]])"
      ]
     },
     "execution_count": 7,
     "metadata": {},
     "output_type": "execute_result"
    }
   ],
   "source": [
    "x  =  np.zeros((1,3), dtype=np.int32)\n",
    "x"
   ]
  },
  {
   "cell_type": "code",
   "execution_count": 8,
   "metadata": {},
   "outputs": [],
   "source": [
    "def list_creator(n):\n",
    "    List = []\n",
    "    for i in range(n):\n",
    "        List.append(0)\n",
    "    return List"
   ]
  },
  {
   "cell_type": "code",
   "execution_count": 47,
   "metadata": {},
   "outputs": [],
   "source": [
    "def distribution_primes_a_b(N, D, n, List):\n",
    "    LIST = np.array(List)\n",
    "    ln_list = len(List)\n",
    "    counter_list = np.zeros((1,ln_list), dtype=np.int32)\n",
    "    for a in range(1,N):\n",
    "        for b in range(1,a):\n",
    "            q = a**n + D*b**n\n",
    "            M = (N**n)/(D+1)\n",
    "            if q<M and isprime(q):\n",
    "                for i in range(ln_list):\n",
    "                    if i==0 and b/a <= LIST[0]/10000:\n",
    "                        counter_list[0][0]+=1 \n",
    "                    elif i!=0 and b/a <= LIST[i]/10000 and b/a > LIST[i-1]/10000:\n",
    "                        counter_list[0][i]+=1 \n",
    "    return counter_list\n",
    "    "
   ]
  },
  {
   "cell_type": "code",
   "execution_count": 10,
   "metadata": {},
   "outputs": [
    {
     "name": "stdout",
     "output_type": "stream",
     "text": [
      "27.9 s ± 0 ns per loop (mean ± std. dev. of 1 run, 1 loop each)\n"
     ]
    }
   ],
   "source": [
    "%%timeit -n1 -r1\n",
    "zou = distribution_primes_a_b(1000, 11, 4, t)\n",
    "zou"
   ]
  },
  {
   "cell_type": "markdown",
   "metadata": {},
   "source": [
    "# Distribution of prime numbers of the form a^n + D*b^n, D>0 in Modulo 2"
   ]
  },
  {
   "cell_type": "code",
   "execution_count": 48,
   "metadata": {},
   "outputs": [],
   "source": [
    "def distribution_primes_a_b_mod2(N, D, n, List):\n",
    "    LIST = np.array(List)\n",
    "    len_List = len(List)\n",
    "    odd_odd = np.zeros((1,len_List), dtype=np.int32)#an empty when a is odd and b is odd4\n",
    "    odd_even = np.zeros((1,len_List), dtype=np.int32)#an empty when a is odd and b is even\n",
    "    even_odd = np.zeros((1,len_List), dtype=np.int32)#an empty when a is even and b is odd\n",
    "    for a in range(1,N):\n",
    "        for b in range(1,a):\n",
    "            if a%2 == 1 and b%2 == 1:\n",
    "                q = a**n + D*b**n\n",
    "                M = (N**n)/(D+1)\n",
    "                if q<M and isprime(q):\n",
    "                    for i in range(len_List):\n",
    "                        if i==0 and b/a <= LIST[0]/10000:\n",
    "                            odd_odd[0][0]+=1 \n",
    "                        elif i!=0 and b/a <= LIST[i]/10000 and b/a > LIST[i-1]/10000:\n",
    "                            odd_odd[0][i]+=1 \n",
    "            elif a%2 == 1 and b%2 == 0:\n",
    "                q = a**n + D*b**n\n",
    "                M = (N**n)/(D+1)\n",
    "                if q<M and isprime(q):\n",
    "                    for i in range(len_List):\n",
    "                        if i==0 and b/a <= LIST[0]/10000:\n",
    "                            odd_even[0][0]+=1 \n",
    "                        elif i!=0 and b/a <= LIST[i]/10000 and b/a > LIST[i-1]/10000:\n",
    "                            odd_even[0][i]+=1\n",
    "            elif D%2 == 1 and a%2 == 0 and b%2 == 1:\n",
    "                q = a**n + D*b**n\n",
    "                M = (N**n)/(D+1)\n",
    "                if q<M and isprime(q):\n",
    "                    for i in range(len_List):\n",
    "                        if i==0 and b/a <= LIST[0]/10000:\n",
    "                            even_odd[0][0]+=1 \n",
    "                        elif i!=0 and b/a <= LIST[i]/10000 and b/a > LIST[i-1]/10000:\n",
    "                            even_odd[0][i]+=1 \n",
    "    if D%2 == 1:\n",
    "        return np.add(even_odd,odd_even)\n",
    "    else:\n",
    "        return np.add(odd_odd,odd_even)"
   ]
  },
  {
   "cell_type": "code",
   "execution_count": 12,
   "metadata": {},
   "outputs": [],
   "source": [
    "#def deviation(dist_list):\n",
    "   # return max(dist_list)/min(dist_list)"
   ]
  },
  {
   "cell_type": "code",
   "execution_count": 13,
   "metadata": {},
   "outputs": [],
   "source": [
    "def testing_d_pos(rangeN, incre, D, n):\n",
    "    print(f\"Primes of the form a^{n} + {D}b^{n}\")\n",
    "    print()\n",
    "    print(\"Calculating the inverse distribution..\")\n",
    "    inverse_list = inverse_distribution_primes_a_b_nth(D, n)\n",
    "    \n",
    "    print (\"Calculating the distribution of primes....\")\n",
    "    test_arr = np.zeros((rangeN//incre, len(inverse_list)),  dtype=np.int32)\n",
    "    test_arrMod2 = np.zeros((rangeN//incre, len(inverse_list)),  dtype=np.int32)\n",
    "    i = 0\n",
    "    for N in range(incre,rangeN+incre, incre):\n",
    "        print(\"N = \", N)\n",
    "        test_arr[i] = distribution_primes_a_b(N, D, n, inverse_list)\n",
    "        #print (f\"N = {N}  \", str(distribution_primes_a_b(N, D, n, inverse_list)), deviation(distribution_primes_a_b(N, D, n, inverse_list)))\n",
    "        i+=1\n",
    "    \n",
    "    print (\"Calculating the distribution of primes in mod2....\")\n",
    "    columns = len(distribution_primes_a_b_mod2(100, D, n, inverse_list)[0])\n",
    "    test_arrMod2 = np.zeros((rangeN//incre, columns),  dtype=np.int32)\n",
    "    j = 0\n",
    "    for Nn in range(incre,rangeN+incre, incre):\n",
    "        print(\"N for mod2 = \", Nn)\n",
    "        test_arrMod2[j] = distribution_primes_a_b_mod2(Nn, D, n, inverse_list)\n",
    "        #print (f\"N = {N}  \", str(distribution_primes_a_b(N, D, n, inverse_list)), deviation(distribution_primes_a_b(N, D, n, inverse_list)))\n",
    "        j+=1\n",
    "        \n",
    "    print(\"Saving my arrays in npz file.....\")\n",
    "    np.savez(\"Polynomials_Saved_Datasets/\"+str(D)+ \"_power_\"+ str(n) +\"_\"+ str(incre)+\"_to_\"+str(rangeN), inverse = np.array(inverse_list) ,distri = test_arr, distriMod2 = test_arrMod2)\n",
    "    print(\"Done\")"
   ]
  },
  {
   "cell_type": "markdown",
   "metadata": {},
   "source": [
    "# Inverse of a Distribution for Primes of the Form a^n + D*b^n, D<0"
   ]
  },
  {
   "cell_type": "code",
   "execution_count": 14,
   "metadata": {},
   "outputs": [],
   "source": [
    "def neg_inverse_distribution_primes_a_b_nth(D, n):\n",
    "    delta_x=0.0001\n",
    "    integral = 0\n",
    "    i_lst = []\n",
    "    counter = 0\n",
    "    limit = 0.1\n",
    "    i_ = 0\n",
    "    while counter <6:\n",
    "        for j in range(i_+1,10000):\n",
    "            integral += 4*delta_x*(1/ (1+D * (j*delta_x)**n)**(2/n)) #(nrt(1 + D * (j*delta_x) **n,n/2)))\n",
    "            #print (integral, \"\\t\", limit , i_lst)\n",
    "            if integral>limit:\n",
    "                i_ = j\n",
    "                i_lst.append(j)\n",
    "                break\n",
    "        limit = limit + 0.1\n",
    "        counter+=1\n",
    "    return i_lst"
   ]
  },
  {
   "cell_type": "markdown",
   "metadata": {},
   "source": [
    "# Distribution of prime numbers of the form a^n + D*b^n, D<0"
   ]
  },
  {
   "cell_type": "code",
   "execution_count": null,
   "metadata": {},
   "outputs": [],
   "source": []
  },
  {
   "cell_type": "code",
   "execution_count": 69,
   "metadata": {},
   "outputs": [],
   "source": [
    "def neg_distribution_primes_a_b(N, D, n, List):\n",
    "    LIST = np.array(List)\n",
    "    len_List = len(List)\n",
    "    counter_list = np.zeros((len_List), dtype=np.int32)\n",
    "    for a in range(1,N):\n",
    "        l = math.floor(a/((-D)**(1/n)))\n",
    "        for b in range(1,l):\n",
    "            q = a**n + D*b**n\n",
    "            M = (N**n) - ((N**n)/(2**n*(-D)))\n",
    "            if q<M and isprime(q):\n",
    "                for i in range(len_List):\n",
    "                    if i==0 and b/a <= LIST[0]/10000:\n",
    "                        counter_list[0]+=1 \n",
    "                    elif i!=0 and b/a <= LIST[i]/10000 and b/a > LIST[i-1]/10000:\n",
    "                        counter_list[i]+=1 \n",
    "    return counter_list"
   ]
  },
  {
   "cell_type": "markdown",
   "metadata": {},
   "source": [
    "# Distribution of prime numbers of the form a^n + D*b^n, D<0 Modulo 2"
   ]
  },
  {
   "cell_type": "code",
   "execution_count": 70,
   "metadata": {},
   "outputs": [
    {
     "data": {
      "text/plain": [
       "(6,)"
      ]
     },
     "execution_count": 70,
     "metadata": {},
     "output_type": "execute_result"
    }
   ],
   "source": [
    "odd_odd = np.zeros((6), dtype=np.int32)#an empty when a is odd and b is odd4\n",
    "odd_odd.shape"
   ]
  },
  {
   "cell_type": "code",
   "execution_count": 71,
   "metadata": {},
   "outputs": [],
   "source": [
    "def neg_distribution_primes_a_b_mod2(N, D, n, List):\n",
    "    LIST = np.array(List)\n",
    "    len_List = len(List)\n",
    "    odd_odd = np.zeros((len_List), dtype=np.int32)#an empty when a is odd and b is odd4\n",
    "    odd_even = np.zeros((len_List), dtype=np.int32)#an empty when a is odd and b is even\n",
    "    even_odd = np.zeros((len_List), dtype=np.int32)#an empty when a is even and b is odd\n",
    "    even_odd = np.zeros((len_List), dtype=np.int32)#an empty when a is even and b is odd\n",
    "    for a in range(1,N):\n",
    "        l = math.floor(a/((-D)**(1/n)))\n",
    "        for b in range(1,l):\n",
    "            if a%2 == 1 and b%2 == 1:\n",
    "                q = a**n + D*b**n\n",
    "                M = (N**n) - ((N**n)/(2**n*(-D)))\n",
    "                if q<M and isprime(q):\n",
    "                    for i in range(len_List):\n",
    "                        if i==0 and b/a <= LIST[0]/10000:\n",
    "                            odd_odd[0]+=1 \n",
    "                        elif i!=0 and b/a <= LIST[i]/10000 and b/a > LIST[i-1]/10000:\n",
    "                            odd_odd[i]+=1 \n",
    "            elif a%2 == 1 and b%2 == 0:\n",
    "                q = a**n + D*b**n\n",
    "                M = (N**n) - ((N**n)/(2**n*(-D)))\n",
    "                if q<M and isprime(q):\n",
    "                    for i in range(len_List):\n",
    "                        if i==0 and b/a <= LIST[0]/10000:\n",
    "                            odd_even[0]+=1 \n",
    "                        elif i!=0 and b/a <= LIST[i]/10000 and b/a > LIST[i-1]/10000:\n",
    "                            odd_even[i]+=1\n",
    "            elif D%2 == 1 and a%2 == 0 and b%2 == 1:\n",
    "                q = a**n + D*b**n\n",
    "                M = (N**n) - ((N**n)/(2**n*(-D)))\n",
    "                if q<M and isprime(q):\n",
    "                    for i in range(len_List):\n",
    "                        if i==0 and b/a <= LIST[0]/10000:\n",
    "                            even_odd[0]+=1 \n",
    "                        elif i!=0 and b/a <= LIST[i]/10000 and b/a > LIST[i-1]/10000:\n",
    "                            even_odd[i]+=1 \n",
    "    if D%2 == 1:\n",
    "        return even_odd + odd_even\n",
    "    else:\n",
    "        return odd_odd + odd_even"
   ]
  },
  {
   "cell_type": "code",
   "execution_count": 78,
   "metadata": {},
   "outputs": [],
   "source": [
    "def testing_d_neg(rangeN, incre, D, n):\n",
    "    print(f\"Primes of the form a^{n} + {D}b^{n}\")\n",
    "    print()\n",
    "    print(\"Calculating the negative inverse distribution..\")\n",
    "    neg_inverse_list = neg_inverse_distribution_primes_a_b_nth(D, n)\n",
    "    \n",
    "    print (\"Calculating the distribution of primes D<0....\")\n",
    "    test_arr = np.zeros((rangeN//incre, len(neg_inverse_list)),  dtype=np.int32)\n",
    "    i = 0\n",
    "    \n",
    "    for N in range(incre,rangeN+incre, incre):\n",
    "        print(\"N = \", N)\n",
    "        test_arr[i] = neg_distribution_primes_a_b(N, D, n, neg_inverse_list)\n",
    "        #print (f\"N = {N}  \", str(distribution_primes_a_b(N, D, n, inverse_list)), deviation(distribution_primes_a_b(N, D, n, inverse_list)))\n",
    "        i+=1\n",
    "    \n",
    "    print (\"Calculating the distribution of primes in mod2 D<0....\")\n",
    "    columns = len(neg_distribution_primes_a_b_mod2(100, D, n, neg_inverse_list))\n",
    "    test_arrMod2 = np.zeros((rangeN//incre, columns),  dtype=np.int32)\n",
    "    j = 0\n",
    "    for Nn in range(incre,rangeN+incre, incre):\n",
    "        print(\"N for mod2 = \", Nn)\n",
    "        test_arrMod2[j] = neg_distribution_primes_a_b_mod2(Nn, D, n, neg_inverse_list)\n",
    "        #print (f\"N = {N}  \", str(distribution_primes_a_b(N, D, n, inverse_list)), deviation(distribution_primes_a_b(N, D, n, inverse_list)))\n",
    "        j+=1\n",
    "    print(\"Saving my arrays in npz file.....\")\n",
    "    np.savez(\"Polynomials_Saved_Datasets/\"+\"neg_\"+str(abs(D))+ \"_power_\"+ str(n) +\"_\"+ str(incre)+\"_to_\"+str(rangeN), inverse = np.array(neg_inverse_list) ,distri = test_arr, distriMod2 = test_arrMod2)\n",
    "    print(\"Done\")"
   ]
  },
  {
   "cell_type": "code",
   "execution_count": 79,
   "metadata": {},
   "outputs": [
    {
     "data": {
      "text/plain": [
       "[250, 500, 749, 997, 1244, 1489]"
      ]
     },
     "execution_count": 79,
     "metadata": {},
     "output_type": "execute_result"
    }
   ],
   "source": [
    "neg_inverse_list = neg_inverse_distribution_primes_a_b_nth(-1, 2)\n",
    "neg_inverse_list"
   ]
  },
  {
   "cell_type": "code",
   "execution_count": 75,
   "metadata": {},
   "outputs": [],
   "source": [
    "columns = len(neg_distribution_primes_a_b_mod2(100, -1, 2, neg_inverse_list))"
   ]
  },
  {
   "cell_type": "code",
   "execution_count": 60,
   "metadata": {},
   "outputs": [
    {
     "data": {
      "text/plain": [
       "6"
      ]
     },
     "execution_count": 60,
     "metadata": {},
     "output_type": "execute_result"
    }
   ],
   "source": [
    "columns"
   ]
  },
  {
   "cell_type": "markdown",
   "metadata": {},
   "source": [
    "# Testing: Inverse Distruntion for primes a^2 + b^2"
   ]
  },
  {
   "cell_type": "code",
   "execution_count": 18,
   "metadata": {
    "scrolled": true
   },
   "outputs": [
    {
     "name": "stdout",
     "output_type": "stream",
     "text": [
      "Primes of the form a^2 + 1b^2\n",
      "\n",
      "Calculating the inverse distribution..\n",
      "Calculating the distribution of primes....\n",
      "N =  500\n",
      "N =  1000\n",
      "N =  1500\n",
      "N =  2000\n",
      "N =  2500\n",
      "N =  3000\n",
      "N =  3500\n",
      "N =  4000\n",
      "Calculating the distribution of primes in mod2....\n",
      "N for mod2 =  500\n",
      "N for mod2 =  1000\n",
      "N for mod2 =  1500\n",
      "N for mod2 =  2000\n",
      "N for mod2 =  2500\n",
      "N for mod2 =  3000\n",
      "N for mod2 =  3500\n",
      "N for mod2 =  4000\n",
      "Saving my arrays in npz file.....\n",
      "Done\n"
     ]
    }
   ],
   "source": [
    "testing_d_pos(4000, 500, 1, 2)"
   ]
  },
  {
   "cell_type": "code",
   "execution_count": 37,
   "metadata": {},
   "outputs": [],
   "source": [
    "y  = distribution_primes_a_b(100, 1, 2, inverse_list)"
   ]
  },
  {
   "cell_type": "code",
   "execution_count": 39,
   "metadata": {},
   "outputs": [
    {
     "data": {
      "text/plain": [
       "array([[36, 40, 42, 43, 47, 41, 43]])"
      ]
     },
     "execution_count": 39,
     "metadata": {},
     "output_type": "execute_result"
    }
   ],
   "source": [
    "y"
   ]
  },
  {
   "cell_type": "code",
   "execution_count": 26,
   "metadata": {},
   "outputs": [],
   "source": [
    "inverse_list = inverse_distribution_primes_a_b_nth(1, 2)"
   ]
  },
  {
   "cell_type": "code",
   "execution_count": 23,
   "metadata": {},
   "outputs": [
    {
     "data": {
      "text/plain": [
       "7"
      ]
     },
     "execution_count": 23,
     "metadata": {},
     "output_type": "execute_result"
    }
   ],
   "source": [
    "len(inverse_list)"
   ]
  },
  {
   "cell_type": "code",
   "execution_count": 28,
   "metadata": {},
   "outputs": [],
   "source": [
    "test_arr = np.zeros((4000//500, len(inverse_list)))"
   ]
  },
  {
   "cell_type": "code",
   "execution_count": 29,
   "metadata": {},
   "outputs": [
    {
     "data": {
      "text/plain": [
       "array([[0., 0., 0., 0., 0., 0., 0.],\n",
       "       [0., 0., 0., 0., 0., 0., 0.],\n",
       "       [0., 0., 0., 0., 0., 0., 0.],\n",
       "       [0., 0., 0., 0., 0., 0., 0.],\n",
       "       [0., 0., 0., 0., 0., 0., 0.],\n",
       "       [0., 0., 0., 0., 0., 0., 0.],\n",
       "       [0., 0., 0., 0., 0., 0., 0.],\n",
       "       [0., 0., 0., 0., 0., 0., 0.]])"
      ]
     },
     "execution_count": 29,
     "metadata": {},
     "output_type": "execute_result"
    }
   ],
   "source": [
    "test_arr"
   ]
  },
  {
   "cell_type": "code",
   "execution_count": 46,
   "metadata": {},
   "outputs": [],
   "source": [
    "q  = distribution_primes_a_b_mod2(100, 1, 2, inverse_list)"
   ]
  },
  {
   "cell_type": "code",
   "execution_count": 50,
   "metadata": {},
   "outputs": [
    {
     "data": {
      "text/plain": [
       "array([36, 40, 42, 43, 47, 41, 43])"
      ]
     },
     "execution_count": 50,
     "metadata": {},
     "output_type": "execute_result"
    }
   ],
   "source": [
    "q[0]"
   ]
  },
  {
   "cell_type": "code",
   "execution_count": 51,
   "metadata": {},
   "outputs": [],
   "source": [
    "columns = len(distribution_primes_a_b_mod2(100, 1, 2, inverse_list)[0])"
   ]
  },
  {
   "cell_type": "code",
   "execution_count": 52,
   "metadata": {},
   "outputs": [
    {
     "data": {
      "text/plain": [
       "7"
      ]
     },
     "execution_count": 52,
     "metadata": {},
     "output_type": "execute_result"
    }
   ],
   "source": [
    "columns"
   ]
  },
  {
   "cell_type": "code",
   "execution_count": 34,
   "metadata": {},
   "outputs": [],
   "source": [
    "x  = distribution_primes_a_b_mod2(100, 1, 2, inverse_list)"
   ]
  },
  {
   "cell_type": "code",
   "execution_count": 35,
   "metadata": {},
   "outputs": [
    {
     "data": {
      "text/plain": [
       "(1, 7)"
      ]
     },
     "execution_count": 35,
     "metadata": {},
     "output_type": "execute_result"
    }
   ],
   "source": [
    "x.shape"
   ]
  },
  {
   "cell_type": "code",
   "execution_count": null,
   "metadata": {},
   "outputs": [],
   "source": [
    "test_arrMod2 = np.zeros((rangeN//incre, columns),  dtype=np.int32)"
   ]
  },
  {
   "cell_type": "markdown",
   "metadata": {},
   "source": [
    "## Testing: Inverse Distruntion for primes a^2 + 2b^2"
   ]
  },
  {
   "cell_type": "code",
   "execution_count": 16,
   "metadata": {},
   "outputs": [
    {
     "name": "stdout",
     "output_type": "stream",
     "text": [
      "Primes of the form a^2 + 2b^2\n",
      "\n",
      "Calculating the inverse distribution..\n",
      "Calculating the distribution of primes....\n",
      "Calculating the distribution of primes in mod2....\n",
      "Saving my arrays in npz file.....\n",
      "Done\n"
     ]
    }
   ],
   "source": [
    "testing_d_pos(4000, 500, 2, 2)"
   ]
  },
  {
   "cell_type": "markdown",
   "metadata": {},
   "source": [
    "# Testing: Inverse Distruntion for primes a^2 + 3b^2"
   ]
  },
  {
   "cell_type": "code",
   "execution_count": 17,
   "metadata": {},
   "outputs": [
    {
     "name": "stdout",
     "output_type": "stream",
     "text": [
      "Primes of the form a^2 + 3b^2\n",
      "\n",
      "Calculating the inverse distribution..\n",
      "Calculating the distribution of primes....\n",
      "Calculating the distribution of primes in mod2....\n",
      "Saving my arrays in npz file.....\n",
      "Done\n"
     ]
    }
   ],
   "source": [
    "testing_d_pos(4000, 500, 3, 2)"
   ]
  },
  {
   "cell_type": "markdown",
   "metadata": {},
   "source": [
    "# Testing: Inverse Distruntion for primes a^2 + 5b^2"
   ]
  },
  {
   "cell_type": "code",
   "execution_count": 18,
   "metadata": {},
   "outputs": [
    {
     "name": "stdout",
     "output_type": "stream",
     "text": [
      "Primes of the form a^2 + 5b^2\n",
      "\n",
      "Calculating the inverse distribution..\n",
      "Calculating the distribution of primes....\n",
      "Calculating the distribution of primes in mod2....\n",
      "Saving my arrays in npz file.....\n",
      "Done\n"
     ]
    }
   ],
   "source": [
    "testing_d_pos(4000, 500, 5, 2)"
   ]
  },
  {
   "cell_type": "markdown",
   "metadata": {},
   "source": [
    "# Testing: Inverse Distruntion for primes a^2 + 6b^2"
   ]
  },
  {
   "cell_type": "code",
   "execution_count": 19,
   "metadata": {},
   "outputs": [
    {
     "name": "stdout",
     "output_type": "stream",
     "text": [
      "Primes of the form a^2 + 6b^2\n",
      "\n",
      "Calculating the inverse distribution..\n",
      "Calculating the distribution of primes....\n",
      "Calculating the distribution of primes in mod2....\n",
      "Saving my arrays in npz file.....\n",
      "Done\n"
     ]
    }
   ],
   "source": [
    "testing_d_pos(4000, 500, 6, 2)"
   ]
  },
  {
   "cell_type": "code",
   "execution_count": null,
   "metadata": {},
   "outputs": [],
   "source": []
  },
  {
   "cell_type": "markdown",
   "metadata": {},
   "source": [
    "# Testing: Inverse Distribution for primes a^2 - 3b^2"
   ]
  },
  {
   "cell_type": "code",
   "execution_count": 28,
   "metadata": {},
   "outputs": [
    {
     "name": "stdout",
     "output_type": "stream",
     "text": [
      "Primes of the form a^2 + -3b^2\n",
      "\n",
      "Calculating the negative inverse distribution..\n",
      "Calculating the distribution of primes D<0....\n",
      "Calculating the distribution of primes in mod2 D<0....\n",
      "Saving my arrays in npz file.....\n",
      "Done\n"
     ]
    }
   ],
   "source": [
    "testing_d_neg(4000, 500, -3, 2)"
   ]
  },
  {
   "cell_type": "markdown",
   "metadata": {},
   "source": [
    "# Testing: Inverse Distruntion for primes a^2-2b^2"
   ]
  },
  {
   "cell_type": "code",
   "execution_count": 37,
   "metadata": {},
   "outputs": [
    {
     "name": "stdout",
     "output_type": "stream",
     "text": [
      "Primes of the form a^2 + -2b^2\n",
      "\n",
      "Calculating the negative inverse distribution..\n",
      "Calculating the distribution of primes D<0....\n",
      "Calculating the distribution of primes in mod2 D<0....\n",
      "Saving my arrays in npz file.....\n",
      "Done\n"
     ]
    }
   ],
   "source": [
    "testing_d_neg(4000, 500, -2, 2)"
   ]
  },
  {
   "cell_type": "markdown",
   "metadata": {},
   "source": [
    "# Testing: Inverse Distruntion for primes a^2-5b^2"
   ]
  },
  {
   "cell_type": "code",
   "execution_count": 38,
   "metadata": {},
   "outputs": [
    {
     "name": "stdout",
     "output_type": "stream",
     "text": [
      "Primes of the form a^2 + -5b^2\n",
      "\n",
      "Calculating the negative inverse distribution..\n",
      "Calculating the distribution of primes D<0....\n",
      "Calculating the distribution of primes in mod2 D<0....\n",
      "Saving my arrays in npz file.....\n",
      "Done\n"
     ]
    }
   ],
   "source": [
    "testing_d_neg(4000, 500, -5, 2)"
   ]
  },
  {
   "cell_type": "markdown",
   "metadata": {},
   "source": [
    "# Testing: Inverse Distruntion for primes a^3-2b^3"
   ]
  },
  {
   "cell_type": "code",
   "execution_count": 80,
   "metadata": {},
   "outputs": [
    {
     "name": "stdout",
     "output_type": "stream",
     "text": [
      "Primes of the form a^3 + -2b^3\n",
      "\n",
      "Calculating the negative inverse distribution..\n",
      "Calculating the distribution of primes D<0....\n",
      "N =  500\n",
      "N =  1000\n",
      "N =  1500\n",
      "N =  2000\n",
      "N =  2500\n",
      "N =  3000\n",
      "N =  3500\n",
      "N =  4000\n",
      "Calculating the distribution of primes in mod2 D<0....\n",
      "N for mod2 =  500\n",
      "N for mod2 =  1000\n",
      "N for mod2 =  1500\n",
      "N for mod2 =  2000\n",
      "N for mod2 =  2500\n",
      "N for mod2 =  3000\n",
      "N for mod2 =  3500\n",
      "N for mod2 =  4000\n",
      "Saving my arrays in npz file.....\n",
      "Done\n"
     ]
    }
   ],
   "source": [
    "testing_d_neg(4000, 500, -2, 3)"
   ]
  },
  {
   "cell_type": "markdown",
   "metadata": {},
   "source": [
    "# Testing: Inverse Distruntion for primes a^3-5b^3"
   ]
  },
  {
   "cell_type": "code",
   "execution_count": 81,
   "metadata": {},
   "outputs": [
    {
     "name": "stdout",
     "output_type": "stream",
     "text": [
      "Primes of the form a^3 + -5b^3\n",
      "\n",
      "Calculating the negative inverse distribution..\n",
      "Calculating the distribution of primes D<0....\n",
      "N =  500\n",
      "N =  1000\n",
      "N =  1500\n",
      "N =  2000\n",
      "N =  2500\n",
      "N =  3000\n",
      "N =  3500\n",
      "N =  4000\n",
      "Calculating the distribution of primes in mod2 D<0....\n",
      "N for mod2 =  500\n",
      "N for mod2 =  1000\n",
      "N for mod2 =  1500\n",
      "N for mod2 =  2000\n",
      "N for mod2 =  2500\n",
      "N for mod2 =  3000\n",
      "N for mod2 =  3500\n",
      "N for mod2 =  4000\n",
      "Saving my arrays in npz file.....\n",
      "Done\n"
     ]
    }
   ],
   "source": [
    "testing_d_neg(4000, 500, -5, 3)"
   ]
  },
  {
   "cell_type": "markdown",
   "metadata": {},
   "source": [
    "# Testing: Inverse Distruntion for primes a^3-6b^3"
   ]
  },
  {
   "cell_type": "code",
   "execution_count": 83,
   "metadata": {},
   "outputs": [
    {
     "name": "stdout",
     "output_type": "stream",
     "text": [
      "Primes of the form a^3 + -6b^3\n",
      "\n",
      "Calculating the negative inverse distribution..\n",
      "Calculating the distribution of primes D<0....\n",
      "N =  500\n",
      "N =  1000\n",
      "N =  1500\n",
      "N =  2000\n",
      "N =  2500\n",
      "N =  3000\n",
      "N =  3500\n",
      "N =  4000\n",
      "Calculating the distribution of primes in mod2 D<0....\n",
      "N for mod2 =  500\n",
      "N for mod2 =  1000\n",
      "N for mod2 =  1500\n",
      "N for mod2 =  2000\n",
      "N for mod2 =  2500\n",
      "N for mod2 =  3000\n",
      "N for mod2 =  3500\n",
      "N for mod2 =  4000\n",
      "Saving my arrays in npz file.....\n",
      "Done\n"
     ]
    }
   ],
   "source": [
    "testing_d_neg(4000, 500, -6, 3)"
   ]
  },
  {
   "cell_type": "markdown",
   "metadata": {},
   "source": [
    "# Testing: Inverse Distruntion for primes a^4-2b^4"
   ]
  },
  {
   "cell_type": "code",
   "execution_count": null,
   "metadata": {},
   "outputs": [
    {
     "name": "stdout",
     "output_type": "stream",
     "text": [
      "Primes of the form a^4 + -2b^4\n",
      "\n",
      "Calculating the negative inverse distribution..\n",
      "Calculating the distribution of primes D<0....\n",
      "N =  500\n",
      "N =  1000\n",
      "N =  1500\n",
      "N =  2000\n",
      "N =  2500\n"
     ]
    }
   ],
   "source": [
    "testing_d_neg(4000, 500, -2, 4)"
   ]
  },
  {
   "cell_type": "code",
   "execution_count": null,
   "metadata": {},
   "outputs": [],
   "source": []
  },
  {
   "cell_type": "markdown",
   "metadata": {},
   "source": [
    "# Testing: Inverse Distruntion for primes a^4-3b^4"
   ]
  },
  {
   "cell_type": "code",
   "execution_count": null,
   "metadata": {},
   "outputs": [],
   "source": [
    "testing_d_neg(2000, 500, -3, 4)"
   ]
  },
  {
   "cell_type": "markdown",
   "metadata": {},
   "source": [
    "# Testing: Inverse Distruntion for primes a^4-5b^4"
   ]
  },
  {
   "cell_type": "code",
   "execution_count": null,
   "metadata": {},
   "outputs": [],
   "source": [
    "testing_d_neg(2000, 500, -5, 4)"
   ]
  },
  {
   "cell_type": "markdown",
   "metadata": {},
   "source": [
    "# Testing: Inverse Distruntion for primes a^4-6b^4"
   ]
  },
  {
   "cell_type": "code",
   "execution_count": null,
   "metadata": {},
   "outputs": [],
   "source": [
    "testing_d_neg(2000, 500, -6, 4)"
   ]
  },
  {
   "cell_type": "markdown",
   "metadata": {},
   "source": [
    "# Testing: Inverse Distruntion for primes a^4-11b^4"
   ]
  },
  {
   "cell_type": "code",
   "execution_count": null,
   "metadata": {},
   "outputs": [
    {
     "name": "stdout",
     "output_type": "stream",
     "text": [
      "Primes of the form a^4 + -11b^4\n",
      "\n",
      "Calculating the negative inverse distribution..\n",
      "Calculating the distribution of primes D<0....\n",
      "Calculating the distribution of primes in mod2 D<0....\n"
     ]
    }
   ],
   "source": [
    "testing_d_neg(2000, 500, -11, 4)"
   ]
  },
  {
   "cell_type": "markdown",
   "metadata": {},
   "source": [
    "# Testing: Inverse Distruntion for primes a^4 + 11b^4"
   ]
  },
  {
   "cell_type": "code",
   "execution_count": 21,
   "metadata": {},
   "outputs": [
    {
     "name": "stdout",
     "output_type": "stream",
     "text": [
      "Primes of the form a^4 + 11b^4\n",
      "\n",
      "Calculating the inverse distribution..\n",
      "Calculating the distribution of primes....\n",
      "N =  500\n",
      "N =  1000\n",
      "N =  1500\n",
      "N =  2000\n",
      "N =  2500\n",
      "N =  3000\n",
      "N =  3500\n",
      "N =  4000\n",
      "Calculating the distribution of primes in mod2....\n",
      "N for mod2 =  500\n",
      "N for mod2 =  1000\n",
      "N for mod2 =  1500\n",
      "N for mod2 =  2000\n",
      "N for mod2 =  2500\n",
      "N for mod2 =  3000\n",
      "N for mod2 =  3500\n",
      "N for mod2 =  4000\n",
      "Saving my arrays in npz file.....\n",
      "Done\n",
      "4h 57min 2s ± 0 ns per loop (mean ± std. dev. of 1 run, 1 loop each)\n"
     ]
    }
   ],
   "source": [
    "%%timeit -n1 -r1\n",
    "testing_d_pos(4000,500,11,4)"
   ]
  },
  {
   "cell_type": "code",
   "execution_count": null,
   "metadata": {},
   "outputs": [],
   "source": [
    "#testing_d_pos_mod2(4000,500,11,4)"
   ]
  },
  {
   "cell_type": "markdown",
   "metadata": {},
   "source": [
    "# Testing: Inverse Distruntion for primes a^4 + b^4"
   ]
  },
  {
   "cell_type": "code",
   "execution_count": null,
   "metadata": {},
   "outputs": [
    {
     "name": "stdout",
     "output_type": "stream",
     "text": [
      "Primes of the form a^4 + 1b^4\n",
      "\n",
      "Calculating the inverse distribution..\n",
      "Calculating the distribution of primes....\n",
      "N =  500\n",
      "N =  1000\n",
      "N =  1500\n",
      "N =  2000\n"
     ]
    }
   ],
   "source": [
    "%%timeit -n1 -r1\n",
    "\n",
    "testing_d_pos(4000, 500, 1, 4)"
   ]
  },
  {
   "cell_type": "markdown",
   "metadata": {},
   "source": [
    "# Testing: Inverse Distruntion for primes a^4 + 2b^4"
   ]
  },
  {
   "cell_type": "code",
   "execution_count": null,
   "metadata": {},
   "outputs": [],
   "source": [
    "%%timeit -n1 -r1\n",
    "\n",
    "testing_d_pos(4000, 500, 2, 4)"
   ]
  },
  {
   "cell_type": "markdown",
   "metadata": {},
   "source": [
    "# Testing: Inverse Distruntion for primes a^4 + 3b^4"
   ]
  },
  {
   "cell_type": "markdown",
   "metadata": {},
   "source": [
    "# Testing: Inverse Distruntion for primes a^4 + 5b^4"
   ]
  },
  {
   "cell_type": "markdown",
   "metadata": {},
   "source": [
    "# Testing: Inverse Distruntion for primes a^4 + 6b^4"
   ]
  },
  {
   "cell_type": "code",
   "execution_count": null,
   "metadata": {},
   "outputs": [],
   "source": [
    "%%timeit -n1 -r1\n",
    "\n",
    "testing_d_pos(4000, 500, 6, 4)"
   ]
  },
  {
   "cell_type": "markdown",
   "metadata": {},
   "source": [
    "# Testing: Inverse Distruntion for primes a^3 + 2b^3"
   ]
  },
  {
   "cell_type": "markdown",
   "metadata": {},
   "source": [
    "# Testing: Inverse Distruntion for primes a^3 + 3b^3"
   ]
  },
  {
   "cell_type": "markdown",
   "metadata": {},
   "source": [
    "# Testing: Inverse Distruntion for primes a^3 + 5b^3"
   ]
  },
  {
   "cell_type": "markdown",
   "metadata": {},
   "source": [
    "# Testing: Inverse Distruntion for primes a^3 + 6b^3"
   ]
  },
  {
   "cell_type": "code",
   "execution_count": null,
   "metadata": {},
   "outputs": [],
   "source": []
  }
 ],
 "metadata": {
  "kernelspec": {
   "display_name": "Python 3",
   "language": "python",
   "name": "python3"
  },
  "language_info": {
   "codemirror_mode": {
    "name": "ipython",
    "version": 3
   },
   "file_extension": ".py",
   "mimetype": "text/x-python",
   "name": "python",
   "nbconvert_exporter": "python",
   "pygments_lexer": "ipython3",
   "version": "3.8.8"
  }
 },
 "nbformat": 4,
 "nbformat_minor": 4
}
