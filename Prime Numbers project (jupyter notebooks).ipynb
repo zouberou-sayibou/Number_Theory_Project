{
 "cells": [
  {
   "cell_type": "code",
   "execution_count": 1,
   "metadata": {},
   "outputs": [],
   "source": [
    "import time\n",
    "import math"
   ]
  },
  {
   "cell_type": "code",
   "execution_count": 2,
   "metadata": {},
   "outputs": [],
   "source": [
    "def round(primes):\n",
    "  zero = 0\n",
    "  one = 0\n",
    "  two = 0\n",
    "  three = 0\n",
    "  four = 0\n",
    "  five = 0\n",
    "  six = 0\n",
    "  seven = 0\n",
    "  eight = 0\n",
    "  nine = 0\n",
    "  ten = 0\n",
    "  eleven = 0\n",
    "  twelve = 0\n",
    "  thirteen = 0\n",
    "  fourteen = 0\n",
    "  fifteen = 0\n",
    "  sixteen = 0\n",
    "  seventeen = 0\n",
    "  eighteen = 0\n",
    "  nineteen =0\n",
    "  twenty = 0\n",
    "  other = 0\n",
    "  for i in primes:\n",
    "    if i < 0.1:\n",
    "      zero+=1\n",
    "    elif i > 0.1 and i<0.2:\n",
    "      one += 1\n",
    "    elif i > 0.2 and i<0.3:\n",
    "      two += 1\n",
    "    elif i > 0.3 and i<0.4:\n",
    "      three += 1\n",
    "    elif i > 0.4 and i<0.5:\n",
    "      four +=1\n",
    "    elif i > 0.5 and i<0.6:\n",
    "      five +=1\n",
    "    elif i > 0.6 and i<0.7:\n",
    "      six += 1\n",
    "    elif i > 0.7 and i<0.8:\n",
    "      seven += 1\n",
    "    elif i > 0.8 and i<0.9:\n",
    "      eight += 1\n",
    "    elif i > 0.9 and i<1:\n",
    "      nine += 1\n",
    "    elif i > 1 and i<1.1:\n",
    "      ten += 1\n",
    "    elif i > 1.1 and i<1.2:\n",
    "      eleven += 1\n",
    "    elif i > 1.2 and i<1.3:\n",
    "      twelve += 1\n",
    "    elif i > 1.3 and i<1.4:\n",
    "      thirteen += 1\n",
    "    elif i > 1.4 and i<1.5:\n",
    "      fourteen += 1\n",
    "    elif i > 1.5 and i<1.6:\n",
    "      fifteen += 1\n",
    "    elif i > 1.6 and i<1.7:\n",
    "      sixteen += 1\n",
    "    elif i > 1.7 and i<1.8:\n",
    "      seventeen += 1\n",
    "    elif i > 1.8 and i<1.9:\n",
    "      eighteen += 1\n",
    "    elif i > 1.9 and i<2.0:\n",
    "      nineteen += 1\n",
    "    elif i > 2.0 and i< 2.1:\n",
    "      twenty += 1\n",
    "    else:\n",
    "      other+=1\n",
    "  print(\"0.0: \", zero)\n",
    "  print(\"0.1: \", one)\n",
    "  print(\"0.2: \", two)\n",
    "  print(\"0.3: \", three)\n",
    "  print(\"0.4: \", four)\n",
    "  print(\"0.5: \", five)\n",
    "  print(\"0.6: \", six)\n",
    "  print(\"0.7: \", seven)\n",
    "  print(\"0.8: \", eight)\n",
    "  print(\"0.9: \", nine)\n",
    "  print(\"1.0: \", ten)\n",
    "  print(\"1.1: \", eleven)\n",
    "  print(\"1.2: \", twelve)\n",
    "  print(\"1.3: \", thirteen)\n",
    "  print(\"1.4: \", fourteen)\n",
    "  print(\"1.5: \", fifteen)\n",
    "  print(\"1.6: \", sixteen)\n",
    "  print(\"1.7: \", seventeen)\n",
    "  print(\"1.8: \", eighteen)\n",
    "  print(\"1.9: \", nineteen)\n",
    "  print(\"2.0: \", twenty)\n",
    "  print(\"other: \", other)"
   ]
  },
  {
   "cell_type": "code",
   "execution_count": 3,
   "metadata": {},
   "outputs": [],
   "source": [
    "def isprime(n) :\n",
    "    if (n <= 1):\n",
    "        return False\n",
    "    if (n <= 3):\n",
    "        return True\n",
    " \n",
    "    # This is checked so that we can skip\n",
    "    # middle five numbers in below loop\n",
    "    if (n % 2 == 0 or n % 3 == 0):\n",
    "        return False\n",
    " \n",
    "    i = 5\n",
    "    while(i * i <= n):\n",
    "        if (n % i) == 0 or n % (i + 2) == 0:\n",
    "            return False\n",
    "        i = i + 6\n",
    " \n",
    "    return True"
   ]
  },
  {
   "cell_type": "code",
   "execution_count": 3,
   "metadata": {},
   "outputs": [],
   "source": [
    "def gaussian_primes():#it fnds all primes numbers of the type a^2+b^2 (Guassian integers) < 10,000\n",
    "  _list = list()\n",
    "  for a in range(1, 10):\n",
    "      for b in range(1,a):\n",
    "         q = a**2 + b**2 #norm of the guassian integer (a+bi)\n",
    "         if q < 100 and isprime(q):\n",
    "            _list.append(math.atan(b/a))\n",
    "  return _list\n",
    "\n",
    "\n",
    "def sqrt_two_primes():#it fnds all primes numbers of the type a^2-2b^2\n",
    "  _list = list()\n",
    "  for a in range(1, 1200):\n",
    "      for b in range(1,800):\n",
    "        if b < 2*a/ 3:\n",
    "          q = a**2 - 2*(b**2)\n",
    "          if q < 100000 and isprime(q):\n",
    "            _list.append(math.atanh(b*math.sqrt(2)/a))\n",
    "  return _list\n",
    "\n",
    "\n",
    "\n",
    "def sqrt_five_primes():#it fnds all primes numbers of the type a^2-5b^2\n",
    "  _list = list()\n",
    "  for a in range(1, 3000):\n",
    "      for b in range(1,1000):\n",
    "        if b < a/ 3:\n",
    "          q = a**2 - 5*(b**2)\n",
    "          if q < 400000 and isprime(q):\n",
    "            _list.append(math.atanh(b*math.sqrt(5)/a))\n",
    "  return _list\n",
    "\n",
    "def sqrt_three_primes(x):#it fnds all primes numbers of the type a^2-3b^2\n",
    "  _list = list()\n",
    "  for a in range(1, 3000):\n",
    "      for b in range(1,1500):\n",
    "        if b < a/3: #we are actualy finding the a/sqrt(3)\n",
    "          q = a**2 - 3*(b**2)\n",
    "          if q < x and isprime(q):\n",
    "            _list.append(math.atanh(b*math.sqrt(3)/a))\n",
    "\n",
    "  return _list\n",
    "\n",
    "\n",
    "def qdrt_eleven_primes(k):#it fnds all primes numbers of the type a^4+11b^4\n",
    "  _list = list()\n",
    "  for a in range(1, 200):\n",
    "      for b in range(1,200):\n",
    "        if b < a: #we are actualy finding the a/sqrt(3)\n",
    "          q = a**4 + 11*(b**4)\n",
    "          if q < k and isprime(q):\n",
    "            _list.append(b/a)\n",
    "\n",
    "  return _list\n"
   ]
  },
  {
   "cell_type": "code",
   "execution_count": 5,
   "metadata": {},
   "outputs": [
    {
     "ename": "SyntaxError",
     "evalue": "EOL while scanning string literal (<ipython-input-5-5d705e5b0af6>, line 25)",
     "output_type": "error",
     "traceback": [
      "\u001b[0;36m  File \u001b[0;32m\"<ipython-input-5-5d705e5b0af6>\"\u001b[0;36m, line \u001b[0;32m25\u001b[0m\n\u001b[0;31m    ''''\u001b[0m\n\u001b[0m        \n^\u001b[0m\n\u001b[0;31mSyntaxError\u001b[0m\u001b[0;31m:\u001b[0m EOL while scanning string literal\n"
     ]
    }
   ],
   "source": [
    "def qdrt_eleven_primes(m):#it fnds all primes numbers of the type a^2-3b^2\n",
    "  _list = list()\n",
    "  for a in range(1, 800):\n",
    "      for b in range(1,800):\n",
    "        if b < a: #we are actualy finding the a/sqrt(3)\n",
    "          q = a**4 + 11*(b**4)\n",
    "          if q < m and isprime(q):\n",
    "            _list.append(b/a)\n",
    "\n",
    "  return _list\n",
    "\n",
    "def f(t):\n",
    "    return 1 + (11 * t **4)\n",
    "def r(t):\n",
    "    return 1/ math.sqrt(f(t))\n",
    "'''\n",
    "def d(k,n):\n",
    "    return r((2*k+1)/(2*n))\n",
    "def D(t,n):\n",
    "    c = math.ceil(n*t)\n",
    "    x = 0\n",
    "    for k in range(0,c):\n",
    "        x+= d(k,n)/n\n",
    "    return x\n",
    "''''\n",
    "delta_x = 0.01\n",
    "\n",
    "def d(n):\n",
    "    return delta_x * r(n*delta_x)\n",
    "\n",
    "'''\n",
    "def x1\n",
    "    for i in range(0,100):\n",
    "        if f > 0.01:\n",
    "            return i\n",
    "    '''        \n",
    "        \n",
    "\n",
    "def distribution(m,n):\n",
    "    #depends on n from the the function D(t, n) and m from the function qdrt_eleven_primes\n",
    "    #t is the element from the list return from qdrt_eleven_primes\n",
    "    _list = []\n",
    "    qdrt = qdrt_eleven_primes(m)\n",
    "    for t in qdrt:\n",
    "        _list.append(D(t,n))\n",
    "    return _list\n",
    "    "
   ]
  },
  {
   "cell_type": "raw",
   "metadata": {},
   "source": [
    "n = 100\n",
    "m = 625 * (10**8)\n",
    "y = distribution(m,n)\n",
    "round(y)"
   ]
  },
  {
   "cell_type": "raw",
   "metadata": {},
   "source": [
    "n = 100\n",
    "m = 800 ** 4\n",
    "y = distribution(m,n)\n",
    "round(y)\n",
    "#the maximum number"
   ]
  },
  {
   "cell_type": "raw",
   "metadata": {},
   "source": [
    "Delta_x=0.01\n",
    "D=0\n",
    "For n in range(1,100)\n",
    "   D==D+Delta_x*r(n*Delta_x)\n",
    "   If D>0.1\n",
    "      i_1==n\n",
    "      Append i_1\n",
    "      Break\n",
    "For n in range(1+i_1,100)\n",
    "   D==D+Delta_x*r(n*Delta_x)\n",
    "   If D>0.2\n",
    "      i_2==n\n",
    "      Append i_2\n",
    "      Break\n",
    "For n in range (1+i_2,100)\n",
    "\n",
    "(Consider i_1,i_2, up to i_10)\n",
    "\n",
    "For n in range(1+i_9,100)\n",
    "   If D==D+Delta_x*r(n*Delta_x)\n",
    "      i_10==n\n",
    "Append i_10\n",
    "\n",
    "(Now the list D_inverse will contain the element i_1, i_2,...i_9,i_10.)\n",
    "\n",
    "N=100\n",
    "One=0\n",
    "Two=0\n",
    "...\n",
    "Ten=0\n",
    "For a in range(1,N)\n",
    "   For b in range(1,a)\n",
    "     q=a**4 + 11*b**4\n",
    "     M=N^4\n",
    "     If q<M\n",
    "        If q is a prime\n",
    "            If b/a<i_1 then one == one+1\n",
    "            Else if b/a<i_2 then two==two+1\n",
    "            Else if b/a < i_3 then three == three+1\n",
    "            ...\n",
    "            Else if b/a<I_10 then ten == ten+1\n",
    "Print( one, two , three,...)"
   ]
  },
  {
   "cell_type": "raw",
   "metadata": {},
   "source": [
    "def qdrt_eleven_primes(m):#it fnds all primes numbers of the type a^4+11b^4\n",
    "  _list = list()\n",
    "  for a in range(1, 800):\n",
    "      for b in range(1,800):\n",
    "        if b < a: #we are actualy finding the a/sqrt(3)\n",
    "          q = a**4 + 11*(b**4)\n",
    "          if q < m and isprime(q):\n",
    "            _list.append(b/a)\n",
    "\n",
    "  return _list\n",
    "\n",
    "def f(t):\n",
    "    return 1 + 11 * t **4\n",
    "def r(t):\n",
    "    return 1/ math.sqrt(f(t))\n",
    "\n",
    "Delta_x=0.01\n",
    "D=0\n",
    "i_list = []\n",
    "for n in range(1,100):\n",
    "    D = D+Delta_x*r(n*Delta_x)\n",
    "    if D>0.1:\n",
    "        i_1 = n\n",
    "        i_list.append(D)\n",
    "        break\n",
    "for n in range(1+i_1,100):\n",
    "    D = D + Delta_x*r(n*Delta_x)\n",
    "    if D>0.2:\n",
    "        i_2 = n\n",
    "        i_list.append(D)\n",
    "        break\n",
    "        \n",
    "for n in range(1+i_2,100):\n",
    "    D = D + Delta_x*r(n*Delta_x)\n",
    "    if D>0.3:\n",
    "        i_3 = n\n",
    "        i_list.append(D)\n",
    "        break\n",
    "\n",
    "for n in range(1+i_3,100):\n",
    "    D = D + Delta_x*r(n*Delta_x)\n",
    "    if D>0.4:\n",
    "        i_4 = n\n",
    "        i_list.append(D)\n",
    "        break\n",
    "for n in range(1+i_4,100):\n",
    "    D = D + Delta_x*r(n*Delta_x)\n",
    "    if D>0.5:\n",
    "        i_5 = n\n",
    "        i_list.append(D)\n",
    "        break\n",
    "        \n",
    "for n in range(1+i_5,100):\n",
    "    D = D + Delta_x*r(n*Delta_x)\n",
    "    if D>0.6:\n",
    "        i_6 = n\n",
    "        i_list.append(D)\n",
    "        break\n",
    "for n in range(1+i_6,100):\n",
    "    D = D + Delta_x*r(n*Delta_x)\n",
    "    if D>0.7:\n",
    "        i_7 = n\n",
    "        i_list.append(D)\n",
    "        break\n",
    "for n in range(1+i_7,100):\n",
    "    D = D + Delta_x*r(n*Delta_x)\n",
    "    if D>0.8:\n",
    "        i_8 = n\n",
    "        i_list.append(D)\n",
    "        break\n",
    "    else:\n",
    "        i_8 = i_7\n",
    "for n in range(1+i_8,100):\n",
    "    D = D + Delta_x*r(n*Delta_x)\n",
    "    if D>0.9:\n",
    "        i_9 = n\n",
    "        i_list.append(D)\n",
    "        break\n",
    "    else:\n",
    "        i_9 = i_8\n",
    "for n in range(1+i_9,100):\n",
    "    D = D + Delta_x*r(n*Delta_x)\n",
    "    if D>1:\n",
    "        i_10 = n\n",
    "        i_list.append(D)\n",
    "        break\n",
    "    else:\n",
    "        i_10= i_9\n"
   ]
  },
  {
   "cell_type": "code",
   "execution_count": 6,
   "metadata": {},
   "outputs": [
    {
     "ename": "NameError",
     "evalue": "name 'test_list' is not defined",
     "output_type": "error",
     "traceback": [
      "\u001b[0;31m---------------------------------------------------------------------------\u001b[0m",
      "\u001b[0;31mNameError\u001b[0m                                 Traceback (most recent call last)",
      "\u001b[0;32m<ipython-input-6-bae43187b24a>\u001b[0m in \u001b[0;36m<module>\u001b[0;34m\u001b[0m\n\u001b[1;32m     12\u001b[0m         \u001b[0mM\u001b[0m \u001b[0;34m=\u001b[0m \u001b[0;34m(\u001b[0m\u001b[0mN\u001b[0m\u001b[0;34m**\u001b[0m\u001b[0;36m4\u001b[0m\u001b[0;34m)\u001b[0m\u001b[0;34m/\u001b[0m\u001b[0;36m12\u001b[0m\u001b[0;34m\u001b[0m\u001b[0;34m\u001b[0m\u001b[0m\n\u001b[1;32m     13\u001b[0m         \u001b[0;32mif\u001b[0m \u001b[0mq\u001b[0m\u001b[0;34m<\u001b[0m\u001b[0mM\u001b[0m \u001b[0;32mand\u001b[0m \u001b[0misprime\u001b[0m\u001b[0;34m(\u001b[0m\u001b[0mq\u001b[0m\u001b[0;34m)\u001b[0m\u001b[0;34m:\u001b[0m\u001b[0;34m\u001b[0m\u001b[0;34m\u001b[0m\u001b[0m\n\u001b[0;32m---> 14\u001b[0;31m             \u001b[0;32mif\u001b[0m \u001b[0mb\u001b[0m\u001b[0;34m/\u001b[0m\u001b[0ma\u001b[0m \u001b[0;34m<=\u001b[0m \u001b[0mtest_list\u001b[0m\u001b[0;34m[\u001b[0m\u001b[0;36m0\u001b[0m\u001b[0;34m]\u001b[0m\u001b[0;34m/\u001b[0m\u001b[0;36m10000\u001b[0m\u001b[0;34m:\u001b[0m\u001b[0;34m\u001b[0m\u001b[0;34m\u001b[0m\u001b[0m\n\u001b[0m\u001b[1;32m     15\u001b[0m                 \u001b[0mone\u001b[0m\u001b[0;34m+=\u001b[0m\u001b[0;36m1\u001b[0m\u001b[0;34m\u001b[0m\u001b[0;34m\u001b[0m\u001b[0m\n\u001b[1;32m     16\u001b[0m             \u001b[0;32melif\u001b[0m \u001b[0mb\u001b[0m\u001b[0;34m/\u001b[0m\u001b[0ma\u001b[0m \u001b[0;34m<=\u001b[0m\u001b[0mtest_list\u001b[0m\u001b[0;34m[\u001b[0m\u001b[0;36m1\u001b[0m\u001b[0;34m]\u001b[0m\u001b[0;34m/\u001b[0m\u001b[0;36m10000\u001b[0m\u001b[0;34m:\u001b[0m\u001b[0;34m\u001b[0m\u001b[0;34m\u001b[0m\u001b[0m\n",
      "\u001b[0;31mNameError\u001b[0m: name 'test_list' is not defined"
     ]
    }
   ],
   "source": [
    "\n",
    "N = 100\n",
    "one=0\n",
    "two=0\n",
    "three = 0\n",
    "four = 0\n",
    "five = 0\n",
    "six  = 0\n",
    "seven = 0\n",
    "for a in range(1,N):\n",
    "    for b in range(1,a):\n",
    "        q = a**4 + 11*b**4\n",
    "        M = (N**4)/12\n",
    "        if q<M and isprime(q):\n",
    "            if b/a <= test_list[0]/10000:\n",
    "                one+=1\n",
    "            elif b/a <=test_list[1]/10000:\n",
    "                two+=1\n",
    "            elif b/a <= test_list[2]/10000:\n",
    "                three+=1\n",
    "            elif b/a <= test_list[3]/10000:\n",
    "                four += 1\n",
    "            elif b/a <= test_list[4]/10000:\n",
    "                five+=1\n",
    "            elif b/a <= test_list[5]/10000:\n",
    "                six += 1\n",
    "            elif b/a <= test_list[6]/10000:\n",
    "                seven += 1\n",
    "           \n",
    "print( one, two , three, four, five, six, seven)"
   ]
  },
  {
   "cell_type": "code",
   "execution_count": null,
   "metadata": {},
   "outputs": [],
   "source": [
    "def R(t):\n",
    "    return 1/ math.sqrt(1 + 11 * t **4)\n",
    "def R (t, D, n):\n",
    "    1/nrt(1+D*t**n,n/2)\n",
    "\n",
    "delta_x=0.0001\n",
    "d=0\n",
    "i_lst = []\n",
    "counter = 0\n",
    "limit = 0.1\n",
    "i_ = 1\n",
    "while counter <11:\n",
    "    for j in range(i_,10000):\n",
    "        d = d+delta_x*R(j*delta_x)\n",
    "        if d>limit:\n",
    "            i_ = j\n",
    "            i_lst.append(j)\n",
    "            break\n",
    "    limit+=0.1\n",
    "    counter+=1"
   ]
  },
  {
   "cell_type": "markdown",
   "metadata": {},
   "source": [
    "# Function that find the nth root of a number"
   ]
  },
  {
   "cell_type": "code",
   "execution_count": 20,
   "metadata": {},
   "outputs": [],
   "source": [
    "def round_deci(numb, decimals = 9):\n",
    "    r = math.floor(numb*(10**9))\n",
    "    return r/(10**9)"
   ]
  },
  {
   "cell_type": "code",
   "execution_count": 22,
   "metadata": {},
   "outputs": [],
   "source": [
    "#the function is used to find the nth root of a non-negative number\n",
    "def nrt(numb,e=2):\n",
    "    \"\"\"numb should >0\n",
    "    e represent the nth root , 2=square root , 3=cube root, e= for only positive numbeer\"\"\"\n",
    "    guess = numb * 1/e\n",
    "    avg = ((e-1)*guess + (numb/(guess**(e-1))))/e\n",
    "    while avg!= guess:\n",
    "        guess = avg\n",
    "        avg = ((e-1)*guess + (numb/(guess**(e-1))))/e #Newsthon's method formula\n",
    "    return guess                 \n",
    "\n"
   ]
  },
  {
   "cell_type": "raw",
   "metadata": {},
   "source": [
    "#https://rosettacode.org/wiki/Nth_root\n",
    "from decimal import Decimal, getcontext\n",
    " \n",
    "def nrt (A,n, precision=10):\n",
    "    getcontext().prec = precision\n",
    " \n",
    "    #n = Decimal(n)\n",
    "    x_0 = A / n #step 1: make a while guess.\n",
    "    x_1 = 1     #need it to exist before step 2\n",
    "    while True:\n",
    "        #step 2:\n",
    "        x_0, x_1 = x_1, (1 / n)*((n - 1)*x_0 + (A / (x_0 ** (n - 1))))\n",
    "        if x_0 == x_1:\n",
    "            return x_1"
   ]
  },
  {
   "cell_type": "markdown",
   "metadata": {},
   "source": [
    "# Inverse of a Distribution for Primes of the Form a^n + D*b^n, D>0"
   ]
  },
  {
   "cell_type": "code",
   "execution_count": 4,
   "metadata": {},
   "outputs": [],
   "source": [
    "def inverse_distribution_primes_a_b_nth(D, n):\n",
    "    delta_x=0.0001\n",
    "    integral = 0\n",
    "    i_lst = []\n",
    "    counter = 0\n",
    "    limit = 0.1\n",
    "    i_ = 0\n",
    "    while counter <10:\n",
    "        for j in range(i_+1,10000):\n",
    "            integral += delta_x*(1/ (1+D * (j*delta_x)**n)**(2/n)) #(nrt(1 + D * (j*delta_x) **n,n/2)))\n",
    "            #print (integral, \"\\t\", limit , i_lst)\n",
    "            if integral>limit:\n",
    "                i_ = j\n",
    "                i_lst.append(j)\n",
    "                break\n",
    "        limit = limit + 0.1\n",
    "        counter+=1\n",
    "    return i_lst"
   ]
  },
  {
   "cell_type": "markdown",
   "metadata": {},
   "source": [
    "# Distribution of prime numbers of the form a^n + D*b^n,D>0"
   ]
  },
  {
   "cell_type": "code",
   "execution_count": 5,
   "metadata": {},
   "outputs": [],
   "source": [
    "def list_creator(n):\n",
    "    List = []\n",
    "    for i in range(n):\n",
    "        List.append(0)\n",
    "    return List"
   ]
  },
  {
   "cell_type": "code",
   "execution_count": 6,
   "metadata": {},
   "outputs": [],
   "source": [
    "def distribution_primes_a_b(N, D, n, LIST):\n",
    "    len_List = len(LIST)\n",
    "    counter_list = list_creator(len_List)\n",
    "    for a in range(1,N):\n",
    "        for b in range(1,a):\n",
    "            q = a**n + D*b**n\n",
    "            M = (N**n)/(D+1)\n",
    "            if q<M and isprime(q):\n",
    "                for i in range(len(LIST)):\n",
    "                    if i==0 and b/a <= LIST[0]/10000:\n",
    "                        counter_list[0]+=1 \n",
    "                    elif i!=0 and b/a <= LIST[i]/10000 and b/a > LIST[i-1]/10000:\n",
    "                        counter_list[i]+=1 \n",
    "    return counter_list\n",
    "    "
   ]
  },
  {
   "cell_type": "code",
   "execution_count": 7,
   "metadata": {},
   "outputs": [],
   "source": [
    "def deviation(dist_list):\n",
    "    return max(dist_list)/min(dist_list)"
   ]
  },
  {
   "cell_type": "code",
   "execution_count": 8,
   "metadata": {},
   "outputs": [],
   "source": [
    "def testing(rangeN, D, n, inverse_list):\n",
    "    print(f\"Distribution of primes of the form a^{n} + {D}b^{n}\")\n",
    "    test_dic = dict()\n",
    "    for N in range(100,rangeN+100, 100):\n",
    "        distribution = distribution_primes_a_b(N, D, n, inverse_list)\n",
    "        #test_dic[distribution] = deviation(distribution)\n",
    "        test_dic.update({f\"N = {N}  \"+str(distribution): deviation(distribution)})\n",
    "        \n",
    "    return test_dic"
   ]
  },
  {
   "cell_type": "code",
   "execution_count": null,
   "metadata": {},
   "outputs": [],
   "source": []
  },
  {
   "cell_type": "markdown",
   "metadata": {},
   "source": [
    "# Inverse of a Distribution for Primes of the Form a^n + D*b^n, D<0"
   ]
  },
  {
   "cell_type": "code",
   "execution_count": 9,
   "metadata": {},
   "outputs": [],
   "source": [
    "def neg_inverse_distribution_primes_a_b_nth(D, n):\n",
    "    delta_x=0.0001\n",
    "    integral = 0\n",
    "    i_lst = []\n",
    "    counter = 0\n",
    "    limit = 0.1\n",
    "    i_ = 0\n",
    "    while counter <6:\n",
    "        for j in range(i_+1,10000):\n",
    "            integral += 4*delta_x*(1/ (1+D * (j*delta_x)**n)**(2/n)) #(nrt(1 + D * (j*delta_x) **n,n/2)))\n",
    "            #print (integral, \"\\t\", limit , i_lst)\n",
    "            if integral>limit:\n",
    "                i_ = j\n",
    "                i_lst.append(j)\n",
    "                break\n",
    "        limit = limit + 0.1\n",
    "        counter+=1\n",
    "    return i_lst"
   ]
  },
  {
   "cell_type": "markdown",
   "metadata": {},
   "source": [
    "# Distribution of prime numbers of the form a^n + D*b^n, D<0"
   ]
  },
  {
   "cell_type": "code",
   "execution_count": 10,
   "metadata": {},
   "outputs": [],
   "source": [
    "def neg_distribution_primes_a_b(N, D, n, LIST):\n",
    "    len_List = len(LIST)\n",
    "    counter_list = list_creator(len_List)\n",
    "    for a in range(1,N):\n",
    "        l = math.floor(a/((-D)**(1/n)))\n",
    "        for b in range(1,l):\n",
    "            q = a**n + D*b**n\n",
    "            M = (N**n) - ((N**n)/(2**n*(-D)))\n",
    "            if q<M and isprime(q):\n",
    "                for i in range(len(LIST)):\n",
    "                    if i==0 and b/a <= LIST[0]/10000:\n",
    "                        counter_list[0]+=1 \n",
    "                    elif i!=0 and b/a <= LIST[i]/10000 and b/a > LIST[i-1]/10000:\n",
    "                        counter_list[i]+=1 \n",
    "    return counter_list"
   ]
  },
  {
   "cell_type": "code",
   "execution_count": 11,
   "metadata": {},
   "outputs": [],
   "source": [
    "def neg_testing(rangeN, incre, D, n, inverse_list):\n",
    "    print(f\"Distribution of primes of the form a^{n} + {D}b^{n}\")\n",
    "    test_dic = dict()\n",
    "    for N in range(incre,rangeN+incre, incre):\n",
    "        distribution = neg_distribution_primes_a_b(N, D, n, inverse_list)\n",
    "        #test_dic[distribution] = deviation(distribution)\n",
    "        #test_dic.update({f\"N = {N}  \"+str(distribution): deviation(distribution)})\n",
    "        print (f\"N = {N}  \", str(distribution), deviation(distribution))\n",
    "    #return test_dic"
   ]
  },
  {
   "cell_type": "code",
   "execution_count": null,
   "metadata": {},
   "outputs": [],
   "source": []
  },
  {
   "cell_type": "markdown",
   "metadata": {},
   "source": [
    "# Distribution of prime numbers of the form a^n + D*b^n, D>0 in Modulo 2"
   ]
  },
  {
   "cell_type": "code",
   "execution_count": 12,
   "metadata": {},
   "outputs": [],
   "source": [
    "def distribution_primes_a_b_mod2(N, D, n, LIST):\n",
    "    len_List = len(LIST)\n",
    "    odd_odd = list_creator(len_List)#an empty when a is odd and b is odd4\n",
    "    odd_even = list_creator(len_List)#an empty when a is odd and b is even\n",
    "    even_odd = list_creator(len_List)#an empty when a is even and b is odd\n",
    "    for a in range(1,N):\n",
    "        for b in range(1,a):\n",
    "            if a%2 == 1 and b%2 == 1:\n",
    "                q = a**n + D*b**n\n",
    "                M = (N**n)/(D+1)\n",
    "                if q<M and isprime(q):\n",
    "                    for i in range(len(LIST)):\n",
    "                        if i==0 and b/a <= LIST[0]/10000:\n",
    "                            odd_odd[0]+=1 \n",
    "                        elif i!=0 and b/a <= LIST[i]/10000 and b/a > LIST[i-1]/10000:\n",
    "                            odd_odd[i]+=1 \n",
    "            elif a%2 == 1 and b%2 == 0:\n",
    "                q = a**n + D*b**n\n",
    "                M = (N**n)/(D+1)\n",
    "                if q<M and isprime(q):\n",
    "                    for i in range(len(LIST)):\n",
    "                        if i==0 and b/a <= LIST[0]/10000:\n",
    "                            odd_even[0]+=1 \n",
    "                        elif i!=0 and b/a <= LIST[i]/10000 and b/a > LIST[i-1]/10000:\n",
    "                            odd_even[i]+=1\n",
    "            elif D%2 == 1 and a%2 == 0 and b%2 == 1:\n",
    "                q = a**n + D*b**n\n",
    "                M = (N**n)/(D+1)\n",
    "                if q<M and isprime(q):\n",
    "                    for i in range(len(LIST)):\n",
    "                        if i==0 and b/a <= LIST[0]/10000:\n",
    "                            even_odd[0]+=1 \n",
    "                        elif i!=0 and b/a <= LIST[i]/10000 and b/a > LIST[i-1]/10000:\n",
    "                            even_odd[i]+=1 \n",
    "    if D%2 == 1:\n",
    "        return even_odd + odd_even\n",
    "    else:\n",
    "        return odd_odd + odd_even0"
   ]
  },
  {
   "cell_type": "markdown",
   "metadata": {},
   "source": [
    "# Distribution of prime numbers of the form a^n + D*b^n, D<0 Modulo 2"
   ]
  },
  {
   "cell_type": "code",
   "execution_count": 13,
   "metadata": {},
   "outputs": [],
   "source": [
    "def mod2_testing(rangeN, incre, D, n, inverse_list):\n",
    "    print(f\"Distribution of primes of the form a^{n} + {D}b^{n}\")\n",
    "    test_dic = dict()\n",
    "    for N in range(incre,rangeN+incre, incre):\n",
    "        distribution = distribution_primes_a_b_mod2(N, D, n, inverse_list)\n",
    "        #test_dic[distribution] = deviation(distribution)\n",
    "        #test_dic.update({f\"N = {N}  \"+str(distribution): deviation(distribution)})\n",
    "        print (f\"N = {N}  \", str(distribution), deviation(distribution))\n",
    "    #return test_dic"
   ]
  },
  {
   "cell_type": "code",
   "execution_count": 14,
   "metadata": {},
   "outputs": [],
   "source": [
    "def neg_distribution_primes_a_b_mod2(N, D, n, LIST):\n",
    "    len_List = len(LIST)\n",
    "    odd_odd = list_creator(len_List)#an empty when a is odd and b is odd4\n",
    "    odd_even = list_creator(len_List)#an empty when a is odd and b is even\n",
    "    even_odd = list_creator(len_List)#an empty when a is even and b is odd\n",
    "    for a in range(1,N):\n",
    "        l = math.floor(a/((-D)**(1/n)))\n",
    "        for b in range(1,l):\n",
    "            if a%2 == 1 and b%2 == 1:\n",
    "                q = a**n + D*b**n\n",
    "                M = (N**n) - ((N**n)/(2**n*(-D)))\n",
    "                if q<M and isprime(q):\n",
    "                    for i in range(len(LIST)):\n",
    "                        if i==0 and b/a <= LIST[0]/10000:\n",
    "                            odd_odd[0]+=1 \n",
    "                        elif i!=0 and b/a <= LIST[i]/10000 and b/a > LIST[i-1]/10000:\n",
    "                            odd_odd[i]+=1 \n",
    "            elif a%2 == 1 and b%2 == 0:\n",
    "                q = a**n + D*b**n\n",
    "                M = (N**n) - ((N**n)/(2**n*(-D)))\n",
    "                if q<M and isprime(q):\n",
    "                    for i in range(len(LIST)):\n",
    "                        if i==0 and b/a <= LIST[0]/10000:\n",
    "                            odd_even[0]+=1 \n",
    "                        elif i!=0 and b/a <= LIST[i]/10000 and b/a > LIST[i-1]/10000:\n",
    "                            odd_even[i]+=1\n",
    "            elif D%2 == 1 and a%2 == 0 and b%2 == 1:\n",
    "                q = a**n + D*b**n\n",
    "                M = (N**n) - ((N**n)/(2**n*(-D)))\n",
    "                if q<M and isprime(q):\n",
    "                    for i in range(len(LIST)):\n",
    "                        if i==0 and b/a <= LIST[0]/10000:\n",
    "                            even_odd[0]+=1 \n",
    "                        elif i!=0 and b/a <= LIST[i]/10000 and b/a > LIST[i-1]/10000:\n",
    "                            even_odd[i]+=1 \n",
    "    if D%2 == 1:\n",
    "        return even_odd + odd_even\n",
    "    else:\n",
    "        return odd_odd + odd_even"
   ]
  },
  {
   "cell_type": "code",
   "execution_count": 15,
   "metadata": {},
   "outputs": [],
   "source": [
    "def neg_mod2_testing(rangeN, incre, D, n, inverse_list):\n",
    "    print(f\"Distribution of primes of the form a^{n} + {D}b^{n}\")\n",
    "    test_dic = dict()\n",
    "    for N in range(incre,rangeN+incre, incre):\n",
    "        distribution = neg_distribution_primes_a_b_mod2(N, D, n, inverse_list)\n",
    "        #test_dic[distribution] = deviation(distribution)\n",
    "        #test_dic.update({f\"N = {N}  \"+str(distribution): deviation(distribution)})\n",
    "        print (f\"N = {N}  \", str(distribution), deviation(distribution))\n",
    "    #return test_dic"
   ]
  },
  {
   "cell_type": "markdown",
   "metadata": {},
   "source": [
    "# Testing: Inverse Distribution for primes a^2 - 3b^2"
   ]
  },
  {
   "cell_type": "code",
   "execution_count": 52,
   "metadata": {},
   "outputs": [
    {
     "data": {
      "text/plain": [
       "[250, 499, 746, 991, 1231, 1468]"
      ]
     },
     "execution_count": 52,
     "metadata": {},
     "output_type": "execute_result"
    }
   ],
   "source": [
    "n_three_second = neg_inverse_distribution_primes_a_b_nth(-3,2)\n",
    "n_three_second"
   ]
  },
  {
   "cell_type": "code",
   "execution_count": 15,
   "metadata": {},
   "outputs": [
    {
     "data": {
      "text/plain": [
       "[1159, 1169, 1166, 1213, 1206, 1179]"
      ]
     },
     "execution_count": 15,
     "metadata": {},
     "output_type": "execute_result"
    }
   ],
   "source": [
    "n_three_2 = neg_distribution_primes_a_b(1000, -3,2, n_three_second)\n",
    "n_three_2"
   ]
  },
  {
   "cell_type": "code",
   "execution_count": 88,
   "metadata": {
    "scrolled": false
   },
   "outputs": [
    {
     "name": "stdout",
     "output_type": "stream",
     "text": [
      "Distribution of primes of the form a^2 + -3b^2\n"
     ]
    },
    {
     "data": {
      "text/plain": [
       "{'N = 500  [301, 338, 330, 344, 327, 344]': 1.1428571428571428,\n",
       " 'N = 1000  [1159, 1169, 1166, 1213, 1206, 1179]': 1.0465918895599655,\n",
       " 'N = 1500  [2481, 2482, 2517, 2559, 2519, 2526]': 1.0314389359129383,\n",
       " 'N = 2000  [4229, 4239, 4331, 4321, 4277, 4277]': 1.024119177110428,\n",
       " 'N = 2500  [6428, 6427, 6507, 6584, 6498, 6476]': 1.0244281935584254,\n",
       " 'N = 3000  [9048, 9046, 9194, 9180, 9120, 9152]': 1.016360822462967,\n",
       " 'N = 3500  [12077, 12137, 12229, 12233, 12118, 12213]': 1.0129171151776104,\n",
       " 'N = 4000  [15451, 15625, 15737, 15691, 15527, 15706]': 1.0185101287942528}"
      ]
     },
     "execution_count": 88,
     "metadata": {},
     "output_type": "execute_result"
    }
   ],
   "source": [
    "neg_testing(4000, 500, -3, 2, n_three_second) #rangeN, D, n, inverse_list"
   ]
  },
  {
   "cell_type": "code",
   "execution_count": null,
   "metadata": {},
   "outputs": [],
   "source": [
    "old -->\n",
    "{'N = 500  [639, 674, 671, 650]': 1.054773082942097,\n",
    " 'N = 1000  [2328, 2379, 2385, 2322]': 1.0271317829457365,\n",
    " 'N = 1500  [4963, 5076, 5045, 4947]': 1.0260764099454214,\n",
    " 'N = 2000  [8468, 8652, 8554, 8468]': 1.021728861596599,\n",
    " 'N = 2500  [12855, 13091, 12974, 12883]': 1.0183586153247763,\n",
    " 'N = 3000  [18094, 18374, 18272, 18076]': 1.0164859482186324,\n",
    " 'N = 3500  [24214, 24462, 24331, 24064]': 1.0165392287234043,\n",
    " 'N = 4000  [31076, 31428, 31233, 30845]': 1.0189009563948777}"
   ]
  },
  {
   "cell_type": "code",
   "execution_count": 53,
   "metadata": {},
   "outputs": [
    {
     "name": "stdout",
     "output_type": "stream",
     "text": [
      "Distribution of primes of the form a^2 + -3b^2\n",
      "N = 500   [160, 170, 167, 168, 168, 166, 141, 168, 163, 176, 159, 178] 1.2624113475177305\n",
      "N = 1000   [612, 595, 586, 598, 624, 560, 547, 574, 580, 615, 582, 619] 1.1407678244972577\n",
      "N = 1500   [1271, 1259, 1267, 1267, 1284, 1224, 1210, 1223, 1250, 1292, 1235, 1302] 1.0760330578512396\n",
      "N = 2000   [2159, 2122, 2167, 2148, 2162, 2090, 2070, 2117, 2164, 2173, 2115, 2187] 1.0565217391304347\n",
      "N = 2500   [3273, 3211, 3234, 3269, 3297, 3187, 3155, 3216, 3273, 3315, 3201, 3289] 1.0507131537242471\n",
      "N = 3000   [4602, 4511, 4569, 4581, 4607, 4563, 4446, 4535, 4625, 4599, 4513, 4589] 1.0402609086819614\n",
      "N = 3500   [6112, 6029, 6083, 6118, 6086, 6093, 5965, 6108, 6146, 6115, 6032, 6120] 1.0303436714165968\n",
      "N = 4000   [7831, 7776, 7838, 7885, 7766, 7837, 7620, 7849, 7899, 7806, 7761, 7869] 1.0366141732283465\n"
     ]
    }
   ],
   "source": [
    "neg_mod2_testing(4000,500,-3,2,n_three_second)"
   ]
  },
  {
   "cell_type": "markdown",
   "metadata": {},
   "source": [
    "# Testing: Inverse Distruntion for primes a^2-2b^2"
   ]
  },
  {
   "cell_type": "code",
   "execution_count": 54,
   "metadata": {},
   "outputs": [
    {
     "data": {
      "text/plain": [
       "[250, 500, 748, 994, 1238, 1478]"
      ]
     },
     "execution_count": 54,
     "metadata": {},
     "output_type": "execute_result"
    }
   ],
   "source": [
    "n_two_second = neg_inverse_distribution_primes_a_b_nth(-2,2)\n",
    "n_two_second"
   ]
  },
  {
   "cell_type": "code",
   "execution_count": 90,
   "metadata": {
    "scrolled": true
   },
   "outputs": [
    {
     "name": "stdout",
     "output_type": "stream",
     "text": [
      "Distribution of primes of the form a^2 + -2b^2\n"
     ]
    },
    {
     "data": {
      "text/plain": [
       "{'N = 500  [378, 384, 399, 408, 380, 379]': 1.0793650793650793,\n",
       " 'N = 1000  [1356, 1386, 1371, 1408, 1433, 1356]': 1.0567846607669618,\n",
       " 'N = 1500  [2847, 2992, 2888, 2961, 2950, 2923]': 1.050930804355462,\n",
       " 'N = 2000  [4875, 5153, 4987, 5000, 5049, 4973]': 1.0570256410256411,\n",
       " 'N = 2500  [7445, 7734, 7592, 7609, 7616, 7530]': 1.0388179986568167,\n",
       " 'N = 3000  [10547, 10789, 10664, 10639, 10598, 10673]': 1.0229449132454727,\n",
       " 'N = 3500  [14080, 14372, 14216, 14190, 14193, 14246]': 1.0207386363636364,\n",
       " 'N = 4000  [18099, 18396, 18291, 18161, 18217, 18230]': 1.0164097463948285}"
      ]
     },
     "execution_count": 90,
     "metadata": {},
     "output_type": "execute_result"
    }
   ],
   "source": [
    "neg_testing(4000, 500, -2, 2, n_two_second) #rangeN, D, n, inverse_list"
   ]
  },
  {
   "cell_type": "code",
   "execution_count": null,
   "metadata": {},
   "outputs": [],
   "source": [
    "'N = 500  [762, 807, 759, 762]': 1.0632411067193677,\n",
    " 'N = 1000  [2742, 2779, 2789, 2788]': 1.0171407731582787,\n",
    " 'N = 1500  [5839, 5849, 5873, 5947]': 1.0184963178626476,\n",
    " 'N = 2000  [10028, 9987, 10022, 10107]': 1.0120156203063984,\n",
    " 'N = 2500  [15179, 15201, 15146, 15298]': 1.010035652977684,\n",
    " 'N = 3000  [21336, 21303, 21271, 21470]': 1.009355460486108,\n",
    " 'N = 3500  [28452, 28406, 28439, 28509]': 1.0036259945082024,\n",
    " 'N = 4000  [36495, 36452, 36447, 36570]': 1.0033747633550087}"
   ]
  },
  {
   "cell_type": "code",
   "execution_count": 55,
   "metadata": {},
   "outputs": [
    {
     "name": "stdout",
     "output_type": "stream",
     "text": [
      "Distribution of primes of the form a^2 + -2b^2\n",
      "N = 500   [196, 194, 198, 214, 193, 185, 182, 190, 201, 194, 187, 194] 1.1758241758241759\n",
      "N = 1000   [701, 695, 679, 714, 718, 681, 655, 691, 692, 694, 715, 675] 1.0961832061068701\n",
      "N = 1500   [1450, 1517, 1445, 1469, 1492, 1465, 1397, 1475, 1443, 1492, 1458, 1458] 1.085898353614889\n",
      "N = 2000   [2467, 2569, 2506, 2478, 2542, 2516, 2408, 2584, 2481, 2522, 2507, 2457] 1.0730897009966778\n",
      "N = 2500   [3806, 3839, 3784, 3769, 3829, 3816, 3639, 3895, 3808, 3840, 3787, 3714] 1.0703489969771915\n",
      "N = 3000   [5362, 5387, 5340, 5235, 5304, 5372, 5185, 5402, 5324, 5404, 5294, 5301] 1.0422372227579557\n",
      "N = 3500   [7131, 7207, 7115, 6970, 7109, 7165, 6949, 7165, 7101, 7220, 7084, 7081] 1.0389984170384228\n",
      "N = 4000   [9160, 9199, 9130, 8978, 9102, 9129, 8939, 9197, 9161, 9183, 9115, 9101] 1.0290860275198568\n"
     ]
    }
   ],
   "source": [
    "neg_mod2_testing(4000,500,-2,2,n_two_second)"
   ]
  },
  {
   "cell_type": "markdown",
   "metadata": {},
   "source": [
    "# Testing: Inverse Distruntion for primes a^2-5b^2"
   ]
  },
  {
   "cell_type": "code",
   "execution_count": 56,
   "metadata": {
    "scrolled": true
   },
   "outputs": [
    {
     "data": {
      "text/plain": [
       "[250, 498, 744, 984, 1219, 1447]"
      ]
     },
     "execution_count": 56,
     "metadata": {},
     "output_type": "execute_result"
    }
   ],
   "source": [
    "n_five_second = neg_inverse_distribution_primes_a_b_nth(-5,2)\n",
    "n_five_second"
   ]
  },
  {
   "cell_type": "code",
   "execution_count": 85,
   "metadata": {
    "scrolled": true
   },
   "outputs": [
    {
     "name": "stdout",
     "output_type": "stream",
     "text": [
      "Distribution of primes of the form a^2 + -5b^2\n"
     ]
    },
    {
     "data": {
      "text/plain": [
       "{'N = 500  [377, 411, 401, 411, 401, 406]': 1.090185676392573,\n",
       " 'N = 1000  [1392, 1453, 1471, 1433, 1449, 1389]': 1.0590352771778258,\n",
       " 'N = 1500  [3025, 3036, 3094, 3049, 3048, 2911]': 1.0628649948471316,\n",
       " 'N = 2000  [5193, 5178, 5270, 5197, 5168, 4991]': 1.0559006211180124,\n",
       " 'N = 2500  [7941, 7831, 7974, 7860, 7848, 7559]': 1.0549014419896812,\n",
       " 'N = 3000  [11147, 11048, 11144, 11061, 11056, 10664]': 1.0452925731432858,\n",
       " 'N = 3500  [14805, 14730, 14874, 14786, 14699, 14283]': 1.0413778617937408,\n",
       " 'N = 4000  [18979, 18889, 19032, 18958, 18840, 18311]': 1.0393752389274207}"
      ]
     },
     "execution_count": 85,
     "metadata": {},
     "output_type": "execute_result"
    }
   ],
   "source": [
    "neg_testing(4000, 500, -5, 2, n_five_second) #rangeN, D, n, inverse_list"
   ]
  },
  {
   "cell_type": "code",
   "execution_count": 57,
   "metadata": {},
   "outputs": [
    {
     "name": "stdout",
     "output_type": "stream",
     "text": [
      "Distribution of primes of the form a^2 + -5b^2\n",
      "N = 500   [203, 208, 209, 210, 201, 189, 174, 203, 192, 201, 200, 217] 1.2471264367816093\n",
      "N = 1000   [726, 727, 762, 729, 721, 656, 666, 726, 709, 704, 728, 733] 1.1615853658536586\n",
      "N = 1500   [1557, 1504, 1551, 1538, 1525, 1436, 1468, 1532, 1543, 1511, 1523, 1475] 1.0842618384401115\n",
      "N = 2000   [2652, 2563, 2623, 2620, 2601, 2475, 2541, 2615, 2647, 2577, 2567, 2516] 1.0715151515151515\n",
      "N = 2500   [4019, 3885, 4001, 3929, 3969, 3751, 3922, 3946, 3973, 3931, 3879, 3808] 1.071447613969608\n",
      "N = 3000   [5634, 5461, 5618, 5530, 5607, 5290, 5513, 5587, 5526, 5531, 5449, 5374] 1.0650283553875237\n",
      "N = 3500   [7466, 7338, 7469, 7393, 7445, 7092, 7339, 7392, 7405, 7393, 7254, 7191] 1.0531584884376763\n",
      "N = 4000   [9545, 9421, 9509, 9447, 9546, 9119, 9434, 9468, 9523, 9511, 9294, 9192] 1.0468253097927405\n"
     ]
    }
   ],
   "source": [
    "neg_mod2_testing(4000,500,-5,2,n_five_second)"
   ]
  },
  {
   "cell_type": "markdown",
   "metadata": {},
   "source": [
    "# Testing: Inverse Distruntion for primes a^3-2b^3"
   ]
  },
  {
   "cell_type": "code",
   "execution_count": 12,
   "metadata": {
    "scrolled": true
   },
   "outputs": [
    {
     "data": {
      "text/plain": [
       "[250, 500, 750, 1000, 1250, 1499]"
      ]
     },
     "execution_count": 12,
     "metadata": {},
     "output_type": "execute_result"
    }
   ],
   "source": [
    "n_two_third = neg_inverse_distribution_primes_a_b_nth(-2,3)\n",
    "n_two_third"
   ]
  },
  {
   "cell_type": "code",
   "execution_count": 97,
   "metadata": {
    "scrolled": true
   },
   "outputs": [
    {
     "name": "stdout",
     "output_type": "stream",
     "text": [
      "Distribution of primes of the form a^3 + -2b^3\n",
      "N = 500   [213, 210, 238, 220, 212, 252] 1.2\n",
      "N = 1000   [766, 803, 819, 808, 784, 834] 1.0887728459530026\n",
      "N = 1500   [1631, 1679, 1673, 1658, 1667, 1709] 1.0478234212139792\n",
      "N = 2000   [2853, 2900, 2863, 2866, 2906, 2873] 1.018576936558009\n"
     ]
    }
   ],
   "source": [
    "neg_testing(2000, 500, -2, 3, n_two_third) #rangeN, D, n, inverse_list"
   ]
  },
  {
   "cell_type": "code",
   "execution_count": 25,
   "metadata": {},
   "outputs": [
    {
     "name": "stdout",
     "output_type": "stream",
     "text": [
      "Distribution of primes of the form a^3 + -2b^3\n",
      "N = 500   [115, 98, 127, 105, 103, 128, 98, 112, 111, 115, 109, 124] 1.3061224489795917\n",
      "N = 1000   [396, 396, 419, 390, 391, 429, 370, 407, 400, 418, 393, 405] 1.1594594594594594\n",
      "N = 1500   [833, 829, 856, 803, 839, 844, 798, 850, 817, 855, 828, 865] 1.0839598997493733\n",
      "N = 2000   [1456, 1437, 1437, 1413, 1459, 1448, 1397, 1463, 1426, 1453, 1447, 1425] 1.047244094488189\n",
      "N = 2500   [2234, 2158, 2175, 2167, 2158, 2167, 2149, 2193, 2175, 2182, 2158, 2201] 1.0395532805956258\n",
      "N = 3000   [3107, 3006, 3053, 3064, 3063, 3067, 2986, 3056, 3053, 3024, 3061, 3086] 1.0405224380442062\n"
     ]
    },
    {
     "ename": "KeyboardInterrupt",
     "evalue": "",
     "output_type": "error",
     "traceback": [
      "\u001b[0;31m---------------------------------------------------------------------------\u001b[0m",
      "\u001b[0;31mKeyboardInterrupt\u001b[0m                         Traceback (most recent call last)",
      "\u001b[0;32m<ipython-input-25-480ca3ecb89a>\u001b[0m in \u001b[0;36m<module>\u001b[0;34m\u001b[0m\n\u001b[0;32m----> 1\u001b[0;31m \u001b[0mneg_mod2_testing\u001b[0m\u001b[0;34m(\u001b[0m\u001b[0;36m4000\u001b[0m\u001b[0;34m,\u001b[0m\u001b[0;36m500\u001b[0m\u001b[0;34m,\u001b[0m\u001b[0;34m-\u001b[0m\u001b[0;36m2\u001b[0m\u001b[0;34m,\u001b[0m\u001b[0;36m3\u001b[0m\u001b[0;34m,\u001b[0m\u001b[0mn_two_third\u001b[0m\u001b[0;34m)\u001b[0m\u001b[0;34m\u001b[0m\u001b[0;34m\u001b[0m\u001b[0m\n\u001b[0m",
      "\u001b[0;32m<ipython-input-24-eb07eeeb4162>\u001b[0m in \u001b[0;36mneg_mod2_testing\u001b[0;34m(rangeN, incre, D, n, inverse_list)\u001b[0m\n\u001b[1;32m      3\u001b[0m     \u001b[0mtest_dic\u001b[0m \u001b[0;34m=\u001b[0m \u001b[0mdict\u001b[0m\u001b[0;34m(\u001b[0m\u001b[0;34m)\u001b[0m\u001b[0;34m\u001b[0m\u001b[0;34m\u001b[0m\u001b[0m\n\u001b[1;32m      4\u001b[0m     \u001b[0;32mfor\u001b[0m \u001b[0mN\u001b[0m \u001b[0;32min\u001b[0m \u001b[0mrange\u001b[0m\u001b[0;34m(\u001b[0m\u001b[0mincre\u001b[0m\u001b[0;34m,\u001b[0m\u001b[0mrangeN\u001b[0m\u001b[0;34m+\u001b[0m\u001b[0mincre\u001b[0m\u001b[0;34m,\u001b[0m \u001b[0mincre\u001b[0m\u001b[0;34m)\u001b[0m\u001b[0;34m:\u001b[0m\u001b[0;34m\u001b[0m\u001b[0;34m\u001b[0m\u001b[0m\n\u001b[0;32m----> 5\u001b[0;31m         \u001b[0mdistribution\u001b[0m \u001b[0;34m=\u001b[0m \u001b[0mneg_distribution_primes_a_b_mod2\u001b[0m\u001b[0;34m(\u001b[0m\u001b[0mN\u001b[0m\u001b[0;34m,\u001b[0m \u001b[0mD\u001b[0m\u001b[0;34m,\u001b[0m \u001b[0mn\u001b[0m\u001b[0;34m,\u001b[0m \u001b[0minverse_list\u001b[0m\u001b[0;34m)\u001b[0m\u001b[0;34m\u001b[0m\u001b[0;34m\u001b[0m\u001b[0m\n\u001b[0m\u001b[1;32m      6\u001b[0m         \u001b[0;31m#test_dic[distribution] = deviation(distribution)\u001b[0m\u001b[0;34m\u001b[0m\u001b[0;34m\u001b[0m\u001b[0;34m\u001b[0m\u001b[0m\n\u001b[1;32m      7\u001b[0m         \u001b[0;31m#test_dic.update({f\"N = {N}  \"+str(distribution): deviation(distribution)})\u001b[0m\u001b[0;34m\u001b[0m\u001b[0;34m\u001b[0m\u001b[0;34m\u001b[0m\u001b[0m\n",
      "\u001b[0;32m<ipython-input-23-a2f2dedd1ac4>\u001b[0m in \u001b[0;36mneg_distribution_primes_a_b_mod2\u001b[0;34m(N, D, n, LIST)\u001b[0m\n\u001b[1;32m     19\u001b[0m                 \u001b[0mq\u001b[0m \u001b[0;34m=\u001b[0m \u001b[0ma\u001b[0m\u001b[0;34m**\u001b[0m\u001b[0mn\u001b[0m \u001b[0;34m+\u001b[0m \u001b[0mD\u001b[0m\u001b[0;34m*\u001b[0m\u001b[0mb\u001b[0m\u001b[0;34m**\u001b[0m\u001b[0mn\u001b[0m\u001b[0;34m\u001b[0m\u001b[0;34m\u001b[0m\u001b[0m\n\u001b[1;32m     20\u001b[0m                 \u001b[0mM\u001b[0m \u001b[0;34m=\u001b[0m \u001b[0;34m(\u001b[0m\u001b[0mN\u001b[0m\u001b[0;34m**\u001b[0m\u001b[0mn\u001b[0m\u001b[0;34m)\u001b[0m \u001b[0;34m-\u001b[0m \u001b[0;34m(\u001b[0m\u001b[0;34m(\u001b[0m\u001b[0mN\u001b[0m\u001b[0;34m**\u001b[0m\u001b[0mn\u001b[0m\u001b[0;34m)\u001b[0m\u001b[0;34m/\u001b[0m\u001b[0;34m(\u001b[0m\u001b[0;36m2\u001b[0m\u001b[0;34m**\u001b[0m\u001b[0mn\u001b[0m\u001b[0;34m*\u001b[0m\u001b[0;34m(\u001b[0m\u001b[0;34m-\u001b[0m\u001b[0mD\u001b[0m\u001b[0;34m)\u001b[0m\u001b[0;34m)\u001b[0m\u001b[0;34m)\u001b[0m\u001b[0;34m\u001b[0m\u001b[0;34m\u001b[0m\u001b[0m\n\u001b[0;32m---> 21\u001b[0;31m                 \u001b[0;32mif\u001b[0m \u001b[0mq\u001b[0m\u001b[0;34m<\u001b[0m\u001b[0mM\u001b[0m \u001b[0;32mand\u001b[0m \u001b[0misprime\u001b[0m\u001b[0;34m(\u001b[0m\u001b[0mq\u001b[0m\u001b[0;34m)\u001b[0m\u001b[0;34m:\u001b[0m\u001b[0;34m\u001b[0m\u001b[0;34m\u001b[0m\u001b[0m\n\u001b[0m\u001b[1;32m     22\u001b[0m                     \u001b[0;32mfor\u001b[0m \u001b[0mi\u001b[0m \u001b[0;32min\u001b[0m \u001b[0mrange\u001b[0m\u001b[0;34m(\u001b[0m\u001b[0mlen\u001b[0m\u001b[0;34m(\u001b[0m\u001b[0mLIST\u001b[0m\u001b[0;34m)\u001b[0m\u001b[0;34m)\u001b[0m\u001b[0;34m:\u001b[0m\u001b[0;34m\u001b[0m\u001b[0;34m\u001b[0m\u001b[0m\n\u001b[1;32m     23\u001b[0m                         \u001b[0;32mif\u001b[0m \u001b[0mi\u001b[0m\u001b[0;34m==\u001b[0m\u001b[0;36m0\u001b[0m \u001b[0;32mand\u001b[0m \u001b[0mb\u001b[0m\u001b[0;34m/\u001b[0m\u001b[0ma\u001b[0m \u001b[0;34m<=\u001b[0m \u001b[0mLIST\u001b[0m\u001b[0;34m[\u001b[0m\u001b[0;36m0\u001b[0m\u001b[0;34m]\u001b[0m\u001b[0;34m/\u001b[0m\u001b[0;36m10000\u001b[0m\u001b[0;34m:\u001b[0m\u001b[0;34m\u001b[0m\u001b[0;34m\u001b[0m\u001b[0m\n",
      "\u001b[0;32m<ipython-input-2-bcb8faa9e83e>\u001b[0m in \u001b[0;36misprime\u001b[0;34m(n)\u001b[0m\n\u001b[1;32m     11\u001b[0m \u001b[0;34m\u001b[0m\u001b[0m\n\u001b[1;32m     12\u001b[0m     \u001b[0mi\u001b[0m \u001b[0;34m=\u001b[0m \u001b[0;36m5\u001b[0m\u001b[0;34m\u001b[0m\u001b[0;34m\u001b[0m\u001b[0m\n\u001b[0;32m---> 13\u001b[0;31m     \u001b[0;32mwhile\u001b[0m\u001b[0;34m(\u001b[0m\u001b[0mi\u001b[0m \u001b[0;34m*\u001b[0m \u001b[0mi\u001b[0m \u001b[0;34m<=\u001b[0m \u001b[0mn\u001b[0m\u001b[0;34m)\u001b[0m\u001b[0;34m:\u001b[0m\u001b[0;34m\u001b[0m\u001b[0;34m\u001b[0m\u001b[0m\n\u001b[0m\u001b[1;32m     14\u001b[0m         \u001b[0;32mif\u001b[0m \u001b[0;34m(\u001b[0m\u001b[0mn\u001b[0m \u001b[0;34m%\u001b[0m \u001b[0mi\u001b[0m\u001b[0;34m)\u001b[0m \u001b[0;34m==\u001b[0m \u001b[0;36m0\u001b[0m \u001b[0;32mor\u001b[0m \u001b[0mn\u001b[0m \u001b[0;34m%\u001b[0m \u001b[0;34m(\u001b[0m\u001b[0mi\u001b[0m \u001b[0;34m+\u001b[0m \u001b[0;36m2\u001b[0m\u001b[0;34m)\u001b[0m \u001b[0;34m==\u001b[0m \u001b[0;36m0\u001b[0m\u001b[0;34m:\u001b[0m\u001b[0;34m\u001b[0m\u001b[0;34m\u001b[0m\u001b[0m\n\u001b[1;32m     15\u001b[0m             \u001b[0;32mreturn\u001b[0m \u001b[0;32mFalse\u001b[0m\u001b[0;34m\u001b[0m\u001b[0;34m\u001b[0m\u001b[0m\n",
      "\u001b[0;31mKeyboardInterrupt\u001b[0m: "
     ]
    }
   ],
   "source": [
    "neg_mod2_testing(4000,500,-2,3,n_two_third)"
   ]
  },
  {
   "cell_type": "markdown",
   "metadata": {},
   "source": [
    "# Testing: Inverse Distruntion for primes a^3-5b^3"
   ]
  },
  {
   "cell_type": "code",
   "execution_count": 28,
   "metadata": {},
   "outputs": [
    {
     "data": {
      "text/plain": [
       "[250, 500, 750, 1000, 1248, 1496]"
      ]
     },
     "execution_count": 28,
     "metadata": {},
     "output_type": "execute_result"
    }
   ],
   "source": [
    "n_five_third = neg_inverse_distribution_primes_a_b_nth(-5,3)\n",
    "n_five_third"
   ]
  },
  {
   "cell_type": "code",
   "execution_count": 29,
   "metadata": {},
   "outputs": [
    {
     "name": "stdout",
     "output_type": "stream",
     "text": [
      "Distribution of primes of the form a^3 + -5b^3\n",
      "N = 500   [185, 218, 196, 210, 192, 211] 1.1783783783783783\n",
      "N = 1000   [691, 749, 717, 733, 721, 762] 1.1027496382054993\n",
      "N = 1500   [1506, 1565, 1523, 1503, 1552, 1578] 1.0499001996007984\n",
      "N = 2000   [2593, 2654, 2586, 2600, 2611, 2680] 1.0363495746326372\n"
     ]
    }
   ],
   "source": [
    "neg_testing(2000, 500, -5, 3, n_five_third) #rangeN, D, n, inverse_list"
   ]
  },
  {
   "cell_type": "code",
   "execution_count": 30,
   "metadata": {},
   "outputs": [
    {
     "name": "stdout",
     "output_type": "stream",
     "text": [
      "Distribution of primes of the form a^3 + -5b^3\n",
      "N = 500   [99, 109, 94, 104, 102, 100, 86, 109, 102, 106, 90, 111] 1.2906976744186047\n",
      "N = 1000   [354, 367, 352, 362, 365, 362, 337, 382, 365, 371, 356, 400] 1.1869436201780414\n",
      "N = 1500   [756, 781, 767, 739, 796, 746, 750, 784, 756, 764, 756, 832] 1.1258457374830853\n",
      "N = 2000   [1304, 1333, 1302, 1294, 1328, 1288, 1289, 1321, 1284, 1306, 1283, 1392] 1.0849571317225253\n"
     ]
    }
   ],
   "source": [
    "neg_mod2_testing(2000,500,-5,3,n_five_third)"
   ]
  },
  {
   "cell_type": "markdown",
   "metadata": {},
   "source": [
    "# Testing: Inverse Distruntion for primes a^3-6b^3"
   ]
  },
  {
   "cell_type": "code",
   "execution_count": 31,
   "metadata": {},
   "outputs": [
    {
     "data": {
      "text/plain": [
       "[250, 500, 750, 999, 1248, 1495]"
      ]
     },
     "execution_count": 31,
     "metadata": {},
     "output_type": "execute_result"
    }
   ],
   "source": [
    "n_six_third = neg_inverse_distribution_primes_a_b_nth(-6,3)\n",
    "n_six_third"
   ]
  },
  {
   "cell_type": "code",
   "execution_count": 32,
   "metadata": {},
   "outputs": [
    {
     "name": "stdout",
     "output_type": "stream",
     "text": [
      "Distribution of primes of the form a^3 + -6b^3\n",
      "N = 500   [139, 162, 159, 164, 160, 155] 1.1798561151079137\n",
      "N = 1000   [521, 565, 584, 562, 559, 547] 1.1209213051823417\n",
      "N = 1500   [1115, 1195, 1229, 1169, 1182, 1147] 1.1022421524663677\n",
      "N = 2000   [1939, 2008, 2078, 1988, 2026, 2000] 1.071686436307375\n"
     ]
    }
   ],
   "source": [
    "neg_testing(2000, 500, -6, 3, n_six_third) #rangeN, D, n, inverse_list"
   ]
  },
  {
   "cell_type": "code",
   "execution_count": 33,
   "metadata": {},
   "outputs": [
    {
     "name": "stdout",
     "output_type": "stream",
     "text": [
      "Distribution of primes of the form a^3 + -6b^3\n",
      "N = 500   [79, 73, 71, 81, 84, 73, 60, 89, 88, 83, 76, 82] 1.4833333333333334\n",
      "N = 1000   [264, 285, 280, 287, 277, 273, 257, 280, 304, 275, 282, 274] 1.1828793774319066\n",
      "N = 1500   [562, 611, 597, 599, 585, 568, 553, 584, 632, 570, 597, 579] 1.1428571428571428\n",
      "N = 2000   [974, 1005, 1014, 1023, 1008, 1002, 965, 1003, 1064, 965, 1018, 998] 1.1025906735751296\n"
     ]
    }
   ],
   "source": [
    "neg_mod2_testing(2000,500,-6,3,n_six_third)"
   ]
  },
  {
   "cell_type": "markdown",
   "metadata": {},
   "source": [
    "# Testing: Inverse Distruntion for primes a^4-2b^4"
   ]
  },
  {
   "cell_type": "code",
   "execution_count": 16,
   "metadata": {},
   "outputs": [
    {
     "data": {
      "text/plain": [
       "[250, 500, 750, 1000, 1250, 1500]"
      ]
     },
     "execution_count": 16,
     "metadata": {},
     "output_type": "execute_result"
    }
   ],
   "source": [
    "n_two_fourth = neg_inverse_distribution_primes_a_b_nth(-2,4)\n",
    "n_two_fourth"
   ]
  },
  {
   "cell_type": "code",
   "execution_count": 17,
   "metadata": {},
   "outputs": [
    {
     "name": "stdout",
     "output_type": "stream",
     "text": [
      "Distribution of primes of the form a^4 + -2b^4\n",
      "N = 500   [263, 274, 251, 230, 255, 252] 1.191304347826087\n",
      "N = 1000   [902, 910, 921, 884, 885, 937] 1.0599547511312217\n"
     ]
    },
    {
     "ename": "KeyboardInterrupt",
     "evalue": "",
     "output_type": "error",
     "traceback": [
      "\u001b[1;31m---------------------------------------------------------------------------\u001b[0m",
      "\u001b[1;31mKeyboardInterrupt\u001b[0m                         Traceback (most recent call last)",
      "\u001b[1;32m<ipython-input-17-aec82f675208>\u001b[0m in \u001b[0;36m<module>\u001b[1;34m\u001b[0m\n\u001b[1;32m----> 1\u001b[1;33m \u001b[0mneg_testing\u001b[0m\u001b[1;33m(\u001b[0m\u001b[1;36m2000\u001b[0m\u001b[1;33m,\u001b[0m \u001b[1;36m500\u001b[0m\u001b[1;33m,\u001b[0m \u001b[1;33m-\u001b[0m\u001b[1;36m2\u001b[0m\u001b[1;33m,\u001b[0m \u001b[1;36m4\u001b[0m\u001b[1;33m,\u001b[0m \u001b[0mn_two_fourth\u001b[0m\u001b[1;33m)\u001b[0m \u001b[1;31m#rangeN, D, n, inverse_list\u001b[0m\u001b[1;33m\u001b[0m\u001b[1;33m\u001b[0m\u001b[0m\n\u001b[0m",
      "\u001b[1;32m<ipython-input-11-b3e30e89415b>\u001b[0m in \u001b[0;36mneg_testing\u001b[1;34m(rangeN, incre, D, n, inverse_list)\u001b[0m\n\u001b[0;32m      3\u001b[0m     \u001b[0mtest_dic\u001b[0m \u001b[1;33m=\u001b[0m \u001b[0mdict\u001b[0m\u001b[1;33m(\u001b[0m\u001b[1;33m)\u001b[0m\u001b[1;33m\u001b[0m\u001b[1;33m\u001b[0m\u001b[0m\n\u001b[0;32m      4\u001b[0m     \u001b[1;32mfor\u001b[0m \u001b[0mN\u001b[0m \u001b[1;32min\u001b[0m \u001b[0mrange\u001b[0m\u001b[1;33m(\u001b[0m\u001b[0mincre\u001b[0m\u001b[1;33m,\u001b[0m\u001b[0mrangeN\u001b[0m\u001b[1;33m+\u001b[0m\u001b[0mincre\u001b[0m\u001b[1;33m,\u001b[0m \u001b[0mincre\u001b[0m\u001b[1;33m)\u001b[0m\u001b[1;33m:\u001b[0m\u001b[1;33m\u001b[0m\u001b[1;33m\u001b[0m\u001b[0m\n\u001b[1;32m----> 5\u001b[1;33m         \u001b[0mdistribution\u001b[0m \u001b[1;33m=\u001b[0m \u001b[0mneg_distribution_primes_a_b\u001b[0m\u001b[1;33m(\u001b[0m\u001b[0mN\u001b[0m\u001b[1;33m,\u001b[0m \u001b[0mD\u001b[0m\u001b[1;33m,\u001b[0m \u001b[0mn\u001b[0m\u001b[1;33m,\u001b[0m \u001b[0minverse_list\u001b[0m\u001b[1;33m)\u001b[0m\u001b[1;33m\u001b[0m\u001b[1;33m\u001b[0m\u001b[0m\n\u001b[0m\u001b[0;32m      6\u001b[0m         \u001b[1;31m#test_dic[distribution] = deviation(distribution)\u001b[0m\u001b[1;33m\u001b[0m\u001b[1;33m\u001b[0m\u001b[1;33m\u001b[0m\u001b[0m\n\u001b[0;32m      7\u001b[0m         \u001b[1;31m#test_dic.update({f\"N = {N}  \"+str(distribution): deviation(distribution)})\u001b[0m\u001b[1;33m\u001b[0m\u001b[1;33m\u001b[0m\u001b[1;33m\u001b[0m\u001b[0m\n",
      "\u001b[1;32m<ipython-input-10-90d0cd9c035d>\u001b[0m in \u001b[0;36mneg_distribution_primes_a_b\u001b[1;34m(N, D, n, LIST)\u001b[0m\n\u001b[0;32m      7\u001b[0m             \u001b[0mq\u001b[0m \u001b[1;33m=\u001b[0m \u001b[0ma\u001b[0m\u001b[1;33m**\u001b[0m\u001b[0mn\u001b[0m \u001b[1;33m+\u001b[0m \u001b[0mD\u001b[0m\u001b[1;33m*\u001b[0m\u001b[0mb\u001b[0m\u001b[1;33m**\u001b[0m\u001b[0mn\u001b[0m\u001b[1;33m\u001b[0m\u001b[1;33m\u001b[0m\u001b[0m\n\u001b[0;32m      8\u001b[0m             \u001b[0mM\u001b[0m \u001b[1;33m=\u001b[0m \u001b[1;33m(\u001b[0m\u001b[0mN\u001b[0m\u001b[1;33m**\u001b[0m\u001b[0mn\u001b[0m\u001b[1;33m)\u001b[0m \u001b[1;33m-\u001b[0m \u001b[1;33m(\u001b[0m\u001b[1;33m(\u001b[0m\u001b[0mN\u001b[0m\u001b[1;33m**\u001b[0m\u001b[0mn\u001b[0m\u001b[1;33m)\u001b[0m\u001b[1;33m/\u001b[0m\u001b[1;33m(\u001b[0m\u001b[1;36m2\u001b[0m\u001b[1;33m**\u001b[0m\u001b[0mn\u001b[0m\u001b[1;33m*\u001b[0m\u001b[1;33m(\u001b[0m\u001b[1;33m-\u001b[0m\u001b[0mD\u001b[0m\u001b[1;33m)\u001b[0m\u001b[1;33m)\u001b[0m\u001b[1;33m)\u001b[0m\u001b[1;33m\u001b[0m\u001b[1;33m\u001b[0m\u001b[0m\n\u001b[1;32m----> 9\u001b[1;33m             \u001b[1;32mif\u001b[0m \u001b[0mq\u001b[0m\u001b[1;33m<\u001b[0m\u001b[0mM\u001b[0m \u001b[1;32mand\u001b[0m \u001b[0misprime\u001b[0m\u001b[1;33m(\u001b[0m\u001b[0mq\u001b[0m\u001b[1;33m)\u001b[0m\u001b[1;33m:\u001b[0m\u001b[1;33m\u001b[0m\u001b[1;33m\u001b[0m\u001b[0m\n\u001b[0m\u001b[0;32m     10\u001b[0m                 \u001b[1;32mfor\u001b[0m \u001b[0mi\u001b[0m \u001b[1;32min\u001b[0m \u001b[0mrange\u001b[0m\u001b[1;33m(\u001b[0m\u001b[0mlen\u001b[0m\u001b[1;33m(\u001b[0m\u001b[0mLIST\u001b[0m\u001b[1;33m)\u001b[0m\u001b[1;33m)\u001b[0m\u001b[1;33m:\u001b[0m\u001b[1;33m\u001b[0m\u001b[1;33m\u001b[0m\u001b[0m\n\u001b[0;32m     11\u001b[0m                     \u001b[1;32mif\u001b[0m \u001b[0mi\u001b[0m\u001b[1;33m==\u001b[0m\u001b[1;36m0\u001b[0m \u001b[1;32mand\u001b[0m \u001b[0mb\u001b[0m\u001b[1;33m/\u001b[0m\u001b[0ma\u001b[0m \u001b[1;33m<=\u001b[0m \u001b[0mLIST\u001b[0m\u001b[1;33m[\u001b[0m\u001b[1;36m0\u001b[0m\u001b[1;33m]\u001b[0m\u001b[1;33m/\u001b[0m\u001b[1;36m10000\u001b[0m\u001b[1;33m:\u001b[0m\u001b[1;33m\u001b[0m\u001b[1;33m\u001b[0m\u001b[0m\n",
      "\u001b[1;32m<ipython-input-3-bcb8faa9e83e>\u001b[0m in \u001b[0;36misprime\u001b[1;34m(n)\u001b[0m\n\u001b[0;32m     12\u001b[0m     \u001b[0mi\u001b[0m \u001b[1;33m=\u001b[0m \u001b[1;36m5\u001b[0m\u001b[1;33m\u001b[0m\u001b[1;33m\u001b[0m\u001b[0m\n\u001b[0;32m     13\u001b[0m     \u001b[1;32mwhile\u001b[0m\u001b[1;33m(\u001b[0m\u001b[0mi\u001b[0m \u001b[1;33m*\u001b[0m \u001b[0mi\u001b[0m \u001b[1;33m<=\u001b[0m \u001b[0mn\u001b[0m\u001b[1;33m)\u001b[0m\u001b[1;33m:\u001b[0m\u001b[1;33m\u001b[0m\u001b[1;33m\u001b[0m\u001b[0m\n\u001b[1;32m---> 14\u001b[1;33m         \u001b[1;32mif\u001b[0m \u001b[1;33m(\u001b[0m\u001b[0mn\u001b[0m \u001b[1;33m%\u001b[0m \u001b[0mi\u001b[0m\u001b[1;33m)\u001b[0m \u001b[1;33m==\u001b[0m \u001b[1;36m0\u001b[0m \u001b[1;32mor\u001b[0m \u001b[0mn\u001b[0m \u001b[1;33m%\u001b[0m \u001b[1;33m(\u001b[0m\u001b[0mi\u001b[0m \u001b[1;33m+\u001b[0m \u001b[1;36m2\u001b[0m\u001b[1;33m)\u001b[0m \u001b[1;33m==\u001b[0m \u001b[1;36m0\u001b[0m\u001b[1;33m:\u001b[0m\u001b[1;33m\u001b[0m\u001b[1;33m\u001b[0m\u001b[0m\n\u001b[0m\u001b[0;32m     15\u001b[0m             \u001b[1;32mreturn\u001b[0m \u001b[1;32mFalse\u001b[0m\u001b[1;33m\u001b[0m\u001b[1;33m\u001b[0m\u001b[0m\n\u001b[0;32m     16\u001b[0m         \u001b[0mi\u001b[0m \u001b[1;33m=\u001b[0m \u001b[0mi\u001b[0m \u001b[1;33m+\u001b[0m \u001b[1;36m6\u001b[0m\u001b[1;33m\u001b[0m\u001b[1;33m\u001b[0m\u001b[0m\n",
      "\u001b[1;31mKeyboardInterrupt\u001b[0m: "
     ]
    }
   ],
   "source": [
    "neg_testing(1000, 500, -2, 4, n_two_fourth) #rangeN, D, n, inverse_list"
   ]
  },
  {
   "cell_type": "code",
   "execution_count": 18,
   "metadata": {},
   "outputs": [
    {
     "name": "stdout",
     "output_type": "stream",
     "text": [
      "Distribution of primes of the form a^4 + -2b^4\n",
      "N = 500   [133, 126, 138, 117, 120, 126, 130, 148, 113, 113, 135, 126] 1.3097345132743363\n"
     ]
    },
    {
     "ename": "KeyboardInterrupt",
     "evalue": "",
     "output_type": "error",
     "traceback": [
      "\u001b[1;31m---------------------------------------------------------------------------\u001b[0m",
      "\u001b[1;31mKeyboardInterrupt\u001b[0m                         Traceback (most recent call last)",
      "\u001b[1;32m<ipython-input-18-a26a744583ac>\u001b[0m in \u001b[0;36m<module>\u001b[1;34m\u001b[0m\n\u001b[1;32m----> 1\u001b[1;33m \u001b[0mneg_mod2_testing\u001b[0m\u001b[1;33m(\u001b[0m\u001b[1;36m2000\u001b[0m\u001b[1;33m,\u001b[0m\u001b[1;36m500\u001b[0m\u001b[1;33m,\u001b[0m\u001b[1;33m-\u001b[0m\u001b[1;36m2\u001b[0m\u001b[1;33m,\u001b[0m\u001b[1;36m4\u001b[0m\u001b[1;33m,\u001b[0m\u001b[0mn_two_fourth\u001b[0m\u001b[1;33m)\u001b[0m\u001b[1;33m\u001b[0m\u001b[1;33m\u001b[0m\u001b[0m\n\u001b[0m",
      "\u001b[1;32m<ipython-input-15-eb07eeeb4162>\u001b[0m in \u001b[0;36mneg_mod2_testing\u001b[1;34m(rangeN, incre, D, n, inverse_list)\u001b[0m\n\u001b[0;32m      3\u001b[0m     \u001b[0mtest_dic\u001b[0m \u001b[1;33m=\u001b[0m \u001b[0mdict\u001b[0m\u001b[1;33m(\u001b[0m\u001b[1;33m)\u001b[0m\u001b[1;33m\u001b[0m\u001b[1;33m\u001b[0m\u001b[0m\n\u001b[0;32m      4\u001b[0m     \u001b[1;32mfor\u001b[0m \u001b[0mN\u001b[0m \u001b[1;32min\u001b[0m \u001b[0mrange\u001b[0m\u001b[1;33m(\u001b[0m\u001b[0mincre\u001b[0m\u001b[1;33m,\u001b[0m\u001b[0mrangeN\u001b[0m\u001b[1;33m+\u001b[0m\u001b[0mincre\u001b[0m\u001b[1;33m,\u001b[0m \u001b[0mincre\u001b[0m\u001b[1;33m)\u001b[0m\u001b[1;33m:\u001b[0m\u001b[1;33m\u001b[0m\u001b[1;33m\u001b[0m\u001b[0m\n\u001b[1;32m----> 5\u001b[1;33m         \u001b[0mdistribution\u001b[0m \u001b[1;33m=\u001b[0m \u001b[0mneg_distribution_primes_a_b_mod2\u001b[0m\u001b[1;33m(\u001b[0m\u001b[0mN\u001b[0m\u001b[1;33m,\u001b[0m \u001b[0mD\u001b[0m\u001b[1;33m,\u001b[0m \u001b[0mn\u001b[0m\u001b[1;33m,\u001b[0m \u001b[0minverse_list\u001b[0m\u001b[1;33m)\u001b[0m\u001b[1;33m\u001b[0m\u001b[1;33m\u001b[0m\u001b[0m\n\u001b[0m\u001b[0;32m      6\u001b[0m         \u001b[1;31m#test_dic[distribution] = deviation(distribution)\u001b[0m\u001b[1;33m\u001b[0m\u001b[1;33m\u001b[0m\u001b[1;33m\u001b[0m\u001b[0m\n\u001b[0;32m      7\u001b[0m         \u001b[1;31m#test_dic.update({f\"N = {N}  \"+str(distribution): deviation(distribution)})\u001b[0m\u001b[1;33m\u001b[0m\u001b[1;33m\u001b[0m\u001b[1;33m\u001b[0m\u001b[0m\n",
      "\u001b[1;32m<ipython-input-14-a2f2dedd1ac4>\u001b[0m in \u001b[0;36mneg_distribution_primes_a_b_mod2\u001b[1;34m(N, D, n, LIST)\u001b[0m\n\u001b[0;32m     10\u001b[0m                 \u001b[0mq\u001b[0m \u001b[1;33m=\u001b[0m \u001b[0ma\u001b[0m\u001b[1;33m**\u001b[0m\u001b[0mn\u001b[0m \u001b[1;33m+\u001b[0m \u001b[0mD\u001b[0m\u001b[1;33m*\u001b[0m\u001b[0mb\u001b[0m\u001b[1;33m**\u001b[0m\u001b[0mn\u001b[0m\u001b[1;33m\u001b[0m\u001b[1;33m\u001b[0m\u001b[0m\n\u001b[0;32m     11\u001b[0m                 \u001b[0mM\u001b[0m \u001b[1;33m=\u001b[0m \u001b[1;33m(\u001b[0m\u001b[0mN\u001b[0m\u001b[1;33m**\u001b[0m\u001b[0mn\u001b[0m\u001b[1;33m)\u001b[0m \u001b[1;33m-\u001b[0m \u001b[1;33m(\u001b[0m\u001b[1;33m(\u001b[0m\u001b[0mN\u001b[0m\u001b[1;33m**\u001b[0m\u001b[0mn\u001b[0m\u001b[1;33m)\u001b[0m\u001b[1;33m/\u001b[0m\u001b[1;33m(\u001b[0m\u001b[1;36m2\u001b[0m\u001b[1;33m**\u001b[0m\u001b[0mn\u001b[0m\u001b[1;33m*\u001b[0m\u001b[1;33m(\u001b[0m\u001b[1;33m-\u001b[0m\u001b[0mD\u001b[0m\u001b[1;33m)\u001b[0m\u001b[1;33m)\u001b[0m\u001b[1;33m)\u001b[0m\u001b[1;33m\u001b[0m\u001b[1;33m\u001b[0m\u001b[0m\n\u001b[1;32m---> 12\u001b[1;33m                 \u001b[1;32mif\u001b[0m \u001b[0mq\u001b[0m\u001b[1;33m<\u001b[0m\u001b[0mM\u001b[0m \u001b[1;32mand\u001b[0m \u001b[0misprime\u001b[0m\u001b[1;33m(\u001b[0m\u001b[0mq\u001b[0m\u001b[1;33m)\u001b[0m\u001b[1;33m:\u001b[0m\u001b[1;33m\u001b[0m\u001b[1;33m\u001b[0m\u001b[0m\n\u001b[0m\u001b[0;32m     13\u001b[0m                     \u001b[1;32mfor\u001b[0m \u001b[0mi\u001b[0m \u001b[1;32min\u001b[0m \u001b[0mrange\u001b[0m\u001b[1;33m(\u001b[0m\u001b[0mlen\u001b[0m\u001b[1;33m(\u001b[0m\u001b[0mLIST\u001b[0m\u001b[1;33m)\u001b[0m\u001b[1;33m)\u001b[0m\u001b[1;33m:\u001b[0m\u001b[1;33m\u001b[0m\u001b[1;33m\u001b[0m\u001b[0m\n\u001b[0;32m     14\u001b[0m                         \u001b[1;32mif\u001b[0m \u001b[0mi\u001b[0m\u001b[1;33m==\u001b[0m\u001b[1;36m0\u001b[0m \u001b[1;32mand\u001b[0m \u001b[0mb\u001b[0m\u001b[1;33m/\u001b[0m\u001b[0ma\u001b[0m \u001b[1;33m<=\u001b[0m \u001b[0mLIST\u001b[0m\u001b[1;33m[\u001b[0m\u001b[1;36m0\u001b[0m\u001b[1;33m]\u001b[0m\u001b[1;33m/\u001b[0m\u001b[1;36m10000\u001b[0m\u001b[1;33m:\u001b[0m\u001b[1;33m\u001b[0m\u001b[1;33m\u001b[0m\u001b[0m\n",
      "\u001b[1;32m<ipython-input-3-bcb8faa9e83e>\u001b[0m in \u001b[0;36misprime\u001b[1;34m(n)\u001b[0m\n\u001b[0;32m     14\u001b[0m         \u001b[1;32mif\u001b[0m \u001b[1;33m(\u001b[0m\u001b[0mn\u001b[0m \u001b[1;33m%\u001b[0m \u001b[0mi\u001b[0m\u001b[1;33m)\u001b[0m \u001b[1;33m==\u001b[0m \u001b[1;36m0\u001b[0m \u001b[1;32mor\u001b[0m \u001b[0mn\u001b[0m \u001b[1;33m%\u001b[0m \u001b[1;33m(\u001b[0m\u001b[0mi\u001b[0m \u001b[1;33m+\u001b[0m \u001b[1;36m2\u001b[0m\u001b[1;33m)\u001b[0m \u001b[1;33m==\u001b[0m \u001b[1;36m0\u001b[0m\u001b[1;33m:\u001b[0m\u001b[1;33m\u001b[0m\u001b[1;33m\u001b[0m\u001b[0m\n\u001b[0;32m     15\u001b[0m             \u001b[1;32mreturn\u001b[0m \u001b[1;32mFalse\u001b[0m\u001b[1;33m\u001b[0m\u001b[1;33m\u001b[0m\u001b[0m\n\u001b[1;32m---> 16\u001b[1;33m         \u001b[0mi\u001b[0m \u001b[1;33m=\u001b[0m \u001b[0mi\u001b[0m \u001b[1;33m+\u001b[0m \u001b[1;36m6\u001b[0m\u001b[1;33m\u001b[0m\u001b[1;33m\u001b[0m\u001b[0m\n\u001b[0m\u001b[0;32m     17\u001b[0m \u001b[1;33m\u001b[0m\u001b[0m\n\u001b[0;32m     18\u001b[0m     \u001b[1;32mreturn\u001b[0m \u001b[1;32mTrue\u001b[0m\u001b[1;33m\u001b[0m\u001b[1;33m\u001b[0m\u001b[0m\n",
      "\u001b[1;31mKeyboardInterrupt\u001b[0m: "
     ]
    }
   ],
   "source": [
    "neg_mod2_testing(2000,500,-2,4,n_two_fourth)"
   ]
  },
  {
   "cell_type": "markdown",
   "metadata": {},
   "source": [
    "# Testing: Inverse Distruntion for primes a^4-3b^4"
   ]
  },
  {
   "cell_type": "code",
   "execution_count": null,
   "metadata": {},
   "outputs": [],
   "source": [
    "n_three_fourth = neg_inverse_distribution_primes_a_b_nth(-3,4)\n",
    "n_three_fourth"
   ]
  },
  {
   "cell_type": "code",
   "execution_count": null,
   "metadata": {},
   "outputs": [],
   "source": [
    "neg_testing(2000, 500, -3, 4, n_three_fourth) #rangeN, D, n, inverse_list"
   ]
  },
  {
   "cell_type": "code",
   "execution_count": null,
   "metadata": {},
   "outputs": [],
   "source": [
    "neg_mod2_testing(2000,500,-3,4,n_three_fourth)"
   ]
  },
  {
   "cell_type": "markdown",
   "metadata": {},
   "source": [
    "# Testing: Inverse Distruntion for primes a^4-5b^4"
   ]
  },
  {
   "cell_type": "code",
   "execution_count": null,
   "metadata": {},
   "outputs": [],
   "source": [
    "n_five_fourth = neg_inverse_distribution_primes_a_b_nth(-5,4)\n",
    "n_five_fourth"
   ]
  },
  {
   "cell_type": "code",
   "execution_count": null,
   "metadata": {},
   "outputs": [],
   "source": [
    "neg_testing(2000, 500, -5, 4, n_five_fourth) #rangeN, D, n, inverse_list"
   ]
  },
  {
   "cell_type": "code",
   "execution_count": null,
   "metadata": {},
   "outputs": [],
   "source": [
    "neg_mod2_testing(2000,500,-5,4,n_five_fourth)"
   ]
  },
  {
   "cell_type": "markdown",
   "metadata": {},
   "source": [
    "# Testing: Inverse Distruntion for primes a^4-6b^4"
   ]
  },
  {
   "cell_type": "code",
   "execution_count": null,
   "metadata": {},
   "outputs": [],
   "source": [
    "n_six_fourth = neg_inverse_distribution_primes_a_b_nth(-6,4)\n",
    "n_six_fourth"
   ]
  },
  {
   "cell_type": "code",
   "execution_count": null,
   "metadata": {},
   "outputs": [],
   "source": [
    "neg_testing(2000, 500, -6, 4, n_six_fourth) #rangeN, D, n, inverse_list"
   ]
  },
  {
   "cell_type": "code",
   "execution_count": null,
   "metadata": {},
   "outputs": [],
   "source": [
    "neg_mod2_testing(2000,500,-6,4,n_six_fourth)"
   ]
  },
  {
   "cell_type": "markdown",
   "metadata": {},
   "source": [
    "# Testing: Inverse Distruntion for primes a^4-11b^4"
   ]
  },
  {
   "cell_type": "code",
   "execution_count": null,
   "metadata": {},
   "outputs": [],
   "source": [
    "n_eleven_fourth = neg_inverse_distribution_primes_a_b_nth(-11,4)\n",
    "n_eleven_fourth"
   ]
  },
  {
   "cell_type": "code",
   "execution_count": null,
   "metadata": {},
   "outputs": [],
   "source": [
    "neg_testing(2000, 500, -11, 4, n_eleven_fourth) #rangeN, D, n, inverse_list"
   ]
  },
  {
   "cell_type": "code",
   "execution_count": null,
   "metadata": {},
   "outputs": [],
   "source": [
    "neg_mod2_testing(2000,500,-11,4,n_elevem_fourth)"
   ]
  },
  {
   "cell_type": "markdown",
   "metadata": {},
   "source": [
    "# Testing: Inverse Distruntion for primes a^4 + 11b^4"
   ]
  },
  {
   "cell_type": "code",
   "execution_count": null,
   "metadata": {},
   "outputs": [],
   "source": [
    "eleven_fourth = inverse_distribution_primes_a_b_nth(11, 4)\n",
    "eleven_fourth"
   ]
  },
  {
   "cell_type": "code",
   "execution_count": 53,
   "metadata": {},
   "outputs": [
    {
     "data": {
      "text/plain": [
       "[7, 6, 11, 8, 11, 12, 10]"
      ]
     },
     "execution_count": 53,
     "metadata": {},
     "output_type": "execute_result"
    }
   ],
   "source": [
    "dist_eleven_fourth = distribution_primes_a_b(100,11,4, eleven_fourth) # def distribution_primes_a_b(N, D, n, LIST):\n",
    "dist_eleven_fourth"
   ]
  },
  {
   "cell_type": "code",
   "execution_count": null,
   "metadata": {},
   "outputs": [],
   "source": [
    "x = testing(1000, 11, 4, eleven_fourth)\n",
    "x"
   ]
  },
  {
   "cell_type": "raw",
   "metadata": {},
   "source": [
    "x = testing(1000, 11, 4, eleven_fourth)\n",
    "Result:\n",
    "{'N = 100  [7, 6, 11, 8, 11, 12, 10]': 2.0,\n",
    " 'N = 200  [28, 32, 31, 35, 37, 37, 33]': 1.3214285714285714,\n",
    " 'N = 300  [62, 68, 63, 68, 83, 74, 76]': 1.3387096774193548,\n",
    " 'N = 400  [114, 117, 106, 123, 122, 128, 116]': 1.2075471698113207,\n",
    " 'N = 500  [171, 166, 158, 181, 176, 198, 174]': 1.2531645569620253,\n",
    " 'N = 600  [237, 249, 228, 252, 236, 266, 255]': 1.1666666666666667,\n",
    " 'N = 700  [313, 320, 322, 326, 318, 344, 332]': 1.099041533546326,\n",
    " 'N = 800  [388, 396, 409, 410, 414, 434, 418]': 1.1185567010309279,\n",
    " 'N = 900  [485, 501, 519, 506, 509, 528, 527]': 1.088659793814433,\n",
    " 'N = 1000  [593, 616, 623, 611, 618, 641, 646]': 1.0893760539629005}"
   ]
  },
  {
   "cell_type": "code",
   "execution_count": null,
   "metadata": {},
   "outputs": [],
   "source": [
    "mod2_testing(2000,500,11, 4, eleven_fourth)"
   ]
  },
  {
   "cell_type": "markdown",
   "metadata": {},
   "source": [
    "# Testing: Inverse Distruntion for primes a^4 + b^4"
   ]
  },
  {
   "cell_type": "code",
   "execution_count": null,
   "metadata": {},
   "outputs": [],
   "source": [
    "one_fourth = inverse_distribution_primes_a_b_nth(1, 4)\n",
    "one_fourth\n"
   ]
  },
  {
   "cell_type": "code",
   "execution_count": 9,
   "metadata": {
    "scrolled": true
   },
   "outputs": [
    {
     "name": "stdout",
     "output_type": "stream",
     "text": [
      "Distribution of primes of the form a^4 + 1b^4\n"
     ]
    },
    {
     "data": {
      "text/plain": [
       "{'N = 100  [38, 51, 46, 47, 52, 55, 46, 56, 45]': 1.4736842105263157,\n",
       " 'N = 200  [163, 161, 168, 173, 161, 185, 178, 178, 175]': 1.1490683229813665,\n",
       " 'N = 300  [359, 354, 340, 347, 354, 369, 354, 348, 363]': 1.0852941176470587,\n",
       " 'N = 400  [610, 590, 565, 580, 577, 608, 619, 590, 596]': 1.095575221238938,\n",
       " 'N = 500  [913, 910, 845, 869, 878, 913, 904, 872, 887]': 1.0804733727810651,\n",
       " 'N = 600  [1287, 1266, 1195, 1221, 1253, 1272, 1272, 1228, 1247]': 1.0769874476987447,\n",
       " 'N = 700  [1670, 1698, 1596, 1637, 1647, 1686, 1672, 1642, 1636]': 1.0639097744360901,\n",
       " 'N = 800  [2132, 2158, 2056, 2122, 2071, 2103, 2139, 2069, 2133]': 1.0496108949416343,\n",
       " 'N = 900  [2630, 2708, 2598, 2589, 2612, 2607, 2651, 2602, 2639]': 1.0459636925453843,\n",
       " 'N = 1000  [3189, 3275, 3182, 3112, 3178, 3132, 3235, 3110, 3210]': 1.0530546623794212}"
      ]
     },
     "execution_count": 9,
     "metadata": {},
     "output_type": "execute_result"
    }
   ],
   "source": [
    "one_4 = testing(1000, 1, 4, one_fourth)\n",
    "one_4"
   ]
  },
  {
   "cell_type": "code",
   "execution_count": null,
   "metadata": {},
   "outputs": [],
   "source": [
    "mod2_testing(2000,500,1, 4, one_fourth)"
   ]
  },
  {
   "cell_type": "markdown",
   "metadata": {},
   "source": [
    "# Testing: Inverse Distruntion for primes a^4 + 2b^4"
   ]
  },
  {
   "cell_type": "code",
   "execution_count": null,
   "metadata": {},
   "outputs": [],
   "source": [
    "two_fourth = inverse_distribution_primes_a_b_nth(2, 4)\n",
    "two_fourth\n"
   ]
  },
  {
   "cell_type": "code",
   "execution_count": 54,
   "metadata": {
    "scrolled": false
   },
   "outputs": [
    {
     "name": "stdout",
     "output_type": "stream",
     "text": [
      "Distribution of primes of the form a^4 + 2b^4\n"
     ]
    },
    {
     "data": {
      "text/plain": [
       "{'N = 100  [17, 18, 25, 18, 17, 22, 17, 26]': 1.5294117647058822,\n",
       " 'N = 200  [70, 66, 73, 65, 69, 68, 58, 76]': 1.3103448275862069,\n",
       " 'N = 300  [140, 136, 143, 145, 153, 133, 127, 138]': 1.204724409448819,\n",
       " 'N = 400  [224, 228, 241, 251, 241, 229, 215, 234]': 1.1674418604651162,\n",
       " 'N = 500  [331, 336, 363, 376, 354, 352, 342, 361]': 1.13595166163142,\n",
       " 'N = 600  [459, 468, 505, 521, 494, 482, 494, 497]': 1.1350762527233116,\n",
       " 'N = 700  [621, 631, 652, 671, 669, 637, 665, 666]': 1.0805152979066022,\n",
       " 'N = 800  [802, 825, 818, 840, 871, 796, 830, 861]': 1.0942211055276383,\n",
       " 'N = 900  [1016, 1032, 1032, 1043, 1071, 981, 1027, 1063]': 1.091743119266055,\n",
       " 'N = 1000  [1227, 1256, 1276, 1265, 1290, 1195, 1264, 1280]': 1.0794979079497908}"
      ]
     },
     "execution_count": 54,
     "metadata": {},
     "output_type": "execute_result"
    }
   ],
   "source": [
    "two = testing(1000, 2, 4, two_fourth)\n",
    "two"
   ]
  },
  {
   "cell_type": "code",
   "execution_count": null,
   "metadata": {},
   "outputs": [],
   "source": [
    "mod2_testing(2000,500,2, 4, two_fourth)"
   ]
  },
  {
   "cell_type": "markdown",
   "metadata": {},
   "source": [
    "# Testing: Inverse Distruntion for primes a^4 + 3b^4"
   ]
  },
  {
   "cell_type": "code",
   "execution_count": null,
   "metadata": {},
   "outputs": [],
   "source": [
    "three_fourth = inverse_distribution_primes_a_b_nth(3, 4)\n",
    "three_fourth"
   ]
  },
  {
   "cell_type": "code",
   "execution_count": 80,
   "metadata": {},
   "outputs": [
    {
     "name": "stdout",
     "output_type": "stream",
     "text": [
      "Distribution of primes of the form a^4 + 3b^4\n"
     ]
    },
    {
     "data": {
      "text/plain": [
       "{'N = 100  [19, 27, 20, 20, 24, 18, 21, 28]': 1.5555555555555556,\n",
       " 'N = 200  [67, 70, 80, 72, 74, 70, 78, 82]': 1.2238805970149254,\n",
       " 'N = 300  [152, 149, 166, 149, 151, 155, 154, 152]': 1.1140939597315436,\n",
       " 'N = 400  [250, 242, 272, 262, 238, 250, 254, 251]': 1.1428571428571428,\n",
       " 'N = 500  [372, 376, 393, 392, 355, 373, 382, 375]': 1.1070422535211268,\n",
       " 'N = 600  [510, 526, 542, 515, 501, 514, 532, 527]': 1.0818363273453093,\n",
       " 'N = 700  [688, 688, 711, 672, 679, 669, 720, 682]': 1.0762331838565022,\n",
       " 'N = 800  [868, 871, 904, 885, 869, 868, 895, 879]': 1.0414746543778801,\n",
       " 'N = 900  [1063, 1061, 1117, 1085, 1078, 1079, 1117, 1085]': 1.052780395852969,\n",
       " 'N = 1000  [1292, 1301, 1334, 1328, 1322, 1275, 1349, 1290]': 1.0580392156862746}"
      ]
     },
     "execution_count": 80,
     "metadata": {},
     "output_type": "execute_result"
    }
   ],
   "source": [
    "three = testing(1000, 3, 4, three_fourth)\n",
    "three"
   ]
  },
  {
   "cell_type": "code",
   "execution_count": null,
   "metadata": {},
   "outputs": [],
   "source": [
    "mod2_testing(2000,500,3, 4, three_fourth)"
   ]
  },
  {
   "cell_type": "markdown",
   "metadata": {},
   "source": [
    "# Testing: Inverse Distruntion for primes a^4 + 5b^4"
   ]
  },
  {
   "cell_type": "code",
   "execution_count": null,
   "metadata": {},
   "outputs": [],
   "source": [
    "five_fourth = inverse_distribution_primes_a_b_nth(5, 4)\n",
    "five_fourth"
   ]
  },
  {
   "cell_type": "code",
   "execution_count": 82,
   "metadata": {
    "scrolled": true
   },
   "outputs": [
    {
     "name": "stdout",
     "output_type": "stream",
     "text": [
      "Distribution of primes of the form a^4 + 5b^4\n"
     ]
    },
    {
     "data": {
      "text/plain": [
       "{'N = 100  [5, 12, 7, 10, 14, 12, 10, 10]': 2.8,\n",
       " 'N = 200  [20, 35, 34, 36, 40, 32, 42, 35]': 2.1,\n",
       " 'N = 300  [57, 75, 75, 74, 71, 75, 80, 64]': 1.4035087719298245,\n",
       " 'N = 400  [103, 124, 134, 127, 125, 116, 136, 122]': 1.3203883495145632,\n",
       " 'N = 500  [157, 181, 197, 185, 189, 184, 201, 178]': 1.2802547770700636,\n",
       " 'N = 600  [228, 247, 264, 258, 261, 243, 254, 255]': 1.1578947368421053,\n",
       " 'N = 700  [309, 327, 350, 324, 348, 322, 332, 341]': 1.132686084142395,\n",
       " 'N = 800  [396, 414, 437, 415, 438, 414, 429, 429]': 1.106060606060606,\n",
       " 'N = 900  [502, 520, 537, 508, 517, 522, 525, 530]': 1.0697211155378485,\n",
       " 'N = 1000  [621, 623, 648, 623, 605, 638, 634, 627]': 1.0710743801652893}"
      ]
     },
     "execution_count": 82,
     "metadata": {},
     "output_type": "execute_result"
    }
   ],
   "source": [
    "five_4 = testing(1000, 5, 4, five_fourth)\n",
    "five_4"
   ]
  },
  {
   "cell_type": "code",
   "execution_count": null,
   "metadata": {},
   "outputs": [],
   "source": [
    "mod2_testing(2000,500,5, 4, five_fourth)"
   ]
  },
  {
   "cell_type": "markdown",
   "metadata": {},
   "source": [
    "# Testing: Inverse Distruntion for primes a^4 + 6b^4"
   ]
  },
  {
   "cell_type": "code",
   "execution_count": null,
   "metadata": {},
   "outputs": [],
   "source": [
    "six_fourth = inverse_distribution_primes_a_b_nth(6, 4)\n",
    "six_fourth"
   ]
  },
  {
   "cell_type": "code",
   "execution_count": 84,
   "metadata": {},
   "outputs": [
    {
     "name": "stdout",
     "output_type": "stream",
     "text": [
      "Distribution of primes of the form a^4 + 6b^4\n"
     ]
    },
    {
     "data": {
      "text/plain": [
       "{'N = 100  [9, 17, 10, 15, 16, 12, 14]': 1.8888888888888888,\n",
       " 'N = 200  [50, 53, 45, 61, 45, 50, 45]': 1.3555555555555556,\n",
       " 'N = 300  [94, 98, 98, 107, 83, 97, 100]': 1.2891566265060241,\n",
       " 'N = 400  [152, 168, 163, 179, 150, 160, 158]': 1.1933333333333334,\n",
       " 'N = 500  [229, 260, 238, 249, 230, 250, 227]': 1.145374449339207,\n",
       " 'N = 600  [334, 345, 331, 336, 334, 346, 329]': 1.0516717325227964,\n",
       " 'N = 700  [444, 447, 469, 436, 448, 456, 450]': 1.0756880733944953,\n",
       " 'N = 800  [571, 557, 580, 548, 563, 593, 561]': 1.082116788321168,\n",
       " 'N = 900  [732, 692, 699, 711, 692, 736, 687]': 1.0713245997088792,\n",
       " 'N = 1000  [869, 841, 844, 853, 842, 886, 846]': 1.0535077288941737}"
      ]
     },
     "execution_count": 84,
     "metadata": {},
     "output_type": "execute_result"
    }
   ],
   "source": [
    "six_4 = testing(1000, 6, 4, six_fourth)\n",
    "six_4"
   ]
  },
  {
   "cell_type": "code",
   "execution_count": null,
   "metadata": {},
   "outputs": [],
   "source": [
    "mod2_testing(2000,500,6, 4, six_fourth)"
   ]
  },
  {
   "cell_type": "markdown",
   "metadata": {},
   "source": [
    "# Testing: Inverse Distruntion for primes a^3 + 2b^3"
   ]
  },
  {
   "cell_type": "code",
   "execution_count": null,
   "metadata": {},
   "outputs": [],
   "source": [
    "two_third = inverse_distribution_primes_a_b_nth(2, 3)\n",
    "two_third"
   ]
  },
  {
   "cell_type": "code",
   "execution_count": 86,
   "metadata": {},
   "outputs": [
    {
     "name": "stdout",
     "output_type": "stream",
     "text": [
      "Distribution of primes of the form a^3 + 2b^3\n"
     ]
    },
    {
     "data": {
      "text/plain": [
       "{'N = 100  [25, 31, 25, 27, 29, 25, 31, 35]': 1.4,\n",
       " 'N = 200  [90, 107, 86, 101, 98, 88, 93, 95]': 1.244186046511628,\n",
       " 'N = 300  [183, 200, 191, 185, 187, 175, 194, 188]': 1.1428571428571428,\n",
       " 'N = 400  [311, 343, 327, 304, 320, 310, 309, 317]': 1.1282894736842106,\n",
       " 'N = 500  [455, 505, 493, 486, 471, 490, 469, 470]': 1.10989010989011}"
      ]
     },
     "execution_count": 86,
     "metadata": {},
     "output_type": "execute_result"
    }
   ],
   "source": [
    "two_3 = testing(500, 2, 3, two_third)\n",
    "two_3"
   ]
  },
  {
   "cell_type": "code",
   "execution_count": 47,
   "metadata": {},
   "outputs": [
    {
     "name": "stdout",
     "output_type": "stream",
     "text": [
      "Distribution of primes of the form a^3 + 2b^3\n",
      "N = 500   [232, 254, 247, 235, 245, 235, 234, 239, 223, 251, 246, 251, 226, 255, 235, 231] 1.1434977578475336\n",
      "N = 1000   [834, 858, 839, 864, 843, 840, 830, 856, 809, 864, 868, 844, 859, 878, 829, 852] 1.0852904820766378\n",
      "N = 1500   [1827, 1800, 1721, 1765, 1791, 1782, 1761, 1785, 1745, 1793, 1785, 1785, 1795, 1830, 1787, 1799] 1.063335270191749\n",
      "N = 2000   [3067, 2998, 2956, 3037, 3071, 2988, 3015, 3061, 2954, 3048, 3018, 3041, 3030, 3015, 3100, 3043] 1.0494245091401488\n",
      "N = 2500   [4593, 4535, 4504, 4558, 4616, 4555, 4582, 4613, 4480, 4573, 4568, 4543, 4593, 4548, 4652, 4556] 1.0383928571428571\n"
     ]
    },
    {
     "ename": "KeyboardInterrupt",
     "evalue": "",
     "output_type": "error",
     "traceback": [
      "\u001b[0;31m---------------------------------------------------------------------------\u001b[0m",
      "\u001b[0;31mKeyboardInterrupt\u001b[0m                         Traceback (most recent call last)",
      "\u001b[0;32m<ipython-input-47-6d8327f8af5c>\u001b[0m in \u001b[0;36m<module>\u001b[0;34m\u001b[0m\n\u001b[0;32m----> 1\u001b[0;31m \u001b[0mmod2_testing\u001b[0m\u001b[0;34m(\u001b[0m\u001b[0;36m4000\u001b[0m\u001b[0;34m,\u001b[0m\u001b[0;36m500\u001b[0m\u001b[0;34m,\u001b[0m\u001b[0;36m2\u001b[0m\u001b[0;34m,\u001b[0m\u001b[0;36m3\u001b[0m\u001b[0;34m,\u001b[0m \u001b[0mtwo_third\u001b[0m\u001b[0;34m)\u001b[0m\u001b[0;34m\u001b[0m\u001b[0;34m\u001b[0m\u001b[0m\n\u001b[0m",
      "\u001b[0;32m<ipython-input-35-e6d7d1f46b43>\u001b[0m in \u001b[0;36mmod2_testing\u001b[0;34m(rangeN, incre, D, n, inverse_list)\u001b[0m\n\u001b[1;32m      3\u001b[0m     \u001b[0mtest_dic\u001b[0m \u001b[0;34m=\u001b[0m \u001b[0mdict\u001b[0m\u001b[0;34m(\u001b[0m\u001b[0;34m)\u001b[0m\u001b[0;34m\u001b[0m\u001b[0;34m\u001b[0m\u001b[0m\n\u001b[1;32m      4\u001b[0m     \u001b[0;32mfor\u001b[0m \u001b[0mN\u001b[0m \u001b[0;32min\u001b[0m \u001b[0mrange\u001b[0m\u001b[0;34m(\u001b[0m\u001b[0mincre\u001b[0m\u001b[0;34m,\u001b[0m\u001b[0mrangeN\u001b[0m\u001b[0;34m+\u001b[0m\u001b[0mincre\u001b[0m\u001b[0;34m,\u001b[0m \u001b[0mincre\u001b[0m\u001b[0;34m)\u001b[0m\u001b[0;34m:\u001b[0m\u001b[0;34m\u001b[0m\u001b[0;34m\u001b[0m\u001b[0m\n\u001b[0;32m----> 5\u001b[0;31m         \u001b[0mdistribution\u001b[0m \u001b[0;34m=\u001b[0m \u001b[0mdistribution_primes_a_b_mod2\u001b[0m\u001b[0;34m(\u001b[0m\u001b[0mN\u001b[0m\u001b[0;34m,\u001b[0m \u001b[0mD\u001b[0m\u001b[0;34m,\u001b[0m \u001b[0mn\u001b[0m\u001b[0;34m,\u001b[0m \u001b[0minverse_list\u001b[0m\u001b[0;34m)\u001b[0m\u001b[0;34m\u001b[0m\u001b[0;34m\u001b[0m\u001b[0m\n\u001b[0m\u001b[1;32m      6\u001b[0m         \u001b[0;31m#test_dic[distribution] = deviation(distribution)\u001b[0m\u001b[0;34m\u001b[0m\u001b[0;34m\u001b[0m\u001b[0;34m\u001b[0m\u001b[0m\n\u001b[1;32m      7\u001b[0m         \u001b[0;31m#test_dic.update({f\"N = {N}  \"+str(distribution): deviation(distribution)})\u001b[0m\u001b[0;34m\u001b[0m\u001b[0;34m\u001b[0m\u001b[0;34m\u001b[0m\u001b[0m\n",
      "\u001b[0;32m<ipython-input-30-da3134d53dda>\u001b[0m in \u001b[0;36mdistribution_primes_a_b_mod2\u001b[0;34m(N, D, n, LIST)\u001b[0m\n\u001b[1;32m     18\u001b[0m                 \u001b[0mq\u001b[0m \u001b[0;34m=\u001b[0m \u001b[0ma\u001b[0m\u001b[0;34m**\u001b[0m\u001b[0mn\u001b[0m \u001b[0;34m+\u001b[0m \u001b[0mD\u001b[0m\u001b[0;34m*\u001b[0m\u001b[0mb\u001b[0m\u001b[0;34m**\u001b[0m\u001b[0mn\u001b[0m\u001b[0;34m\u001b[0m\u001b[0;34m\u001b[0m\u001b[0m\n\u001b[1;32m     19\u001b[0m                 \u001b[0mM\u001b[0m \u001b[0;34m=\u001b[0m \u001b[0;34m(\u001b[0m\u001b[0mN\u001b[0m\u001b[0;34m**\u001b[0m\u001b[0mn\u001b[0m\u001b[0;34m)\u001b[0m\u001b[0;34m/\u001b[0m\u001b[0;34m(\u001b[0m\u001b[0mD\u001b[0m\u001b[0;34m+\u001b[0m\u001b[0;36m1\u001b[0m\u001b[0;34m)\u001b[0m\u001b[0;34m\u001b[0m\u001b[0;34m\u001b[0m\u001b[0m\n\u001b[0;32m---> 20\u001b[0;31m                 \u001b[0;32mif\u001b[0m \u001b[0mq\u001b[0m\u001b[0;34m<\u001b[0m\u001b[0mM\u001b[0m \u001b[0;32mand\u001b[0m \u001b[0misprime\u001b[0m\u001b[0;34m(\u001b[0m\u001b[0mq\u001b[0m\u001b[0;34m)\u001b[0m\u001b[0;34m:\u001b[0m\u001b[0;34m\u001b[0m\u001b[0;34m\u001b[0m\u001b[0m\n\u001b[0m\u001b[1;32m     21\u001b[0m                     \u001b[0;32mfor\u001b[0m \u001b[0mi\u001b[0m \u001b[0;32min\u001b[0m \u001b[0mrange\u001b[0m\u001b[0;34m(\u001b[0m\u001b[0mlen\u001b[0m\u001b[0;34m(\u001b[0m\u001b[0mLIST\u001b[0m\u001b[0;34m)\u001b[0m\u001b[0;34m)\u001b[0m\u001b[0;34m:\u001b[0m\u001b[0;34m\u001b[0m\u001b[0;34m\u001b[0m\u001b[0m\n\u001b[1;32m     22\u001b[0m                         \u001b[0;32mif\u001b[0m \u001b[0mi\u001b[0m\u001b[0;34m==\u001b[0m\u001b[0;36m0\u001b[0m \u001b[0;32mand\u001b[0m \u001b[0mb\u001b[0m\u001b[0;34m/\u001b[0m\u001b[0ma\u001b[0m \u001b[0;34m<=\u001b[0m \u001b[0mLIST\u001b[0m\u001b[0;34m[\u001b[0m\u001b[0;36m0\u001b[0m\u001b[0;34m]\u001b[0m\u001b[0;34m/\u001b[0m\u001b[0;36m10000\u001b[0m\u001b[0;34m:\u001b[0m\u001b[0;34m\u001b[0m\u001b[0;34m\u001b[0m\u001b[0m\n",
      "\u001b[0;32m<ipython-input-2-bcb8faa9e83e>\u001b[0m in \u001b[0;36misprime\u001b[0;34m(n)\u001b[0m\n\u001b[1;32m     11\u001b[0m \u001b[0;34m\u001b[0m\u001b[0m\n\u001b[1;32m     12\u001b[0m     \u001b[0mi\u001b[0m \u001b[0;34m=\u001b[0m \u001b[0;36m5\u001b[0m\u001b[0;34m\u001b[0m\u001b[0;34m\u001b[0m\u001b[0m\n\u001b[0;32m---> 13\u001b[0;31m     \u001b[0;32mwhile\u001b[0m\u001b[0;34m(\u001b[0m\u001b[0mi\u001b[0m \u001b[0;34m*\u001b[0m \u001b[0mi\u001b[0m \u001b[0;34m<=\u001b[0m \u001b[0mn\u001b[0m\u001b[0;34m)\u001b[0m\u001b[0;34m:\u001b[0m\u001b[0;34m\u001b[0m\u001b[0;34m\u001b[0m\u001b[0m\n\u001b[0m\u001b[1;32m     14\u001b[0m         \u001b[0;32mif\u001b[0m \u001b[0;34m(\u001b[0m\u001b[0mn\u001b[0m \u001b[0;34m%\u001b[0m \u001b[0mi\u001b[0m\u001b[0;34m)\u001b[0m \u001b[0;34m==\u001b[0m \u001b[0;36m0\u001b[0m \u001b[0;32mor\u001b[0m \u001b[0mn\u001b[0m \u001b[0;34m%\u001b[0m \u001b[0;34m(\u001b[0m\u001b[0mi\u001b[0m \u001b[0;34m+\u001b[0m \u001b[0;36m2\u001b[0m\u001b[0;34m)\u001b[0m \u001b[0;34m==\u001b[0m \u001b[0;36m0\u001b[0m\u001b[0;34m:\u001b[0m\u001b[0;34m\u001b[0m\u001b[0;34m\u001b[0m\u001b[0m\n\u001b[1;32m     15\u001b[0m             \u001b[0;32mreturn\u001b[0m \u001b[0;32mFalse\u001b[0m\u001b[0;34m\u001b[0m\u001b[0;34m\u001b[0m\u001b[0m\n",
      "\u001b[0;31mKeyboardInterrupt\u001b[0m: "
     ]
    }
   ],
   "source": [
    "mod2_testing(2000,500,2,3, two_third)"
   ]
  },
  {
   "cell_type": "markdown",
   "metadata": {},
   "source": [
    "# Testing: Inverse Distruntion for primes a^3 + 3b^3"
   ]
  },
  {
   "cell_type": "code",
   "execution_count": null,
   "metadata": {},
   "outputs": [],
   "source": [
    "three_third = inverse_distribution_primes_a_b_nth(3, 3)\n",
    "three_third"
   ]
  },
  {
   "cell_type": "code",
   "execution_count": 88,
   "metadata": {},
   "outputs": [
    {
     "name": "stdout",
     "output_type": "stream",
     "text": [
      "Distribution of primes of the form a^3 + 3b^3\n"
     ]
    },
    {
     "data": {
      "text/plain": [
       "{'N = 100  [24, 30, 24, 28, 23, 27, 28]': 1.3043478260869565,\n",
       " 'N = 200  [81, 87, 83, 69, 87, 91, 81]': 1.318840579710145,\n",
       " 'N = 300  [163, 186, 169, 151, 188, 180, 168]': 1.2450331125827814,\n",
       " 'N = 400  [276, 299, 291, 263, 307, 297, 290]': 1.167300380228137,\n",
       " 'N = 500  [420, 448, 420, 394, 450, 452, 432]': 1.1472081218274113}"
      ]
     },
     "execution_count": 88,
     "metadata": {},
     "output_type": "execute_result"
    }
   ],
   "source": [
    "three_3 = testing(500, 3, 3, three_third)\n",
    "three_3"
   ]
  },
  {
   "cell_type": "code",
   "execution_count": 49,
   "metadata": {},
   "outputs": [
    {
     "name": "stdout",
     "output_type": "stream",
     "text": [
      "Distribution of primes of the form a^3 + 3b^3\n",
      "N = 500   [221, 228, 214, 204, 243, 220, 219, 199, 220, 206, 190, 207, 232, 213] 1.2789473684210526\n",
      "N = 1000   [750, 750, 764, 733, 778, 750, 779, 747, 737, 761, 749, 759, 760, 751] 1.0627557980900408\n",
      "N = 1500   [1563, 1583, 1627, 1582, 1635, 1563, 1582, 1615, 1580, 1569, 1600, 1591, 1617, 1596] 1.0460652591170825\n",
      "N = 2000   [2689, 2676, 2745, 2685, 2740, 2659, 2705, 2725, 2691, 2684, 2704, 2687, 2712, 2727] 1.0323429860849944\n",
      "N = 2500   [4102, 4038, 4147, 4074, 4108, 4014, 4099, 4085, 4071, 4033, 4078, 4082, 4052, 4107] 1.0331340308918784\n"
     ]
    }
   ],
   "source": [
    "mod2_testing(2500,500,3,3, three_third)"
   ]
  },
  {
   "cell_type": "markdown",
   "metadata": {},
   "source": [
    "# Testing: Inverse Distruntion for primes a^3 + 5b^3"
   ]
  },
  {
   "cell_type": "code",
   "execution_count": null,
   "metadata": {},
   "outputs": [],
   "source": [
    "five_third = inverse_distribution_primes_a_b_nth(5, 3)\n",
    "five_third"
   ]
  },
  {
   "cell_type": "code",
   "execution_count": 90,
   "metadata": {},
   "outputs": [
    {
     "name": "stdout",
     "output_type": "stream",
     "text": [
      "Distribution of primes of the form a^3 + 5b^3\n"
     ]
    },
    {
     "data": {
      "text/plain": [
       "{'N = 100  [13, 19, 14, 22, 15, 17, 15]': 1.6923076923076923,\n",
       " 'N = 200  [48, 57, 56, 55, 56, 53, 51]': 1.1875,\n",
       " 'N = 300  [110, 114, 118, 114, 115, 114, 111]': 1.0727272727272728,\n",
       " 'N = 400  [181, 189, 179, 187, 198, 191, 193]': 1.106145251396648,\n",
       " 'N = 500  [271, 283, 279, 274, 290, 280, 287]': 1.070110701107011,\n",
       " 'N = 600  [385, 384, 388, 393, 391, 369, 403]': 1.0921409214092141,\n",
       " 'N = 700  [508, 504, 502, 530, 516, 495, 526]': 1.0707070707070707,\n",
       " 'N = 800  [639, 651, 648, 666, 660, 644, 651]': 1.0422535211267605,\n",
       " 'N = 900  [798, 815, 811, 812, 809, 794, 808]': 1.026448362720403,\n",
       " 'N = 1000  [965, 979, 978, 973, 975, 965, 970]': 1.0145077720207254}"
      ]
     },
     "execution_count": 90,
     "metadata": {},
     "output_type": "execute_result"
    }
   ],
   "source": [
    "five_3 = testing(1000, 5, 3, five_third)\n",
    "five_3"
   ]
  },
  {
   "cell_type": "code",
   "execution_count": null,
   "metadata": {},
   "outputs": [],
   "source": [
    "mod2_testing(2000,500,5,3, five_third)"
   ]
  },
  {
   "cell_type": "markdown",
   "metadata": {},
   "source": [
    "# Testing: Inverse Distruntion for primes a^3 + 6b^3"
   ]
  },
  {
   "cell_type": "code",
   "execution_count": null,
   "metadata": {},
   "outputs": [],
   "source": [
    "six_third = inverse_distribution_primes_a_b_nth(6, 3)\n",
    "six_third"
   ]
  },
  {
   "cell_type": "code",
   "execution_count": 92,
   "metadata": {
    "scrolled": true
   },
   "outputs": [
    {
     "name": "stdout",
     "output_type": "stream",
     "text": [
      "Distribution of primes of the form a^3 + 6b^3\n"
     ]
    },
    {
     "data": {
      "text/plain": [
       "{'N = 100  [9, 14, 9, 8, 15, 11]': 1.875,\n",
       " 'N = 200  [34, 35, 36, 42, 42, 44]': 1.2941176470588236,\n",
       " 'N = 300  [71, 75, 74, 83, 83, 87]': 1.2253521126760563,\n",
       " 'N = 400  [124, 118, 132, 138, 141, 143]': 1.2118644067796611,\n",
       " 'N = 500  [196, 181, 213, 194, 199, 224]': 1.2375690607734806,\n",
       " 'N = 600  [278, 255, 293, 277, 254, 297]': 1.169291338582677,\n",
       " 'N = 700  [360, 341, 388, 370, 352, 372]': 1.1378299120234605,\n",
       " 'N = 800  [470, 434, 497, 473, 446, 477]': 1.1451612903225807,\n",
       " 'N = 900  [576, 554, 597, 577, 555, 578]': 1.0776173285198556,\n",
       " 'N = 1000  [691, 670, 719, 703, 681, 700]': 1.0731343283582089}"
      ]
     },
     "execution_count": 92,
     "metadata": {},
     "output_type": "execute_result"
    }
   ],
   "source": [
    "six_3 = testing(1000, 6, 3, six_third)\n",
    "six_3"
   ]
  },
  {
   "cell_type": "code",
   "execution_count": null,
   "metadata": {},
   "outputs": [],
   "source": [
    "mod2_testing(2000,500,6,3, six_third)"
   ]
  },
  {
   "cell_type": "code",
   "execution_count": null,
   "metadata": {},
   "outputs": [],
   "source": []
  },
  {
   "cell_type": "markdown",
   "metadata": {},
   "source": [
    "# Testing: Inverse Distruntion for primes a^2 + b^2"
   ]
  },
  {
   "cell_type": "code",
   "execution_count": 10,
   "metadata": {},
   "outputs": [
    {
     "data": {
      "text/plain": [
       "[1004, 2028, 3094, 4229, 5464, 6842, 8424]"
      ]
     },
     "execution_count": 10,
     "metadata": {},
     "output_type": "execute_result"
    }
   ],
   "source": [
    "one_second = inverse_distribution_primes_a_b_nth(1,2)\n",
    "one_second\n"
   ]
  },
  {
   "cell_type": "code",
   "execution_count": 11,
   "metadata": {
    "scrolled": true
   },
   "outputs": [
    {
     "name": "stdout",
     "output_type": "stream",
     "text": [
      "Distribution of primes of the form a^2 + 1b^2\n"
     ]
    },
    {
     "data": {
      "text/plain": [
       "{'N = 100  [36, 40, 42, 43, 47, 41, 43]': 1.3055555555555556,\n",
       " 'N = 200  [138, 140, 147, 140, 149, 143, 141]': 1.0797101449275361,\n",
       " 'N = 300  [290, 296, 299, 298, 295, 291, 295]': 1.0310344827586206,\n",
       " 'N = 400  [482, 498, 508, 502, 487, 506, 497]': 1.053941908713693,\n",
       " 'N = 500  [735, 745, 750, 739, 734, 748, 750]': 1.021798365122616,\n",
       " 'N = 600  [1014, 1049, 1048, 1038, 1030, 1041, 1063]': 1.0483234714003944,\n",
       " 'N = 700  [1345, 1395, 1372, 1380, 1361, 1383, 1381]': 1.037174721189591,\n",
       " 'N = 800  [1725, 1766, 1754, 1759, 1746, 1752, 1774]': 1.0284057971014493,\n",
       " 'N = 900  [2149, 2166, 2192, 2185, 2167, 2187, 2186]': 1.0200093066542577,\n",
       " 'N = 1000  [2631, 2631, 2654, 2640, 2621, 2658, 2655]': 1.014116749332316,\n",
       " 'N = 1100  [3128, 3130, 3156, 3143, 3132, 3179, 3153]': 1.016304347826087,\n",
       " 'N = 1200  [3684, 3670, 3699, 3676, 3693, 3721, 3682]': 1.0138964577656675,\n",
       " 'N = 1300  [4248, 4274, 4286, 4272, 4278, 4287, 4272]': 1.009180790960452,\n",
       " 'N = 1400  [4871, 4886, 4930, 4901, 4901, 4898, 4904]': 1.012112502566208,\n",
       " 'N = 1500  [5529, 5558, 5591, 5580, 5578, 5575, 5558]': 1.0112136010128414,\n",
       " 'N = 1600  [6231, 6272, 6273, 6270, 6299, 6268, 6254]': 1.010913176055208,\n",
       " 'N = 1700  [6958, 7024, 7026, 7016, 7035, 7037, 6984]': 1.0113538373095716,\n",
       " 'N = 1800  [7742, 7801, 7805, 7795, 7826, 7810, 7769]': 1.0108499095840868,\n",
       " 'N = 1900  [8553, 8640, 8620, 8616, 8629, 8618, 8609]': 1.0101718695194668,\n",
       " 'N = 2000  [9408, 9487, 9508, 9474, 9485, 9483, 9467]': 1.0106292517006803,\n",
       " 'N = 2100  [10310, 10381, 10391, 10363, 10384, 10387, 10370]': 1.0078564500484966,\n",
       " 'N = 2200  [11210, 11313, 11348, 11276, 11300, 11296, 11315]': 1.0123104371097236,\n",
       " 'N = 2300  [12181, 12321, 12308, 12275, 12254, 12260, 12275]': 1.011493309252114,\n",
       " 'N = 2400  [13196, 13343, 13325, 13282, 13247, 13299, 13285]': 1.011139739314944,\n",
       " 'N = 2500  [14245, 14407, 14338, 14293, 14308, 14349, 14337]': 1.0113724113724114,\n",
       " 'N = 2600  [15321, 15486, 15414, 15381, 15396, 15434, 15427]': 1.0107695320148815,\n",
       " 'N = 2700  [16423, 16596, 16541, 16470, 16545, 16547, 16530]': 1.0105340071850453,\n",
       " 'N = 2800  [17576, 17760, 17691, 17650, 17729, 17677, 17691]': 1.0104688211197086,\n",
       " 'N = 2900  [18754, 18941, 18873, 18871, 18918, 18877, 18899]': 1.0099712061426895,\n",
       " 'N = 3000  [19966, 20173, 20090, 20111, 20159, 20105, 20121]': 1.010367624962436,\n",
       " 'N = 3100  [21249, 21450, 21363, 21396, 21387, 21362, 21387]': 1.009459268671467,\n",
       " 'N = 3200  [22545, 22757, 22646, 22722, 22694, 22668, 22697]': 1.0094034153914393,\n",
       " 'N = 3300  [23888, 24106, 23962, 24026, 24028, 23986, 24011]': 1.009125920964501,\n",
       " 'N = 3400  [25259, 25438, 25339, 25431, 25377, 25371, 25387]': 1.0070865830001188,\n",
       " 'N = 3500  [26638, 26910, 26766, 26821, 26777, 26767, 26799]': 1.01021097680006,\n",
       " 'N = 3600  [28082, 28325, 28189, 28281, 28213, 28205, 28242]': 1.0086532298269355,\n",
       " 'N = 3700  [29578, 29771, 29673, 29748, 29717, 29710, 29730]': 1.0065251200216376,\n",
       " 'N = 3800  [31112, 31263, 31181, 31262, 31230, 31218, 31262]': 1.0048534327590641,\n",
       " 'N = 3900  [32645, 32809, 32717, 32795, 32786, 32779, 32778]': 1.0050237402358708,\n",
       " 'N = 4000  [34246, 34386, 34300, 34415, 34358, 34324, 34356]': 1.0049348829060327}"
      ]
     },
     "execution_count": 11,
     "metadata": {},
     "output_type": "execute_result"
    }
   ],
   "source": [
    "one_2 = testing(4000, 1, 2, one_second)\n",
    "one_2"
   ]
  },
  {
   "cell_type": "code",
   "execution_count": 44,
   "metadata": {
    "scrolled": true
   },
   "outputs": [
    {
     "name": "stdout",
     "output_type": "stream",
     "text": [
      "Distribution of primes of the form a^2 + 1b^2\n",
      "N = 500   [370, 378, 369, 379, 363, 376, 375, 365, 367, 381, 360, 371, 372, 375] 1.0583333333333333\n",
      "N = 1000   [1320, 1324, 1329, 1332, 1305, 1311, 1334, 1311, 1307, 1325, 1308, 1316, 1347, 1321] 1.032183908045977\n",
      "N = 1500   [2773, 2808, 2795, 2798, 2782, 2785, 2785, 2756, 2750, 2796, 2782, 2796, 2790, 2773] 1.021090909090909\n",
      "N = 2000   [4708, 4749, 4754, 4740, 4720, 4766, 4724, 4700, 4738, 4754, 4734, 4765, 4717, 4743] 1.0140425531914894\n",
      "N = 2500   [7151, 7201, 7154, 7124, 7154, 7220, 7150, 7094, 7206, 7184, 7169, 7154, 7129, 7187] 1.0177614885819002\n",
      "N = 3000   [10031, 10092, 10053, 10036, 10085, 10115, 10036, 9935, 10081, 10037, 10075, 10074, 9990, 10085] 1.0181177654755913\n",
      "N = 3500   [13403, 13453, 13375, 13392, 13399, 13407, 13379, 13235, 13457, 13391, 13429, 13378, 13360, 13420] 1.0167737060823574\n",
      "N = 4000   [17199, 17162, 17134, 17199, 17184, 17180, 17167, 17047, 17224, 17166, 17216, 17174, 17144, 17189] 1.0103830586026867\n"
     ]
    }
   ],
   "source": [
    "mod2_testing(4000,500,1,2, one_second)"
   ]
  },
  {
   "cell_type": "markdown",
   "metadata": {},
   "source": [
    "# Testing: Inverse Distruntion for primes a^2 + 2b^2"
   ]
  },
  {
   "cell_type": "code",
   "execution_count": 93,
   "metadata": {},
   "outputs": [
    {
     "data": {
      "text/plain": [
       "[1007, 2056, 3195, 4490, 6043, 8027]"
      ]
     },
     "execution_count": 93,
     "metadata": {},
     "output_type": "execute_result"
    }
   ],
   "source": [
    "two_second = inverse_distribution_primes_a_b_nth(2,2)\n",
    "two_second"
   ]
  },
  {
   "cell_type": "code",
   "execution_count": 94,
   "metadata": {},
   "outputs": [
    {
     "name": "stdout",
     "output_type": "stream",
     "text": [
      "Distribution of primes of the form a^2 + 2b^2\n"
     ]
    },
    {
     "data": {
      "text/plain": [
       "{'N = 100  [14, 23, 25, 19, 22, 21]': 1.7857142857142858,\n",
       " 'N = 200  [61, 75, 67, 72, 67, 72]': 1.2295081967213115,\n",
       " 'N = 300  [140, 144, 144, 143, 150, 148]': 1.0714285714285714,\n",
       " 'N = 400  [238, 238, 246, 240, 245, 247]': 1.0378151260504203,\n",
       " 'N = 500  [362, 358, 365, 363, 366, 368]': 1.0279329608938548,\n",
       " 'N = 600  [506, 500, 511, 498, 516, 518]': 1.0401606425702812,\n",
       " 'N = 700  [672, 665, 670, 651, 688, 673]': 1.0568356374807988,\n",
       " 'N = 800  [850, 850, 849, 857, 868, 860]': 1.022379269729093,\n",
       " 'N = 900  [1049, 1053, 1058, 1066, 1070, 1065]': 1.0200190657769304,\n",
       " 'N = 1000  [1273, 1276, 1288, 1290, 1293, 1290]': 1.0157109190887668,\n",
       " 'N = 1100  [1512, 1507, 1536, 1529, 1542, 1518]': 1.0232249502322495,\n",
       " 'N = 1200  [1780, 1779, 1802, 1796, 1811, 1783]': 1.0179876335019673,\n",
       " 'N = 1300  [2070, 2062, 2088, 2088, 2079, 2084]': 1.0126091173617846,\n",
       " 'N = 1400  [2386, 2379, 2384, 2395, 2386, 2384]': 1.0067255149222363,\n",
       " 'N = 1500  [2685, 2704, 2705, 2713, 2705, 2709]': 1.0104283054003724,\n",
       " 'N = 1600  [3021, 3056, 3067, 3035, 3057, 3044]': 1.0152267461105595,\n",
       " 'N = 1700  [3376, 3409, 3432, 3390, 3412, 3412]': 1.0165876777251184,\n",
       " 'N = 1800  [3762, 3793, 3804, 3761, 3774, 3795]': 1.0114331294868386,\n",
       " 'N = 1900  [4140, 4202, 4208, 4165, 4185, 4204]': 1.0164251207729469,\n",
       " 'N = 2000  [4556, 4594, 4626, 4576, 4581, 4626]': 1.0153643546971027,\n",
       " 'N = 2100  [4995, 5026, 5074, 5027, 5013, 5050]': 1.015815815815816,\n",
       " 'N = 2200  [5464, 5472, 5514, 5482, 5465, 5528]': 1.0117130307467057,\n",
       " 'N = 2300  [5921, 5951, 5961, 5949, 5930, 5985]': 1.0108089849687554,\n",
       " 'N = 2400  [6428, 6435, 6458, 6439, 6422, 6461]': 1.0060728744939271,\n",
       " 'N = 2500  [6920, 6954, 6963, 6936, 6931, 6959]': 1.00621387283237,\n",
       " 'N = 2600  [7433, 7480, 7493, 7460, 7468, 7482]': 1.008072110856989,\n",
       " 'N = 2700  [7988, 8017, 8034, 7994, 7977, 8043]': 1.0082737871380218,\n",
       " 'N = 2800  [8537, 8579, 8620, 8553, 8510, 8606]': 1.0129259694477086,\n",
       " 'N = 2900  [9102, 9148, 9204, 9162, 9096, 9177]': 1.0118733509234827,\n",
       " 'N = 3000  [9683, 9763, 9801, 9757, 9688, 9795]': 1.0121863058969327,\n",
       " 'N = 3100  [10279, 10375, 10399, 10394, 10309, 10392]': 1.011674287382041,\n",
       " 'N = 3200  [10914, 11022, 11043, 11043, 10925, 11020]': 1.0118196811434854,\n",
       " 'N = 3300  [11555, 11653, 11713, 11711, 11578, 11675]': 1.0136737343141498,\n",
       " 'N = 3400  [12200, 12315, 12388, 12366, 12205, 12332]': 1.0154098360655737,\n",
       " 'N = 3500  [12858, 12999, 13066, 13023, 12902, 13039]': 1.0161766993311556,\n",
       " 'N = 3600  [13556, 13694, 13765, 13711, 13610, 13757]': 1.015417527294187,\n",
       " 'N = 3700  [14274, 14421, 14465, 14428, 14334, 14465]': 1.013380972397366,\n",
       " 'N = 3800  [15011, 15135, 15229, 15176, 15073, 15175]': 1.0145226833655319,\n",
       " 'N = 3900  [15770, 15900, 16005, 15883, 15841, 15905]': 1.0149017121116044,\n",
       " 'N = 4000  [16554, 16683, 16742, 16656, 16613, 16678]': 1.011356771777214}"
      ]
     },
     "execution_count": 94,
     "metadata": {},
     "output_type": "execute_result"
    }
   ],
   "source": [
    "two_2 = testing(4000, 2, 2, two_second)\n",
    "two_2"
   ]
  },
  {
   "cell_type": "code",
   "execution_count": 42,
   "metadata": {},
   "outputs": [
    {
     "name": "stdout",
     "output_type": "stream",
     "text": [
      "Distribution of primes of the form a^2 + 2b^2\n",
      "N = 500   [190, 168, 195, 180, 188, 179, 172, 190, 170, 183, 178, 189] 1.1607142857142858\n",
      "N = 1000   [663, 623, 655, 639, 653, 645, 610, 653, 633, 651, 640, 645] 1.0868852459016394\n",
      "N = 1500   [1383, 1351, 1350, 1339, 1343, 1366, 1302, 1353, 1355, 1374, 1362, 1343] 1.0622119815668203\n",
      "N = 2000   [2326, 2304, 2300, 2279, 2267, 2321, 2230, 2290, 2326, 2297, 2314, 2305] 1.04304932735426\n",
      "N = 2500   [3495, 3492, 3489, 3459, 3435, 3489, 3425, 3462, 3474, 3477, 3496, 3470] 1.0207299270072994\n",
      "N = 3000   [4889, 4888, 4887, 4894, 4806, 4941, 4794, 4875, 4914, 4863, 4882, 4854] 1.0306633291614518\n",
      "N = 3500   [6468, 6532, 6534, 6518, 6407, 6556, 6390, 6467, 6532, 6505, 6495, 6483] 1.0259780907668232\n",
      "N = 4000   [8311, 8359, 8381, 8359, 8273, 8384, 8243, 8324, 8361, 8297, 8340, 8294] 1.0171054227829674\n"
     ]
    }
   ],
   "source": [
    "mod2_testing(4000,500,2,2, two_second)"
   ]
  },
  {
   "cell_type": "markdown",
   "metadata": {},
   "source": [
    "# Testing: Inverse Distruntion for primes a^2 + 3b^2"
   ]
  },
  {
   "cell_type": "code",
   "execution_count": 95,
   "metadata": {},
   "outputs": [
    {
     "data": {
      "text/plain": [
       "[1011, 2085, 3303, 4793, 6790, 9820]"
      ]
     },
     "execution_count": 95,
     "metadata": {},
     "output_type": "execute_result"
    }
   ],
   "source": [
    "three_second = inverse_distribution_primes_a_b_nth(3,2)\n",
    "three_second"
   ]
  },
  {
   "cell_type": "code",
   "execution_count": 96,
   "metadata": {},
   "outputs": [
    {
     "name": "stdout",
     "output_type": "stream",
     "text": [
      "Distribution of primes of the form a^2 + 3b^2\n"
     ]
    },
    {
     "data": {
      "text/plain": [
       "{'N = 100  [16, 19, 19, 23, 21, 18]': 1.4375,\n",
       " 'N = 200  [62, 75, 61, 74, 67, 65]': 1.2295081967213115,\n",
       " 'N = 300  [127, 144, 140, 143, 132, 139]': 1.1338582677165354,\n",
       " 'N = 400  [219, 238, 227, 236, 226, 232]': 1.08675799086758,\n",
       " 'N = 500  [335, 344, 346, 348, 339, 343]': 1.0388059701492538,\n",
       " 'N = 600  [459, 478, 487, 473, 487, 491]': 1.0697167755991286,\n",
       " 'N = 700  [614, 627, 641, 631, 648, 637]': 1.0553745928338762,\n",
       " 'N = 800  [785, 809, 819, 804, 823, 817]': 1.048407643312102,\n",
       " 'N = 900  [979, 1006, 1009, 994, 1011, 1008]': 1.0326864147088866,\n",
       " 'N = 1000  [1187, 1215, 1225, 1197, 1230, 1217]': 1.0362257792754843,\n",
       " 'N = 1100  [1415, 1446, 1461, 1431, 1447, 1459]': 1.0325088339222614,\n",
       " 'N = 1200  [1681, 1692, 1705, 1682, 1693, 1693]': 1.0142772159428912,\n",
       " 'N = 1300  [1926, 1962, 1963, 1957, 1963, 1969]': 1.0223260643821392,\n",
       " 'N = 1400  [2214, 2250, 2252, 2237, 2243, 2279]': 1.0293586269196024,\n",
       " 'N = 1500  [2516, 2550, 2546, 2543, 2557, 2584]': 1.027027027027027,\n",
       " 'N = 1600  [2847, 2863, 2858, 2875, 2870, 2899]': 1.0182648401826484,\n",
       " 'N = 1700  [3166, 3210, 3193, 3213, 3217, 3242]': 1.0240050536955148,\n",
       " 'N = 1800  [3527, 3570, 3556, 3568, 3577, 3576]': 1.0141763538417918,\n",
       " 'N = 1900  [3899, 3938, 3928, 3936, 3958, 3957]': 1.0151320851500385,\n",
       " 'N = 2000  [4280, 4319, 4320, 4329, 4349, 4355]': 1.0175233644859814,\n",
       " 'N = 2100  [4694, 4733, 4704, 4731, 4767, 4763]': 1.0155517682147421,\n",
       " 'N = 2200  [5123, 5162, 5126, 5162, 5177, 5178]': 1.0107358969353895,\n",
       " 'N = 2300  [5576, 5605, 5571, 5590, 5616, 5628]': 1.0102315562735595,\n",
       " 'N = 2400  [6011, 6085, 6030, 6047, 6070, 6085]': 1.0123107636000666,\n",
       " 'N = 2500  [6476, 6555, 6492, 6532, 6538, 6594]': 1.0182211241507104,\n",
       " 'N = 2600  [6991, 7047, 6980, 7055, 7010, 7085]': 1.0150429799426934,\n",
       " 'N = 2700  [7477, 7566, 7486, 7564, 7511, 7600]': 1.016450448040658,\n",
       " 'N = 2800  [8028, 8072, 8025, 8072, 8008, 8117]': 1.0136113886113887,\n",
       " 'N = 2900  [8567, 8595, 8548, 8633, 8566, 8649]': 1.011815629386991,\n",
       " 'N = 3000  [9140, 9169, 9088, 9206, 9129, 9218]': 1.0143045774647887,\n",
       " 'N = 3100  [9700, 9754, 9660, 9772, 9692, 9765]': 1.0115942028985507,\n",
       " 'N = 3200  [10293, 10315, 10254, 10366, 10247, 10374]': 1.0123938713769884,\n",
       " 'N = 3300  [10878, 10923, 10868, 10965, 10873, 10971]': 1.0094773647405226,\n",
       " 'N = 3400  [11497, 11560, 11482, 11577, 11491, 11591]': 1.0094931196655634,\n",
       " 'N = 3500  [12104, 12184, 12117, 12236, 12138, 12250]': 1.0120621282220754,\n",
       " 'N = 3600  [12778, 12835, 12771, 12898, 12782, 12926]': 1.0121368726019888,\n",
       " 'N = 3700  [13445, 13517, 13463, 13541, 13466, 13568]': 1.009148382298252,\n",
       " 'N = 3800  [14117, 14202, 14180, 14212, 14136, 14254]': 1.0097046114613586,\n",
       " 'N = 3900  [14824, 14874, 14896, 14916, 14832, 14938]': 1.0076902320561252,\n",
       " 'N = 4000  [15536, 15613, 15615, 15618, 15568, 15657]': 1.0077883625128734}"
      ]
     },
     "execution_count": 96,
     "metadata": {},
     "output_type": "execute_result"
    }
   ],
   "source": [
    "three_2 = testing(4000, 3, 2, three_second)\n",
    "three_2"
   ]
  },
  {
   "cell_type": "code",
   "execution_count": 36,
   "metadata": {},
   "outputs": [
    {
     "name": "stdout",
     "output_type": "stream",
     "text": [
      "Distribution of primes of the form a^2 + 3b^2\n",
      "N = 500   [172, 171, 171, 184, 163, 176, 163, 173, 175, 164, 176, 167] 1.1288343558282208\n",
      "N = 1000   [606, 603, 615, 596, 614, 632, 581, 612, 610, 601, 616, 585] 1.0877796901893289\n",
      "N = 1500   [1273, 1270, 1270, 1272, 1285, 1299, 1243, 1280, 1276, 1271, 1272, 1285] 1.0450522928399035\n",
      "N = 2000   [2157, 2173, 2165, 2161, 2181, 2154, 2123, 2146, 2155, 2168, 2168, 2201] 1.036740461610928\n",
      "N = 2500   [3248, 3316, 3268, 3252, 3275, 3277, 3228, 3239, 3224, 3280, 3263, 3317] 1.0288461538461537\n",
      "N = 3000   [4573, 4629, 4552, 4605, 4548, 4563, 4567, 4540, 4536, 4601, 4581, 4655] 1.0262345679012346\n",
      "N = 3500   [6077, 6142, 6078, 6116, 6074, 6104, 6027, 6042, 6039, 6120, 6064, 6146] 1.0197444831591174\n",
      "N = 4000   [7783, 7834, 7834, 7785, 7814, 7816, 7753, 7779, 7781, 7833, 7754, 7841] 1.0113504449890365\n"
     ]
    }
   ],
   "source": [
    "mod2_testing(4000,500,3,2, three_second)"
   ]
  },
  {
   "cell_type": "markdown",
   "metadata": {},
   "source": [
    "# Testing: Inverse Distruntion for primes a^2 + 5b^2"
   ]
  },
  {
   "cell_type": "code",
   "execution_count": 97,
   "metadata": {},
   "outputs": [
    {
     "data": {
      "text/plain": [
       "[1018, 2146, 3550, 5573, 9196]"
      ]
     },
     "execution_count": 97,
     "metadata": {},
     "output_type": "execute_result"
    }
   ],
   "source": [
    "five_second = inverse_distribution_primes_a_b_nth(5,2)\n",
    "five_second"
   ]
  },
  {
   "cell_type": "code",
   "execution_count": 98,
   "metadata": {},
   "outputs": [
    {
     "name": "stdout",
     "output_type": "stream",
     "text": [
      "Distribution of primes of the form a^2 + 5b^2\n"
     ]
    },
    {
     "data": {
      "text/plain": [
       "{'N = 100  [7, 9, 8, 9, 10]': 1.4285714285714286,\n",
       " 'N = 200  [26, 28, 28, 29, 29]': 1.1153846153846154,\n",
       " 'N = 300  [58, 62, 62, 59, 60]': 1.0689655172413792,\n",
       " 'N = 400  [98, 99, 103, 105, 102]': 1.0714285714285714,\n",
       " 'N = 500  [143, 146, 158, 155, 156]': 1.1048951048951048,\n",
       " 'N = 600  [203, 212, 220, 214, 206]': 1.083743842364532,\n",
       " 'N = 700  [270, 279, 292, 282, 279]': 1.0814814814814815,\n",
       " 'N = 800  [347, 351, 366, 356, 355]': 1.0547550432276658,\n",
       " 'N = 900  [442, 432, 456, 436, 436]': 1.0555555555555556,\n",
       " 'N = 1000  [530, 533, 545, 536, 537]': 1.028301886792453,\n",
       " 'N = 1100  [627, 636, 645, 645, 630]': 1.0287081339712918,\n",
       " 'N = 1200  [738, 746, 755, 757, 750]': 1.0257452574525745,\n",
       " 'N = 1300  [854, 862, 869, 884, 870]': 1.035128805620609,\n",
       " 'N = 1400  [983, 984, 1004, 1015, 989]': 1.0325534079348933,\n",
       " 'N = 1500  [1115, 1115, 1147, 1152, 1129]': 1.0331838565022422,\n",
       " 'N = 1600  [1247, 1259, 1297, 1287, 1261]': 1.0400962309542903,\n",
       " 'N = 1700  [1394, 1420, 1454, 1433, 1414]': 1.043041606886657,\n",
       " 'N = 1800  [1540, 1575, 1612, 1594, 1572]': 1.0467532467532468,\n",
       " 'N = 1900  [1700, 1747, 1781, 1749, 1742]': 1.0476470588235294,\n",
       " 'N = 2000  [1873, 1922, 1953, 1921, 1918]': 1.0427122263747999,\n",
       " 'N = 2100  [2045, 2099, 2133, 2101, 2109]': 1.0430317848410757,\n",
       " 'N = 2200  [2233, 2293, 2317, 2281, 2288]': 1.0376175548589341,\n",
       " 'N = 2300  [2423, 2485, 2512, 2463, 2484]': 1.036731324803962,\n",
       " 'N = 2400  [2631, 2707, 2709, 2668, 2679]': 1.0296465222348916,\n",
       " 'N = 2500  [2845, 2930, 2913, 2865, 2877]': 1.0298769771528997,\n",
       " 'N = 2600  [3052, 3152, 3145, 3087, 3105]': 1.0327653997378767,\n",
       " 'N = 2700  [3278, 3374, 3366, 3320, 3341]': 1.0292861500915191,\n",
       " 'N = 2800  [3508, 3576, 3605, 3559, 3567]': 1.0276510832383123,\n",
       " 'N = 2900  [3751, 3825, 3822, 3789, 3797]': 1.0197280725139963,\n",
       " 'N = 3000  [3989, 4065, 4077, 4020, 4058]': 1.022060666833793,\n",
       " 'N = 3100  [4231, 4331, 4333, 4289, 4295]': 1.0241077759394943,\n",
       " 'N = 3200  [4502, 4598, 4593, 4543, 4555]': 1.0213238560639715,\n",
       " 'N = 3300  [4775, 4875, 4868, 4814, 4807]': 1.0209424083769634,\n",
       " 'N = 3400  [5037, 5150, 5152, 5106, 5096]': 1.0228310502283104,\n",
       " 'N = 3500  [5313, 5432, 5434, 5386, 5362]': 1.0227743271221532,\n",
       " 'N = 3600  [5606, 5724, 5730, 5655, 5648]': 1.0221191580449518,\n",
       " 'N = 3700  [5888, 6018, 6027, 5966, 5949]': 1.0236073369565217,\n",
       " 'N = 3800  [6186, 6307, 6331, 6280, 6248]': 1.0234400258648562,\n",
       " 'N = 3900  [6501, 6619, 6619, 6602, 6545]': 1.0181510536840486,\n",
       " 'N = 4000  [6820, 6950, 6937, 6918, 6864]': 1.0190615835777126}"
      ]
     },
     "execution_count": 98,
     "metadata": {},
     "output_type": "execute_result"
    }
   ],
   "source": [
    "five_2 = testing(4000, 5, 2, five_second)\n",
    "five_2"
   ]
  },
  {
   "cell_type": "code",
   "execution_count": 38,
   "metadata": {},
   "outputs": [
    {
     "name": "stdout",
     "output_type": "stream",
     "text": [
      "Distribution of primes of the form a^2 + 5b^2\n",
      "N = 500   [79, 72, 86, 71, 79, 64, 74, 72, 84, 77] 1.34375\n",
      "N = 1000   [279, 263, 278, 265, 265, 251, 270, 267, 271, 272] 1.1115537848605577\n",
      "N = 1500   [582, 558, 579, 579, 553, 533, 557, 568, 573, 576] 1.0919324577861163\n",
      "N = 2000   [960, 958, 982, 970, 947, 913, 964, 971, 951, 971] 1.0755750273822562\n",
      "N = 2500   [1444, 1465, 1461, 1444, 1425, 1401, 1465, 1452, 1421, 1452] 1.0456816559600286\n",
      "N = 3000   [2018, 2039, 2029, 2040, 2012, 1971, 2026, 2048, 1980, 2046] 1.039066463723998\n",
      "N = 3500   [2667, 2726, 2714, 2713, 2671, 2646, 2706, 2720, 2673, 2691] 1.0302343159486016\n",
      "N = 4000   [3422, 3478, 3472, 3479, 3414, 3398, 3472, 3465, 3439, 3450] 1.0238375515008828\n"
     ]
    }
   ],
   "source": [
    "mod2_testing(4000,500,5,2, five_second)"
   ]
  },
  {
   "cell_type": "markdown",
   "metadata": {},
   "source": [
    "# Testing: Inverse Distruntion for primes a^2 + 6b^2"
   ]
  },
  {
   "cell_type": "code",
   "execution_count": 99,
   "metadata": {},
   "outputs": [
    {
     "data": {
      "text/plain": [
       "[1021, 2178, 3690, 6086]"
      ]
     },
     "execution_count": 99,
     "metadata": {},
     "output_type": "execute_result"
    }
   ],
   "source": [
    "six_second = inverse_distribution_primes_a_b_nth(6,2)\n",
    "six_second"
   ]
  },
  {
   "cell_type": "code",
   "execution_count": 100,
   "metadata": {
    "scrolled": true
   },
   "outputs": [
    {
     "name": "stdout",
     "output_type": "stream",
     "text": [
      "Distribution of primes of the form a^2 + 6b^2\n"
     ]
    },
    {
     "data": {
      "text/plain": [
       "{'N = 100  [8, 7, 8, 8]': 1.1428571428571428,\n",
       " 'N = 200  [24, 27, 29, 34]': 1.4166666666666667,\n",
       " 'N = 300  [52, 57, 58, 60]': 1.1538461538461537,\n",
       " 'N = 400  [89, 91, 106, 94]': 1.1910112359550562,\n",
       " 'N = 500  [141, 144, 150, 140]': 1.0714285714285714,\n",
       " 'N = 600  [195, 203, 198, 198]': 1.041025641025641,\n",
       " 'N = 700  [256, 269, 261, 264]': 1.05078125,\n",
       " 'N = 800  [327, 347, 342, 342]': 1.0611620795107033,\n",
       " 'N = 900  [402, 426, 422, 422]': 1.0597014925373134,\n",
       " 'N = 1000  [489, 507, 512, 515]': 1.0531697341513293,\n",
       " 'N = 1100  [594, 614, 607, 612]': 1.0336700336700337,\n",
       " 'N = 1200  [696, 722, 725, 719]': 1.0416666666666667,\n",
       " 'N = 1300  [802, 835, 836, 827]': 1.0423940149625934,\n",
       " 'N = 1400  [916, 953, 966, 952]': 1.054585152838428,\n",
       " 'N = 1500  [1048, 1086, 1088, 1081]': 1.0381679389312977,\n",
       " 'N = 1600  [1178, 1221, 1197, 1214]': 1.0365025466893039,\n",
       " 'N = 1700  [1310, 1368, 1357, 1352]': 1.0442748091603054,\n",
       " 'N = 1800  [1451, 1522, 1518, 1494]': 1.0489317711922812,\n",
       " 'N = 1900  [1613, 1681, 1684, 1659]': 1.0440173589584625,\n",
       " 'N = 2000  [1762, 1844, 1835, 1823]': 1.0465380249716232,\n",
       " 'N = 2100  [1939, 2009, 2005, 1986]': 1.036101083032491,\n",
       " 'N = 2200  [2113, 2181, 2178, 2162]': 1.032181732134406,\n",
       " 'N = 2300  [2308, 2371, 2373, 2333]': 1.0281629116117852,\n",
       " 'N = 2400  [2506, 2558, 2565, 2529]': 1.0235434956105347,\n",
       " 'N = 2500  [2701, 2761, 2753, 2713]': 1.0222139948167346,\n",
       " 'N = 2600  [2906, 2954, 2981, 2921]': 1.0258086717136958,\n",
       " 'N = 2700  [3125, 3169, 3207, 3145]': 1.02624,\n",
       " 'N = 2800  [3346, 3394, 3426, 3357]': 1.0239091452480573,\n",
       " 'N = 2900  [3563, 3628, 3651, 3576]': 1.0246982879595847,\n",
       " 'N = 3000  [3798, 3873, 3888, 3806]': 1.0236966824644549,\n",
       " 'N = 3100  [4025, 4103, 4120, 4045]': 1.0236024844720497,\n",
       " 'N = 3200  [4268, 4348, 4384, 4295]': 1.0271790065604498,\n",
       " 'N = 3300  [4531, 4608, 4643, 4543]': 1.0247186051644228,\n",
       " 'N = 3400  [4783, 4873, 4906, 4786]': 1.0257160777754548,\n",
       " 'N = 3500  [5056, 5139, 5184, 5049]': 1.0267379679144386,\n",
       " 'N = 3600  [5338, 5416, 5451, 5334]': 1.0219347581552305,\n",
       " 'N = 3700  [5637, 5682, 5732, 5593]': 1.024852494189165,\n",
       " 'N = 3800  [5915, 5966, 6006, 5886]': 1.020387359836901,\n",
       " 'N = 3900  [6218, 6262, 6300, 6197]': 1.0166209456188477,\n",
       " 'N = 4000  [6514, 6553, 6609, 6522]': 1.0145839729812711}"
      ]
     },
     "execution_count": 100,
     "metadata": {},
     "output_type": "execute_result"
    }
   ],
   "source": [
    "six_2 = testing(4000, 6, 2, six_second)\n",
    "six_2"
   ]
  },
  {
   "cell_type": "code",
   "execution_count": 40,
   "metadata": {},
   "outputs": [
    {
     "name": "stdout",
     "output_type": "stream",
     "text": [
      "Distribution of primes of the form a^2 + 6b^2\n",
      "N = 500   [78, 72, 78, 69, 63, 72, 72, 71] 1.2380952380952381\n",
      "N = 1000   [254, 258, 258, 260, 235, 249, 254, 255] 1.1063829787234043\n",
      "N = 1500   [538, 547, 548, 555, 510, 539, 540, 526] 1.088235294117647\n",
      "N = 2000   [903, 924, 930, 928, 859, 920, 905, 895] 1.0826542491268918\n",
      "N = 2500   [1374, 1386, 1386, 1370, 1327, 1375, 1367, 1343] 1.0444611906556143\n",
      "N = 3000   [1930, 1930, 1929, 1934, 1868, 1943, 1959, 1872] 1.0487152034261242\n",
      "N = 3500   [2549, 2573, 2569, 2562, 2507, 2566, 2615, 2487] 1.0514676316847607\n",
      "N = 4000   [3273, 3297, 3279, 3306, 3241, 3256, 3330, 3216] 1.0354477611940298\n"
     ]
    }
   ],
   "source": [
    "mod2_testing(4000,500,6,2, six_second)"
   ]
  },
  {
   "cell_type": "code",
   "execution_count": 19,
   "metadata": {},
   "outputs": [],
   "source": [
    "import numpy as np"
   ]
  },
  {
   "cell_type": "code",
   "execution_count": 23,
   "metadata": {},
   "outputs": [],
   "source": [
    "hun_array = np.array([3273, 3297, 3279, 3306, 3241, 3256, 3330, 3216])"
   ]
  },
  {
   "cell_type": "code",
   "execution_count": 24,
   "metadata": {},
   "outputs": [],
   "source": [
    "error_ = np.std(hun_array)/np.mean(hun_array)"
   ]
  },
  {
   "cell_type": "code",
   "execution_count": 25,
   "metadata": {},
   "outputs": [
    {
     "data": {
      "text/plain": [
       "0.010516052610089251"
      ]
     },
     "execution_count": 25,
     "metadata": {},
     "output_type": "execute_result"
    }
   ],
   "source": [
    "error_"
   ]
  },
  {
   "cell_type": "code",
   "execution_count": 22,
   "metadata": {},
   "outputs": [
    {
     "data": {
      "text/plain": [
       "0.02948954767824944"
      ]
     },
     "execution_count": 22,
     "metadata": {},
     "output_type": "execute_result"
    }
   ],
   "source": [
    "np.std(np.array([254, 258, 258, 260, 235, 249, 254, 255]))/np.mean(np.array([254, 258, 258, 260, 235, 249, 254, 255]))"
   ]
  },
  {
   "cell_type": "code",
   "execution_count": 26,
   "metadata": {},
   "outputs": [],
   "source": [
    "import math"
   ]
  },
  {
   "cell_type": "code",
   "execution_count": 28,
   "metadata": {},
   "outputs": [
    {
     "ename": "AttributeError",
     "evalue": "module 'math' has no attribute 'dev'",
     "output_type": "error",
     "traceback": [
      "\u001b[1;31m---------------------------------------------------------------------------\u001b[0m",
      "\u001b[1;31mAttributeError\u001b[0m                            Traceback (most recent call last)",
      "\u001b[1;32m<ipython-input-28-84a9eae65932>\u001b[0m in \u001b[0;36m<module>\u001b[1;34m\u001b[0m\n\u001b[1;32m----> 1\u001b[1;33m \u001b[0mmath\u001b[0m\u001b[1;33m.\u001b[0m\u001b[0mdev\u001b[0m\u001b[1;33m(\u001b[0m\u001b[1;33m[\u001b[0m\u001b[1;36m3273\u001b[0m\u001b[1;33m,\u001b[0m \u001b[1;36m3297\u001b[0m\u001b[1;33m,\u001b[0m \u001b[1;36m3279\u001b[0m\u001b[1;33m,\u001b[0m \u001b[1;36m3306\u001b[0m\u001b[1;33m,\u001b[0m \u001b[1;36m3241\u001b[0m\u001b[1;33m,\u001b[0m \u001b[1;36m3256\u001b[0m\u001b[1;33m,\u001b[0m \u001b[1;36m3330\u001b[0m\u001b[1;33m,\u001b[0m \u001b[1;36m3216\u001b[0m\u001b[1;33m]\u001b[0m\u001b[1;33m)\u001b[0m\u001b[1;33m\u001b[0m\u001b[1;33m\u001b[0m\u001b[0m\n\u001b[0m",
      "\u001b[1;31mAttributeError\u001b[0m: module 'math' has no attribute 'dev'"
     ]
    }
   ],
   "source": [
    "math.dev([3273, 3297, 3279, 3306, 3241, 3256, 3330, 3216])"
   ]
  },
  {
   "cell_type": "code",
   "execution_count": null,
   "metadata": {},
   "outputs": [],
   "source": []
  }
 ],
 "metadata": {
  "kernelspec": {
   "display_name": "Python 3",
   "language": "python",
   "name": "python3"
  },
  "language_info": {
   "codemirror_mode": {
    "name": "ipython",
    "version": 3
   },
   "file_extension": ".py",
   "mimetype": "text/x-python",
   "name": "python",
   "nbconvert_exporter": "python",
   "pygments_lexer": "ipython3",
   "version": "3.8.5"
  }
 },
 "nbformat": 4,
 "nbformat_minor": 4
}
