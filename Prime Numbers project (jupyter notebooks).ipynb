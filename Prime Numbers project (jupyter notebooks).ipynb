{
 "cells": [
  {
   "cell_type": "code",
   "execution_count": 1,
   "metadata": {},
   "outputs": [],
   "source": [
    "import time\n",
    "import math"
   ]
  },
  {
   "cell_type": "code",
   "execution_count": 2,
   "metadata": {},
   "outputs": [],
   "source": [
    "def round(primes):\n",
    "  zero = 0\n",
    "  one = 0\n",
    "  two = 0\n",
    "  three = 0\n",
    "  four = 0\n",
    "  five = 0\n",
    "  six = 0\n",
    "  seven = 0\n",
    "  eight = 0\n",
    "  nine = 0\n",
    "  ten = 0\n",
    "  eleven = 0\n",
    "  twelve = 0\n",
    "  thirteen = 0\n",
    "  fourteen = 0\n",
    "  fifteen = 0\n",
    "  sixteen = 0\n",
    "  seventeen = 0\n",
    "  eighteen = 0\n",
    "  nineteen =0\n",
    "  twenty = 0\n",
    "  other = 0\n",
    "  for i in primes:\n",
    "    if i < 0.1:\n",
    "      zero+=1\n",
    "    elif i > 0.1 and i<0.2:\n",
    "      one += 1\n",
    "    elif i > 0.2 and i<0.3:\n",
    "      two += 1\n",
    "    elif i > 0.3 and i<0.4:\n",
    "      three += 1\n",
    "    elif i > 0.4 and i<0.5:\n",
    "      four +=1\n",
    "    elif i > 0.5 and i<0.6:\n",
    "      five +=1\n",
    "    elif i > 0.6 and i<0.7:\n",
    "      six += 1\n",
    "    elif i > 0.7 and i<0.8:\n",
    "      seven += 1\n",
    "    elif i > 0.8 and i<0.9:\n",
    "      eight += 1\n",
    "    elif i > 0.9 and i<1:\n",
    "      nine += 1\n",
    "    elif i > 1 and i<1.1:\n",
    "      ten += 1\n",
    "    elif i > 1.1 and i<1.2:\n",
    "      eleven += 1\n",
    "    elif i > 1.2 and i<1.3:\n",
    "      twelve += 1\n",
    "    elif i > 1.3 and i<1.4:\n",
    "      thirteen += 1\n",
    "    elif i > 1.4 and i<1.5:\n",
    "      fourteen += 1\n",
    "    elif i > 1.5 and i<1.6:\n",
    "      fifteen += 1\n",
    "    elif i > 1.6 and i<1.7:\n",
    "      sixteen += 1\n",
    "    elif i > 1.7 and i<1.8:\n",
    "      seventeen += 1\n",
    "    elif i > 1.8 and i<1.9:\n",
    "      eighteen += 1\n",
    "    elif i > 1.9 and i<2.0:\n",
    "      nineteen += 1\n",
    "    elif i > 2.0 and i< 2.1:\n",
    "      twenty += 1\n",
    "    else:\n",
    "      other+=1\n",
    "  print(\"0.0: \", zero)\n",
    "  print(\"0.1: \", one)\n",
    "  print(\"0.2: \", two)\n",
    "  print(\"0.3: \", three)\n",
    "  print(\"0.4: \", four)\n",
    "  print(\"0.5: \", five)\n",
    "  print(\"0.6: \", six)\n",
    "  print(\"0.7: \", seven)\n",
    "  print(\"0.8: \", eight)\n",
    "  print(\"0.9: \", nine)\n",
    "  print(\"1.0: \", ten)\n",
    "  print(\"1.1: \", eleven)\n",
    "  print(\"1.2: \", twelve)\n",
    "  print(\"1.3: \", thirteen)\n",
    "  print(\"1.4: \", fourteen)\n",
    "  print(\"1.5: \", fifteen)\n",
    "  print(\"1.6: \", sixteen)\n",
    "  print(\"1.7: \", seventeen)\n",
    "  print(\"1.8: \", eighteen)\n",
    "  print(\"1.9: \", nineteen)\n",
    "  print(\"2.0: \", twenty)\n",
    "  print(\"other: \", other)"
   ]
  },
  {
   "cell_type": "code",
   "execution_count": 3,
   "metadata": {},
   "outputs": [],
   "source": [
    "def isprime(n) :\n",
    "    if (n <= 1):\n",
    "        return False\n",
    "    if (n <= 3):\n",
    "        return True\n",
    " \n",
    "    # This is checked so that we can skip\n",
    "    # middle five numbers in below loop\n",
    "    if (n % 2 == 0 or n % 3 == 0):\n",
    "        return False\n",
    " \n",
    "    i = 5\n",
    "    while(i * i <= n):\n",
    "        if (n % i) == 0 or n % (i + 2) == 0:\n",
    "            return False\n",
    "        i = i + 6\n",
    " \n",
    "    return True"
   ]
  },
  {
   "cell_type": "code",
   "execution_count": 4,
   "metadata": {},
   "outputs": [
    {
     "data": {
      "text/plain": [
       "'\\ndef qdrt_eleven_primes(k):#it fnds all primes numbers of the type a^4+11b^4\\n  _list = list()\\n  for a in range(1, 200):\\n      for b in range(1,200):\\n        if b < a: #we are actualy finding the a/sqrt(3)\\n          q = a**4 + 11*(b**4)\\n          if q < k and isprime(q):\\n            _list.append(b/a)\\n\\n  return _list\\n'"
      ]
     },
     "execution_count": 4,
     "metadata": {},
     "output_type": "execute_result"
    }
   ],
   "source": [
    "def gaussian_primes():#it fnds all primes numbers of the type a^2+b^2 (Guassian integers) < 10,000\n",
    "  _list = list()\n",
    "  for a in range(1, 10):\n",
    "      for b in range(1,a):\n",
    "         q = a**2 + b**2 #norm of the guassian integer (a+bi)\n",
    "         if q < 100 and isprime(q):\n",
    "            _list.append(math.atan(b/a))\n",
    "  return _list\n",
    "\n",
    "\n",
    "def sqrt_two_primes():#it fnds all primes numbers of the type a^2-2b^2\n",
    "  _list = list()\n",
    "  for a in range(1, 1200):\n",
    "      for b in range(1,800):\n",
    "        if b < 2*a/ 3:\n",
    "          q = a**2 - 2*(b**2)\n",
    "          if q < 100000 and isprime(q):\n",
    "            _list.append(math.atanh(b*math.sqrt(2)/a))\n",
    "  return _list\n",
    "\n",
    "\n",
    "\n",
    "def sqrt_five_primes():#it fnds all primes numbers of the type a^2-5b^2\n",
    "  _list = list()\n",
    "  for a in range(1, 3000):\n",
    "      for b in range(1,1000):\n",
    "        if b < a/ 3:\n",
    "          q = a**2 - 5*(b**2)\n",
    "          if q < 400000 and isprime(q):\n",
    "            _list.append(math.atanh(b*math.sqrt(5)/a))\n",
    "  return _list\n",
    "\n",
    "def sqrt_three_primes(x):#it fnds all primes numbers of the type a^2-3b^2\n",
    "  _list = list()\n",
    "  for a in range(1, 3000):\n",
    "      for b in range(1,1500):\n",
    "        if b < a/3: #we are actualy finding the a/sqrt(3)\n",
    "          q = a**2 - 3*(b**2)\n",
    "          if q < x and isprime(q):\n",
    "            _list.append(math.atanh(b*math.sqrt(3)/a))\n",
    "\n",
    "  return _list\n",
    "\n",
    "'''\n",
    "def qdrt_eleven_primes(k):#it fnds all primes numbers of the type a^4+11b^4\n",
    "  _list = list()\n",
    "  for a in range(1, 200):\n",
    "      for b in range(1,200):\n",
    "        if b < a: #we are actualy finding the a/sqrt(3)\n",
    "          q = a**4 + 11*(b**4)\n",
    "          if q < k and isprime(q):\n",
    "            _list.append(b/a)\n",
    "\n",
    "  return _list\n",
    "'''\n"
   ]
  },
  {
   "cell_type": "code",
   "execution_count": 5,
   "metadata": {},
   "outputs": [
    {
     "ename": "SyntaxError",
     "evalue": "EOL while scanning string literal (<ipython-input-5-5d705e5b0af6>, line 25)",
     "output_type": "error",
     "traceback": [
      "\u001b[0;36m  File \u001b[0;32m\"<ipython-input-5-5d705e5b0af6>\"\u001b[0;36m, line \u001b[0;32m25\u001b[0m\n\u001b[0;31m    ''''\u001b[0m\n\u001b[0m        \n^\u001b[0m\n\u001b[0;31mSyntaxError\u001b[0m\u001b[0;31m:\u001b[0m EOL while scanning string literal\n"
     ]
    }
   ],
   "source": [
    "def qdrt_eleven_primes(m):#it fnds all primes numbers of the type a^2-3b^2\n",
    "  _list = list()\n",
    "  for a in range(1, 800):\n",
    "      for b in range(1,800):\n",
    "        if b < a: #we are actualy finding the a/sqrt(3)\n",
    "          q = a**4 + 11*(b**4)\n",
    "          if q < m and isprime(q):\n",
    "            _list.append(b/a)\n",
    "\n",
    "  return _list\n",
    "\n",
    "def f(t):\n",
    "    return 1 + (11 * t **4)\n",
    "def r(t):\n",
    "    return 1/ math.sqrt(f(t))\n",
    "'''\n",
    "def d(k,n):\n",
    "    return r((2*k+1)/(2*n))\n",
    "def D(t,n):\n",
    "    c = math.ceil(n*t)\n",
    "    x = 0\n",
    "    for k in range(0,c):\n",
    "        x+= d(k,n)/n\n",
    "    return x\n",
    "''''\n",
    "delta_x = 0.01\n",
    "\n",
    "def d(n):\n",
    "    return delta_x * r(n*delta_x)\n",
    "\n",
    "'''\n",
    "def x1\n",
    "    for i in range(0,100):\n",
    "        if f > 0.01:\n",
    "            return i\n",
    "    '''        \n",
    "        \n",
    "\n",
    "def distribution(m,n):\n",
    "    #depends on n from the the function D(t, n) and m from the function qdrt_eleven_primes\n",
    "    #t is the element from the list return from qdrt_eleven_primes\n",
    "    _list = []\n",
    "    qdrt = qdrt_eleven_primes(m)\n",
    "    for t in qdrt:\n",
    "        _list.append(D(t,n))\n",
    "    return _list\n",
    "    "
   ]
  },
  {
   "cell_type": "markdown",
   "metadata": {},
   "source": [
    "n = 100\n",
    "m = 625 * (10**8)\n",
    "y = distribution(m,n)\n",
    "round(y)"
   ]
  },
  {
   "cell_type": "markdown",
   "metadata": {},
   "source": [
    "n = 100\n",
    "m = 800 ** 4\n",
    "y = distribution(m,n)\n",
    "round(y)\n",
    "#the maximum number"
   ]
  },
  {
   "cell_type": "markdown",
   "metadata": {},
   "source": [
    "Delta_x=0.01\n",
    "D=0\n",
    "For n in range(1,100)\n",
    "   D==D+Delta_x*r(n*Delta_x)\n",
    "   If D>0.1\n",
    "      i_1==n\n",
    "      Append i_1\n",
    "      Break\n",
    "For n in range(1+i_1,100)\n",
    "   D==D+Delta_x*r(n*Delta_x)\n",
    "   If D>0.2\n",
    "      i_2==n\n",
    "      Append i_2\n",
    "      Break\n",
    "For n in range (1+i_2,100)\n",
    "\n",
    "(Consider i_1,i_2, up to i_10)\n",
    "\n",
    "For n in range(1+i_9,100)\n",
    "   If D==D+Delta_x*r(n*Delta_x)\n",
    "      i_10==n\n",
    "Append i_10\n",
    "\n",
    "(Now the list D_inverse will contain the element i_1, i_2,...i_9,i_10.)\n",
    "\n",
    "N=100\n",
    "One=0\n",
    "Two=0\n",
    "...\n",
    "Ten=0\n",
    "For a in range(1,N)\n",
    "   For b in range(1,a)\n",
    "     q=a**4 + 11*b**4\n",
    "     M=N^4\n",
    "     If q<M\n",
    "        If q is a prime\n",
    "            If b/a<i_1 then one == one+1\n",
    "            Else if b/a<i_2 then two==two+1\n",
    "            Else if b/a < i_3 then three == three+1\n",
    "            ...\n",
    "            Else if b/a<I_10 then ten == ten+1\n",
    "Print( one, two , three,...)"
   ]
  },
  {
   "cell_type": "markdown",
   "metadata": {},
   "source": [
    "def qdrt_eleven_primes(m):#it fnds all primes numbers of the type a^4+11b^4\n",
    "  _list = list()\n",
    "  for a in range(1, 800):\n",
    "      for b in range(1,800):\n",
    "        if b < a: #we are actualy finding the a/sqrt(3)\n",
    "          q = a**4 + 11*(b**4)\n",
    "          if q < m and isprime(q):\n",
    "            _list.append(b/a)\n",
    "\n",
    "  return _list\n",
    "\n",
    "def f(t):\n",
    "    return 1 + 11 * t **4\n",
    "def r(t):\n",
    "    return 1/ math.sqrt(f(t))\n",
    "\n",
    "Delta_x=0.01\n",
    "D=0\n",
    "i_list = []\n",
    "for n in range(1,100):\n",
    "    D = D+Delta_x*r(n*Delta_x)\n",
    "    if D>0.1:\n",
    "        i_1 = n\n",
    "        i_list.append(D)\n",
    "        break\n",
    "for n in range(1+i_1,100):\n",
    "    D = D + Delta_x*r(n*Delta_x)\n",
    "    if D>0.2:\n",
    "        i_2 = n\n",
    "        i_list.append(D)\n",
    "        break\n",
    "        \n",
    "for n in range(1+i_2,100):\n",
    "    D = D + Delta_x*r(n*Delta_x)\n",
    "    if D>0.3:\n",
    "        i_3 = n\n",
    "        i_list.append(D)\n",
    "        break\n",
    "\n",
    "for n in range(1+i_3,100):\n",
    "    D = D + Delta_x*r(n*Delta_x)\n",
    "    if D>0.4:\n",
    "        i_4 = n\n",
    "        i_list.append(D)\n",
    "        break\n",
    "for n in range(1+i_4,100):\n",
    "    D = D + Delta_x*r(n*Delta_x)\n",
    "    if D>0.5:\n",
    "        i_5 = n\n",
    "        i_list.append(D)\n",
    "        break\n",
    "        \n",
    "for n in range(1+i_5,100):\n",
    "    D = D + Delta_x*r(n*Delta_x)\n",
    "    if D>0.6:\n",
    "        i_6 = n\n",
    "        i_list.append(D)\n",
    "        break\n",
    "for n in range(1+i_6,100):\n",
    "    D = D + Delta_x*r(n*Delta_x)\n",
    "    if D>0.7:\n",
    "        i_7 = n\n",
    "        i_list.append(D)\n",
    "        break\n",
    "for n in range(1+i_7,100):\n",
    "    D = D + Delta_x*r(n*Delta_x)\n",
    "    if D>0.8:\n",
    "        i_8 = n\n",
    "        i_list.append(D)\n",
    "        break\n",
    "    else:\n",
    "        i_8 = i_7\n",
    "for n in range(1+i_8,100):\n",
    "    D = D + Delta_x*r(n*Delta_x)\n",
    "    if D>0.9:\n",
    "        i_9 = n\n",
    "        i_list.append(D)\n",
    "        break\n",
    "    else:\n",
    "        i_9 = i_8\n",
    "for n in range(1+i_9,100):\n",
    "    D = D + Delta_x*r(n*Delta_x)\n",
    "    if D>1:\n",
    "        i_10 = n\n",
    "        i_list.append(D)\n",
    "        break\n",
    "    else:\n",
    "        i_10= i_9\n"
   ]
  },
  {
   "cell_type": "code",
   "execution_count": 5,
   "metadata": {
    "scrolled": true
   },
   "outputs": [
    {
     "ename": "NameError",
     "evalue": "name 'i_lst' is not defined",
     "output_type": "error",
     "traceback": [
      "\u001b[1;31m---------------------------------------------------------------------------\u001b[0m",
      "\u001b[1;31mNameError\u001b[0m                                 Traceback (most recent call last)",
      "\u001b[1;32m<ipython-input-5-8734c1a191c9>\u001b[0m in \u001b[0;36m<module>\u001b[1;34m\u001b[0m\n\u001b[1;32m----> 1\u001b[1;33m \u001b[0mi_lst\u001b[0m\u001b[1;33m\u001b[0m\u001b[1;33m\u001b[0m\u001b[0m\n\u001b[0m",
      "\u001b[1;31mNameError\u001b[0m: name 'i_lst' is not defined"
     ]
    }
   ],
   "source": [
    "#i_lst\n"
   ]
  },
  {
   "cell_type": "code",
   "execution_count": 6,
   "metadata": {},
   "outputs": [
    {
     "ename": "NameError",
     "evalue": "name 'test_list' is not defined",
     "output_type": "error",
     "traceback": [
      "\u001b[0;31m---------------------------------------------------------------------------\u001b[0m",
      "\u001b[0;31mNameError\u001b[0m                                 Traceback (most recent call last)",
      "\u001b[0;32m<ipython-input-6-bae43187b24a>\u001b[0m in \u001b[0;36m<module>\u001b[0;34m\u001b[0m\n\u001b[1;32m     12\u001b[0m         \u001b[0mM\u001b[0m \u001b[0;34m=\u001b[0m \u001b[0;34m(\u001b[0m\u001b[0mN\u001b[0m\u001b[0;34m**\u001b[0m\u001b[0;36m4\u001b[0m\u001b[0;34m)\u001b[0m\u001b[0;34m/\u001b[0m\u001b[0;36m12\u001b[0m\u001b[0;34m\u001b[0m\u001b[0;34m\u001b[0m\u001b[0m\n\u001b[1;32m     13\u001b[0m         \u001b[0;32mif\u001b[0m \u001b[0mq\u001b[0m\u001b[0;34m<\u001b[0m\u001b[0mM\u001b[0m \u001b[0;32mand\u001b[0m \u001b[0misprime\u001b[0m\u001b[0;34m(\u001b[0m\u001b[0mq\u001b[0m\u001b[0;34m)\u001b[0m\u001b[0;34m:\u001b[0m\u001b[0;34m\u001b[0m\u001b[0;34m\u001b[0m\u001b[0m\n\u001b[0;32m---> 14\u001b[0;31m             \u001b[0;32mif\u001b[0m \u001b[0mb\u001b[0m\u001b[0;34m/\u001b[0m\u001b[0ma\u001b[0m \u001b[0;34m<=\u001b[0m \u001b[0mtest_list\u001b[0m\u001b[0;34m[\u001b[0m\u001b[0;36m0\u001b[0m\u001b[0;34m]\u001b[0m\u001b[0;34m/\u001b[0m\u001b[0;36m10000\u001b[0m\u001b[0;34m:\u001b[0m\u001b[0;34m\u001b[0m\u001b[0;34m\u001b[0m\u001b[0m\n\u001b[0m\u001b[1;32m     15\u001b[0m                 \u001b[0mone\u001b[0m\u001b[0;34m+=\u001b[0m\u001b[0;36m1\u001b[0m\u001b[0;34m\u001b[0m\u001b[0;34m\u001b[0m\u001b[0m\n\u001b[1;32m     16\u001b[0m             \u001b[0;32melif\u001b[0m \u001b[0mb\u001b[0m\u001b[0;34m/\u001b[0m\u001b[0ma\u001b[0m \u001b[0;34m<=\u001b[0m\u001b[0mtest_list\u001b[0m\u001b[0;34m[\u001b[0m\u001b[0;36m1\u001b[0m\u001b[0;34m]\u001b[0m\u001b[0;34m/\u001b[0m\u001b[0;36m10000\u001b[0m\u001b[0;34m:\u001b[0m\u001b[0;34m\u001b[0m\u001b[0;34m\u001b[0m\u001b[0m\n",
      "\u001b[0;31mNameError\u001b[0m: name 'test_list' is not defined"
     ]
    }
   ],
   "source": [
    "\n",
    "N = 100\n",
    "one=0\n",
    "two=0\n",
    "three = 0\n",
    "four = 0\n",
    "five = 0\n",
    "six  = 0\n",
    "seven = 0\n",
    "for a in range(1,N):\n",
    "    for b in range(1,a):\n",
    "        q = a**4 + 11*b**4\n",
    "        M = (N**4)/12\n",
    "        if q<M and isprime(q):\n",
    "            if b/a <= test_list[0]/10000:\n",
    "                one+=1\n",
    "            elif b/a <=test_list[1]/10000:\n",
    "                two+=1\n",
    "            elif b/a <= test_list[2]/10000:\n",
    "                three+=1\n",
    "            elif b/a <= test_list[3]/10000:\n",
    "                four += 1\n",
    "            elif b/a <= test_list[4]/10000:\n",
    "                five+=1\n",
    "            elif b/a <= test_list[5]/10000:\n",
    "                six += 1\n",
    "            elif b/a <= test_list[6]/10000:\n",
    "                seven += 1\n",
    "           \n",
    "print( one, two , three, four, five, six, seven)"
   ]
  },
  {
   "cell_type": "code",
   "execution_count": null,
   "metadata": {},
   "outputs": [],
   "source": [
    "def R(t):\n",
    "    return 1/ math.sqrt(1 + 11 * t **4)\n",
    "def R (t, D, n):\n",
    "    1/nrt(1+D*t**n,n/2)\n",
    "\n",
    "delta_x=0.0001\n",
    "d=0\n",
    "i_lst = []\n",
    "counter = 0\n",
    "limit = 0.1\n",
    "i_ = 1\n",
    "while counter <11:\n",
    "    for j in range(i_,10000):\n",
    "        d = d+delta_x*R(j*delta_x)\n",
    "        if d>limit:\n",
    "            i_ = j\n",
    "            i_lst.append(j)\n",
    "            break\n",
    "    limit+=0.1\n",
    "    counter+=1"
   ]
  },
  {
   "cell_type": "markdown",
   "metadata": {},
   "source": [
    "# Function that find the nth root of a number"
   ]
  },
  {
   "cell_type": "code",
   "execution_count": 6,
   "metadata": {},
   "outputs": [],
   "source": [
    "#the function is used to find the nth root of a non-negative number\n",
    "def nrt(numb,e=2):\n",
    "    \"\"\"numb should >0\n",
    "    e represent the nth root , 2=square root , 3=cube root, e= for only positive numbeer\"\"\"\n",
    "    guess = numb * 1/e\n",
    "    avg = ((e-1)*guess + (numb/(guess**(e-1))))/e\n",
    "    while avg!= guess:\n",
    "        guess = avg\n",
    "        avg = ((e-1)*guess + (numb/(guess**(e-1))))/e #Newsthon's method formula\n",
    "    return guess                 \n",
    "\n"
   ]
  },
  {
   "cell_type": "markdown",
   "metadata": {},
   "source": [
    "# Inverse of a Distribution for Primes of the Form a^n + D*b^n"
   ]
  },
  {
   "cell_type": "code",
   "execution_count": 7,
   "metadata": {},
   "outputs": [],
   "source": [
    "def inverse_distribution_primes_a_b_nth(D, n):\n",
    "    delta_x=0.0001\n",
    "    integral = 0\n",
    "    i_lst = []\n",
    "    counter = 0\n",
    "    limit = 0.1\n",
    "    i_ = 1\n",
    "    while counter <11:\n",
    "        for j in range(i_,10000):\n",
    "            integral += delta_x*(1/ (nrt(1 + D * (j*delta_x) **n,n)**2))\n",
    "            if integral>limit:\n",
    "                i_ = j\n",
    "                i_lst.append(j)\n",
    "                break\n",
    "        limit+=0.1\n",
    "        counter+=1\n",
    "    return i_lst"
   ]
  },
  {
   "cell_type": "markdown",
   "metadata": {},
   "source": [
    "# Distribution of prime numbers of the form a^n + D*b^n"
   ]
  },
  {
   "cell_type": "code",
   "execution_count": 8,
   "metadata": {},
   "outputs": [],
   "source": [
    "def list_creator(n):\n",
    "    List = []\n",
    "    for i in range(n):\n",
    "        List.append(0)\n",
    "    return List"
   ]
  },
  {
   "cell_type": "code",
   "execution_count": 9,
   "metadata": {},
   "outputs": [],
   "source": [
    "def distribution_primes_a_b(N, D, n, LIST):\n",
    "    len_List = len(LIST)\n",
    "    counter_list = list_creator(len_List)\n",
    "    for a in range(1,N):\n",
    "        for b in range(1,a):\n",
    "            q = a**n + D*b**n\n",
    "            M = (N**n)/(D+1)\n",
    "            if q<M and isprime(q):\n",
    "                for i in range(len(LIST)):\n",
    "                    if i==0 and b/a <= LIST[0]/10000:\n",
    "                        counter_list[0]+=1 \n",
    "                    elif i!=0 and b/a <= LIST[i]/10000 and b/a > LIST[i-1]/10000:\n",
    "                        counter_list[i]+=1 \n",
    "    return counter_list\n",
    "    "
   ]
  },
  {
   "cell_type": "code",
   "execution_count": 10,
   "metadata": {},
   "outputs": [],
   "source": [
    "def deviation(dist_list):\n",
    "    return max(dist_list)/min(dist_list)"
   ]
  },
  {
   "cell_type": "code",
   "execution_count": 11,
   "metadata": {},
   "outputs": [],
   "source": [
    "def testing(rangeN, D, n, inverse_list):\n",
    "    print(f\"Distribution of primes of the form a^{n} + {D}b^{n}\")\n",
    "    test_dic = dict()\n",
    "    for N in range(100,rangeN+100, 100):\n",
    "        distribution = distribution_primes_a_b(N, D, n, inverse_list)\n",
    "        #test_dic[distribution] = deviation(distribution)\n",
    "        test_dic.update({f\"N = {N}  \"+str(distribution): deviation(distribution)})\n",
    "        \n",
    "    return test_dic"
   ]
  },
  {
   "cell_type": "code",
   "execution_count": 12,
   "metadata": {},
   "outputs": [],
   "source": [
    "s = dict()\n",
    "s[\"zouby\"] = 2"
   ]
  },
  {
   "cell_type": "code",
   "execution_count": 13,
   "metadata": {},
   "outputs": [
    {
     "data": {
      "text/plain": [
       "{'zouby': 2}"
      ]
     },
     "execution_count": 13,
     "metadata": {},
     "output_type": "execute_result"
    }
   ],
   "source": [
    "s"
   ]
  },
  {
   "cell_type": "markdown",
   "metadata": {},
   "source": [
    "# Testing: Inverse Distruntion for primes a^4 + 11b^4"
   ]
  },
  {
   "cell_type": "code",
   "execution_count": 14,
   "metadata": {},
   "outputs": [
    {
     "data": {
      "text/plain": [
       "[1001, 2003, 3025, 4113, 5360, 6963, 9359]"
      ]
     },
     "execution_count": 14,
     "metadata": {},
     "output_type": "execute_result"
    }
   ],
   "source": [
    "eleven_fourth = inverse_distribution_primes_a_b_nth(11, 4)\n",
    "eleven_fourth"
   ]
  },
  {
   "cell_type": "code",
   "execution_count": 15,
   "metadata": {},
   "outputs": [
    {
     "data": {
      "text/plain": [
       "[7, 6, 11, 8, 11, 12, 10]"
      ]
     },
     "execution_count": 15,
     "metadata": {},
     "output_type": "execute_result"
    }
   ],
   "source": [
    "dist_eleven_fourth = distribution_primes_a_b(100,11,4, eleven_fourth) # def distribution_primes_a_b(N, D, n, LIST):\n",
    "dist_eleven_fourth"
   ]
  },
  {
   "cell_type": "code",
   "execution_count": 16,
   "metadata": {},
   "outputs": [
    {
     "name": "stdout",
     "output_type": "stream",
     "text": [
      "Distribution of primes of the form a^4 + 11b^4\n"
     ]
    },
    {
     "data": {
      "text/plain": [
       "{'N = 100  [7, 6, 11, 8, 11, 12, 10]': 2.0,\n",
       " 'N = 200  [28, 32, 31, 35, 37, 36, 34]': 1.3214285714285714,\n",
       " 'N = 300  [62, 68, 63, 67, 84, 73, 77]': 1.3548387096774193,\n",
       " 'N = 400  [114, 117, 106, 122, 123, 125, 119]': 1.179245283018868,\n",
       " 'N = 500  [171, 166, 158, 179, 178, 195, 177]': 1.2341772151898733,\n",
       " 'N = 600  [237, 249, 228, 250, 238, 262, 258]': 1.1491228070175439,\n",
       " 'N = 700  [313, 320, 322, 324, 320, 340, 335]': 1.0862619808306708,\n",
       " 'N = 800  [388, 396, 409, 408, 416, 430, 421]': 1.1082474226804124,\n",
       " 'N = 900  [485, 501, 519, 504, 511, 522, 531]': 1.0948453608247424,\n",
       " 'N = 1000  [593, 615, 623, 610, 620, 634, 649]': 1.0944350758853287}"
      ]
     },
     "execution_count": 16,
     "metadata": {},
     "output_type": "execute_result"
    }
   ],
   "source": [
    "x = testing(1000, 11, 4, eleven_fourth)\n",
    "x"
   ]
  },
  {
   "cell_type": "code",
   "execution_count": null,
   "metadata": {},
   "outputs": [],
   "source": []
  },
  {
   "cell_type": "markdown",
   "metadata": {},
   "source": [
    "# Testing: Inverse Distruntion for primes a^4 + 2b^4"
   ]
  },
  {
   "cell_type": "code",
   "execution_count": 17,
   "metadata": {},
   "outputs": [
    {
     "data": {
      "text/plain": [
       "[1001, 2000, 3003, 4018, 5059, 6154, 7344, 8695]"
      ]
     },
     "execution_count": 17,
     "metadata": {},
     "output_type": "execute_result"
    }
   ],
   "source": [
    "two_fourth = inverse_distribution_primes_a_b_nth(2, 4)\n",
    "two_fourth"
   ]
  },
  {
   "cell_type": "code",
   "execution_count": 18,
   "metadata": {},
   "outputs": [
    {
     "name": "stdout",
     "output_type": "stream",
     "text": [
      "Distribution of primes of the form a^4 + 2b^4\n"
     ]
    },
    {
     "data": {
      "text/plain": [
       "{'N = 100  [17, 18, 25, 18, 17, 22, 17, 26]': 1.5294117647058822,\n",
       " 'N = 200  [70, 66, 73, 64, 70, 68, 57, 76]': 1.3333333333333333,\n",
       " 'N = 300  [140, 136, 143, 144, 154, 133, 126, 138]': 1.2222222222222223,\n",
       " 'N = 400  [224, 228, 240, 251, 242, 228, 215, 234]': 1.1674418604651162,\n",
       " 'N = 500  [331, 336, 362, 376, 355, 348, 344, 361]': 1.13595166163142,\n",
       " 'N = 600  [459, 468, 504, 521, 494, 479, 494, 498]': 1.1350762527233116,\n",
       " 'N = 700  [621, 631, 651, 670, 670, 632, 665, 669]': 1.0789049919484701,\n",
       " 'N = 800  [802, 825, 817, 839, 865, 797, 830, 862]': 1.0853199498117942,\n",
       " 'N = 900  [1016, 1032, 1031, 1042, 1063, 984, 1025, 1065]': 1.0823170731707317,\n",
       " 'N = 1000  [1227, 1256, 1273, 1266, 1282, 1198, 1258, 1286]': 1.0734557595993321}"
      ]
     },
     "execution_count": 18,
     "metadata": {},
     "output_type": "execute_result"
    }
   ],
   "source": [
    "two = testing(1000, 2, 4, two_fourth)\n",
    "two"
   ]
  },
  {
   "cell_type": "markdown",
   "metadata": {},
   "source": [
    "# Testing: Inverse Distruntion for primes a^4 + 3b^4"
   ]
  },
  {
   "cell_type": "code",
   "execution_count": 19,
   "metadata": {},
   "outputs": [
    {
     "data": {
      "text/plain": [
       "[1001, 2000, 3006, 4028, 5091, 6236, 7529, 9085]"
      ]
     },
     "execution_count": 19,
     "metadata": {},
     "output_type": "execute_result"
    }
   ],
   "source": [
    "three_fourth = inverse_distribution_primes_a_b_nth(3, 4)\n",
    "three_fourth"
   ]
  },
  {
   "cell_type": "code",
   "execution_count": 22,
   "metadata": {},
   "outputs": [
    {
     "name": "stdout",
     "output_type": "stream",
     "text": [
      "Distribution of primes of the form a^4 + 3b^4\n"
     ]
    },
    {
     "data": {
      "text/plain": [
       "{'N = 100  [19, 27, 20, 20, 24, 18, 21, 27]': 1.5,\n",
       " 'N = 200  [67, 70, 80, 72, 74, 69, 78, 82]': 1.2238805970149254,\n",
       " 'N = 300  [152, 149, 166, 149, 151, 154, 153, 153]': 1.1140939597315436,\n",
       " 'N = 400  [250, 242, 271, 263, 238, 247, 254, 252]': 1.138655462184874,\n",
       " 'N = 500  [372, 376, 392, 393, 354, 371, 382, 376]': 1.1101694915254237,\n",
       " 'N = 600  [510, 526, 540, 517, 500, 511, 532, 528]': 1.08,\n",
       " 'N = 700  [688, 688, 708, 675, 675, 669, 718, 685]': 1.0732436472346787,\n",
       " 'N = 800  [868, 871, 901, 887, 866, 868, 893, 880]': 1.0404157043879907,\n",
       " 'N = 900  [1063, 1061, 1114, 1086, 1076, 1078, 1113, 1088]': 1.0499528746465598,\n",
       " 'N = 1000  [1292, 1301, 1331, 1328, 1321, 1272, 1344, 1295]': 1.0566037735849056}"
      ]
     },
     "execution_count": 22,
     "metadata": {},
     "output_type": "execute_result"
    }
   ],
   "source": [
    "three = testing(1000, 3, 4, three_fourth)\n",
    "three"
   ]
  },
  {
   "cell_type": "markdown",
   "metadata": {},
   "source": [
    "# Testing: Inverse Distruntion for primes a^3 + 2b^3"
   ]
  },
  {
   "cell_type": "code",
   "execution_count": null,
   "metadata": {},
   "outputs": [],
   "source": [
    "two_third = inverse_distribution_primes_a_b_nth(2, 3)\n",
    "two_third"
   ]
  },
  {
   "cell_type": "code",
   "execution_count": null,
   "metadata": {},
   "outputs": [],
   "source": [
    "two_3 = testing(500, 2, 3, two_third)\n",
    "two_3"
   ]
  },
  {
   "cell_type": "markdown",
   "metadata": {},
   "source": [
    "# Testing: Inverse Distruntion for primes a^3 + 3b^3"
   ]
  },
  {
   "cell_type": "code",
   "execution_count": null,
   "metadata": {},
   "outputs": [],
   "source": [
    "three_third = inverse_distribution_primes_a_b_nth(3, 3)\n",
    "three_third"
   ]
  },
  {
   "cell_type": "code",
   "execution_count": null,
   "metadata": {},
   "outputs": [],
   "source": [
    "three_3 = testing(500, 3, 3, three_third)\n",
    "three_3"
   ]
  }
 ],
 "metadata": {
  "kernelspec": {
   "display_name": "Python 3",
   "language": "python",
   "name": "python3"
  },
  "language_info": {
   "codemirror_mode": {
    "name": "ipython",
    "version": 3
   },
   "file_extension": ".py",
   "mimetype": "text/x-python",
   "name": "python",
   "nbconvert_exporter": "python",
   "pygments_lexer": "ipython3",
   "version": "3.8.5"
  }
 },
 "nbformat": 4,
 "nbformat_minor": 4
}
