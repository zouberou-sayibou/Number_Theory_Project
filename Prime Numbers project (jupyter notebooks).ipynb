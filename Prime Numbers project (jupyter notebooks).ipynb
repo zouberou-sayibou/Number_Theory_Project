{
 "cells": [
  {
   "cell_type": "code",
   "execution_count": 1,
   "metadata": {},
   "outputs": [],
   "source": [
    "import math\n",
    "import numpy as np\n",
    "import sys,os"
   ]
  },
  {
   "cell_type": "code",
   "execution_count": 2,
   "metadata": {},
   "outputs": [],
   "source": [
    "poly_dir = \"Polynomials_Saved_Datasets\"\n",
    "if not os.path.exists(poly_dir):\n",
    "    os.makedirs(poly_dir)"
   ]
  },
  {
   "cell_type": "code",
   "execution_count": 3,
   "metadata": {},
   "outputs": [],
   "source": [
    "def isprime(n) :\n",
    "    if (n <= 1):\n",
    "        return False\n",
    "    if (n <= 3):\n",
    "        return True\n",
    " \n",
    "    # This is checked so that we can skip\n",
    "    # middle five numbers in below loop\n",
    "    if (n % 2 == 0 or n % 3 == 0):\n",
    "        return False\n",
    " \n",
    "    i = 5\n",
    "    while(i * i <= n):\n",
    "        if (n % i) == 0 or n % (i + 2) == 0:\n",
    "            return False\n",
    "        i = i + 6\n",
    " \n",
    "    return True"
   ]
  },
  {
   "cell_type": "markdown",
   "metadata": {},
   "source": [
    "# Inverse of a Distribution for Primes of the Form a^n + D*b^n, D>0"
   ]
  },
  {
   "cell_type": "code",
   "execution_count": 4,
   "metadata": {},
   "outputs": [],
   "source": [
    "def inverse_distribution_primes_a_b_nth(D, n):\n",
    "    delta_x=0.0001\n",
    "    integral = 0\n",
    "    i_lst = []\n",
    "    counter = 0\n",
    "    limit = 0.1\n",
    "    i_ = 0\n",
    "    while counter <10:\n",
    "        for j in range(i_+1,10000):\n",
    "            integral += delta_x*(1/ (1+D * (j*delta_x)**n)**(2/n)) #(nrt(1 + D * (j*delta_x) **n,n/2)))\n",
    "            #print (integral, \"\\t\", limit , i_lst)\n",
    "            if integral>limit:\n",
    "                i_ = j\n",
    "                i_lst.append(j)\n",
    "                break\n",
    "        limit = limit + 0.1\n",
    "        counter+=1\n",
    "    return i_lst"
   ]
  },
  {
   "cell_type": "markdown",
   "metadata": {},
   "source": [
    "# Distribution of prime numbers of the form a^n + D*b^n,D>0"
   ]
  },
  {
   "cell_type": "code",
   "execution_count": 5,
   "metadata": {},
   "outputs": [],
   "source": [
    "def list_creator(n):\n",
    "    List = []\n",
    "    for i in range(n):\n",
    "        List.append(0)\n",
    "    return List"
   ]
  },
  {
   "cell_type": "code",
   "execution_count": 6,
   "metadata": {},
   "outputs": [],
   "source": [
    "def distribution_primes_a_b(N, D, n, LIST):\n",
    "    len_List = len(LIST)\n",
    "    counter_list = list_creator(len_List)\n",
    "    for a in range(1,N):\n",
    "        for b in range(1,a):\n",
    "            q = a**n + D*b**n\n",
    "            M = (N**n)/(D+1)\n",
    "            if q<M and isprime(q):\n",
    "                for i in range(len(LIST)):\n",
    "                    if i==0 and b/a <= LIST[0]/10000:\n",
    "                        counter_list[0]+=1 \n",
    "                    elif i!=0 and b/a <= LIST[i]/10000 and b/a > LIST[i-1]/10000:\n",
    "                        counter_list[i]+=1 \n",
    "    return counter_list\n",
    "    "
   ]
  },
  {
   "cell_type": "markdown",
   "metadata": {},
   "source": [
    "# Distribution of prime numbers of the form a^n + D*b^n, D>0 in Modulo 2"
   ]
  },
  {
   "cell_type": "code",
   "execution_count": 14,
   "metadata": {},
   "outputs": [],
   "source": [
    "def distribution_primes_a_b_mod2(N, D, n, LIST):\n",
    "    len_List = len(LIST)\n",
    "    odd_odd = list_creator(len_List)#an empty when a is odd and b is odd4\n",
    "    odd_even = list_creator(len_List)#an empty when a is odd and b is even\n",
    "    even_odd = list_creator(len_List)#an empty when a is even and b is odd\n",
    "    for a in range(1,N):\n",
    "        for b in range(1,a):\n",
    "            if a%2 == 1 and b%2 == 1:\n",
    "                q = a**n + D*b**n\n",
    "                M = (N**n)/(D+1)\n",
    "                if q<M and isprime(q):\n",
    "                    for i in range(len(LIST)):\n",
    "                        if i==0 and b/a <= LIST[0]/10000:\n",
    "                            odd_odd[0]+=1 \n",
    "                        elif i!=0 and b/a <= LIST[i]/10000 and b/a > LIST[i-1]/10000:\n",
    "                            odd_odd[i]+=1 \n",
    "            elif a%2 == 1 and b%2 == 0:\n",
    "                q = a**n + D*b**n\n",
    "                M = (N**n)/(D+1)\n",
    "                if q<M and isprime(q):\n",
    "                    for i in range(len(LIST)):\n",
    "                        if i==0 and b/a <= LIST[0]/10000:\n",
    "                            odd_even[0]+=1 \n",
    "                        elif i!=0 and b/a <= LIST[i]/10000 and b/a > LIST[i-1]/10000:\n",
    "                            odd_even[i]+=1\n",
    "            elif D%2 == 1 and a%2 == 0 and b%2 == 1:\n",
    "                q = a**n + D*b**n\n",
    "                M = (N**n)/(D+1)\n",
    "                if q<M and isprime(q):\n",
    "                    for i in range(len(LIST)):\n",
    "                        if i==0 and b/a <= LIST[0]/10000:\n",
    "                            even_odd[0]+=1 \n",
    "                        elif i!=0 and b/a <= LIST[i]/10000 and b/a > LIST[i-1]/10000:\n",
    "                            even_odd[i]+=1 \n",
    "    if D%2 == 1:\n",
    "        return even_odd + odd_even\n",
    "    else:\n",
    "        return odd_odd + odd_even"
   ]
  },
  {
   "cell_type": "code",
   "execution_count": 10,
   "metadata": {},
   "outputs": [],
   "source": [
    "def deviation(dist_list):\n",
    "    return max(dist_list)/min(dist_list)"
   ]
  },
  {
   "cell_type": "code",
   "execution_count": 11,
   "metadata": {},
   "outputs": [],
   "source": [
    "def testing_d_pos(rangeN, incre, D, n):\n",
    "    print(f\"Primes of the form a^{n} + {D}b^{n}\")\n",
    "    print()\n",
    "    print(\"Calculating the inverse distribution..\")\n",
    "    inverse_list = inverse_distribution_primes_a_b_nth(D, n)\n",
    "    \n",
    "    print (\"Calculating the distribution of primes....\")\n",
    "    test_arr = np.zeros((rangeN//incre, len(inverse_list)),  dtype=np.int32)\n",
    "    test_arrMod2 = np.zeros((rangeN//incre, len(inverse_list)),  dtype=np.int32)\n",
    "    i = 0\n",
    "    for N in range(incre,rangeN+incre, incre):\n",
    "        test_arr[i] = distribution_primes_a_b(N, D, n, inverse_list)\n",
    "        #print (f\"N = {N}  \", str(distribution_primes_a_b(N, D, n, inverse_list)), deviation(distribution_primes_a_b(N, D, n, inverse_list)))\n",
    "        i+=1\n",
    "    \n",
    "    print (\"Calculating the distribution of primes in mod2....\")\n",
    "    columns = len(distribution_primes_a_b_mod2(100, D, n, inverse_list))\n",
    "    test_arrMod2 = np.zeros((rangeN//incre, columns),  dtype=np.int32)\n",
    "    j = 0\n",
    "    for Nn in range(incre,rangeN+incre, incre):\n",
    "        test_arrMod2[j] = distribution_primes_a_b_mod2(Nn, D, n, inverse_list)\n",
    "        #print (f\"N = {N}  \", str(distribution_primes_a_b(N, D, n, inverse_list)), deviation(distribution_primes_a_b(N, D, n, inverse_list)))\n",
    "        j+=1\n",
    "    print(\"Saving my arrays in npz file.....\")\n",
    "    np.savez(\"Polynomials_Saved_Datasets/\"+str(D)+ \"_power_\"+ str(n) +\"_\"+ str(incre)+\"_to_\"+str(rangeN), inverse = np.array(inverse_list) ,distri = test_arr, distriMod2 = test_arrMod2)\n",
    "    print(\"Done\")"
   ]
  },
  {
   "cell_type": "markdown",
   "metadata": {},
   "source": [
    "# Inverse of a Distribution for Primes of the Form a^n + D*b^n, D<0"
   ]
  },
  {
   "cell_type": "code",
   "execution_count": 20,
   "metadata": {},
   "outputs": [],
   "source": [
    "def neg_inverse_distribution_primes_a_b_nth(D, n):\n",
    "    delta_x=0.0001\n",
    "    integral = 0\n",
    "    i_lst = []\n",
    "    counter = 0\n",
    "    limit = 0.1\n",
    "    i_ = 0\n",
    "    while counter <6:\n",
    "        for j in range(i_+1,10000):\n",
    "            integral += 4*delta_x*(1/ (1+D * (j*delta_x)**n)**(2/n)) #(nrt(1 + D * (j*delta_x) **n,n/2)))\n",
    "            #print (integral, \"\\t\", limit , i_lst)\n",
    "            if integral>limit:\n",
    "                i_ = j\n",
    "                i_lst.append(j)\n",
    "                break\n",
    "        limit = limit + 0.1\n",
    "        counter+=1\n",
    "    return i_lst"
   ]
  },
  {
   "cell_type": "markdown",
   "metadata": {},
   "source": [
    "# Distribution of prime numbers of the form a^n + D*b^n, D<0"
   ]
  },
  {
   "cell_type": "code",
   "execution_count": 21,
   "metadata": {},
   "outputs": [],
   "source": [
    "def neg_distribution_primes_a_b(N, D, n, LIST):\n",
    "    len_List = len(LIST)\n",
    "    counter_list = list_creator(len_List)\n",
    "    for a in range(1,N):\n",
    "        l = math.floor(a/((-D)**(1/n)))\n",
    "        for b in range(1,l):\n",
    "            q = a**n + D*b**n\n",
    "            M = (N**n) - ((N**n)/(2**n*(-D)))\n",
    "            if q<M and isprime(q):\n",
    "                for i in range(len(LIST)):\n",
    "                    if i==0 and b/a <= LIST[0]/10000:\n",
    "                        counter_list[0]+=1 \n",
    "                    elif i!=0 and b/a <= LIST[i]/10000 and b/a > LIST[i-1]/10000:\n",
    "                        counter_list[i]+=1 \n",
    "    return counter_list"
   ]
  },
  {
   "cell_type": "markdown",
   "metadata": {},
   "source": [
    "# Distribution of prime numbers of the form a^n + D*b^n, D<0 Modulo 2"
   ]
  },
  {
   "cell_type": "code",
   "execution_count": 22,
   "metadata": {},
   "outputs": [],
   "source": [
    "def neg_distribution_primes_a_b_mod2(N, D, n, LIST):\n",
    "    len_List = len(LIST)\n",
    "    odd_odd = list_creator(len_List)#an empty when a is odd and b is odd4\n",
    "    odd_even = list_creator(len_List)#an empty when a is odd and b is even\n",
    "    even_odd = list_creator(len_List)#an empty when a is even and b is odd\n",
    "    for a in range(1,N):\n",
    "        l = math.floor(a/((-D)**(1/n)))\n",
    "        for b in range(1,l):\n",
    "            if a%2 == 1 and b%2 == 1:\n",
    "                q = a**n + D*b**n\n",
    "                M = (N**n) - ((N**n)/(2**n*(-D)))\n",
    "                if q<M and isprime(q):\n",
    "                    for i in range(len(LIST)):\n",
    "                        if i==0 and b/a <= LIST[0]/10000:\n",
    "                            odd_odd[0]+=1 \n",
    "                        elif i!=0 and b/a <= LIST[i]/10000 and b/a > LIST[i-1]/10000:\n",
    "                            odd_odd[i]+=1 \n",
    "            elif a%2 == 1 and b%2 == 0:\n",
    "                q = a**n + D*b**n\n",
    "                M = (N**n) - ((N**n)/(2**n*(-D)))\n",
    "                if q<M and isprime(q):\n",
    "                    for i in range(len(LIST)):\n",
    "                        if i==0 and b/a <= LIST[0]/10000:\n",
    "                            odd_even[0]+=1 \n",
    "                        elif i!=0 and b/a <= LIST[i]/10000 and b/a > LIST[i-1]/10000:\n",
    "                            odd_even[i]+=1\n",
    "            elif D%2 == 1 and a%2 == 0 and b%2 == 1:\n",
    "                q = a**n + D*b**n\n",
    "                M = (N**n) - ((N**n)/(2**n*(-D)))\n",
    "                if q<M and isprime(q):\n",
    "                    for i in range(len(LIST)):\n",
    "                        if i==0 and b/a <= LIST[0]/10000:\n",
    "                            even_odd[0]+=1 \n",
    "                        elif i!=0 and b/a <= LIST[i]/10000 and b/a > LIST[i-1]/10000:\n",
    "                            even_odd[i]+=1 \n",
    "    if D%2 == 1:\n",
    "        return even_odd + odd_even\n",
    "    else:\n",
    "        return odd_odd + odd_even"
   ]
  },
  {
   "cell_type": "code",
   "execution_count": 27,
   "metadata": {},
   "outputs": [],
   "source": [
    "def testing_d_neg(rangeN, incre, D, n):\n",
    "    print(f\"Primes of the form a^{n} + {D}b^{n}\")\n",
    "    print()\n",
    "    print(\"Calculating the negative inverse distribution..\")\n",
    "    neg_inverse_list = neg_inverse_distribution_primes_a_b_nth(D, n)\n",
    "    \n",
    "    print (\"Calculating the distribution of primes D<0....\")\n",
    "    test_arr = np.zeros((rangeN//incre, len(neg_inverse_list)),  dtype=np.int32)\n",
    "    i = 0\n",
    "    for N in range(incre,rangeN+incre, incre):\n",
    "        test_arr[i] = neg_distribution_primes_a_b(N, D, n, neg_inverse_list)\n",
    "        #print (f\"N = {N}  \", str(distribution_primes_a_b(N, D, n, inverse_list)), deviation(distribution_primes_a_b(N, D, n, inverse_list)))\n",
    "        i+=1\n",
    "    \n",
    "    print (\"Calculating the distribution of primes in mod2 D<0....\")\n",
    "    columns = len(distribution_primes_a_b_mod2(100, D, n, neg_inverse_list))\n",
    "    test_arrMod2 = np.zeros((rangeN//incre, columns),  dtype=np.int32)\n",
    "    j = 0\n",
    "    for Nn in range(incre,rangeN+incre, incre):\n",
    "        test_arrMod2[j] = neg_distribution_primes_a_b_mod2(Nn, D, n, neg_inverse_list)\n",
    "        #print (f\"N = {N}  \", str(distribution_primes_a_b(N, D, n, inverse_list)), deviation(distribution_primes_a_b(N, D, n, inverse_list)))\n",
    "        j+=1\n",
    "    print(\"Saving my arrays in npz file.....\")\n",
    "    np.savez(\"Polynomials_Saved_Datasets/\"+\"neg_\"+str(abs(D))+ \"_power_\"+ str(n) +\"_\"+ str(incre)+\"_to_\"+str(rangeN), inverse = np.array(neg_inverse_list) ,distri = test_arr, distriMod2 = test_arrMod2)\n",
    "    print(\"Done\")"
   ]
  },
  {
   "cell_type": "markdown",
   "metadata": {},
   "source": [
    "# Testing: Inverse Distruntion for primes a^2 + b^2"
   ]
  },
  {
   "cell_type": "code",
   "execution_count": 12,
   "metadata": {
    "scrolled": true
   },
   "outputs": [
    {
     "name": "stdout",
     "output_type": "stream",
     "text": [
      "Primes of the form a^2 + 1b^2\n",
      "\n",
      "Calculating the inverse distribution..\n",
      "Calculating the distribution of primes....\n",
      "Calculating the distribution of primes in mod2....\n",
      "Saving my arrays in npz file.....\n",
      "Done\n"
     ]
    }
   ],
   "source": [
    "testing_d_pos(4000, 500, 1, 2)\n"
   ]
  },
  {
   "cell_type": "markdown",
   "metadata": {},
   "source": [
    "## Testing: Inverse Distruntion for primes a^2 + 2b^2"
   ]
  },
  {
   "cell_type": "code",
   "execution_count": 16,
   "metadata": {},
   "outputs": [
    {
     "name": "stdout",
     "output_type": "stream",
     "text": [
      "Primes of the form a^2 + 2b^2\n",
      "\n",
      "Calculating the inverse distribution..\n",
      "Calculating the distribution of primes....\n",
      "Calculating the distribution of primes in mod2....\n",
      "Saving my arrays in npz file.....\n",
      "Done\n"
     ]
    }
   ],
   "source": [
    "testing_d_pos(4000, 500, 2, 2)"
   ]
  },
  {
   "cell_type": "markdown",
   "metadata": {},
   "source": [
    "# Testing: Inverse Distruntion for primes a^2 + 3b^2"
   ]
  },
  {
   "cell_type": "code",
   "execution_count": 17,
   "metadata": {},
   "outputs": [
    {
     "name": "stdout",
     "output_type": "stream",
     "text": [
      "Primes of the form a^2 + 3b^2\n",
      "\n",
      "Calculating the inverse distribution..\n",
      "Calculating the distribution of primes....\n",
      "Calculating the distribution of primes in mod2....\n",
      "Saving my arrays in npz file.....\n",
      "Done\n"
     ]
    }
   ],
   "source": [
    "testing_d_pos(4000, 500, 3, 2)"
   ]
  },
  {
   "cell_type": "markdown",
   "metadata": {},
   "source": [
    "# Testing: Inverse Distruntion for primes a^2 + 5b^2"
   ]
  },
  {
   "cell_type": "code",
   "execution_count": 18,
   "metadata": {},
   "outputs": [
    {
     "name": "stdout",
     "output_type": "stream",
     "text": [
      "Primes of the form a^2 + 5b^2\n",
      "\n",
      "Calculating the inverse distribution..\n",
      "Calculating the distribution of primes....\n",
      "Calculating the distribution of primes in mod2....\n",
      "Saving my arrays in npz file.....\n",
      "Done\n"
     ]
    }
   ],
   "source": [
    "testing_d_pos(4000, 500, 5, 2)"
   ]
  },
  {
   "cell_type": "markdown",
   "metadata": {},
   "source": [
    "# Testing: Inverse Distruntion for primes a^2 + 6b^2"
   ]
  },
  {
   "cell_type": "code",
   "execution_count": 19,
   "metadata": {},
   "outputs": [
    {
     "name": "stdout",
     "output_type": "stream",
     "text": [
      "Primes of the form a^2 + 6b^2\n",
      "\n",
      "Calculating the inverse distribution..\n",
      "Calculating the distribution of primes....\n",
      "Calculating the distribution of primes in mod2....\n",
      "Saving my arrays in npz file.....\n",
      "Done\n"
     ]
    }
   ],
   "source": [
    "testing_d_pos(4000, 500, 6, 2)"
   ]
  },
  {
   "cell_type": "code",
   "execution_count": null,
   "metadata": {},
   "outputs": [],
   "source": []
  },
  {
   "cell_type": "markdown",
   "metadata": {},
   "source": [
    "# Testing: Inverse Distribution for primes a^2 - 3b^2"
   ]
  },
  {
   "cell_type": "code",
   "execution_count": 28,
   "metadata": {},
   "outputs": [
    {
     "name": "stdout",
     "output_type": "stream",
     "text": [
      "Primes of the form a^2 + -3b^2\n",
      "\n",
      "Calculating the negative inverse distribution..\n",
      "Calculating the distribution of primes D<0....\n",
      "Calculating the distribution of primes in mod2 D<0....\n",
      "Saving my arrays in npz file.....\n",
      "Done\n"
     ]
    }
   ],
   "source": [
    "testing_d_neg(4000, 500, -3, 2)"
   ]
  },
  {
   "cell_type": "markdown",
   "metadata": {},
   "source": [
    "# Testing: Inverse Distruntion for primes a^2-2b^2"
   ]
  },
  {
   "cell_type": "code",
   "execution_count": 37,
   "metadata": {},
   "outputs": [
    {
     "name": "stdout",
     "output_type": "stream",
     "text": [
      "Primes of the form a^2 + -2b^2\n",
      "\n",
      "Calculating the negative inverse distribution..\n",
      "Calculating the distribution of primes D<0....\n",
      "Calculating the distribution of primes in mod2 D<0....\n",
      "Saving my arrays in npz file.....\n",
      "Done\n"
     ]
    }
   ],
   "source": [
    "testing_d_neg(4000, 500, -2, 2)"
   ]
  },
  {
   "cell_type": "code",
   "execution_count": 54,
   "metadata": {},
   "outputs": [
    {
     "data": {
      "text/plain": [
       "[250, 500, 748, 994, 1238, 1478]"
      ]
     },
     "execution_count": 54,
     "metadata": {},
     "output_type": "execute_result"
    }
   ],
   "source": [
    "n_two_second = neg_inverse_distribution_primes_a_b_nth(-2,2)\n",
    "n_two_second"
   ]
  },
  {
   "cell_type": "code",
   "execution_count": 90,
   "metadata": {
    "scrolled": true
   },
   "outputs": [
    {
     "name": "stdout",
     "output_type": "stream",
     "text": [
      "Distribution of primes of the form a^2 + -2b^2\n"
     ]
    },
    {
     "data": {
      "text/plain": [
       "{'N = 500  [378, 384, 399, 408, 380, 379]': 1.0793650793650793,\n",
       " 'N = 1000  [1356, 1386, 1371, 1408, 1433, 1356]': 1.0567846607669618,\n",
       " 'N = 1500  [2847, 2992, 2888, 2961, 2950, 2923]': 1.050930804355462,\n",
       " 'N = 2000  [4875, 5153, 4987, 5000, 5049, 4973]': 1.0570256410256411,\n",
       " 'N = 2500  [7445, 7734, 7592, 7609, 7616, 7530]': 1.0388179986568167,\n",
       " 'N = 3000  [10547, 10789, 10664, 10639, 10598, 10673]': 1.0229449132454727,\n",
       " 'N = 3500  [14080, 14372, 14216, 14190, 14193, 14246]': 1.0207386363636364,\n",
       " 'N = 4000  [18099, 18396, 18291, 18161, 18217, 18230]': 1.0164097463948285}"
      ]
     },
     "execution_count": 90,
     "metadata": {},
     "output_type": "execute_result"
    }
   ],
   "source": [
    "neg_testing(4000, 500, -2, 2, n_two_second) #rangeN, D, n, inverse_list"
   ]
  },
  {
   "cell_type": "code",
   "execution_count": null,
   "metadata": {},
   "outputs": [],
   "source": [
    "'N = 500  [762, 807, 759, 762]': 1.0632411067193677,\n",
    " 'N = 1000  [2742, 2779, 2789, 2788]': 1.0171407731582787,\n",
    " 'N = 1500  [5839, 5849, 5873, 5947]': 1.0184963178626476,\n",
    " 'N = 2000  [10028, 9987, 10022, 10107]': 1.0120156203063984,\n",
    " 'N = 2500  [15179, 15201, 15146, 15298]': 1.010035652977684,\n",
    " 'N = 3000  [21336, 21303, 21271, 21470]': 1.009355460486108,\n",
    " 'N = 3500  [28452, 28406, 28439, 28509]': 1.0036259945082024,\n",
    " 'N = 4000  [36495, 36452, 36447, 36570]': 1.0033747633550087}"
   ]
  },
  {
   "cell_type": "code",
   "execution_count": 55,
   "metadata": {},
   "outputs": [
    {
     "name": "stdout",
     "output_type": "stream",
     "text": [
      "Distribution of primes of the form a^2 + -2b^2\n",
      "N = 500   [196, 194, 198, 214, 193, 185, 182, 190, 201, 194, 187, 194] 1.1758241758241759\n",
      "N = 1000   [701, 695, 679, 714, 718, 681, 655, 691, 692, 694, 715, 675] 1.0961832061068701\n",
      "N = 1500   [1450, 1517, 1445, 1469, 1492, 1465, 1397, 1475, 1443, 1492, 1458, 1458] 1.085898353614889\n",
      "N = 2000   [2467, 2569, 2506, 2478, 2542, 2516, 2408, 2584, 2481, 2522, 2507, 2457] 1.0730897009966778\n",
      "N = 2500   [3806, 3839, 3784, 3769, 3829, 3816, 3639, 3895, 3808, 3840, 3787, 3714] 1.0703489969771915\n",
      "N = 3000   [5362, 5387, 5340, 5235, 5304, 5372, 5185, 5402, 5324, 5404, 5294, 5301] 1.0422372227579557\n",
      "N = 3500   [7131, 7207, 7115, 6970, 7109, 7165, 6949, 7165, 7101, 7220, 7084, 7081] 1.0389984170384228\n",
      "N = 4000   [9160, 9199, 9130, 8978, 9102, 9129, 8939, 9197, 9161, 9183, 9115, 9101] 1.0290860275198568\n"
     ]
    }
   ],
   "source": [
    "neg_mod2_testing(4000,500,-2,2,n_two_second)"
   ]
  },
  {
   "cell_type": "markdown",
   "metadata": {},
   "source": [
    "# Testing: Inverse Distruntion for primes a^2-5b^2"
   ]
  },
  {
   "cell_type": "code",
   "execution_count": 38,
   "metadata": {},
   "outputs": [
    {
     "name": "stdout",
     "output_type": "stream",
     "text": [
      "Primes of the form a^2 + -5b^2\n",
      "\n",
      "Calculating the negative inverse distribution..\n",
      "Calculating the distribution of primes D<0....\n",
      "Calculating the distribution of primes in mod2 D<0....\n",
      "Saving my arrays in npz file.....\n",
      "Done\n"
     ]
    }
   ],
   "source": [
    "testing_d_neg(4000, 500, -5, 2)"
   ]
  },
  {
   "cell_type": "code",
   "execution_count": 56,
   "metadata": {
    "scrolled": true
   },
   "outputs": [
    {
     "data": {
      "text/plain": [
       "[250, 498, 744, 984, 1219, 1447]"
      ]
     },
     "execution_count": 56,
     "metadata": {},
     "output_type": "execute_result"
    }
   ],
   "source": [
    "n_five_second = neg_inverse_distribution_primes_a_b_nth(-5,2)\n",
    "n_five_second"
   ]
  },
  {
   "cell_type": "code",
   "execution_count": 85,
   "metadata": {
    "scrolled": true
   },
   "outputs": [
    {
     "name": "stdout",
     "output_type": "stream",
     "text": [
      "Distribution of primes of the form a^2 + -5b^2\n"
     ]
    },
    {
     "data": {
      "text/plain": [
       "{'N = 500  [377, 411, 401, 411, 401, 406]': 1.090185676392573,\n",
       " 'N = 1000  [1392, 1453, 1471, 1433, 1449, 1389]': 1.0590352771778258,\n",
       " 'N = 1500  [3025, 3036, 3094, 3049, 3048, 2911]': 1.0628649948471316,\n",
       " 'N = 2000  [5193, 5178, 5270, 5197, 5168, 4991]': 1.0559006211180124,\n",
       " 'N = 2500  [7941, 7831, 7974, 7860, 7848, 7559]': 1.0549014419896812,\n",
       " 'N = 3000  [11147, 11048, 11144, 11061, 11056, 10664]': 1.0452925731432858,\n",
       " 'N = 3500  [14805, 14730, 14874, 14786, 14699, 14283]': 1.0413778617937408,\n",
       " 'N = 4000  [18979, 18889, 19032, 18958, 18840, 18311]': 1.0393752389274207}"
      ]
     },
     "execution_count": 85,
     "metadata": {},
     "output_type": "execute_result"
    }
   ],
   "source": [
    "neg_testing(4000, 500, -5, 2, n_five_second) #rangeN, D, n, inverse_list"
   ]
  },
  {
   "cell_type": "code",
   "execution_count": 57,
   "metadata": {},
   "outputs": [
    {
     "name": "stdout",
     "output_type": "stream",
     "text": [
      "Distribution of primes of the form a^2 + -5b^2\n",
      "N = 500   [203, 208, 209, 210, 201, 189, 174, 203, 192, 201, 200, 217] 1.2471264367816093\n",
      "N = 1000   [726, 727, 762, 729, 721, 656, 666, 726, 709, 704, 728, 733] 1.1615853658536586\n",
      "N = 1500   [1557, 1504, 1551, 1538, 1525, 1436, 1468, 1532, 1543, 1511, 1523, 1475] 1.0842618384401115\n",
      "N = 2000   [2652, 2563, 2623, 2620, 2601, 2475, 2541, 2615, 2647, 2577, 2567, 2516] 1.0715151515151515\n",
      "N = 2500   [4019, 3885, 4001, 3929, 3969, 3751, 3922, 3946, 3973, 3931, 3879, 3808] 1.071447613969608\n",
      "N = 3000   [5634, 5461, 5618, 5530, 5607, 5290, 5513, 5587, 5526, 5531, 5449, 5374] 1.0650283553875237\n",
      "N = 3500   [7466, 7338, 7469, 7393, 7445, 7092, 7339, 7392, 7405, 7393, 7254, 7191] 1.0531584884376763\n",
      "N = 4000   [9545, 9421, 9509, 9447, 9546, 9119, 9434, 9468, 9523, 9511, 9294, 9192] 1.0468253097927405\n"
     ]
    }
   ],
   "source": [
    "neg_mod2_testing(4000,500,-5,2,n_five_second)"
   ]
  },
  {
   "cell_type": "markdown",
   "metadata": {},
   "source": [
    "# Testing: Inverse Distruntion for primes a^3-2b^3"
   ]
  },
  {
   "cell_type": "code",
   "execution_count": 41,
   "metadata": {},
   "outputs": [
    {
     "name": "stdout",
     "output_type": "stream",
     "text": [
      "Primes of the form a^3 + -2b^3\n",
      "\n",
      "Calculating the negative inverse distribution..\n",
      "Calculating the distribution of primes D<0....\n",
      "Calculating the distribution of primes in mod2 D<0....\n",
      "Saving my arrays in npz file.....\n",
      "Done\n"
     ]
    }
   ],
   "source": [
    "testing_d_neg(3000, 500, -2, 3)"
   ]
  },
  {
   "cell_type": "code",
   "execution_count": 12,
   "metadata": {
    "scrolled": true
   },
   "outputs": [
    {
     "data": {
      "text/plain": [
       "[250, 500, 750, 1000, 1250, 1499]"
      ]
     },
     "execution_count": 12,
     "metadata": {},
     "output_type": "execute_result"
    }
   ],
   "source": [
    "n_two_third = neg_inverse_distribution_primes_a_b_nth(-2,3)\n",
    "n_two_third"
   ]
  },
  {
   "cell_type": "code",
   "execution_count": 97,
   "metadata": {
    "scrolled": true
   },
   "outputs": [
    {
     "name": "stdout",
     "output_type": "stream",
     "text": [
      "Distribution of primes of the form a^3 + -2b^3\n",
      "N = 500   [213, 210, 238, 220, 212, 252] 1.2\n",
      "N = 1000   [766, 803, 819, 808, 784, 834] 1.0887728459530026\n",
      "N = 1500   [1631, 1679, 1673, 1658, 1667, 1709] 1.0478234212139792\n",
      "N = 2000   [2853, 2900, 2863, 2866, 2906, 2873] 1.018576936558009\n"
     ]
    }
   ],
   "source": [
    "neg_testing(2000, 500, -2, 3, n_two_third) #rangeN, D, n, inverse_list"
   ]
  },
  {
   "cell_type": "code",
   "execution_count": 25,
   "metadata": {},
   "outputs": [
    {
     "name": "stdout",
     "output_type": "stream",
     "text": [
      "Distribution of primes of the form a^3 + -2b^3\n",
      "N = 500   [115, 98, 127, 105, 103, 128, 98, 112, 111, 115, 109, 124] 1.3061224489795917\n",
      "N = 1000   [396, 396, 419, 390, 391, 429, 370, 407, 400, 418, 393, 405] 1.1594594594594594\n",
      "N = 1500   [833, 829, 856, 803, 839, 844, 798, 850, 817, 855, 828, 865] 1.0839598997493733\n",
      "N = 2000   [1456, 1437, 1437, 1413, 1459, 1448, 1397, 1463, 1426, 1453, 1447, 1425] 1.047244094488189\n",
      "N = 2500   [2234, 2158, 2175, 2167, 2158, 2167, 2149, 2193, 2175, 2182, 2158, 2201] 1.0395532805956258\n",
      "N = 3000   [3107, 3006, 3053, 3064, 3063, 3067, 2986, 3056, 3053, 3024, 3061, 3086] 1.0405224380442062\n"
     ]
    },
    {
     "ename": "KeyboardInterrupt",
     "evalue": "",
     "output_type": "error",
     "traceback": [
      "\u001b[0;31m---------------------------------------------------------------------------\u001b[0m",
      "\u001b[0;31mKeyboardInterrupt\u001b[0m                         Traceback (most recent call last)",
      "\u001b[0;32m<ipython-input-25-480ca3ecb89a>\u001b[0m in \u001b[0;36m<module>\u001b[0;34m\u001b[0m\n\u001b[0;32m----> 1\u001b[0;31m \u001b[0mneg_mod2_testing\u001b[0m\u001b[0;34m(\u001b[0m\u001b[0;36m4000\u001b[0m\u001b[0;34m,\u001b[0m\u001b[0;36m500\u001b[0m\u001b[0;34m,\u001b[0m\u001b[0;34m-\u001b[0m\u001b[0;36m2\u001b[0m\u001b[0;34m,\u001b[0m\u001b[0;36m3\u001b[0m\u001b[0;34m,\u001b[0m\u001b[0mn_two_third\u001b[0m\u001b[0;34m)\u001b[0m\u001b[0;34m\u001b[0m\u001b[0;34m\u001b[0m\u001b[0m\n\u001b[0m",
      "\u001b[0;32m<ipython-input-24-eb07eeeb4162>\u001b[0m in \u001b[0;36mneg_mod2_testing\u001b[0;34m(rangeN, incre, D, n, inverse_list)\u001b[0m\n\u001b[1;32m      3\u001b[0m     \u001b[0mtest_dic\u001b[0m \u001b[0;34m=\u001b[0m \u001b[0mdict\u001b[0m\u001b[0;34m(\u001b[0m\u001b[0;34m)\u001b[0m\u001b[0;34m\u001b[0m\u001b[0;34m\u001b[0m\u001b[0m\n\u001b[1;32m      4\u001b[0m     \u001b[0;32mfor\u001b[0m \u001b[0mN\u001b[0m \u001b[0;32min\u001b[0m \u001b[0mrange\u001b[0m\u001b[0;34m(\u001b[0m\u001b[0mincre\u001b[0m\u001b[0;34m,\u001b[0m\u001b[0mrangeN\u001b[0m\u001b[0;34m+\u001b[0m\u001b[0mincre\u001b[0m\u001b[0;34m,\u001b[0m \u001b[0mincre\u001b[0m\u001b[0;34m)\u001b[0m\u001b[0;34m:\u001b[0m\u001b[0;34m\u001b[0m\u001b[0;34m\u001b[0m\u001b[0m\n\u001b[0;32m----> 5\u001b[0;31m         \u001b[0mdistribution\u001b[0m \u001b[0;34m=\u001b[0m \u001b[0mneg_distribution_primes_a_b_mod2\u001b[0m\u001b[0;34m(\u001b[0m\u001b[0mN\u001b[0m\u001b[0;34m,\u001b[0m \u001b[0mD\u001b[0m\u001b[0;34m,\u001b[0m \u001b[0mn\u001b[0m\u001b[0;34m,\u001b[0m \u001b[0minverse_list\u001b[0m\u001b[0;34m)\u001b[0m\u001b[0;34m\u001b[0m\u001b[0;34m\u001b[0m\u001b[0m\n\u001b[0m\u001b[1;32m      6\u001b[0m         \u001b[0;31m#test_dic[distribution] = deviation(distribution)\u001b[0m\u001b[0;34m\u001b[0m\u001b[0;34m\u001b[0m\u001b[0;34m\u001b[0m\u001b[0m\n\u001b[1;32m      7\u001b[0m         \u001b[0;31m#test_dic.update({f\"N = {N}  \"+str(distribution): deviation(distribution)})\u001b[0m\u001b[0;34m\u001b[0m\u001b[0;34m\u001b[0m\u001b[0;34m\u001b[0m\u001b[0m\n",
      "\u001b[0;32m<ipython-input-23-a2f2dedd1ac4>\u001b[0m in \u001b[0;36mneg_distribution_primes_a_b_mod2\u001b[0;34m(N, D, n, LIST)\u001b[0m\n\u001b[1;32m     19\u001b[0m                 \u001b[0mq\u001b[0m \u001b[0;34m=\u001b[0m \u001b[0ma\u001b[0m\u001b[0;34m**\u001b[0m\u001b[0mn\u001b[0m \u001b[0;34m+\u001b[0m \u001b[0mD\u001b[0m\u001b[0;34m*\u001b[0m\u001b[0mb\u001b[0m\u001b[0;34m**\u001b[0m\u001b[0mn\u001b[0m\u001b[0;34m\u001b[0m\u001b[0;34m\u001b[0m\u001b[0m\n\u001b[1;32m     20\u001b[0m                 \u001b[0mM\u001b[0m \u001b[0;34m=\u001b[0m \u001b[0;34m(\u001b[0m\u001b[0mN\u001b[0m\u001b[0;34m**\u001b[0m\u001b[0mn\u001b[0m\u001b[0;34m)\u001b[0m \u001b[0;34m-\u001b[0m \u001b[0;34m(\u001b[0m\u001b[0;34m(\u001b[0m\u001b[0mN\u001b[0m\u001b[0;34m**\u001b[0m\u001b[0mn\u001b[0m\u001b[0;34m)\u001b[0m\u001b[0;34m/\u001b[0m\u001b[0;34m(\u001b[0m\u001b[0;36m2\u001b[0m\u001b[0;34m**\u001b[0m\u001b[0mn\u001b[0m\u001b[0;34m*\u001b[0m\u001b[0;34m(\u001b[0m\u001b[0;34m-\u001b[0m\u001b[0mD\u001b[0m\u001b[0;34m)\u001b[0m\u001b[0;34m)\u001b[0m\u001b[0;34m)\u001b[0m\u001b[0;34m\u001b[0m\u001b[0;34m\u001b[0m\u001b[0m\n\u001b[0;32m---> 21\u001b[0;31m                 \u001b[0;32mif\u001b[0m \u001b[0mq\u001b[0m\u001b[0;34m<\u001b[0m\u001b[0mM\u001b[0m \u001b[0;32mand\u001b[0m \u001b[0misprime\u001b[0m\u001b[0;34m(\u001b[0m\u001b[0mq\u001b[0m\u001b[0;34m)\u001b[0m\u001b[0;34m:\u001b[0m\u001b[0;34m\u001b[0m\u001b[0;34m\u001b[0m\u001b[0m\n\u001b[0m\u001b[1;32m     22\u001b[0m                     \u001b[0;32mfor\u001b[0m \u001b[0mi\u001b[0m \u001b[0;32min\u001b[0m \u001b[0mrange\u001b[0m\u001b[0;34m(\u001b[0m\u001b[0mlen\u001b[0m\u001b[0;34m(\u001b[0m\u001b[0mLIST\u001b[0m\u001b[0;34m)\u001b[0m\u001b[0;34m)\u001b[0m\u001b[0;34m:\u001b[0m\u001b[0;34m\u001b[0m\u001b[0;34m\u001b[0m\u001b[0m\n\u001b[1;32m     23\u001b[0m                         \u001b[0;32mif\u001b[0m \u001b[0mi\u001b[0m\u001b[0;34m==\u001b[0m\u001b[0;36m0\u001b[0m \u001b[0;32mand\u001b[0m \u001b[0mb\u001b[0m\u001b[0;34m/\u001b[0m\u001b[0ma\u001b[0m \u001b[0;34m<=\u001b[0m \u001b[0mLIST\u001b[0m\u001b[0;34m[\u001b[0m\u001b[0;36m0\u001b[0m\u001b[0;34m]\u001b[0m\u001b[0;34m/\u001b[0m\u001b[0;36m10000\u001b[0m\u001b[0;34m:\u001b[0m\u001b[0;34m\u001b[0m\u001b[0;34m\u001b[0m\u001b[0m\n",
      "\u001b[0;32m<ipython-input-2-bcb8faa9e83e>\u001b[0m in \u001b[0;36misprime\u001b[0;34m(n)\u001b[0m\n\u001b[1;32m     11\u001b[0m \u001b[0;34m\u001b[0m\u001b[0m\n\u001b[1;32m     12\u001b[0m     \u001b[0mi\u001b[0m \u001b[0;34m=\u001b[0m \u001b[0;36m5\u001b[0m\u001b[0;34m\u001b[0m\u001b[0;34m\u001b[0m\u001b[0m\n\u001b[0;32m---> 13\u001b[0;31m     \u001b[0;32mwhile\u001b[0m\u001b[0;34m(\u001b[0m\u001b[0mi\u001b[0m \u001b[0;34m*\u001b[0m \u001b[0mi\u001b[0m \u001b[0;34m<=\u001b[0m \u001b[0mn\u001b[0m\u001b[0;34m)\u001b[0m\u001b[0;34m:\u001b[0m\u001b[0;34m\u001b[0m\u001b[0;34m\u001b[0m\u001b[0m\n\u001b[0m\u001b[1;32m     14\u001b[0m         \u001b[0;32mif\u001b[0m \u001b[0;34m(\u001b[0m\u001b[0mn\u001b[0m \u001b[0;34m%\u001b[0m \u001b[0mi\u001b[0m\u001b[0;34m)\u001b[0m \u001b[0;34m==\u001b[0m \u001b[0;36m0\u001b[0m \u001b[0;32mor\u001b[0m \u001b[0mn\u001b[0m \u001b[0;34m%\u001b[0m \u001b[0;34m(\u001b[0m\u001b[0mi\u001b[0m \u001b[0;34m+\u001b[0m \u001b[0;36m2\u001b[0m\u001b[0;34m)\u001b[0m \u001b[0;34m==\u001b[0m \u001b[0;36m0\u001b[0m\u001b[0;34m:\u001b[0m\u001b[0;34m\u001b[0m\u001b[0;34m\u001b[0m\u001b[0m\n\u001b[1;32m     15\u001b[0m             \u001b[0;32mreturn\u001b[0m \u001b[0;32mFalse\u001b[0m\u001b[0;34m\u001b[0m\u001b[0;34m\u001b[0m\u001b[0m\n",
      "\u001b[0;31mKeyboardInterrupt\u001b[0m: "
     ]
    }
   ],
   "source": [
    "neg_mod2_testing(4000,500,-2,3,n_two_third)"
   ]
  },
  {
   "cell_type": "markdown",
   "metadata": {},
   "source": [
    "# Testing: Inverse Distruntion for primes a^3-5b^3"
   ]
  },
  {
   "cell_type": "code",
   "execution_count": null,
   "metadata": {},
   "outputs": [
    {
     "name": "stdout",
     "output_type": "stream",
     "text": [
      "Primes of the form a^3 + -5b^3\n",
      "\n",
      "Calculating the negative inverse distribution..\n",
      "Calculating the distribution of primes D<0....\n"
     ]
    }
   ],
   "source": [
    "testing_d_neg(3000, 500, -5, 3)"
   ]
  },
  {
   "cell_type": "code",
   "execution_count": 28,
   "metadata": {},
   "outputs": [
    {
     "data": {
      "text/plain": [
       "[250, 500, 750, 1000, 1248, 1496]"
      ]
     },
     "execution_count": 28,
     "metadata": {},
     "output_type": "execute_result"
    }
   ],
   "source": [
    "n_five_third = neg_inverse_distribution_primes_a_b_nth(-5,3)\n",
    "n_five_third"
   ]
  },
  {
   "cell_type": "code",
   "execution_count": 29,
   "metadata": {},
   "outputs": [
    {
     "name": "stdout",
     "output_type": "stream",
     "text": [
      "Distribution of primes of the form a^3 + -5b^3\n",
      "N = 500   [185, 218, 196, 210, 192, 211] 1.1783783783783783\n",
      "N = 1000   [691, 749, 717, 733, 721, 762] 1.1027496382054993\n",
      "N = 1500   [1506, 1565, 1523, 1503, 1552, 1578] 1.0499001996007984\n",
      "N = 2000   [2593, 2654, 2586, 2600, 2611, 2680] 1.0363495746326372\n"
     ]
    }
   ],
   "source": [
    "neg_testing(2000, 500, -5, 3, n_five_third) #rangeN, D, n, inverse_list"
   ]
  },
  {
   "cell_type": "code",
   "execution_count": 30,
   "metadata": {},
   "outputs": [
    {
     "name": "stdout",
     "output_type": "stream",
     "text": [
      "Distribution of primes of the form a^3 + -5b^3\n",
      "N = 500   [99, 109, 94, 104, 102, 100, 86, 109, 102, 106, 90, 111] 1.2906976744186047\n",
      "N = 1000   [354, 367, 352, 362, 365, 362, 337, 382, 365, 371, 356, 400] 1.1869436201780414\n",
      "N = 1500   [756, 781, 767, 739, 796, 746, 750, 784, 756, 764, 756, 832] 1.1258457374830853\n",
      "N = 2000   [1304, 1333, 1302, 1294, 1328, 1288, 1289, 1321, 1284, 1306, 1283, 1392] 1.0849571317225253\n"
     ]
    }
   ],
   "source": [
    "neg_mod2_testing(2000,500,-5,3,n_five_third)"
   ]
  },
  {
   "cell_type": "markdown",
   "metadata": {},
   "source": [
    "# Testing: Inverse Distruntion for primes a^3-6b^3"
   ]
  },
  {
   "cell_type": "code",
   "execution_count": null,
   "metadata": {},
   "outputs": [],
   "source": [
    "testing_d_neg(3000, 500, -6, 3)"
   ]
  },
  {
   "cell_type": "code",
   "execution_count": 31,
   "metadata": {},
   "outputs": [
    {
     "data": {
      "text/plain": [
       "[250, 500, 750, 999, 1248, 1495]"
      ]
     },
     "execution_count": 31,
     "metadata": {},
     "output_type": "execute_result"
    }
   ],
   "source": [
    "n_six_third = neg_inverse_distribution_primes_a_b_nth(-6,3)\n",
    "n_six_third"
   ]
  },
  {
   "cell_type": "code",
   "execution_count": 32,
   "metadata": {},
   "outputs": [
    {
     "name": "stdout",
     "output_type": "stream",
     "text": [
      "Distribution of primes of the form a^3 + -6b^3\n",
      "N = 500   [139, 162, 159, 164, 160, 155] 1.1798561151079137\n",
      "N = 1000   [521, 565, 584, 562, 559, 547] 1.1209213051823417\n",
      "N = 1500   [1115, 1195, 1229, 1169, 1182, 1147] 1.1022421524663677\n",
      "N = 2000   [1939, 2008, 2078, 1988, 2026, 2000] 1.071686436307375\n"
     ]
    }
   ],
   "source": [
    "neg_testing(2000, 500, -6, 3, n_six_third) #rangeN, D, n, inverse_list"
   ]
  },
  {
   "cell_type": "code",
   "execution_count": 33,
   "metadata": {},
   "outputs": [
    {
     "name": "stdout",
     "output_type": "stream",
     "text": [
      "Distribution of primes of the form a^3 + -6b^3\n",
      "N = 500   [79, 73, 71, 81, 84, 73, 60, 89, 88, 83, 76, 82] 1.4833333333333334\n",
      "N = 1000   [264, 285, 280, 287, 277, 273, 257, 280, 304, 275, 282, 274] 1.1828793774319066\n",
      "N = 1500   [562, 611, 597, 599, 585, 568, 553, 584, 632, 570, 597, 579] 1.1428571428571428\n",
      "N = 2000   [974, 1005, 1014, 1023, 1008, 1002, 965, 1003, 1064, 965, 1018, 998] 1.1025906735751296\n"
     ]
    }
   ],
   "source": [
    "neg_mod2_testing(2000,500,-6,3,n_six_third)"
   ]
  },
  {
   "cell_type": "markdown",
   "metadata": {},
   "source": [
    "# Testing: Inverse Distruntion for primes a^4-2b^4"
   ]
  },
  {
   "cell_type": "code",
   "execution_count": null,
   "metadata": {},
   "outputs": [],
   "source": [
    "testing_d_neg(2000, 500, -2, 4)"
   ]
  },
  {
   "cell_type": "code",
   "execution_count": 17,
   "metadata": {},
   "outputs": [
    {
     "name": "stdout",
     "output_type": "stream",
     "text": [
      "Distribution of primes of the form a^4 + -2b^4\n",
      "N = 500   [263, 274, 251, 230, 255, 252] 1.191304347826087\n",
      "N = 1000   [902, 910, 921, 884, 885, 937] 1.0599547511312217\n"
     ]
    },
    {
     "ename": "KeyboardInterrupt",
     "evalue": "",
     "output_type": "error",
     "traceback": [
      "\u001b[1;31m---------------------------------------------------------------------------\u001b[0m",
      "\u001b[1;31mKeyboardInterrupt\u001b[0m                         Traceback (most recent call last)",
      "\u001b[1;32m<ipython-input-17-aec82f675208>\u001b[0m in \u001b[0;36m<module>\u001b[1;34m\u001b[0m\n\u001b[1;32m----> 1\u001b[1;33m \u001b[0mneg_testing\u001b[0m\u001b[1;33m(\u001b[0m\u001b[1;36m2000\u001b[0m\u001b[1;33m,\u001b[0m \u001b[1;36m500\u001b[0m\u001b[1;33m,\u001b[0m \u001b[1;33m-\u001b[0m\u001b[1;36m2\u001b[0m\u001b[1;33m,\u001b[0m \u001b[1;36m4\u001b[0m\u001b[1;33m,\u001b[0m \u001b[0mn_two_fourth\u001b[0m\u001b[1;33m)\u001b[0m \u001b[1;31m#rangeN, D, n, inverse_list\u001b[0m\u001b[1;33m\u001b[0m\u001b[1;33m\u001b[0m\u001b[0m\n\u001b[0m",
      "\u001b[1;32m<ipython-input-11-b3e30e89415b>\u001b[0m in \u001b[0;36mneg_testing\u001b[1;34m(rangeN, incre, D, n, inverse_list)\u001b[0m\n\u001b[0;32m      3\u001b[0m     \u001b[0mtest_dic\u001b[0m \u001b[1;33m=\u001b[0m \u001b[0mdict\u001b[0m\u001b[1;33m(\u001b[0m\u001b[1;33m)\u001b[0m\u001b[1;33m\u001b[0m\u001b[1;33m\u001b[0m\u001b[0m\n\u001b[0;32m      4\u001b[0m     \u001b[1;32mfor\u001b[0m \u001b[0mN\u001b[0m \u001b[1;32min\u001b[0m \u001b[0mrange\u001b[0m\u001b[1;33m(\u001b[0m\u001b[0mincre\u001b[0m\u001b[1;33m,\u001b[0m\u001b[0mrangeN\u001b[0m\u001b[1;33m+\u001b[0m\u001b[0mincre\u001b[0m\u001b[1;33m,\u001b[0m \u001b[0mincre\u001b[0m\u001b[1;33m)\u001b[0m\u001b[1;33m:\u001b[0m\u001b[1;33m\u001b[0m\u001b[1;33m\u001b[0m\u001b[0m\n\u001b[1;32m----> 5\u001b[1;33m         \u001b[0mdistribution\u001b[0m \u001b[1;33m=\u001b[0m \u001b[0mneg_distribution_primes_a_b\u001b[0m\u001b[1;33m(\u001b[0m\u001b[0mN\u001b[0m\u001b[1;33m,\u001b[0m \u001b[0mD\u001b[0m\u001b[1;33m,\u001b[0m \u001b[0mn\u001b[0m\u001b[1;33m,\u001b[0m \u001b[0minverse_list\u001b[0m\u001b[1;33m)\u001b[0m\u001b[1;33m\u001b[0m\u001b[1;33m\u001b[0m\u001b[0m\n\u001b[0m\u001b[0;32m      6\u001b[0m         \u001b[1;31m#test_dic[distribution] = deviation(distribution)\u001b[0m\u001b[1;33m\u001b[0m\u001b[1;33m\u001b[0m\u001b[1;33m\u001b[0m\u001b[0m\n\u001b[0;32m      7\u001b[0m         \u001b[1;31m#test_dic.update({f\"N = {N}  \"+str(distribution): deviation(distribution)})\u001b[0m\u001b[1;33m\u001b[0m\u001b[1;33m\u001b[0m\u001b[1;33m\u001b[0m\u001b[0m\n",
      "\u001b[1;32m<ipython-input-10-90d0cd9c035d>\u001b[0m in \u001b[0;36mneg_distribution_primes_a_b\u001b[1;34m(N, D, n, LIST)\u001b[0m\n\u001b[0;32m      7\u001b[0m             \u001b[0mq\u001b[0m \u001b[1;33m=\u001b[0m \u001b[0ma\u001b[0m\u001b[1;33m**\u001b[0m\u001b[0mn\u001b[0m \u001b[1;33m+\u001b[0m \u001b[0mD\u001b[0m\u001b[1;33m*\u001b[0m\u001b[0mb\u001b[0m\u001b[1;33m**\u001b[0m\u001b[0mn\u001b[0m\u001b[1;33m\u001b[0m\u001b[1;33m\u001b[0m\u001b[0m\n\u001b[0;32m      8\u001b[0m             \u001b[0mM\u001b[0m \u001b[1;33m=\u001b[0m \u001b[1;33m(\u001b[0m\u001b[0mN\u001b[0m\u001b[1;33m**\u001b[0m\u001b[0mn\u001b[0m\u001b[1;33m)\u001b[0m \u001b[1;33m-\u001b[0m \u001b[1;33m(\u001b[0m\u001b[1;33m(\u001b[0m\u001b[0mN\u001b[0m\u001b[1;33m**\u001b[0m\u001b[0mn\u001b[0m\u001b[1;33m)\u001b[0m\u001b[1;33m/\u001b[0m\u001b[1;33m(\u001b[0m\u001b[1;36m2\u001b[0m\u001b[1;33m**\u001b[0m\u001b[0mn\u001b[0m\u001b[1;33m*\u001b[0m\u001b[1;33m(\u001b[0m\u001b[1;33m-\u001b[0m\u001b[0mD\u001b[0m\u001b[1;33m)\u001b[0m\u001b[1;33m)\u001b[0m\u001b[1;33m)\u001b[0m\u001b[1;33m\u001b[0m\u001b[1;33m\u001b[0m\u001b[0m\n\u001b[1;32m----> 9\u001b[1;33m             \u001b[1;32mif\u001b[0m \u001b[0mq\u001b[0m\u001b[1;33m<\u001b[0m\u001b[0mM\u001b[0m \u001b[1;32mand\u001b[0m \u001b[0misprime\u001b[0m\u001b[1;33m(\u001b[0m\u001b[0mq\u001b[0m\u001b[1;33m)\u001b[0m\u001b[1;33m:\u001b[0m\u001b[1;33m\u001b[0m\u001b[1;33m\u001b[0m\u001b[0m\n\u001b[0m\u001b[0;32m     10\u001b[0m                 \u001b[1;32mfor\u001b[0m \u001b[0mi\u001b[0m \u001b[1;32min\u001b[0m \u001b[0mrange\u001b[0m\u001b[1;33m(\u001b[0m\u001b[0mlen\u001b[0m\u001b[1;33m(\u001b[0m\u001b[0mLIST\u001b[0m\u001b[1;33m)\u001b[0m\u001b[1;33m)\u001b[0m\u001b[1;33m:\u001b[0m\u001b[1;33m\u001b[0m\u001b[1;33m\u001b[0m\u001b[0m\n\u001b[0;32m     11\u001b[0m                     \u001b[1;32mif\u001b[0m \u001b[0mi\u001b[0m\u001b[1;33m==\u001b[0m\u001b[1;36m0\u001b[0m \u001b[1;32mand\u001b[0m \u001b[0mb\u001b[0m\u001b[1;33m/\u001b[0m\u001b[0ma\u001b[0m \u001b[1;33m<=\u001b[0m \u001b[0mLIST\u001b[0m\u001b[1;33m[\u001b[0m\u001b[1;36m0\u001b[0m\u001b[1;33m]\u001b[0m\u001b[1;33m/\u001b[0m\u001b[1;36m10000\u001b[0m\u001b[1;33m:\u001b[0m\u001b[1;33m\u001b[0m\u001b[1;33m\u001b[0m\u001b[0m\n",
      "\u001b[1;32m<ipython-input-3-bcb8faa9e83e>\u001b[0m in \u001b[0;36misprime\u001b[1;34m(n)\u001b[0m\n\u001b[0;32m     12\u001b[0m     \u001b[0mi\u001b[0m \u001b[1;33m=\u001b[0m \u001b[1;36m5\u001b[0m\u001b[1;33m\u001b[0m\u001b[1;33m\u001b[0m\u001b[0m\n\u001b[0;32m     13\u001b[0m     \u001b[1;32mwhile\u001b[0m\u001b[1;33m(\u001b[0m\u001b[0mi\u001b[0m \u001b[1;33m*\u001b[0m \u001b[0mi\u001b[0m \u001b[1;33m<=\u001b[0m \u001b[0mn\u001b[0m\u001b[1;33m)\u001b[0m\u001b[1;33m:\u001b[0m\u001b[1;33m\u001b[0m\u001b[1;33m\u001b[0m\u001b[0m\n\u001b[1;32m---> 14\u001b[1;33m         \u001b[1;32mif\u001b[0m \u001b[1;33m(\u001b[0m\u001b[0mn\u001b[0m \u001b[1;33m%\u001b[0m \u001b[0mi\u001b[0m\u001b[1;33m)\u001b[0m \u001b[1;33m==\u001b[0m \u001b[1;36m0\u001b[0m \u001b[1;32mor\u001b[0m \u001b[0mn\u001b[0m \u001b[1;33m%\u001b[0m \u001b[1;33m(\u001b[0m\u001b[0mi\u001b[0m \u001b[1;33m+\u001b[0m \u001b[1;36m2\u001b[0m\u001b[1;33m)\u001b[0m \u001b[1;33m==\u001b[0m \u001b[1;36m0\u001b[0m\u001b[1;33m:\u001b[0m\u001b[1;33m\u001b[0m\u001b[1;33m\u001b[0m\u001b[0m\n\u001b[0m\u001b[0;32m     15\u001b[0m             \u001b[1;32mreturn\u001b[0m \u001b[1;32mFalse\u001b[0m\u001b[1;33m\u001b[0m\u001b[1;33m\u001b[0m\u001b[0m\n\u001b[0;32m     16\u001b[0m         \u001b[0mi\u001b[0m \u001b[1;33m=\u001b[0m \u001b[0mi\u001b[0m \u001b[1;33m+\u001b[0m \u001b[1;36m6\u001b[0m\u001b[1;33m\u001b[0m\u001b[1;33m\u001b[0m\u001b[0m\n",
      "\u001b[1;31mKeyboardInterrupt\u001b[0m: "
     ]
    }
   ],
   "source": [
    "neg_testing(1000, 500, -2, 4, n_two_fourth) #rangeN, D, n, inverse_list"
   ]
  },
  {
   "cell_type": "code",
   "execution_count": 18,
   "metadata": {},
   "outputs": [
    {
     "name": "stdout",
     "output_type": "stream",
     "text": [
      "Distribution of primes of the form a^4 + -2b^4\n",
      "N = 500   [133, 126, 138, 117, 120, 126, 130, 148, 113, 113, 135, 126] 1.3097345132743363\n"
     ]
    },
    {
     "ename": "KeyboardInterrupt",
     "evalue": "",
     "output_type": "error",
     "traceback": [
      "\u001b[1;31m---------------------------------------------------------------------------\u001b[0m",
      "\u001b[1;31mKeyboardInterrupt\u001b[0m                         Traceback (most recent call last)",
      "\u001b[1;32m<ipython-input-18-a26a744583ac>\u001b[0m in \u001b[0;36m<module>\u001b[1;34m\u001b[0m\n\u001b[1;32m----> 1\u001b[1;33m \u001b[0mneg_mod2_testing\u001b[0m\u001b[1;33m(\u001b[0m\u001b[1;36m2000\u001b[0m\u001b[1;33m,\u001b[0m\u001b[1;36m500\u001b[0m\u001b[1;33m,\u001b[0m\u001b[1;33m-\u001b[0m\u001b[1;36m2\u001b[0m\u001b[1;33m,\u001b[0m\u001b[1;36m4\u001b[0m\u001b[1;33m,\u001b[0m\u001b[0mn_two_fourth\u001b[0m\u001b[1;33m)\u001b[0m\u001b[1;33m\u001b[0m\u001b[1;33m\u001b[0m\u001b[0m\n\u001b[0m",
      "\u001b[1;32m<ipython-input-15-eb07eeeb4162>\u001b[0m in \u001b[0;36mneg_mod2_testing\u001b[1;34m(rangeN, incre, D, n, inverse_list)\u001b[0m\n\u001b[0;32m      3\u001b[0m     \u001b[0mtest_dic\u001b[0m \u001b[1;33m=\u001b[0m \u001b[0mdict\u001b[0m\u001b[1;33m(\u001b[0m\u001b[1;33m)\u001b[0m\u001b[1;33m\u001b[0m\u001b[1;33m\u001b[0m\u001b[0m\n\u001b[0;32m      4\u001b[0m     \u001b[1;32mfor\u001b[0m \u001b[0mN\u001b[0m \u001b[1;32min\u001b[0m \u001b[0mrange\u001b[0m\u001b[1;33m(\u001b[0m\u001b[0mincre\u001b[0m\u001b[1;33m,\u001b[0m\u001b[0mrangeN\u001b[0m\u001b[1;33m+\u001b[0m\u001b[0mincre\u001b[0m\u001b[1;33m,\u001b[0m \u001b[0mincre\u001b[0m\u001b[1;33m)\u001b[0m\u001b[1;33m:\u001b[0m\u001b[1;33m\u001b[0m\u001b[1;33m\u001b[0m\u001b[0m\n\u001b[1;32m----> 5\u001b[1;33m         \u001b[0mdistribution\u001b[0m \u001b[1;33m=\u001b[0m \u001b[0mneg_distribution_primes_a_b_mod2\u001b[0m\u001b[1;33m(\u001b[0m\u001b[0mN\u001b[0m\u001b[1;33m,\u001b[0m \u001b[0mD\u001b[0m\u001b[1;33m,\u001b[0m \u001b[0mn\u001b[0m\u001b[1;33m,\u001b[0m \u001b[0minverse_list\u001b[0m\u001b[1;33m)\u001b[0m\u001b[1;33m\u001b[0m\u001b[1;33m\u001b[0m\u001b[0m\n\u001b[0m\u001b[0;32m      6\u001b[0m         \u001b[1;31m#test_dic[distribution] = deviation(distribution)\u001b[0m\u001b[1;33m\u001b[0m\u001b[1;33m\u001b[0m\u001b[1;33m\u001b[0m\u001b[0m\n\u001b[0;32m      7\u001b[0m         \u001b[1;31m#test_dic.update({f\"N = {N}  \"+str(distribution): deviation(distribution)})\u001b[0m\u001b[1;33m\u001b[0m\u001b[1;33m\u001b[0m\u001b[1;33m\u001b[0m\u001b[0m\n",
      "\u001b[1;32m<ipython-input-14-a2f2dedd1ac4>\u001b[0m in \u001b[0;36mneg_distribution_primes_a_b_mod2\u001b[1;34m(N, D, n, LIST)\u001b[0m\n\u001b[0;32m     10\u001b[0m                 \u001b[0mq\u001b[0m \u001b[1;33m=\u001b[0m \u001b[0ma\u001b[0m\u001b[1;33m**\u001b[0m\u001b[0mn\u001b[0m \u001b[1;33m+\u001b[0m \u001b[0mD\u001b[0m\u001b[1;33m*\u001b[0m\u001b[0mb\u001b[0m\u001b[1;33m**\u001b[0m\u001b[0mn\u001b[0m\u001b[1;33m\u001b[0m\u001b[1;33m\u001b[0m\u001b[0m\n\u001b[0;32m     11\u001b[0m                 \u001b[0mM\u001b[0m \u001b[1;33m=\u001b[0m \u001b[1;33m(\u001b[0m\u001b[0mN\u001b[0m\u001b[1;33m**\u001b[0m\u001b[0mn\u001b[0m\u001b[1;33m)\u001b[0m \u001b[1;33m-\u001b[0m \u001b[1;33m(\u001b[0m\u001b[1;33m(\u001b[0m\u001b[0mN\u001b[0m\u001b[1;33m**\u001b[0m\u001b[0mn\u001b[0m\u001b[1;33m)\u001b[0m\u001b[1;33m/\u001b[0m\u001b[1;33m(\u001b[0m\u001b[1;36m2\u001b[0m\u001b[1;33m**\u001b[0m\u001b[0mn\u001b[0m\u001b[1;33m*\u001b[0m\u001b[1;33m(\u001b[0m\u001b[1;33m-\u001b[0m\u001b[0mD\u001b[0m\u001b[1;33m)\u001b[0m\u001b[1;33m)\u001b[0m\u001b[1;33m)\u001b[0m\u001b[1;33m\u001b[0m\u001b[1;33m\u001b[0m\u001b[0m\n\u001b[1;32m---> 12\u001b[1;33m                 \u001b[1;32mif\u001b[0m \u001b[0mq\u001b[0m\u001b[1;33m<\u001b[0m\u001b[0mM\u001b[0m \u001b[1;32mand\u001b[0m \u001b[0misprime\u001b[0m\u001b[1;33m(\u001b[0m\u001b[0mq\u001b[0m\u001b[1;33m)\u001b[0m\u001b[1;33m:\u001b[0m\u001b[1;33m\u001b[0m\u001b[1;33m\u001b[0m\u001b[0m\n\u001b[0m\u001b[0;32m     13\u001b[0m                     \u001b[1;32mfor\u001b[0m \u001b[0mi\u001b[0m \u001b[1;32min\u001b[0m \u001b[0mrange\u001b[0m\u001b[1;33m(\u001b[0m\u001b[0mlen\u001b[0m\u001b[1;33m(\u001b[0m\u001b[0mLIST\u001b[0m\u001b[1;33m)\u001b[0m\u001b[1;33m)\u001b[0m\u001b[1;33m:\u001b[0m\u001b[1;33m\u001b[0m\u001b[1;33m\u001b[0m\u001b[0m\n\u001b[0;32m     14\u001b[0m                         \u001b[1;32mif\u001b[0m \u001b[0mi\u001b[0m\u001b[1;33m==\u001b[0m\u001b[1;36m0\u001b[0m \u001b[1;32mand\u001b[0m \u001b[0mb\u001b[0m\u001b[1;33m/\u001b[0m\u001b[0ma\u001b[0m \u001b[1;33m<=\u001b[0m \u001b[0mLIST\u001b[0m\u001b[1;33m[\u001b[0m\u001b[1;36m0\u001b[0m\u001b[1;33m]\u001b[0m\u001b[1;33m/\u001b[0m\u001b[1;36m10000\u001b[0m\u001b[1;33m:\u001b[0m\u001b[1;33m\u001b[0m\u001b[1;33m\u001b[0m\u001b[0m\n",
      "\u001b[1;32m<ipython-input-3-bcb8faa9e83e>\u001b[0m in \u001b[0;36misprime\u001b[1;34m(n)\u001b[0m\n\u001b[0;32m     14\u001b[0m         \u001b[1;32mif\u001b[0m \u001b[1;33m(\u001b[0m\u001b[0mn\u001b[0m \u001b[1;33m%\u001b[0m \u001b[0mi\u001b[0m\u001b[1;33m)\u001b[0m \u001b[1;33m==\u001b[0m \u001b[1;36m0\u001b[0m \u001b[1;32mor\u001b[0m \u001b[0mn\u001b[0m \u001b[1;33m%\u001b[0m \u001b[1;33m(\u001b[0m\u001b[0mi\u001b[0m \u001b[1;33m+\u001b[0m \u001b[1;36m2\u001b[0m\u001b[1;33m)\u001b[0m \u001b[1;33m==\u001b[0m \u001b[1;36m0\u001b[0m\u001b[1;33m:\u001b[0m\u001b[1;33m\u001b[0m\u001b[1;33m\u001b[0m\u001b[0m\n\u001b[0;32m     15\u001b[0m             \u001b[1;32mreturn\u001b[0m \u001b[1;32mFalse\u001b[0m\u001b[1;33m\u001b[0m\u001b[1;33m\u001b[0m\u001b[0m\n\u001b[1;32m---> 16\u001b[1;33m         \u001b[0mi\u001b[0m \u001b[1;33m=\u001b[0m \u001b[0mi\u001b[0m \u001b[1;33m+\u001b[0m \u001b[1;36m6\u001b[0m\u001b[1;33m\u001b[0m\u001b[1;33m\u001b[0m\u001b[0m\n\u001b[0m\u001b[0;32m     17\u001b[0m \u001b[1;33m\u001b[0m\u001b[0m\n\u001b[0;32m     18\u001b[0m     \u001b[1;32mreturn\u001b[0m \u001b[1;32mTrue\u001b[0m\u001b[1;33m\u001b[0m\u001b[1;33m\u001b[0m\u001b[0m\n",
      "\u001b[1;31mKeyboardInterrupt\u001b[0m: "
     ]
    }
   ],
   "source": [
    "neg_mod2_testing(2000,500,-2,4,n_two_fourth)"
   ]
  },
  {
   "cell_type": "markdown",
   "metadata": {},
   "source": [
    "# Testing: Inverse Distruntion for primes a^4-3b^4"
   ]
  },
  {
   "cell_type": "code",
   "execution_count": null,
   "metadata": {},
   "outputs": [],
   "source": [
    "n_three_fourth = neg_inverse_distribution_primes_a_b_nth(-3,4)\n",
    "n_three_fourth"
   ]
  },
  {
   "cell_type": "code",
   "execution_count": null,
   "metadata": {},
   "outputs": [],
   "source": [
    "neg_testing(2000, 500, -3, 4, n_three_fourth) #rangeN, D, n, inverse_list"
   ]
  },
  {
   "cell_type": "code",
   "execution_count": null,
   "metadata": {},
   "outputs": [],
   "source": [
    "neg_mod2_testing(2000,500,-3,4,n_three_fourth)"
   ]
  },
  {
   "cell_type": "markdown",
   "metadata": {},
   "source": [
    "# Testing: Inverse Distruntion for primes a^4-5b^4"
   ]
  },
  {
   "cell_type": "code",
   "execution_count": null,
   "metadata": {},
   "outputs": [],
   "source": [
    "n_five_fourth = neg_inverse_distribution_primes_a_b_nth(-5,4)\n",
    "n_five_fourth"
   ]
  },
  {
   "cell_type": "code",
   "execution_count": null,
   "metadata": {},
   "outputs": [],
   "source": [
    "neg_testing(2000, 500, -5, 4, n_five_fourth) #rangeN, D, n, inverse_list"
   ]
  },
  {
   "cell_type": "code",
   "execution_count": null,
   "metadata": {},
   "outputs": [],
   "source": [
    "neg_mod2_testing(2000,500,-5,4,n_five_fourth)"
   ]
  },
  {
   "cell_type": "markdown",
   "metadata": {},
   "source": [
    "# Testing: Inverse Distruntion for primes a^4-6b^4"
   ]
  },
  {
   "cell_type": "code",
   "execution_count": null,
   "metadata": {},
   "outputs": [],
   "source": [
    "n_six_fourth = neg_inverse_distribution_primes_a_b_nth(-6,4)\n",
    "n_six_fourth"
   ]
  },
  {
   "cell_type": "code",
   "execution_count": null,
   "metadata": {},
   "outputs": [],
   "source": [
    "neg_testing(2000, 500, -6, 4, n_six_fourth) #rangeN, D, n, inverse_list"
   ]
  },
  {
   "cell_type": "code",
   "execution_count": null,
   "metadata": {},
   "outputs": [],
   "source": [
    "neg_mod2_testing(2000,500,-6,4,n_six_fourth)"
   ]
  },
  {
   "cell_type": "markdown",
   "metadata": {},
   "source": [
    "# Testing: Inverse Distruntion for primes a^4-11b^4"
   ]
  },
  {
   "cell_type": "code",
   "execution_count": null,
   "metadata": {},
   "outputs": [],
   "source": [
    "n_eleven_fourth = neg_inverse_distribution_primes_a_b_nth(-11,4)\n",
    "n_eleven_fourth"
   ]
  },
  {
   "cell_type": "code",
   "execution_count": null,
   "metadata": {},
   "outputs": [],
   "source": [
    "neg_testing(2000, 500, -11, 4, n_eleven_fourth) #rangeN, D, n, inverse_list"
   ]
  },
  {
   "cell_type": "code",
   "execution_count": null,
   "metadata": {},
   "outputs": [],
   "source": [
    "neg_mod2_testing(2000,500,-11,4,n_elevem_fourth)"
   ]
  },
  {
   "cell_type": "markdown",
   "metadata": {},
   "source": [
    "# Testing: Inverse Distruntion for primes a^4 + 11b^4"
   ]
  },
  {
   "cell_type": "code",
   "execution_count": null,
   "metadata": {},
   "outputs": [],
   "source": [
    "eleven_fourth = inverse_distribution_primes_a_b_nth(11, 4)\n",
    "eleven_fourth"
   ]
  },
  {
   "cell_type": "code",
   "execution_count": 53,
   "metadata": {},
   "outputs": [
    {
     "data": {
      "text/plain": [
       "[7, 6, 11, 8, 11, 12, 10]"
      ]
     },
     "execution_count": 53,
     "metadata": {},
     "output_type": "execute_result"
    }
   ],
   "source": [
    "dist_eleven_fourth = distribution_primes_a_b(100,11,4, eleven_fourth) # def distribution_primes_a_b(N, D, n, LIST):\n",
    "dist_eleven_fourth"
   ]
  },
  {
   "cell_type": "code",
   "execution_count": null,
   "metadata": {},
   "outputs": [],
   "source": [
    "x = testing(1000, 11, 4, eleven_fourth)\n",
    "x"
   ]
  },
  {
   "cell_type": "raw",
   "metadata": {},
   "source": [
    "x = testing(1000, 11, 4, eleven_fourth)\n",
    "Result:\n",
    "{'N = 100  [7, 6, 11, 8, 11, 12, 10]': 2.0,\n",
    " 'N = 200  [28, 32, 31, 35, 37, 37, 33]': 1.3214285714285714,\n",
    " 'N = 300  [62, 68, 63, 68, 83, 74, 76]': 1.3387096774193548,\n",
    " 'N = 400  [114, 117, 106, 123, 122, 128, 116]': 1.2075471698113207,\n",
    " 'N = 500  [171, 166, 158, 181, 176, 198, 174]': 1.2531645569620253,\n",
    " 'N = 600  [237, 249, 228, 252, 236, 266, 255]': 1.1666666666666667,\n",
    " 'N = 700  [313, 320, 322, 326, 318, 344, 332]': 1.099041533546326,\n",
    " 'N = 800  [388, 396, 409, 410, 414, 434, 418]': 1.1185567010309279,\n",
    " 'N = 900  [485, 501, 519, 506, 509, 528, 527]': 1.088659793814433,\n",
    " 'N = 1000  [593, 616, 623, 611, 618, 641, 646]': 1.0893760539629005}"
   ]
  },
  {
   "cell_type": "code",
   "execution_count": null,
   "metadata": {},
   "outputs": [],
   "source": [
    "mod2_testing(2000,500,11, 4, eleven_fourth)"
   ]
  },
  {
   "cell_type": "markdown",
   "metadata": {},
   "source": [
    "# Testing: Inverse Distruntion for primes a^4 + b^4"
   ]
  },
  {
   "cell_type": "code",
   "execution_count": null,
   "metadata": {},
   "outputs": [],
   "source": [
    "one_fourth = inverse_distribution_primes_a_b_nth(1, 4)\n",
    "one_fourth\n"
   ]
  },
  {
   "cell_type": "code",
   "execution_count": 9,
   "metadata": {
    "scrolled": true
   },
   "outputs": [
    {
     "name": "stdout",
     "output_type": "stream",
     "text": [
      "Distribution of primes of the form a^4 + 1b^4\n"
     ]
    },
    {
     "data": {
      "text/plain": [
       "{'N = 100  [38, 51, 46, 47, 52, 55, 46, 56, 45]': 1.4736842105263157,\n",
       " 'N = 200  [163, 161, 168, 173, 161, 185, 178, 178, 175]': 1.1490683229813665,\n",
       " 'N = 300  [359, 354, 340, 347, 354, 369, 354, 348, 363]': 1.0852941176470587,\n",
       " 'N = 400  [610, 590, 565, 580, 577, 608, 619, 590, 596]': 1.095575221238938,\n",
       " 'N = 500  [913, 910, 845, 869, 878, 913, 904, 872, 887]': 1.0804733727810651,\n",
       " 'N = 600  [1287, 1266, 1195, 1221, 1253, 1272, 1272, 1228, 1247]': 1.0769874476987447,\n",
       " 'N = 700  [1670, 1698, 1596, 1637, 1647, 1686, 1672, 1642, 1636]': 1.0639097744360901,\n",
       " 'N = 800  [2132, 2158, 2056, 2122, 2071, 2103, 2139, 2069, 2133]': 1.0496108949416343,\n",
       " 'N = 900  [2630, 2708, 2598, 2589, 2612, 2607, 2651, 2602, 2639]': 1.0459636925453843,\n",
       " 'N = 1000  [3189, 3275, 3182, 3112, 3178, 3132, 3235, 3110, 3210]': 1.0530546623794212}"
      ]
     },
     "execution_count": 9,
     "metadata": {},
     "output_type": "execute_result"
    }
   ],
   "source": [
    "one_4 = testing(1000, 1, 4, one_fourth)\n",
    "one_4"
   ]
  },
  {
   "cell_type": "code",
   "execution_count": null,
   "metadata": {},
   "outputs": [],
   "source": [
    "mod2_testing(2000,500,1, 4, one_fourth)"
   ]
  },
  {
   "cell_type": "markdown",
   "metadata": {},
   "source": [
    "# Testing: Inverse Distruntion for primes a^4 + 2b^4"
   ]
  },
  {
   "cell_type": "code",
   "execution_count": null,
   "metadata": {},
   "outputs": [],
   "source": [
    "two_fourth = inverse_distribution_primes_a_b_nth(2, 4)\n",
    "two_fourth\n"
   ]
  },
  {
   "cell_type": "code",
   "execution_count": 54,
   "metadata": {},
   "outputs": [
    {
     "name": "stdout",
     "output_type": "stream",
     "text": [
      "Distribution of primes of the form a^4 + 2b^4\n"
     ]
    },
    {
     "data": {
      "text/plain": [
       "{'N = 100  [17, 18, 25, 18, 17, 22, 17, 26]': 1.5294117647058822,\n",
       " 'N = 200  [70, 66, 73, 65, 69, 68, 58, 76]': 1.3103448275862069,\n",
       " 'N = 300  [140, 136, 143, 145, 153, 133, 127, 138]': 1.204724409448819,\n",
       " 'N = 400  [224, 228, 241, 251, 241, 229, 215, 234]': 1.1674418604651162,\n",
       " 'N = 500  [331, 336, 363, 376, 354, 352, 342, 361]': 1.13595166163142,\n",
       " 'N = 600  [459, 468, 505, 521, 494, 482, 494, 497]': 1.1350762527233116,\n",
       " 'N = 700  [621, 631, 652, 671, 669, 637, 665, 666]': 1.0805152979066022,\n",
       " 'N = 800  [802, 825, 818, 840, 871, 796, 830, 861]': 1.0942211055276383,\n",
       " 'N = 900  [1016, 1032, 1032, 1043, 1071, 981, 1027, 1063]': 1.091743119266055,\n",
       " 'N = 1000  [1227, 1256, 1276, 1265, 1290, 1195, 1264, 1280]': 1.0794979079497908}"
      ]
     },
     "execution_count": 54,
     "metadata": {},
     "output_type": "execute_result"
    }
   ],
   "source": [
    "two = testing(1000, 2, 4, two_fourth)\n",
    "two"
   ]
  },
  {
   "cell_type": "code",
   "execution_count": null,
   "metadata": {},
   "outputs": [],
   "source": [
    "mod2_testing(2000,500,2, 4, two_fourth)"
   ]
  },
  {
   "cell_type": "markdown",
   "metadata": {},
   "source": [
    "# Testing: Inverse Distruntion for primes a^4 + 3b^4"
   ]
  },
  {
   "cell_type": "code",
   "execution_count": null,
   "metadata": {},
   "outputs": [],
   "source": [
    "three_fourth = inverse_distribution_primes_a_b_nth(3, 4)\n",
    "three_fourth"
   ]
  },
  {
   "cell_type": "code",
   "execution_count": 80,
   "metadata": {},
   "outputs": [
    {
     "name": "stdout",
     "output_type": "stream",
     "text": [
      "Distribution of primes of the form a^4 + 3b^4\n"
     ]
    },
    {
     "data": {
      "text/plain": [
       "{'N = 100  [19, 27, 20, 20, 24, 18, 21, 28]': 1.5555555555555556,\n",
       " 'N = 200  [67, 70, 80, 72, 74, 70, 78, 82]': 1.2238805970149254,\n",
       " 'N = 300  [152, 149, 166, 149, 151, 155, 154, 152]': 1.1140939597315436,\n",
       " 'N = 400  [250, 242, 272, 262, 238, 250, 254, 251]': 1.1428571428571428,\n",
       " 'N = 500  [372, 376, 393, 392, 355, 373, 382, 375]': 1.1070422535211268,\n",
       " 'N = 600  [510, 526, 542, 515, 501, 514, 532, 527]': 1.0818363273453093,\n",
       " 'N = 700  [688, 688, 711, 672, 679, 669, 720, 682]': 1.0762331838565022,\n",
       " 'N = 800  [868, 871, 904, 885, 869, 868, 895, 879]': 1.0414746543778801,\n",
       " 'N = 900  [1063, 1061, 1117, 1085, 1078, 1079, 1117, 1085]': 1.052780395852969,\n",
       " 'N = 1000  [1292, 1301, 1334, 1328, 1322, 1275, 1349, 1290]': 1.0580392156862746}"
      ]
     },
     "execution_count": 80,
     "metadata": {},
     "output_type": "execute_result"
    }
   ],
   "source": [
    "three = testing(1000, 3, 4, three_fourth)\n",
    "three"
   ]
  },
  {
   "cell_type": "code",
   "execution_count": null,
   "metadata": {},
   "outputs": [],
   "source": [
    "mod2_testing(2000,500,3, 4, three_fourth)"
   ]
  },
  {
   "cell_type": "markdown",
   "metadata": {},
   "source": [
    "# Testing: Inverse Distruntion for primes a^4 + 5b^4"
   ]
  },
  {
   "cell_type": "code",
   "execution_count": null,
   "metadata": {},
   "outputs": [],
   "source": [
    "five_fourth = inverse_distribution_primes_a_b_nth(5, 4)\n",
    "five_fourth"
   ]
  },
  {
   "cell_type": "code",
   "execution_count": 82,
   "metadata": {
    "scrolled": true
   },
   "outputs": [
    {
     "name": "stdout",
     "output_type": "stream",
     "text": [
      "Distribution of primes of the form a^4 + 5b^4\n"
     ]
    },
    {
     "data": {
      "text/plain": [
       "{'N = 100  [5, 12, 7, 10, 14, 12, 10, 10]': 2.8,\n",
       " 'N = 200  [20, 35, 34, 36, 40, 32, 42, 35]': 2.1,\n",
       " 'N = 300  [57, 75, 75, 74, 71, 75, 80, 64]': 1.4035087719298245,\n",
       " 'N = 400  [103, 124, 134, 127, 125, 116, 136, 122]': 1.3203883495145632,\n",
       " 'N = 500  [157, 181, 197, 185, 189, 184, 201, 178]': 1.2802547770700636,\n",
       " 'N = 600  [228, 247, 264, 258, 261, 243, 254, 255]': 1.1578947368421053,\n",
       " 'N = 700  [309, 327, 350, 324, 348, 322, 332, 341]': 1.132686084142395,\n",
       " 'N = 800  [396, 414, 437, 415, 438, 414, 429, 429]': 1.106060606060606,\n",
       " 'N = 900  [502, 520, 537, 508, 517, 522, 525, 530]': 1.0697211155378485,\n",
       " 'N = 1000  [621, 623, 648, 623, 605, 638, 634, 627]': 1.0710743801652893}"
      ]
     },
     "execution_count": 82,
     "metadata": {},
     "output_type": "execute_result"
    }
   ],
   "source": [
    "five_4 = testing(1000, 5, 4, five_fourth)\n",
    "five_4"
   ]
  },
  {
   "cell_type": "code",
   "execution_count": null,
   "metadata": {},
   "outputs": [],
   "source": [
    "mod2_testing(2000,500,5, 4, five_fourth)"
   ]
  },
  {
   "cell_type": "markdown",
   "metadata": {},
   "source": [
    "# Testing: Inverse Distruntion for primes a^4 + 6b^4"
   ]
  },
  {
   "cell_type": "code",
   "execution_count": null,
   "metadata": {},
   "outputs": [],
   "source": [
    "six_fourth = inverse_distribution_primes_a_b_nth(6, 4)\n",
    "six_fourth"
   ]
  },
  {
   "cell_type": "code",
   "execution_count": 84,
   "metadata": {},
   "outputs": [
    {
     "name": "stdout",
     "output_type": "stream",
     "text": [
      "Distribution of primes of the form a^4 + 6b^4\n"
     ]
    },
    {
     "data": {
      "text/plain": [
       "{'N = 100  [9, 17, 10, 15, 16, 12, 14]': 1.8888888888888888,\n",
       " 'N = 200  [50, 53, 45, 61, 45, 50, 45]': 1.3555555555555556,\n",
       " 'N = 300  [94, 98, 98, 107, 83, 97, 100]': 1.2891566265060241,\n",
       " 'N = 400  [152, 168, 163, 179, 150, 160, 158]': 1.1933333333333334,\n",
       " 'N = 500  [229, 260, 238, 249, 230, 250, 227]': 1.145374449339207,\n",
       " 'N = 600  [334, 345, 331, 336, 334, 346, 329]': 1.0516717325227964,\n",
       " 'N = 700  [444, 447, 469, 436, 448, 456, 450]': 1.0756880733944953,\n",
       " 'N = 800  [571, 557, 580, 548, 563, 593, 561]': 1.082116788321168,\n",
       " 'N = 900  [732, 692, 699, 711, 692, 736, 687]': 1.0713245997088792,\n",
       " 'N = 1000  [869, 841, 844, 853, 842, 886, 846]': 1.0535077288941737}"
      ]
     },
     "execution_count": 84,
     "metadata": {},
     "output_type": "execute_result"
    }
   ],
   "source": [
    "six_4 = testing(1000, 6, 4, six_fourth)\n",
    "six_4"
   ]
  },
  {
   "cell_type": "code",
   "execution_count": null,
   "metadata": {},
   "outputs": [],
   "source": [
    "mod2_testing(2000,500,6, 4, six_fourth)"
   ]
  },
  {
   "cell_type": "markdown",
   "metadata": {},
   "source": [
    "# Testing: Inverse Distruntion for primes a^3 + 2b^3"
   ]
  },
  {
   "cell_type": "code",
   "execution_count": null,
   "metadata": {},
   "outputs": [],
   "source": [
    "two_third = inverse_distribution_primes_a_b_nth(2, 3)\n",
    "two_third"
   ]
  },
  {
   "cell_type": "code",
   "execution_count": 86,
   "metadata": {},
   "outputs": [
    {
     "name": "stdout",
     "output_type": "stream",
     "text": [
      "Distribution of primes of the form a^3 + 2b^3\n"
     ]
    },
    {
     "data": {
      "text/plain": [
       "{'N = 100  [25, 31, 25, 27, 29, 25, 31, 35]': 1.4,\n",
       " 'N = 200  [90, 107, 86, 101, 98, 88, 93, 95]': 1.244186046511628,\n",
       " 'N = 300  [183, 200, 191, 185, 187, 175, 194, 188]': 1.1428571428571428,\n",
       " 'N = 400  [311, 343, 327, 304, 320, 310, 309, 317]': 1.1282894736842106,\n",
       " 'N = 500  [455, 505, 493, 486, 471, 490, 469, 470]': 1.10989010989011}"
      ]
     },
     "execution_count": 86,
     "metadata": {},
     "output_type": "execute_result"
    }
   ],
   "source": [
    "two_3 = testing(500, 2, 3, two_third)\n",
    "two_3"
   ]
  },
  {
   "cell_type": "code",
   "execution_count": 47,
   "metadata": {},
   "outputs": [
    {
     "name": "stdout",
     "output_type": "stream",
     "text": [
      "Distribution of primes of the form a^3 + 2b^3\n",
      "N = 500   [232, 254, 247, 235, 245, 235, 234, 239, 223, 251, 246, 251, 226, 255, 235, 231] 1.1434977578475336\n",
      "N = 1000   [834, 858, 839, 864, 843, 840, 830, 856, 809, 864, 868, 844, 859, 878, 829, 852] 1.0852904820766378\n",
      "N = 1500   [1827, 1800, 1721, 1765, 1791, 1782, 1761, 1785, 1745, 1793, 1785, 1785, 1795, 1830, 1787, 1799] 1.063335270191749\n",
      "N = 2000   [3067, 2998, 2956, 3037, 3071, 2988, 3015, 3061, 2954, 3048, 3018, 3041, 3030, 3015, 3100, 3043] 1.0494245091401488\n",
      "N = 2500   [4593, 4535, 4504, 4558, 4616, 4555, 4582, 4613, 4480, 4573, 4568, 4543, 4593, 4548, 4652, 4556] 1.0383928571428571\n"
     ]
    },
    {
     "ename": "KeyboardInterrupt",
     "evalue": "",
     "output_type": "error",
     "traceback": [
      "\u001b[0;31m---------------------------------------------------------------------------\u001b[0m",
      "\u001b[0;31mKeyboardInterrupt\u001b[0m                         Traceback (most recent call last)",
      "\u001b[0;32m<ipython-input-47-6d8327f8af5c>\u001b[0m in \u001b[0;36m<module>\u001b[0;34m\u001b[0m\n\u001b[0;32m----> 1\u001b[0;31m \u001b[0mmod2_testing\u001b[0m\u001b[0;34m(\u001b[0m\u001b[0;36m4000\u001b[0m\u001b[0;34m,\u001b[0m\u001b[0;36m500\u001b[0m\u001b[0;34m,\u001b[0m\u001b[0;36m2\u001b[0m\u001b[0;34m,\u001b[0m\u001b[0;36m3\u001b[0m\u001b[0;34m,\u001b[0m \u001b[0mtwo_third\u001b[0m\u001b[0;34m)\u001b[0m\u001b[0;34m\u001b[0m\u001b[0;34m\u001b[0m\u001b[0m\n\u001b[0m",
      "\u001b[0;32m<ipython-input-35-e6d7d1f46b43>\u001b[0m in \u001b[0;36mmod2_testing\u001b[0;34m(rangeN, incre, D, n, inverse_list)\u001b[0m\n\u001b[1;32m      3\u001b[0m     \u001b[0mtest_dic\u001b[0m \u001b[0;34m=\u001b[0m \u001b[0mdict\u001b[0m\u001b[0;34m(\u001b[0m\u001b[0;34m)\u001b[0m\u001b[0;34m\u001b[0m\u001b[0;34m\u001b[0m\u001b[0m\n\u001b[1;32m      4\u001b[0m     \u001b[0;32mfor\u001b[0m \u001b[0mN\u001b[0m \u001b[0;32min\u001b[0m \u001b[0mrange\u001b[0m\u001b[0;34m(\u001b[0m\u001b[0mincre\u001b[0m\u001b[0;34m,\u001b[0m\u001b[0mrangeN\u001b[0m\u001b[0;34m+\u001b[0m\u001b[0mincre\u001b[0m\u001b[0;34m,\u001b[0m \u001b[0mincre\u001b[0m\u001b[0;34m)\u001b[0m\u001b[0;34m:\u001b[0m\u001b[0;34m\u001b[0m\u001b[0;34m\u001b[0m\u001b[0m\n\u001b[0;32m----> 5\u001b[0;31m         \u001b[0mdistribution\u001b[0m \u001b[0;34m=\u001b[0m \u001b[0mdistribution_primes_a_b_mod2\u001b[0m\u001b[0;34m(\u001b[0m\u001b[0mN\u001b[0m\u001b[0;34m,\u001b[0m \u001b[0mD\u001b[0m\u001b[0;34m,\u001b[0m \u001b[0mn\u001b[0m\u001b[0;34m,\u001b[0m \u001b[0minverse_list\u001b[0m\u001b[0;34m)\u001b[0m\u001b[0;34m\u001b[0m\u001b[0;34m\u001b[0m\u001b[0m\n\u001b[0m\u001b[1;32m      6\u001b[0m         \u001b[0;31m#test_dic[distribution] = deviation(distribution)\u001b[0m\u001b[0;34m\u001b[0m\u001b[0;34m\u001b[0m\u001b[0;34m\u001b[0m\u001b[0m\n\u001b[1;32m      7\u001b[0m         \u001b[0;31m#test_dic.update({f\"N = {N}  \"+str(distribution): deviation(distribution)})\u001b[0m\u001b[0;34m\u001b[0m\u001b[0;34m\u001b[0m\u001b[0;34m\u001b[0m\u001b[0m\n",
      "\u001b[0;32m<ipython-input-30-da3134d53dda>\u001b[0m in \u001b[0;36mdistribution_primes_a_b_mod2\u001b[0;34m(N, D, n, LIST)\u001b[0m\n\u001b[1;32m     18\u001b[0m                 \u001b[0mq\u001b[0m \u001b[0;34m=\u001b[0m \u001b[0ma\u001b[0m\u001b[0;34m**\u001b[0m\u001b[0mn\u001b[0m \u001b[0;34m+\u001b[0m \u001b[0mD\u001b[0m\u001b[0;34m*\u001b[0m\u001b[0mb\u001b[0m\u001b[0;34m**\u001b[0m\u001b[0mn\u001b[0m\u001b[0;34m\u001b[0m\u001b[0;34m\u001b[0m\u001b[0m\n\u001b[1;32m     19\u001b[0m                 \u001b[0mM\u001b[0m \u001b[0;34m=\u001b[0m \u001b[0;34m(\u001b[0m\u001b[0mN\u001b[0m\u001b[0;34m**\u001b[0m\u001b[0mn\u001b[0m\u001b[0;34m)\u001b[0m\u001b[0;34m/\u001b[0m\u001b[0;34m(\u001b[0m\u001b[0mD\u001b[0m\u001b[0;34m+\u001b[0m\u001b[0;36m1\u001b[0m\u001b[0;34m)\u001b[0m\u001b[0;34m\u001b[0m\u001b[0;34m\u001b[0m\u001b[0m\n\u001b[0;32m---> 20\u001b[0;31m                 \u001b[0;32mif\u001b[0m \u001b[0mq\u001b[0m\u001b[0;34m<\u001b[0m\u001b[0mM\u001b[0m \u001b[0;32mand\u001b[0m \u001b[0misprime\u001b[0m\u001b[0;34m(\u001b[0m\u001b[0mq\u001b[0m\u001b[0;34m)\u001b[0m\u001b[0;34m:\u001b[0m\u001b[0;34m\u001b[0m\u001b[0;34m\u001b[0m\u001b[0m\n\u001b[0m\u001b[1;32m     21\u001b[0m                     \u001b[0;32mfor\u001b[0m \u001b[0mi\u001b[0m \u001b[0;32min\u001b[0m \u001b[0mrange\u001b[0m\u001b[0;34m(\u001b[0m\u001b[0mlen\u001b[0m\u001b[0;34m(\u001b[0m\u001b[0mLIST\u001b[0m\u001b[0;34m)\u001b[0m\u001b[0;34m)\u001b[0m\u001b[0;34m:\u001b[0m\u001b[0;34m\u001b[0m\u001b[0;34m\u001b[0m\u001b[0m\n\u001b[1;32m     22\u001b[0m                         \u001b[0;32mif\u001b[0m \u001b[0mi\u001b[0m\u001b[0;34m==\u001b[0m\u001b[0;36m0\u001b[0m \u001b[0;32mand\u001b[0m \u001b[0mb\u001b[0m\u001b[0;34m/\u001b[0m\u001b[0ma\u001b[0m \u001b[0;34m<=\u001b[0m \u001b[0mLIST\u001b[0m\u001b[0;34m[\u001b[0m\u001b[0;36m0\u001b[0m\u001b[0;34m]\u001b[0m\u001b[0;34m/\u001b[0m\u001b[0;36m10000\u001b[0m\u001b[0;34m:\u001b[0m\u001b[0;34m\u001b[0m\u001b[0;34m\u001b[0m\u001b[0m\n",
      "\u001b[0;32m<ipython-input-2-bcb8faa9e83e>\u001b[0m in \u001b[0;36misprime\u001b[0;34m(n)\u001b[0m\n\u001b[1;32m     11\u001b[0m \u001b[0;34m\u001b[0m\u001b[0m\n\u001b[1;32m     12\u001b[0m     \u001b[0mi\u001b[0m \u001b[0;34m=\u001b[0m \u001b[0;36m5\u001b[0m\u001b[0;34m\u001b[0m\u001b[0;34m\u001b[0m\u001b[0m\n\u001b[0;32m---> 13\u001b[0;31m     \u001b[0;32mwhile\u001b[0m\u001b[0;34m(\u001b[0m\u001b[0mi\u001b[0m \u001b[0;34m*\u001b[0m \u001b[0mi\u001b[0m \u001b[0;34m<=\u001b[0m \u001b[0mn\u001b[0m\u001b[0;34m)\u001b[0m\u001b[0;34m:\u001b[0m\u001b[0;34m\u001b[0m\u001b[0;34m\u001b[0m\u001b[0m\n\u001b[0m\u001b[1;32m     14\u001b[0m         \u001b[0;32mif\u001b[0m \u001b[0;34m(\u001b[0m\u001b[0mn\u001b[0m \u001b[0;34m%\u001b[0m \u001b[0mi\u001b[0m\u001b[0;34m)\u001b[0m \u001b[0;34m==\u001b[0m \u001b[0;36m0\u001b[0m \u001b[0;32mor\u001b[0m \u001b[0mn\u001b[0m \u001b[0;34m%\u001b[0m \u001b[0;34m(\u001b[0m\u001b[0mi\u001b[0m \u001b[0;34m+\u001b[0m \u001b[0;36m2\u001b[0m\u001b[0;34m)\u001b[0m \u001b[0;34m==\u001b[0m \u001b[0;36m0\u001b[0m\u001b[0;34m:\u001b[0m\u001b[0;34m\u001b[0m\u001b[0;34m\u001b[0m\u001b[0m\n\u001b[1;32m     15\u001b[0m             \u001b[0;32mreturn\u001b[0m \u001b[0;32mFalse\u001b[0m\u001b[0;34m\u001b[0m\u001b[0;34m\u001b[0m\u001b[0m\n",
      "\u001b[0;31mKeyboardInterrupt\u001b[0m: "
     ]
    }
   ],
   "source": [
    "mod2_testing(2000,500,2,3, two_third)"
   ]
  },
  {
   "cell_type": "markdown",
   "metadata": {},
   "source": [
    "# Testing: Inverse Distruntion for primes a^3 + 3b^3"
   ]
  },
  {
   "cell_type": "code",
   "execution_count": null,
   "metadata": {},
   "outputs": [],
   "source": [
    "three_third = inverse_distribution_primes_a_b_nth(3, 3)\n",
    "three_third"
   ]
  },
  {
   "cell_type": "code",
   "execution_count": 88,
   "metadata": {},
   "outputs": [
    {
     "name": "stdout",
     "output_type": "stream",
     "text": [
      "Distribution of primes of the form a^3 + 3b^3\n"
     ]
    },
    {
     "data": {
      "text/plain": [
       "{'N = 100  [24, 30, 24, 28, 23, 27, 28]': 1.3043478260869565,\n",
       " 'N = 200  [81, 87, 83, 69, 87, 91, 81]': 1.318840579710145,\n",
       " 'N = 300  [163, 186, 169, 151, 188, 180, 168]': 1.2450331125827814,\n",
       " 'N = 400  [276, 299, 291, 263, 307, 297, 290]': 1.167300380228137,\n",
       " 'N = 500  [420, 448, 420, 394, 450, 452, 432]': 1.1472081218274113}"
      ]
     },
     "execution_count": 88,
     "metadata": {},
     "output_type": "execute_result"
    }
   ],
   "source": [
    "three_3 = testing(500, 3, 3, three_third)\n",
    "three_3"
   ]
  },
  {
   "cell_type": "code",
   "execution_count": 49,
   "metadata": {},
   "outputs": [
    {
     "name": "stdout",
     "output_type": "stream",
     "text": [
      "Distribution of primes of the form a^3 + 3b^3\n",
      "N = 500   [221, 228, 214, 204, 243, 220, 219, 199, 220, 206, 190, 207, 232, 213] 1.2789473684210526\n",
      "N = 1000   [750, 750, 764, 733, 778, 750, 779, 747, 737, 761, 749, 759, 760, 751] 1.0627557980900408\n",
      "N = 1500   [1563, 1583, 1627, 1582, 1635, 1563, 1582, 1615, 1580, 1569, 1600, 1591, 1617, 1596] 1.0460652591170825\n",
      "N = 2000   [2689, 2676, 2745, 2685, 2740, 2659, 2705, 2725, 2691, 2684, 2704, 2687, 2712, 2727] 1.0323429860849944\n",
      "N = 2500   [4102, 4038, 4147, 4074, 4108, 4014, 4099, 4085, 4071, 4033, 4078, 4082, 4052, 4107] 1.0331340308918784\n"
     ]
    }
   ],
   "source": [
    "mod2_testing(2500,500,3,3, three_third)"
   ]
  },
  {
   "cell_type": "markdown",
   "metadata": {},
   "source": [
    "# Testing: Inverse Distruntion for primes a^3 + 5b^3"
   ]
  },
  {
   "cell_type": "code",
   "execution_count": null,
   "metadata": {},
   "outputs": [],
   "source": [
    "five_third = inverse_distribution_primes_a_b_nth(5, 3)\n",
    "five_third"
   ]
  },
  {
   "cell_type": "code",
   "execution_count": 90,
   "metadata": {},
   "outputs": [
    {
     "name": "stdout",
     "output_type": "stream",
     "text": [
      "Distribution of primes of the form a^3 + 5b^3\n"
     ]
    },
    {
     "data": {
      "text/plain": [
       "{'N = 100  [13, 19, 14, 22, 15, 17, 15]': 1.6923076923076923,\n",
       " 'N = 200  [48, 57, 56, 55, 56, 53, 51]': 1.1875,\n",
       " 'N = 300  [110, 114, 118, 114, 115, 114, 111]': 1.0727272727272728,\n",
       " 'N = 400  [181, 189, 179, 187, 198, 191, 193]': 1.106145251396648,\n",
       " 'N = 500  [271, 283, 279, 274, 290, 280, 287]': 1.070110701107011,\n",
       " 'N = 600  [385, 384, 388, 393, 391, 369, 403]': 1.0921409214092141,\n",
       " 'N = 700  [508, 504, 502, 530, 516, 495, 526]': 1.0707070707070707,\n",
       " 'N = 800  [639, 651, 648, 666, 660, 644, 651]': 1.0422535211267605,\n",
       " 'N = 900  [798, 815, 811, 812, 809, 794, 808]': 1.026448362720403,\n",
       " 'N = 1000  [965, 979, 978, 973, 975, 965, 970]': 1.0145077720207254}"
      ]
     },
     "execution_count": 90,
     "metadata": {},
     "output_type": "execute_result"
    }
   ],
   "source": [
    "five_3 = testing(1000, 5, 3, five_third)\n",
    "five_3"
   ]
  },
  {
   "cell_type": "code",
   "execution_count": null,
   "metadata": {},
   "outputs": [],
   "source": [
    "mod2_testing(2000,500,5,3, five_third)"
   ]
  },
  {
   "cell_type": "markdown",
   "metadata": {},
   "source": [
    "# Testing: Inverse Distruntion for primes a^3 + 6b^3"
   ]
  },
  {
   "cell_type": "code",
   "execution_count": null,
   "metadata": {},
   "outputs": [],
   "source": [
    "six_third = inverse_distribution_primes_a_b_nth(6, 3)\n",
    "six_third"
   ]
  },
  {
   "cell_type": "code",
   "execution_count": 92,
   "metadata": {
    "scrolled": true
   },
   "outputs": [
    {
     "name": "stdout",
     "output_type": "stream",
     "text": [
      "Distribution of primes of the form a^3 + 6b^3\n"
     ]
    },
    {
     "data": {
      "text/plain": [
       "{'N = 100  [9, 14, 9, 8, 15, 11]': 1.875,\n",
       " 'N = 200  [34, 35, 36, 42, 42, 44]': 1.2941176470588236,\n",
       " 'N = 300  [71, 75, 74, 83, 83, 87]': 1.2253521126760563,\n",
       " 'N = 400  [124, 118, 132, 138, 141, 143]': 1.2118644067796611,\n",
       " 'N = 500  [196, 181, 213, 194, 199, 224]': 1.2375690607734806,\n",
       " 'N = 600  [278, 255, 293, 277, 254, 297]': 1.169291338582677,\n",
       " 'N = 700  [360, 341, 388, 370, 352, 372]': 1.1378299120234605,\n",
       " 'N = 800  [470, 434, 497, 473, 446, 477]': 1.1451612903225807,\n",
       " 'N = 900  [576, 554, 597, 577, 555, 578]': 1.0776173285198556,\n",
       " 'N = 1000  [691, 670, 719, 703, 681, 700]': 1.0731343283582089}"
      ]
     },
     "execution_count": 92,
     "metadata": {},
     "output_type": "execute_result"
    }
   ],
   "source": [
    "six_3 = testing(1000, 6, 3, six_third)\n",
    "six_3"
   ]
  },
  {
   "cell_type": "code",
   "execution_count": null,
   "metadata": {},
   "outputs": [],
   "source": [
    "mod2_testing(2000,500,6,3, six_third)"
   ]
  },
  {
   "cell_type": "code",
   "execution_count": null,
   "metadata": {},
   "outputs": [],
   "source": []
  },
  {
   "cell_type": "code",
   "execution_count": 19,
   "metadata": {},
   "outputs": [],
   "source": [
    "import numpy as np"
   ]
  },
  {
   "cell_type": "code",
   "execution_count": 23,
   "metadata": {},
   "outputs": [],
   "source": [
    "hun_array = np.array([3273, 3297, 3279, 3306, 3241, 3256, 3330, 3216])"
   ]
  },
  {
   "cell_type": "code",
   "execution_count": 24,
   "metadata": {},
   "outputs": [],
   "source": [
    "error_ = np.std(hun_array)/np.mean(hun_array)"
   ]
  },
  {
   "cell_type": "code",
   "execution_count": 25,
   "metadata": {},
   "outputs": [
    {
     "data": {
      "text/plain": [
       "0.010516052610089251"
      ]
     },
     "execution_count": 25,
     "metadata": {},
     "output_type": "execute_result"
    }
   ],
   "source": [
    "error_"
   ]
  },
  {
   "cell_type": "code",
   "execution_count": 22,
   "metadata": {},
   "outputs": [
    {
     "data": {
      "text/plain": [
       "0.02948954767824944"
      ]
     },
     "execution_count": 22,
     "metadata": {},
     "output_type": "execute_result"
    }
   ],
   "source": [
    "np.std(np.array([254, 258, 258, 260, 235, 249, 254, 255]))/np.mean(np.array([254, 258, 258, 260, 235, 249, 254, 255]))"
   ]
  },
  {
   "cell_type": "code",
   "execution_count": 26,
   "metadata": {},
   "outputs": [],
   "source": [
    "import math"
   ]
  },
  {
   "cell_type": "code",
   "execution_count": 28,
   "metadata": {},
   "outputs": [
    {
     "ename": "AttributeError",
     "evalue": "module 'math' has no attribute 'dev'",
     "output_type": "error",
     "traceback": [
      "\u001b[1;31m---------------------------------------------------------------------------\u001b[0m",
      "\u001b[1;31mAttributeError\u001b[0m                            Traceback (most recent call last)",
      "\u001b[1;32m<ipython-input-28-84a9eae65932>\u001b[0m in \u001b[0;36m<module>\u001b[1;34m\u001b[0m\n\u001b[1;32m----> 1\u001b[1;33m \u001b[0mmath\u001b[0m\u001b[1;33m.\u001b[0m\u001b[0mdev\u001b[0m\u001b[1;33m(\u001b[0m\u001b[1;33m[\u001b[0m\u001b[1;36m3273\u001b[0m\u001b[1;33m,\u001b[0m \u001b[1;36m3297\u001b[0m\u001b[1;33m,\u001b[0m \u001b[1;36m3279\u001b[0m\u001b[1;33m,\u001b[0m \u001b[1;36m3306\u001b[0m\u001b[1;33m,\u001b[0m \u001b[1;36m3241\u001b[0m\u001b[1;33m,\u001b[0m \u001b[1;36m3256\u001b[0m\u001b[1;33m,\u001b[0m \u001b[1;36m3330\u001b[0m\u001b[1;33m,\u001b[0m \u001b[1;36m3216\u001b[0m\u001b[1;33m]\u001b[0m\u001b[1;33m)\u001b[0m\u001b[1;33m\u001b[0m\u001b[1;33m\u001b[0m\u001b[0m\n\u001b[0m",
      "\u001b[1;31mAttributeError\u001b[0m: module 'math' has no attribute 'dev'"
     ]
    }
   ],
   "source": [
    "math.dev([3273, 3297, 3279, 3306, 3241, 3256, 3330, 3216])"
   ]
  },
  {
   "cell_type": "code",
   "execution_count": null,
   "metadata": {},
   "outputs": [],
   "source": []
  }
 ],
 "metadata": {
  "kernelspec": {
   "display_name": "Python 3",
   "language": "python",
   "name": "python3"
  },
  "language_info": {
   "codemirror_mode": {
    "name": "ipython",
    "version": 3
   },
   "file_extension": ".py",
   "mimetype": "text/x-python",
   "name": "python",
   "nbconvert_exporter": "python",
   "pygments_lexer": "ipython3",
   "version": "3.8.5"
  }
 },
 "nbformat": 4,
 "nbformat_minor": 4
}
