{
 "cells": [
  {
   "cell_type": "code",
   "execution_count": 1,
   "metadata": {},
   "outputs": [],
   "source": [
    "import math\n",
    "import numpy as np\n",
    "import sys,os"
   ]
  },
  {
   "cell_type": "code",
   "execution_count": 2,
   "metadata": {},
   "outputs": [],
   "source": [
    "poly_dir = \"Polynomials_Saved_Datasets\"\n",
    "if not os.path.exists(poly_dir):\n",
    "    os.makedirs(poly_dir)"
   ]
  },
  {
   "cell_type": "code",
   "execution_count": 3,
   "metadata": {},
   "outputs": [],
   "source": [
    "def isprime(n) :\n",
    "    if (n <= 1):\n",
    "        return False\n",
    "    if (n <= 3):\n",
    "        return True\n",
    " \n",
    "    # This is checked so that we can skip\n",
    "    # middle five numbers in below loop\n",
    "    if (n % 2 == 0 or n % 3 == 0):\n",
    "        return False\n",
    " \n",
    "    i = 5\n",
    "    while(i * i <= n):\n",
    "        if (n % i) == 0 or n % (i + 2) == 0:\n",
    "            return False\n",
    "        i = i + 6\n",
    " \n",
    "    return True"
   ]
  },
  {
   "cell_type": "markdown",
   "metadata": {},
   "source": [
    "# Inverse of a Distribution for Primes of the Form a^n + D*b^n, D>0"
   ]
  },
  {
   "cell_type": "code",
   "execution_count": 4,
   "metadata": {},
   "outputs": [],
   "source": [
    "def inverse_distribution_primes_a_b_nth(D, n):\n",
    "    delta_x=0.0001\n",
    "    integral = 0\n",
    "    i_lst = []\n",
    "    counter = 0\n",
    "    limit = 0.1\n",
    "    i_ = 0\n",
    "    while counter <10:\n",
    "        for j in range(i_+1,10000):\n",
    "            integral += delta_x*(1/ (1+D * (j*delta_x)**n)**(2/n)) #(nrt(1 + D * (j*delta_x) **n,n/2)))\n",
    "            #print (integral, \"\\t\", limit , i_lst)\n",
    "            if integral>limit:\n",
    "                i_ = j\n",
    "                i_lst.append(j)\n",
    "                break\n",
    "        limit = limit + 0.1\n",
    "        counter+=1\n",
    "    return i_lst"
   ]
  },
  {
   "cell_type": "markdown",
   "metadata": {},
   "source": [
    "# Distribution of prime numbers of the form a^n + D*b^n,D>0"
   ]
  },
  {
   "cell_type": "code",
   "execution_count": 5,
   "metadata": {},
   "outputs": [],
   "source": [
    "def list_creator(n):\n",
    "    List = []\n",
    "    for i in range(n):\n",
    "        List.append(0)\n",
    "    return List"
   ]
  },
  {
   "cell_type": "code",
   "execution_count": 6,
   "metadata": {},
   "outputs": [],
   "source": [
    "def distribution_primes_a_b(N, D, n, LIST):\n",
    "    len_List = len(LIST)\n",
    "    counter_list = list_creator(len_List)\n",
    "    for a in range(1,N):\n",
    "        for b in range(1,a):\n",
    "            q = a**n + D*b**n\n",
    "            M = (N**n)/(D+1)\n",
    "            if q<M and isprime(q):\n",
    "                for i in range(len(LIST)):\n",
    "                    if i==0 and b/a <= LIST[0]/10000:\n",
    "                        counter_list[0]+=1 \n",
    "                    elif i!=0 and b/a <= LIST[i]/10000 and b/a > LIST[i-1]/10000:\n",
    "                        counter_list[i]+=1 \n",
    "    return counter_list\n",
    "    "
   ]
  },
  {
   "cell_type": "markdown",
   "metadata": {},
   "source": [
    "# Distribution of prime numbers of the form a^n + D*b^n, D>0 in Modulo 2"
   ]
  },
  {
   "cell_type": "code",
   "execution_count": 14,
   "metadata": {},
   "outputs": [],
   "source": [
    "def distribution_primes_a_b_mod2(N, D, n, LIST):\n",
    "    len_List = len(LIST)\n",
    "    odd_odd = list_creator(len_List)#an empty when a is odd and b is odd4\n",
    "    odd_even = list_creator(len_List)#an empty when a is odd and b is even\n",
    "    even_odd = list_creator(len_List)#an empty when a is even and b is odd\n",
    "    for a in range(1,N):\n",
    "        for b in range(1,a):\n",
    "            if a%2 == 1 and b%2 == 1:\n",
    "                q = a**n + D*b**n\n",
    "                M = (N**n)/(D+1)\n",
    "                if q<M and isprime(q):\n",
    "                    for i in range(len(LIST)):\n",
    "                        if i==0 and b/a <= LIST[0]/10000:\n",
    "                            odd_odd[0]+=1 \n",
    "                        elif i!=0 and b/a <= LIST[i]/10000 and b/a > LIST[i-1]/10000:\n",
    "                            odd_odd[i]+=1 \n",
    "            elif a%2 == 1 and b%2 == 0:\n",
    "                q = a**n + D*b**n\n",
    "                M = (N**n)/(D+1)\n",
    "                if q<M and isprime(q):\n",
    "                    for i in range(len(LIST)):\n",
    "                        if i==0 and b/a <= LIST[0]/10000:\n",
    "                            odd_even[0]+=1 \n",
    "                        elif i!=0 and b/a <= LIST[i]/10000 and b/a > LIST[i-1]/10000:\n",
    "                            odd_even[i]+=1\n",
    "            elif D%2 == 1 and a%2 == 0 and b%2 == 1:\n",
    "                q = a**n + D*b**n\n",
    "                M = (N**n)/(D+1)\n",
    "                if q<M and isprime(q):\n",
    "                    for i in range(len(LIST)):\n",
    "                        if i==0 and b/a <= LIST[0]/10000:\n",
    "                            even_odd[0]+=1 \n",
    "                        elif i!=0 and b/a <= LIST[i]/10000 and b/a > LIST[i-1]/10000:\n",
    "                            even_odd[i]+=1 \n",
    "    if D%2 == 1:\n",
    "        return even_odd + odd_even\n",
    "    else:\n",
    "        return odd_odd + odd_even"
   ]
  },
  {
   "cell_type": "code",
   "execution_count": 10,
   "metadata": {},
   "outputs": [],
   "source": [
    "def deviation(dist_list):\n",
    "    return max(dist_list)/min(dist_list)"
   ]
  },
  {
   "cell_type": "code",
   "execution_count": 11,
   "metadata": {},
   "outputs": [],
   "source": [
    "def testing_d_pos(rangeN, incre, D, n):\n",
    "    print(f\"Primes of the form a^{n} + {D}b^{n}\")\n",
    "    print()\n",
    "    print(\"Calculating the inverse distribution..\")\n",
    "    inverse_list = inverse_distribution_primes_a_b_nth(D, n)\n",
    "    \n",
    "    print (\"Calculating the distribution of primes....\")\n",
    "    test_arr = np.zeros((rangeN//incre, len(inverse_list)),  dtype=np.int32)\n",
    "    test_arrMod2 = np.zeros((rangeN//incre, len(inverse_list)),  dtype=np.int32)\n",
    "    i = 0\n",
    "    for N in range(incre,rangeN+incre, incre):\n",
    "        test_arr[i] = distribution_primes_a_b(N, D, n, inverse_list)\n",
    "        #print (f\"N = {N}  \", str(distribution_primes_a_b(N, D, n, inverse_list)), deviation(distribution_primes_a_b(N, D, n, inverse_list)))\n",
    "        i+=1\n",
    "    \n",
    "    print (\"Calculating the distribution of primes in mod2....\")\n",
    "    columns = len(distribution_primes_a_b_mod2(100, D, n, inverse_list))\n",
    "    test_arrMod2 = np.zeros((rangeN//incre, columns),  dtype=np.int32)\n",
    "    j = 0\n",
    "    for Nn in range(incre,rangeN+incre, incre):\n",
    "        test_arrMod2[j] = distribution_primes_a_b_mod2(Nn, D, n, inverse_list)\n",
    "        #print (f\"N = {N}  \", str(distribution_primes_a_b(N, D, n, inverse_list)), deviation(distribution_primes_a_b(N, D, n, inverse_list)))\n",
    "        j+=1\n",
    "    print(\"Saving my arrays in npz file.....\")\n",
    "    np.savez(\"Polynomials_Saved_Datasets/\"+str(D)+ \"_power_\"+ str(n) +\"_\"+ str(incre)+\"_to_\"+str(rangeN), inverse = np.array(inverse_list) ,distri = test_arr, distriMod2 = test_arrMod2)\n",
    "    print(\"Done\")"
   ]
  },
  {
   "cell_type": "markdown",
   "metadata": {},
   "source": [
    "# Inverse of a Distribution for Primes of the Form a^n + D*b^n, D<0"
   ]
  },
  {
   "cell_type": "code",
   "execution_count": 20,
   "metadata": {},
   "outputs": [],
   "source": [
    "def neg_inverse_distribution_primes_a_b_nth(D, n):\n",
    "    delta_x=0.0001\n",
    "    integral = 0\n",
    "    i_lst = []\n",
    "    counter = 0\n",
    "    limit = 0.1\n",
    "    i_ = 0\n",
    "    while counter <6:\n",
    "        for j in range(i_+1,10000):\n",
    "            integral += 4*delta_x*(1/ (1+D * (j*delta_x)**n)**(2/n)) #(nrt(1 + D * (j*delta_x) **n,n/2)))\n",
    "            #print (integral, \"\\t\", limit , i_lst)\n",
    "            if integral>limit:\n",
    "                i_ = j\n",
    "                i_lst.append(j)\n",
    "                break\n",
    "        limit = limit + 0.1\n",
    "        counter+=1\n",
    "    return i_lst"
   ]
  },
  {
   "cell_type": "markdown",
   "metadata": {},
   "source": [
    "# Distribution of prime numbers of the form a^n + D*b^n, D<0"
   ]
  },
  {
   "cell_type": "code",
   "execution_count": 21,
   "metadata": {},
   "outputs": [],
   "source": [
    "def neg_distribution_primes_a_b(N, D, n, LIST):\n",
    "    len_List = len(LIST)\n",
    "    counter_list = list_creator(len_List)\n",
    "    for a in range(1,N):\n",
    "        l = math.floor(a/((-D)**(1/n)))\n",
    "        for b in range(1,l):\n",
    "            q = a**n + D*b**n\n",
    "            M = (N**n) - ((N**n)/(2**n*(-D)))\n",
    "            if q<M and isprime(q):\n",
    "                for i in range(len(LIST)):\n",
    "                    if i==0 and b/a <= LIST[0]/10000:\n",
    "                        counter_list[0]+=1 \n",
    "                    elif i!=0 and b/a <= LIST[i]/10000 and b/a > LIST[i-1]/10000:\n",
    "                        counter_list[i]+=1 \n",
    "    return counter_list"
   ]
  },
  {
   "cell_type": "markdown",
   "metadata": {},
   "source": [
    "# Distribution of prime numbers of the form a^n + D*b^n, D<0 Modulo 2"
   ]
  },
  {
   "cell_type": "code",
   "execution_count": 22,
   "metadata": {},
   "outputs": [],
   "source": [
    "def neg_distribution_primes_a_b_mod2(N, D, n, LIST):\n",
    "    len_List = len(LIST)\n",
    "    odd_odd = list_creator(len_List)#an empty when a is odd and b is odd4\n",
    "    odd_even = list_creator(len_List)#an empty when a is odd and b is even\n",
    "    even_odd = list_creator(len_List)#an empty when a is even and b is odd\n",
    "    for a in range(1,N):\n",
    "        l = math.floor(a/((-D)**(1/n)))\n",
    "        for b in range(1,l):\n",
    "            if a%2 == 1 and b%2 == 1:\n",
    "                q = a**n + D*b**n\n",
    "                M = (N**n) - ((N**n)/(2**n*(-D)))\n",
    "                if q<M and isprime(q):\n",
    "                    for i in range(len(LIST)):\n",
    "                        if i==0 and b/a <= LIST[0]/10000:\n",
    "                            odd_odd[0]+=1 \n",
    "                        elif i!=0 and b/a <= LIST[i]/10000 and b/a > LIST[i-1]/10000:\n",
    "                            odd_odd[i]+=1 \n",
    "            elif a%2 == 1 and b%2 == 0:\n",
    "                q = a**n + D*b**n\n",
    "                M = (N**n) - ((N**n)/(2**n*(-D)))\n",
    "                if q<M and isprime(q):\n",
    "                    for i in range(len(LIST)):\n",
    "                        if i==0 and b/a <= LIST[0]/10000:\n",
    "                            odd_even[0]+=1 \n",
    "                        elif i!=0 and b/a <= LIST[i]/10000 and b/a > LIST[i-1]/10000:\n",
    "                            odd_even[i]+=1\n",
    "            elif D%2 == 1 and a%2 == 0 and b%2 == 1:\n",
    "                q = a**n + D*b**n\n",
    "                M = (N**n) - ((N**n)/(2**n*(-D)))\n",
    "                if q<M and isprime(q):\n",
    "                    for i in range(len(LIST)):\n",
    "                        if i==0 and b/a <= LIST[0]/10000:\n",
    "                            even_odd[0]+=1 \n",
    "                        elif i!=0 and b/a <= LIST[i]/10000 and b/a > LIST[i-1]/10000:\n",
    "                            even_odd[i]+=1 \n",
    "    if D%2 == 1:\n",
    "        return even_odd + odd_even\n",
    "    else:\n",
    "        return odd_odd + odd_even"
   ]
  },
  {
   "cell_type": "code",
   "execution_count": 27,
   "metadata": {},
   "outputs": [],
   "source": [
    "def testing_d_neg(rangeN, incre, D, n):\n",
    "    print(f\"Primes of the form a^{n} + {D}b^{n}\")\n",
    "    print()\n",
    "    print(\"Calculating the negative inverse distribution..\")\n",
    "    neg_inverse_list = neg_inverse_distribution_primes_a_b_nth(D, n)\n",
    "    \n",
    "    print (\"Calculating the distribution of primes D<0....\")\n",
    "    test_arr = np.zeros((rangeN//incre, len(neg_inverse_list)),  dtype=np.int32)\n",
    "    i = 0\n",
    "    for N in range(incre,rangeN+incre, incre):\n",
    "        test_arr[i] = neg_distribution_primes_a_b(N, D, n, neg_inverse_list)\n",
    "        #print (f\"N = {N}  \", str(distribution_primes_a_b(N, D, n, inverse_list)), deviation(distribution_primes_a_b(N, D, n, inverse_list)))\n",
    "        i+=1\n",
    "    \n",
    "    print (\"Calculating the distribution of primes in mod2 D<0....\")\n",
    "    columns = len(distribution_primes_a_b_mod2(100, D, n, neg_inverse_list))\n",
    "    test_arrMod2 = np.zeros((rangeN//incre, columns),  dtype=np.int32)\n",
    "    j = 0\n",
    "    for Nn in range(incre,rangeN+incre, incre):\n",
    "        test_arrMod2[j] = neg_distribution_primes_a_b_mod2(Nn, D, n, neg_inverse_list)\n",
    "        #print (f\"N = {N}  \", str(distribution_primes_a_b(N, D, n, inverse_list)), deviation(distribution_primes_a_b(N, D, n, inverse_list)))\n",
    "        j+=1\n",
    "    print(\"Saving my arrays in npz file.....\")\n",
    "    np.savez(\"Polynomials_Saved_Datasets/\"+\"neg_\"+str(abs(D))+ \"_power_\"+ str(n) +\"_\"+ str(incre)+\"_to_\"+str(rangeN), inverse = np.array(neg_inverse_list) ,distri = test_arr, distriMod2 = test_arrMod2)\n",
    "    print(\"Done\")"
   ]
  },
  {
   "cell_type": "markdown",
   "metadata": {},
   "source": [
    "# Testing: Inverse Distruntion for primes a^2 + b^2"
   ]
  },
  {
   "cell_type": "code",
   "execution_count": 12,
   "metadata": {
    "scrolled": true
   },
   "outputs": [
    {
     "name": "stdout",
     "output_type": "stream",
     "text": [
      "Primes of the form a^2 + 1b^2\n",
      "\n",
      "Calculating the inverse distribution..\n",
      "Calculating the distribution of primes....\n",
      "Calculating the distribution of primes in mod2....\n",
      "Saving my arrays in npz file.....\n",
      "Done\n"
     ]
    }
   ],
   "source": [
    "testing_d_pos(4000, 500, 1, 2)\n"
   ]
  },
  {
   "cell_type": "markdown",
   "metadata": {},
   "source": [
    "## Testing: Inverse Distruntion for primes a^2 + 2b^2"
   ]
  },
  {
   "cell_type": "code",
   "execution_count": 16,
   "metadata": {},
   "outputs": [
    {
     "name": "stdout",
     "output_type": "stream",
     "text": [
      "Primes of the form a^2 + 2b^2\n",
      "\n",
      "Calculating the inverse distribution..\n",
      "Calculating the distribution of primes....\n",
      "Calculating the distribution of primes in mod2....\n",
      "Saving my arrays in npz file.....\n",
      "Done\n"
     ]
    }
   ],
   "source": [
    "testing_d_pos(4000, 500, 2, 2)"
   ]
  },
  {
   "cell_type": "markdown",
   "metadata": {},
   "source": [
    "# Testing: Inverse Distruntion for primes a^2 + 3b^2"
   ]
  },
  {
   "cell_type": "code",
   "execution_count": 17,
   "metadata": {},
   "outputs": [
    {
     "name": "stdout",
     "output_type": "stream",
     "text": [
      "Primes of the form a^2 + 3b^2\n",
      "\n",
      "Calculating the inverse distribution..\n",
      "Calculating the distribution of primes....\n",
      "Calculating the distribution of primes in mod2....\n",
      "Saving my arrays in npz file.....\n",
      "Done\n"
     ]
    }
   ],
   "source": [
    "testing_d_pos(4000, 500, 3, 2)"
   ]
  },
  {
   "cell_type": "markdown",
   "metadata": {},
   "source": [
    "# Testing: Inverse Distruntion for primes a^2 + 5b^2"
   ]
  },
  {
   "cell_type": "code",
   "execution_count": 18,
   "metadata": {},
   "outputs": [
    {
     "name": "stdout",
     "output_type": "stream",
     "text": [
      "Primes of the form a^2 + 5b^2\n",
      "\n",
      "Calculating the inverse distribution..\n",
      "Calculating the distribution of primes....\n",
      "Calculating the distribution of primes in mod2....\n",
      "Saving my arrays in npz file.....\n",
      "Done\n"
     ]
    }
   ],
   "source": [
    "testing_d_pos(4000, 500, 5, 2)"
   ]
  },
  {
   "cell_type": "markdown",
   "metadata": {},
   "source": [
    "# Testing: Inverse Distruntion for primes a^2 + 6b^2"
   ]
  },
  {
   "cell_type": "code",
   "execution_count": 19,
   "metadata": {},
   "outputs": [
    {
     "name": "stdout",
     "output_type": "stream",
     "text": [
      "Primes of the form a^2 + 6b^2\n",
      "\n",
      "Calculating the inverse distribution..\n",
      "Calculating the distribution of primes....\n",
      "Calculating the distribution of primes in mod2....\n",
      "Saving my arrays in npz file.....\n",
      "Done\n"
     ]
    }
   ],
   "source": [
    "testing_d_pos(4000, 500, 6, 2)"
   ]
  },
  {
   "cell_type": "code",
   "execution_count": null,
   "metadata": {},
   "outputs": [],
   "source": []
  },
  {
   "cell_type": "markdown",
   "metadata": {},
   "source": [
    "# Testing: Inverse Distribution for primes a^2 - 3b^2"
   ]
  },
  {
   "cell_type": "code",
   "execution_count": 28,
   "metadata": {},
   "outputs": [
    {
     "name": "stdout",
     "output_type": "stream",
     "text": [
      "Primes of the form a^2 + -3b^2\n",
      "\n",
      "Calculating the negative inverse distribution..\n",
      "Calculating the distribution of primes D<0....\n",
      "Calculating the distribution of primes in mod2 D<0....\n",
      "Saving my arrays in npz file.....\n",
      "Done\n"
     ]
    }
   ],
   "source": [
    "testing_d_neg(4000, 500, -3, 2)"
   ]
  },
  {
   "cell_type": "markdown",
   "metadata": {},
   "source": [
    "# Testing: Inverse Distruntion for primes a^2-2b^2"
   ]
  },
  {
   "cell_type": "code",
   "execution_count": 37,
   "metadata": {},
   "outputs": [
    {
     "name": "stdout",
     "output_type": "stream",
     "text": [
      "Primes of the form a^2 + -2b^2\n",
      "\n",
      "Calculating the negative inverse distribution..\n",
      "Calculating the distribution of primes D<0....\n",
      "Calculating the distribution of primes in mod2 D<0....\n",
      "Saving my arrays in npz file.....\n",
      "Done\n"
     ]
    }
   ],
   "source": [
    "testing_d_neg(4000, 500, -2, 2)"
   ]
  },
  {
   "cell_type": "markdown",
   "metadata": {},
   "source": [
    "# Testing: Inverse Distruntion for primes a^2-5b^2"
   ]
  },
  {
   "cell_type": "code",
   "execution_count": 38,
   "metadata": {},
   "outputs": [
    {
     "name": "stdout",
     "output_type": "stream",
     "text": [
      "Primes of the form a^2 + -5b^2\n",
      "\n",
      "Calculating the negative inverse distribution..\n",
      "Calculating the distribution of primes D<0....\n",
      "Calculating the distribution of primes in mod2 D<0....\n",
      "Saving my arrays in npz file.....\n",
      "Done\n"
     ]
    }
   ],
   "source": [
    "testing_d_neg(4000, 500, -5, 2)"
   ]
  },
  {
   "cell_type": "markdown",
   "metadata": {},
   "source": [
    "# Testing: Inverse Distruntion for primes a^3-2b^3"
   ]
  },
  {
   "cell_type": "code",
   "execution_count": 41,
   "metadata": {},
   "outputs": [
    {
     "name": "stdout",
     "output_type": "stream",
     "text": [
      "Primes of the form a^3 + -2b^3\n",
      "\n",
      "Calculating the negative inverse distribution..\n",
      "Calculating the distribution of primes D<0....\n",
      "Calculating the distribution of primes in mod2 D<0....\n",
      "Saving my arrays in npz file.....\n",
      "Done\n"
     ]
    }
   ],
   "source": [
    "testing_d_neg(3000, 500, -2, 3)"
   ]
  },
  {
   "cell_type": "markdown",
   "metadata": {},
   "source": [
    "# Testing: Inverse Distruntion for primes a^3-5b^3"
   ]
  },
  {
   "cell_type": "code",
   "execution_count": 42,
   "metadata": {},
   "outputs": [
    {
     "name": "stdout",
     "output_type": "stream",
     "text": [
      "Primes of the form a^3 + -5b^3\n",
      "\n",
      "Calculating the negative inverse distribution..\n",
      "Calculating the distribution of primes D<0....\n",
      "Calculating the distribution of primes in mod2 D<0....\n",
      "Saving my arrays in npz file.....\n",
      "Done\n"
     ]
    }
   ],
   "source": [
    "testing_d_neg(3000, 500, -5, 3)"
   ]
  },
  {
   "cell_type": "markdown",
   "metadata": {},
   "source": [
    "# Testing: Inverse Distruntion for primes a^3-6b^3"
   ]
  },
  {
   "cell_type": "code",
   "execution_count": 43,
   "metadata": {},
   "outputs": [
    {
     "name": "stdout",
     "output_type": "stream",
     "text": [
      "Primes of the form a^3 + -6b^3\n",
      "\n",
      "Calculating the negative inverse distribution..\n",
      "Calculating the distribution of primes D<0....\n",
      "Calculating the distribution of primes in mod2 D<0....\n",
      "Saving my arrays in npz file.....\n",
      "Done\n"
     ]
    }
   ],
   "source": [
    "testing_d_neg(3000, 500, -6, 3)"
   ]
  },
  {
   "cell_type": "markdown",
   "metadata": {},
   "source": [
    "# Testing: Inverse Distruntion for primes a^4-2b^4"
   ]
  },
  {
   "cell_type": "code",
   "execution_count": 48,
   "metadata": {},
   "outputs": [
    {
     "name": "stdout",
     "output_type": "stream",
     "text": [
      "Primes of the form a^4 + -2b^4\n",
      "\n",
      "Calculating the negative inverse distribution..\n",
      "Calculating the distribution of primes D<0....\n",
      "Calculating the distribution of primes in mod2 D<0....\n"
     ]
    },
    {
     "ename": "KeyboardInterrupt",
     "evalue": "",
     "output_type": "error",
     "traceback": [
      "\u001b[1;31m---------------------------------------------------------------------------\u001b[0m",
      "\u001b[1;31mKeyboardInterrupt\u001b[0m                         Traceback (most recent call last)",
      "\u001b[1;32m<ipython-input-48-013b88232d36>\u001b[0m in \u001b[0;36m<module>\u001b[1;34m\u001b[0m\n\u001b[1;32m----> 1\u001b[1;33m \u001b[0mtesting_d_neg\u001b[0m\u001b[1;33m(\u001b[0m\u001b[1;36m2000\u001b[0m\u001b[1;33m,\u001b[0m \u001b[1;36m500\u001b[0m\u001b[1;33m,\u001b[0m \u001b[1;33m-\u001b[0m\u001b[1;36m2\u001b[0m\u001b[1;33m,\u001b[0m \u001b[1;36m4\u001b[0m\u001b[1;33m)\u001b[0m\u001b[1;33m\u001b[0m\u001b[1;33m\u001b[0m\u001b[0m\n\u001b[0m",
      "\u001b[1;32m<ipython-input-27-55f85b402040>\u001b[0m in \u001b[0;36mtesting_d_neg\u001b[1;34m(rangeN, incre, D, n)\u001b[0m\n\u001b[0;32m     18\u001b[0m     \u001b[0mj\u001b[0m \u001b[1;33m=\u001b[0m \u001b[1;36m0\u001b[0m\u001b[1;33m\u001b[0m\u001b[1;33m\u001b[0m\u001b[0m\n\u001b[0;32m     19\u001b[0m     \u001b[1;32mfor\u001b[0m \u001b[0mNn\u001b[0m \u001b[1;32min\u001b[0m \u001b[0mrange\u001b[0m\u001b[1;33m(\u001b[0m\u001b[0mincre\u001b[0m\u001b[1;33m,\u001b[0m\u001b[0mrangeN\u001b[0m\u001b[1;33m+\u001b[0m\u001b[0mincre\u001b[0m\u001b[1;33m,\u001b[0m \u001b[0mincre\u001b[0m\u001b[1;33m)\u001b[0m\u001b[1;33m:\u001b[0m\u001b[1;33m\u001b[0m\u001b[1;33m\u001b[0m\u001b[0m\n\u001b[1;32m---> 20\u001b[1;33m         \u001b[0mtest_arrMod2\u001b[0m\u001b[1;33m[\u001b[0m\u001b[0mj\u001b[0m\u001b[1;33m]\u001b[0m \u001b[1;33m=\u001b[0m \u001b[0mneg_distribution_primes_a_b_mod2\u001b[0m\u001b[1;33m(\u001b[0m\u001b[0mNn\u001b[0m\u001b[1;33m,\u001b[0m \u001b[0mD\u001b[0m\u001b[1;33m,\u001b[0m \u001b[0mn\u001b[0m\u001b[1;33m,\u001b[0m \u001b[0mneg_inverse_list\u001b[0m\u001b[1;33m)\u001b[0m\u001b[1;33m\u001b[0m\u001b[1;33m\u001b[0m\u001b[0m\n\u001b[0m\u001b[0;32m     21\u001b[0m         \u001b[1;31m#print (f\"N = {N}  \", str(distribution_primes_a_b(N, D, n, inverse_list)), deviation(distribution_primes_a_b(N, D, n, inverse_list)))\u001b[0m\u001b[1;33m\u001b[0m\u001b[1;33m\u001b[0m\u001b[1;33m\u001b[0m\u001b[0m\n\u001b[0;32m     22\u001b[0m         \u001b[0mj\u001b[0m\u001b[1;33m+=\u001b[0m\u001b[1;36m1\u001b[0m\u001b[1;33m\u001b[0m\u001b[1;33m\u001b[0m\u001b[0m\n",
      "\u001b[1;32m<ipython-input-22-a2f2dedd1ac4>\u001b[0m in \u001b[0;36mneg_distribution_primes_a_b_mod2\u001b[1;34m(N, D, n, LIST)\u001b[0m\n\u001b[0;32m     10\u001b[0m                 \u001b[0mq\u001b[0m \u001b[1;33m=\u001b[0m \u001b[0ma\u001b[0m\u001b[1;33m**\u001b[0m\u001b[0mn\u001b[0m \u001b[1;33m+\u001b[0m \u001b[0mD\u001b[0m\u001b[1;33m*\u001b[0m\u001b[0mb\u001b[0m\u001b[1;33m**\u001b[0m\u001b[0mn\u001b[0m\u001b[1;33m\u001b[0m\u001b[1;33m\u001b[0m\u001b[0m\n\u001b[0;32m     11\u001b[0m                 \u001b[0mM\u001b[0m \u001b[1;33m=\u001b[0m \u001b[1;33m(\u001b[0m\u001b[0mN\u001b[0m\u001b[1;33m**\u001b[0m\u001b[0mn\u001b[0m\u001b[1;33m)\u001b[0m \u001b[1;33m-\u001b[0m \u001b[1;33m(\u001b[0m\u001b[1;33m(\u001b[0m\u001b[0mN\u001b[0m\u001b[1;33m**\u001b[0m\u001b[0mn\u001b[0m\u001b[1;33m)\u001b[0m\u001b[1;33m/\u001b[0m\u001b[1;33m(\u001b[0m\u001b[1;36m2\u001b[0m\u001b[1;33m**\u001b[0m\u001b[0mn\u001b[0m\u001b[1;33m*\u001b[0m\u001b[1;33m(\u001b[0m\u001b[1;33m-\u001b[0m\u001b[0mD\u001b[0m\u001b[1;33m)\u001b[0m\u001b[1;33m)\u001b[0m\u001b[1;33m)\u001b[0m\u001b[1;33m\u001b[0m\u001b[1;33m\u001b[0m\u001b[0m\n\u001b[1;32m---> 12\u001b[1;33m                 \u001b[1;32mif\u001b[0m \u001b[0mq\u001b[0m\u001b[1;33m<\u001b[0m\u001b[0mM\u001b[0m \u001b[1;32mand\u001b[0m \u001b[0misprime\u001b[0m\u001b[1;33m(\u001b[0m\u001b[0mq\u001b[0m\u001b[1;33m)\u001b[0m\u001b[1;33m:\u001b[0m\u001b[1;33m\u001b[0m\u001b[1;33m\u001b[0m\u001b[0m\n\u001b[0m\u001b[0;32m     13\u001b[0m                     \u001b[1;32mfor\u001b[0m \u001b[0mi\u001b[0m \u001b[1;32min\u001b[0m \u001b[0mrange\u001b[0m\u001b[1;33m(\u001b[0m\u001b[0mlen\u001b[0m\u001b[1;33m(\u001b[0m\u001b[0mLIST\u001b[0m\u001b[1;33m)\u001b[0m\u001b[1;33m)\u001b[0m\u001b[1;33m:\u001b[0m\u001b[1;33m\u001b[0m\u001b[1;33m\u001b[0m\u001b[0m\n\u001b[0;32m     14\u001b[0m                         \u001b[1;32mif\u001b[0m \u001b[0mi\u001b[0m\u001b[1;33m==\u001b[0m\u001b[1;36m0\u001b[0m \u001b[1;32mand\u001b[0m \u001b[0mb\u001b[0m\u001b[1;33m/\u001b[0m\u001b[0ma\u001b[0m \u001b[1;33m<=\u001b[0m \u001b[0mLIST\u001b[0m\u001b[1;33m[\u001b[0m\u001b[1;36m0\u001b[0m\u001b[1;33m]\u001b[0m\u001b[1;33m/\u001b[0m\u001b[1;36m10000\u001b[0m\u001b[1;33m:\u001b[0m\u001b[1;33m\u001b[0m\u001b[1;33m\u001b[0m\u001b[0m\n",
      "\u001b[1;32m<ipython-input-3-bcb8faa9e83e>\u001b[0m in \u001b[0;36misprime\u001b[1;34m(n)\u001b[0m\n\u001b[0;32m     14\u001b[0m         \u001b[1;32mif\u001b[0m \u001b[1;33m(\u001b[0m\u001b[0mn\u001b[0m \u001b[1;33m%\u001b[0m \u001b[0mi\u001b[0m\u001b[1;33m)\u001b[0m \u001b[1;33m==\u001b[0m \u001b[1;36m0\u001b[0m \u001b[1;32mor\u001b[0m \u001b[0mn\u001b[0m \u001b[1;33m%\u001b[0m \u001b[1;33m(\u001b[0m\u001b[0mi\u001b[0m \u001b[1;33m+\u001b[0m \u001b[1;36m2\u001b[0m\u001b[1;33m)\u001b[0m \u001b[1;33m==\u001b[0m \u001b[1;36m0\u001b[0m\u001b[1;33m:\u001b[0m\u001b[1;33m\u001b[0m\u001b[1;33m\u001b[0m\u001b[0m\n\u001b[0;32m     15\u001b[0m             \u001b[1;32mreturn\u001b[0m \u001b[1;32mFalse\u001b[0m\u001b[1;33m\u001b[0m\u001b[1;33m\u001b[0m\u001b[0m\n\u001b[1;32m---> 16\u001b[1;33m         \u001b[0mi\u001b[0m \u001b[1;33m=\u001b[0m \u001b[0mi\u001b[0m \u001b[1;33m+\u001b[0m \u001b[1;36m6\u001b[0m\u001b[1;33m\u001b[0m\u001b[1;33m\u001b[0m\u001b[0m\n\u001b[0m\u001b[0;32m     17\u001b[0m \u001b[1;33m\u001b[0m\u001b[0m\n\u001b[0;32m     18\u001b[0m     \u001b[1;32mreturn\u001b[0m \u001b[1;32mTrue\u001b[0m\u001b[1;33m\u001b[0m\u001b[1;33m\u001b[0m\u001b[0m\n",
      "\u001b[1;31mKeyboardInterrupt\u001b[0m: "
     ]
    }
   ],
   "source": [
    "testing_d_neg(2000, 500, -2, 4)"
   ]
  },
  {
   "cell_type": "markdown",
   "metadata": {},
   "source": [
    "# Testing: Inverse Distruntion for primes a^4-3b^4"
   ]
  },
  {
   "cell_type": "code",
   "execution_count": null,
   "metadata": {},
   "outputs": [],
   "source": [
    "testing_d_neg(2000, 500, -3, 4)"
   ]
  },
  {
   "cell_type": "markdown",
   "metadata": {},
   "source": [
    "# Testing: Inverse Distruntion for primes a^4-5b^4"
   ]
  },
  {
   "cell_type": "code",
   "execution_count": null,
   "metadata": {},
   "outputs": [],
   "source": [
    "testing_d_neg(2000, 500, -5, 4)"
   ]
  },
  {
   "cell_type": "markdown",
   "metadata": {},
   "source": [
    "# Testing: Inverse Distruntion for primes a^4-6b^4"
   ]
  },
  {
   "cell_type": "code",
   "execution_count": null,
   "metadata": {},
   "outputs": [],
   "source": [
    "testing_d_neg(2000, 500, -6, 4)"
   ]
  },
  {
   "cell_type": "markdown",
   "metadata": {},
   "source": [
    "# Testing: Inverse Distruntion for primes a^4-11b^4"
   ]
  },
  {
   "cell_type": "code",
   "execution_count": null,
   "metadata": {},
   "outputs": [],
   "source": [
    "testing_d_neg(2000, 500, -11, 4)"
   ]
  },
  {
   "cell_type": "markdown",
   "metadata": {},
   "source": [
    "# Testing: Inverse Distruntion for primes a^4 + 11b^4"
   ]
  },
  {
   "cell_type": "markdown",
   "metadata": {},
   "source": [
    "# Testing: Inverse Distruntion for primes a^4 + b^4"
   ]
  },
  {
   "cell_type": "markdown",
   "metadata": {},
   "source": [
    "# Testing: Inverse Distruntion for primes a^4 + 2b^4"
   ]
  },
  {
   "cell_type": "markdown",
   "metadata": {},
   "source": [
    "# Testing: Inverse Distruntion for primes a^4 + 3b^4"
   ]
  },
  {
   "cell_type": "markdown",
   "metadata": {},
   "source": [
    "# Testing: Inverse Distruntion for primes a^4 + 5b^4"
   ]
  },
  {
   "cell_type": "markdown",
   "metadata": {},
   "source": [
    "# Testing: Inverse Distruntion for primes a^4 + 6b^4"
   ]
  },
  {
   "cell_type": "markdown",
   "metadata": {},
   "source": [
    "# Testing: Inverse Distruntion for primes a^3 + 2b^3"
   ]
  },
  {
   "cell_type": "markdown",
   "metadata": {},
   "source": [
    "# Testing: Inverse Distruntion for primes a^3 + 3b^3"
   ]
  },
  {
   "cell_type": "markdown",
   "metadata": {},
   "source": [
    "# Testing: Inverse Distruntion for primes a^3 + 5b^3"
   ]
  },
  {
   "cell_type": "markdown",
   "metadata": {},
   "source": [
    "# Testing: Inverse Distruntion for primes a^3 + 6b^3"
   ]
  },
  {
   "cell_type": "code",
   "execution_count": null,
   "metadata": {},
   "outputs": [],
   "source": []
  }
 ],
 "metadata": {
  "kernelspec": {
   "display_name": "Python 3",
   "language": "python",
   "name": "python3"
  },
  "language_info": {
   "codemirror_mode": {
    "name": "ipython",
    "version": 3
   },
   "file_extension": ".py",
   "mimetype": "text/x-python",
   "name": "python",
   "nbconvert_exporter": "python",
   "pygments_lexer": "ipython3",
   "version": "3.8.5"
  }
 },
 "nbformat": 4,
 "nbformat_minor": 4
}
